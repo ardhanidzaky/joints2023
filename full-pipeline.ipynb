{
 "cells": [
  {
   "cell_type": "code",
   "execution_count": 1,
   "id": "266e51ad",
   "metadata": {
    "execution": {
     "iopub.execute_input": "2023-04-15T05:43:25.738720Z",
     "iopub.status.busy": "2023-04-15T05:43:25.738323Z",
     "iopub.status.idle": "2023-04-15T05:43:48.616745Z",
     "shell.execute_reply": "2023-04-15T05:43:48.615428Z"
    },
    "id": "ZHzLtKjvf1qd",
    "outputId": "a5224770-6014-467d-cd0e-914dd65592a4",
    "papermill": {
     "duration": 22.904013,
     "end_time": "2023-04-15T05:43:48.619509",
     "exception": false,
     "start_time": "2023-04-15T05:43:25.715496",
     "status": "completed"
    },
    "tags": []
   },
   "outputs": [
    {
     "name": "stdout",
     "output_type": "stream",
     "text": [
      "\u001b[33mWARNING: Running pip as the 'root' user can result in broken permissions and conflicting behaviour with the system package manager. It is recommended to use a virtual environment instead: https://pip.pypa.io/warnings/venv\u001b[0m\u001b[33m\r\n",
      "\u001b[0m\u001b[33mWARNING: Running pip as the 'root' user can result in broken permissions and conflicting behaviour with the system package manager. It is recommended to use a virtual environment instead: https://pip.pypa.io/warnings/venv\u001b[0m\u001b[33m\r\n",
      "\u001b[0m"
     ]
    }
   ],
   "source": [
    "!pip install --q catboost\n",
    "!pip install --q cleanlab"
   ]
  },
  {
   "cell_type": "code",
   "execution_count": 2,
   "id": "89f94b31",
   "metadata": {
    "execution": {
     "iopub.execute_input": "2023-04-15T05:43:48.662727Z",
     "iopub.status.busy": "2023-04-15T05:43:48.661693Z",
     "iopub.status.idle": "2023-04-15T05:43:51.943427Z",
     "shell.execute_reply": "2023-04-15T05:43:51.942164Z"
    },
    "id": "13I1WOMxdtnp",
    "papermill": {
     "duration": 3.3057,
     "end_time": "2023-04-15T05:43:51.946236",
     "exception": false,
     "start_time": "2023-04-15T05:43:48.640536",
     "status": "completed"
    },
    "tags": []
   },
   "outputs": [
    {
     "data": {
      "text/html": [
       "<style type='text/css'>\n",
       ".datatable table.frame { margin-bottom: 0; }\n",
       ".datatable table.frame thead { border-bottom: none; }\n",
       ".datatable table.frame tr.coltypes td {  color: #FFFFFF;  line-height: 6px;  padding: 0 0.5em;}\n",
       ".datatable .bool    { background: #DDDD99; }\n",
       ".datatable .object  { background: #565656; }\n",
       ".datatable .int     { background: #5D9E5D; }\n",
       ".datatable .float   { background: #4040CC; }\n",
       ".datatable .str     { background: #CC4040; }\n",
       ".datatable .time    { background: #40CC40; }\n",
       ".datatable .row_index {  background: var(--jp-border-color3);  border-right: 1px solid var(--jp-border-color0);  color: var(--jp-ui-font-color3);  font-size: 9px;}\n",
       ".datatable .frame tbody td { text-align: left; }\n",
       ".datatable .frame tr.coltypes .row_index {  background: var(--jp-border-color0);}\n",
       ".datatable th:nth-child(2) { padding-left: 12px; }\n",
       ".datatable .hellipsis {  color: var(--jp-cell-editor-border-color);}\n",
       ".datatable .vellipsis {  background: var(--jp-layout-color0);  color: var(--jp-cell-editor-border-color);}\n",
       ".datatable .na {  color: var(--jp-cell-editor-border-color);  font-size: 80%;}\n",
       ".datatable .sp {  opacity: 0.25;}\n",
       ".datatable .footer { font-size: 9px; }\n",
       ".datatable .frame_dimensions {  background: var(--jp-border-color3);  border-top: 1px solid var(--jp-border-color0);  color: var(--jp-ui-font-color3);  display: inline-block;  opacity: 0.6;  padding: 1px 10px 1px 5px;}\n",
       "</style>\n"
      ],
      "text/plain": [
       "<IPython.core.display.HTML object>"
      ]
     },
     "metadata": {},
     "output_type": "display_data"
    }
   ],
   "source": [
    "import pandas as pd\n",
    "import seaborn as sns\n",
    "import matplotlib.pyplot as plt\n",
    "import numpy as np\n",
    "import cleanlab\n",
    "import re\n",
    "\n",
    "from catboost import CatBoostClassifier\n",
    "from xgboost import XGBClassifier\n",
    "from lightgbm import LGBMClassifier\n",
    "\n",
    "from sklearn.linear_model import LogisticRegression\n",
    "from sklearn.model_selection import train_test_split, StratifiedKFold, cross_val_predict, KFold\n",
    "from sklearn.preprocessing import StandardScaler, OneHotEncoder, LabelEncoder\n",
    "from sklearn.compose import ColumnTransformer\n",
    "from sklearn.metrics import accuracy_score, recall_score, precision_score, f1_score, classification_report"
   ]
  },
  {
   "cell_type": "code",
   "execution_count": 3,
   "id": "1f636f8b",
   "metadata": {
    "execution": {
     "iopub.execute_input": "2023-04-15T05:43:51.989268Z",
     "iopub.status.busy": "2023-04-15T05:43:51.988309Z",
     "iopub.status.idle": "2023-04-15T05:43:51.993526Z",
     "shell.execute_reply": "2023-04-15T05:43:51.992397Z"
    },
    "papermill": {
     "duration": 0.029094,
     "end_time": "2023-04-15T05:43:51.995758",
     "exception": false,
     "start_time": "2023-04-15T05:43:51.966664",
     "status": "completed"
    },
    "tags": []
   },
   "outputs": [],
   "source": [
    "pd.options.mode.chained_assignment = None"
   ]
  },
  {
   "cell_type": "markdown",
   "id": "739cde42",
   "metadata": {
    "id": "RiwTOwsKeqMu",
    "papermill": {
     "duration": 0.019711,
     "end_time": "2023-04-15T05:43:52.035228",
     "exception": false,
     "start_time": "2023-04-15T05:43:52.015517",
     "status": "completed"
    },
    "tags": []
   },
   "source": [
    "# Constants"
   ]
  },
  {
   "cell_type": "code",
   "execution_count": 4,
   "id": "28e5d66a",
   "metadata": {
    "execution": {
     "iopub.execute_input": "2023-04-15T05:43:52.077605Z",
     "iopub.status.busy": "2023-04-15T05:43:52.076827Z",
     "iopub.status.idle": "2023-04-15T05:43:52.081833Z",
     "shell.execute_reply": "2023-04-15T05:43:52.081078Z"
    },
    "id": "dg8O0ApberfB",
    "papermill": {
     "duration": 0.028361,
     "end_time": "2023-04-15T05:43:52.083880",
     "exception": false,
     "start_time": "2023-04-15T05:43:52.055519",
     "status": "completed"
    },
    "tags": []
   },
   "outputs": [],
   "source": [
    "wb_mapping = {\n",
    "    0: 'Unknown/not stated',\n",
    "    1: 'Clay',\n",
    "    2: 'Mortar + Cement',\n",
    "    3: 'Mortar + Cement, Clay',\n",
    "    5: 'Mud + Mortar, Clay',\n",
    "    7: 'Mud + Mortar, Clay, Cement + Mortar'\n",
    "}\n",
    "\n",
    "wm_mapping = {\n",
    "    0: 'Unknown/not stated',\n",
    "    1: 'Red Bricks',\n",
    "    2: 'Stone Bricks',\n",
    "    3: 'Red Bricks, Stone Bricks'\n",
    "}"
   ]
  },
  {
   "cell_type": "markdown",
   "id": "4f4f1053",
   "metadata": {
    "id": "oAZIPuR4dcwN",
    "papermill": {
     "duration": 0.019604,
     "end_time": "2023-04-15T05:43:52.123087",
     "exception": false,
     "start_time": "2023-04-15T05:43:52.103483",
     "status": "completed"
    },
    "tags": []
   },
   "source": [
    "# Pre-defined Function (Basic pre-processing)"
   ]
  },
  {
   "cell_type": "code",
   "execution_count": 5,
   "id": "32839c6a",
   "metadata": {
    "cellView": "form",
    "execution": {
     "iopub.execute_input": "2023-04-15T05:43:52.165459Z",
     "iopub.status.busy": "2023-04-15T05:43:52.164736Z",
     "iopub.status.idle": "2023-04-15T05:43:52.172814Z",
     "shell.execute_reply": "2023-04-15T05:43:52.171981Z"
    },
    "id": "DVsfP0ZmdZPG",
    "papermill": {
     "duration": 0.031902,
     "end_time": "2023-04-15T05:43:52.174982",
     "exception": false,
     "start_time": "2023-04-15T05:43:52.143080",
     "status": "completed"
    },
    "tags": []
   },
   "outputs": [],
   "source": [
    "#@title extract_num_floors\n",
    "def extract_num_floors(floor):\n",
    "    \"\"\"\n",
    "    This function extracts the number of floors from the 'floors_before_eq' column\n",
    "    and converts it to an integer. If the value is missing or cannot be converted\n",
    "    to an integer, it returns None.\n",
    "\n",
    "    Arguments:\n",
    "    - floor: The value in the 'floors_before_eq' column for a particular building\n",
    "\n",
    "    Returns:\n",
    "    - An integer representing the number of floors for the given building, or None\n",
    "      if the value is missing or cannot be converted to an integer.\n",
    "    \"\"\"\n",
    "    import re\n",
    "\n",
    "    if floor is None:\n",
    "        return None\n",
    "    else:\n",
    "        floor = str(floor)\n",
    "        floor = floor.lower()\n",
    "        if 'one' in floor or 'first' in floor or 'ground' in floor:\n",
    "            return 1\n",
    "        elif 'two' in floor or 'second' in floor:\n",
    "            return 2\n",
    "        elif 'three' in floor or 'third' in floor:\n",
    "            return 3\n",
    "        elif 'four' in floor or 'fourth' in floor:\n",
    "            return 4\n",
    "        elif 'five' in floor or 'fifth' in floor:\n",
    "            return 5\n",
    "        else:\n",
    "            floor = re.findall(r'\\d+', floor)\n",
    "            if len(floor) > 0:\n",
    "                return int(floor[0])\n",
    "            else:\n",
    "                return None"
   ]
  },
  {
   "cell_type": "code",
   "execution_count": 6,
   "id": "122b7548",
   "metadata": {
    "cellView": "form",
    "execution": {
     "iopub.execute_input": "2023-04-15T05:43:52.216857Z",
     "iopub.status.busy": "2023-04-15T05:43:52.216411Z",
     "iopub.status.idle": "2023-04-15T05:43:52.229767Z",
     "shell.execute_reply": "2023-04-15T05:43:52.228732Z"
    },
    "id": "ZXQSL2wbXpRl",
    "papermill": {
     "duration": 0.03732,
     "end_time": "2023-04-15T05:43:52.232112",
     "exception": false,
     "start_time": "2023-04-15T05:43:52.194792",
     "status": "completed"
    },
    "tags": []
   },
   "outputs": [],
   "source": [
    "#@title standardize_value\n",
    "def standardize_value(data):\n",
    "    \"\"\"\n",
    "    This function takes a pandas dataframe as input and returns a new pandas dataframe\n",
    "    where all the categorical values are standardized. For example, if 'RCC' and 'RC' \n",
    "    are used interchangeably in the 'foundation_type' column, this function will standardize \n",
    "    all the 'RCC' values to 'RC' to avoid any inconsistencies.\n",
    "    \"\"\"\n",
    "\n",
    "    # type_of_foundation\n",
    "    data['type_of_foundation'] = data['type_of_foundation'].replace('RC', 'Reinforced Concrete')\n",
    "    data['type_of_foundation'] = data['type_of_foundation'].replace(['Bamboo/TImber', 'Bamboo or Timber', 'Bamboo/Timber'], 'Bamboo/Timber')\n",
    "    data['type_of_foundation'] = data['type_of_foundation'].replace(['Other', 'Others'], 'Other')\n",
    "    data['type_of_foundation'] = data['type_of_foundation'].replace(['Cement-Stone/Brick', 'Cement-Stone or Cement-Brick'], 'Cement-Stone/Brick')\n",
    "    \n",
    "    # type_of_roof\n",
    "    data['type_of_roof'] = data['type_of_roof'].replace(['Bamboo/Timber Light roof', 'Bamboo/TImber-Light Roof', 'Bamboo or Timber Light roof'], 'Bamboo/Timber Light roof')\n",
    "    data['type_of_roof'] = data['type_of_roof'].replace(['Bamboo/Timber Heavy roof ', 'Bamboo/TImber-Heavy Roof', 'Bamboo or Timber Heavy roof'], 'Bamboo/Timber Heavy roof')\n",
    "    data['type_of_roof'] = data['type_of_roof'].replace(['reinforced cement concrete/rb/rbc', 'rcc/rb/rbc', 'Reinforced Brick Slab/rcc/rbc', 'Reinforced brick concrete/rcc/rbc'], 'rcc/rb/rbc')\n",
    "    \n",
    "    # type_of_ground_floor\n",
    "    data['type_of_ground_floor'] = data['type_of_ground_floor'].replace(['mud', 'Mud'], 'Mud')\n",
    "    data['type_of_ground_floor'] = data['type_of_ground_floor'].replace(['reinforced concrete', 'Reinforced Concrete', 'RC'], 'Reinforced Concrete ')\n",
    "    data['type_of_ground_floor'] = data['type_of_ground_floor'].replace(['Brick/Stone', 'brick/stone', 'Brick or Stone'], 'Brick/Stone')\n",
    "    data['type_of_ground_floor'] = data['type_of_ground_floor'].replace(['TImber', 'Timber', 'Wood', 'Lumber'], 'Wood')\n",
    "\n",
    "    # type_of_other_floor\n",
    "    data['type_of_other_floor'] = data['type_of_other_floor'].replace(['TImber/Bamboo-Mud', 'Timber Mud or Bamboo-Mud', 'Wood or Bamboo Mud'], 'Wood or Bamboo Mud')\n",
    "    data['type_of_other_floor'] = data['type_of_other_floor'].replace(['Timber-Planck', 'Lumber-plank', 'Wood-Plank'], 'Wood-Plank')\n",
    "    data['type_of_other_floor'] = data['type_of_other_floor'].replace(['rcc/rb/rbc', 'reinforced cement concrete/rb/rbc', 'Reinforced brick concrete/rcc/rbc'], 'rcc/rb/rbc')\n",
    "    data['type_of_other_floor'] = data['type_of_other_floor'].replace(['Wood or Bamboo Mud', 'Wood-Mud or Bamboo Mud'], 'Wood-Mud or Bamboo Mud ')\n",
    "\n",
    "    # legal_ownership_status\n",
    "    data['legal_ownership_status'] = data['legal_ownership_status'].replace(['Private', 'Private Use', 'Prvt', 'Privste'], 'Private')\n",
    "    data['legal_ownership_status'] = data['legal_ownership_status'].replace(['Public', 'Public Use', 'Public Space'], 'Public')\n",
    "    data['legal_ownership_status'] = data['legal_ownership_status'].replace(['Institutional', 'Institutional Use', 'Institutionals'], 'Institutional')\n",
    "    data['legal_ownership_status'] = data['legal_ownership_status'].replace(['Other', 'Unknown', 'Unspecified'], 'Other')\n",
    "\n",
    "    return data"
   ]
  },
  {
   "cell_type": "code",
   "execution_count": 7,
   "id": "6fb313ea",
   "metadata": {
    "cellView": "form",
    "execution": {
     "iopub.execute_input": "2023-04-15T05:43:52.274255Z",
     "iopub.status.busy": "2023-04-15T05:43:52.273831Z",
     "iopub.status.idle": "2023-04-15T05:43:52.283612Z",
     "shell.execute_reply": "2023-04-15T05:43:52.282794Z"
    },
    "id": "ZHaRyzPnvA85",
    "papermill": {
     "duration": 0.033641,
     "end_time": "2023-04-15T05:43:52.285836",
     "exception": false,
     "start_time": "2023-04-15T05:43:52.252195",
     "status": "completed"
    },
    "tags": []
   },
   "outputs": [],
   "source": [
    "#@title find_label_issue_train\n",
    "def find_label_issue_train(data):\n",
    "    \"\"\"\n",
    "    Find label errors in the training data using the Confident Learning framework.\n",
    "\n",
    "    Arguments:\n",
    "    - data: A pandas DataFrame containing the training data.\n",
    "\n",
    "    Returns:\n",
    "    - A list of indices of examples in the training data that are likely to have label errors.\n",
    "\n",
    "    References: \n",
    "    \"\"\"\n",
    "    # Step 1: Apply a machine learning model to the training data to obtain predicted labels.\n",
    "    # This model should be trained using standard techniques and should not take into account the issue of label errors.\n",
    "    # Here, we assume that the model is already trained and is available for use.\n",
    "\n",
    "    # Step 2: Compute the empirical distribution of the predicted labels.\n",
    "    # This distribution will be used later to estimate the noise distribution.\n",
    "\n",
    "    # Step 3: Compute the joint distribution of the predicted labels and the true labels.\n",
    "    # This distribution can be estimated using the empirical distribution of the predicted labels and an estimate of the noise distribution.\n",
    "\n",
    "    # Step 4: Rank the examples in the training data by their likelihood of being mislabeled.\n",
    "    # This can be done by computing the conditional probability of the true label given the predicted label.\n",
    "\n",
    "    # Step 5: Identify examples that are likely to be mislabeled.\n",
    "    # This can be done by selecting examples with low confidence and high probability of being mislabeled.\n",
    "\n",
    "    # Step 6: Return the indices of the examples that are likely to be mislabeled.\n",
    "    # These examples can be further examined to determine if they are indeed mislabeled, and corrected if necessary.\n",
    "    # Alternatively, they can be removed from the training data to improve the performance of the machine learning model.\n",
    "\n",
    "    X = data[data.columns.difference(['damage_grade'])]\n",
    "    y = data['damage_grade']\n",
    "\n",
    "    numerical_cols = X.select_dtypes(include=['int64', 'float64']).columns.tolist()\n",
    "    categorical_cols = X.select_dtypes(include=['object']).columns.tolist()\n",
    "\n",
    "    numerical_transformer = StandardScaler()\n",
    "    categorical_transformer = OneHotEncoder(sparse=False)\n",
    "\n",
    "    preprocessor = ColumnTransformer(\n",
    "        transformers=[\n",
    "            ('num', numerical_transformer, numerical_cols),\n",
    "            ('cat', categorical_transformer, categorical_cols)\n",
    "        ])\n",
    "\n",
    "    X = preprocessor.fit_transform(X)\n",
    "\n",
    "    label_encoder = LabelEncoder()\n",
    "    y = label_encoder.fit_transform(y)\n",
    "\n",
    "    model = XGBClassifier(tree_method=\"hist\", enable_categorical=True)\n",
    "    pred_probs = cross_val_predict(model, X, y, method='predict_proba')\n",
    "\n",
    "    cl_issue_idx = cleanlab.filter.find_label_issues(y, pred_probs, return_indices_ranked_by='self_confidence')\n",
    "    \n",
    "    selected_rows = data.iloc[cl_issue_idx]\n",
    "    inverted_selection = data[~data.index.isin(cl_issue_idx)]\n",
    "\n",
    "    return inverted_selection"
   ]
  },
  {
   "cell_type": "code",
   "execution_count": 8,
   "id": "6dad5dd2",
   "metadata": {
    "cellView": "form",
    "execution": {
     "iopub.execute_input": "2023-04-15T05:43:52.326988Z",
     "iopub.status.busy": "2023-04-15T05:43:52.326244Z",
     "iopub.status.idle": "2023-04-15T05:43:52.335509Z",
     "shell.execute_reply": "2023-04-15T05:43:52.334302Z"
    },
    "id": "zG4AwLU0eMhw",
    "papermill": {
     "duration": 0.0327,
     "end_time": "2023-04-15T05:43:52.337910",
     "exception": false,
     "start_time": "2023-04-15T05:43:52.305210",
     "status": "completed"
    },
    "tags": []
   },
   "outputs": [],
   "source": [
    "#@title complete_pipeline\n",
    "def complete_pipeline(data):\n",
    "    \"\"\"\n",
    "    This function takes a pandas dataframe as input, processes it through\n",
    "    various steps including missing value imputation, feature engineering,\n",
    "    and standardization, and returns the processed dataframe ready for\n",
    "    machine learning modeling. The function is designed to handle both\n",
    "    training and testing data by distinguishing between them based on the\n",
    "    presence of the 'damage_grade' column.\n",
    "    \"\"\"\n",
    "\n",
    "    # floors_before_eq (total)\n",
    "    data['floors_before_eq (total)'] = data['floors_before_eq (total)'].apply(lambda x: extract_num_floors(x))\n",
    "\n",
    "    # missing value\n",
    "    data = data[data['floors_before_eq (total)'].notna()]\n",
    "    data = data[data['plinth_area (ft^2)'].notna()]\n",
    "    data['technical_solution_proposed'] = data['technical_solution_proposed'].fillna('Unspecified')\n",
    "\n",
    "    # replace and lambda\n",
    "    data['plinth_area (ft^2)'] = data['plinth_area (ft^2)'].str.extract('(\\d+)').astype(float)\n",
    "    \n",
    "    data['no_family_residing'] = data['no_family_residing'].replace('None', 0).astype(float)\n",
    "    data['wall_binding'] = data['wall_binding'].replace(wb_mapping)\n",
    "    data['wall_material'] = data['wall_material'].replace(wm_mapping)\n",
    "\n",
    "    # data['type_of_reinforcement_concrete'] = data['type_of_reinforcement_concrete'].apply(lambda x: f'Type: {str(x)}')\n",
    "    \n",
    "    # value standardization\n",
    "    data = standardize_value(data)\n",
    "\n",
    "    # same group of features, different label\n",
    "    data = data.groupby(list(data.columns.difference(['damage_grade']))).filter(lambda x: len(set(x['damage_grade'])) == 1)\n",
    "\n",
    "    # label issue in train data\n",
    "    data = data.reset_index()\n",
    "    data.drop(['index'], axis=1, inplace=True)\n",
    "    data = find_label_issue_train(data)\n",
    "    \n",
    "    return data"
   ]
  },
  {
   "cell_type": "code",
   "execution_count": 9,
   "id": "3f90e86d",
   "metadata": {
    "cellView": "form",
    "execution": {
     "iopub.execute_input": "2023-04-15T05:43:52.390498Z",
     "iopub.status.busy": "2023-04-15T05:43:52.389133Z",
     "iopub.status.idle": "2023-04-15T05:43:52.400659Z",
     "shell.execute_reply": "2023-04-15T05:43:52.399807Z"
    },
    "id": "jLW6Gqys6mzF",
    "papermill": {
     "duration": 0.043381,
     "end_time": "2023-04-15T05:43:52.402943",
     "exception": false,
     "start_time": "2023-04-15T05:43:52.359562",
     "status": "completed"
    },
    "tags": []
   },
   "outputs": [],
   "source": [
    "#@title complete_pipeline_test\n",
    "def complete_pipeline_test(data):\n",
    "    \"\"\"\n",
    "    This function takes a pandas dataframe as input, processes it through\n",
    "    various steps including missing value imputation, feature engineering,\n",
    "    and standardization, and returns the processed dataframe ready for\n",
    "    machine learning modeling. The function is designed to handle both\n",
    "    training and testing data by distinguishing between them based on the\n",
    "    presence of the 'damage_grade' column.\n",
    "    \"\"\"\n",
    "    \n",
    "    data['floors_before_eq (total)'] = data['floors_before_eq (total)'].apply(lambda x: extract_num_floors(x))\n",
    "\n",
    "    # others\n",
    "    data['plinth_area (ft^2)'] = data['plinth_area (ft^2)'].str.extract('(\\d+)').astype(float)\n",
    "    \n",
    "    data['no_family_residing'] = data['no_family_residing'].replace('None', 0).astype(float)\n",
    "    data['wall_binding'] = data['wall_binding'].replace(wb_mapping)\n",
    "    data['wall_material'] = data['wall_material'].replace(wm_mapping)\n",
    "    \n",
    "    data['type_of_reinforcement_concrete'] = data['type_of_reinforcement_concrete'].apply(lambda x: f'Type: {str(float(x))}')\n",
    "\n",
    "    # value standardization\n",
    "    data = standardize_value(data)\n",
    "    \n",
    "    return data"
   ]
  },
  {
   "cell_type": "code",
   "execution_count": 10,
   "id": "c8d906d3",
   "metadata": {
    "cellView": "form",
    "execution": {
     "iopub.execute_input": "2023-04-15T05:43:52.453296Z",
     "iopub.status.busy": "2023-04-15T05:43:52.452568Z",
     "iopub.status.idle": "2023-04-15T05:43:52.460089Z",
     "shell.execute_reply": "2023-04-15T05:43:52.459034Z"
    },
    "id": "M-iZTblLJ2X9",
    "papermill": {
     "duration": 0.0325,
     "end_time": "2023-04-15T05:43:52.462529",
     "exception": false,
     "start_time": "2023-04-15T05:43:52.430029",
     "status": "completed"
    },
    "tags": []
   },
   "outputs": [],
   "source": [
    "#@title cross_val_multiclass\n",
    "def cross_val_multiclass(model, X, y, num_folds=5):\n",
    "    from sklearn.model_selection import KFold, cross_val_score\n",
    "    from sklearn.metrics import f1_score\n",
    "    import numpy as np\n",
    "\n",
    "    kf = KFold(n_splits=num_folds, shuffle=True, random_state=42)\n",
    "    f1_scores = []\n",
    "    for train_idx, test_idx in kf.split(X):\n",
    "        X_train, X_test = X[train_idx], X[test_idx]\n",
    "        y_train, y_test = y[train_idx], y[test_idx]\n",
    "        model.fit(X_train, y_train, verbose=0)\n",
    "        y_pred = model.predict(X_test)\n",
    "        f1_scores.append(f1_score(y_test, y_pred, average='macro'))\n",
    "    return np.mean(f1_scores), np.std(f1_scores)"
   ]
  },
  {
   "cell_type": "code",
   "execution_count": 11,
   "id": "10736b9f",
   "metadata": {
    "cellView": "form",
    "execution": {
     "iopub.execute_input": "2023-04-15T05:43:52.504800Z",
     "iopub.status.busy": "2023-04-15T05:43:52.504356Z",
     "iopub.status.idle": "2023-04-15T05:43:52.512585Z",
     "shell.execute_reply": "2023-04-15T05:43:52.511528Z"
    },
    "id": "wkje0UzBJ8TJ",
    "papermill": {
     "duration": 0.03198,
     "end_time": "2023-04-15T05:43:52.514879",
     "exception": false,
     "start_time": "2023-04-15T05:43:52.482899",
     "status": "completed"
    },
    "tags": []
   },
   "outputs": [],
   "source": [
    "#@title categorical_correlation\n",
    "def categorical_correlation(var1, var2):\n",
    "    import scipy.stats as stats\n",
    "\n",
    "    contingency_table = pd.crosstab(var1, var2)\n",
    "  \n",
    "    chi2, p, dof, expected = stats.chi2_contingency(contingency_table)\n",
    "    \n",
    "    n = contingency_table.sum().sum()\n",
    "    phi2 = chi2/n\n",
    "    r, k = contingency_table.shape\n",
    "    phi2corr = max(0, phi2 - ((k-1)*(r-1))/(n-1))\n",
    "    rcorr = r - ((r-1)**2)/(n-1)\n",
    "    kcorr = k - ((k-1)**2)/(n-1)\n",
    "    V = np.sqrt(phi2corr / min((kcorr-1), (rcorr-1)))\n",
    "    \n",
    "    return {\"Chi-squared test\": {\"test statistic\": chi2, \"p-value\": p}, \"Cramer's V\": V}"
   ]
  },
  {
   "cell_type": "markdown",
   "id": "a1bfe5d4",
   "metadata": {
    "id": "ldT1thHxg2Oh",
    "papermill": {
     "duration": 0.019835,
     "end_time": "2023-04-15T05:43:52.560754",
     "exception": false,
     "start_time": "2023-04-15T05:43:52.540919",
     "status": "completed"
    },
    "tags": []
   },
   "source": [
    "# Basic Data Cleaning"
   ]
  },
  {
   "cell_type": "code",
   "execution_count": 12,
   "id": "37729e8b",
   "metadata": {
    "execution": {
     "iopub.execute_input": "2023-04-15T05:43:52.603521Z",
     "iopub.status.busy": "2023-04-15T05:43:52.603088Z",
     "iopub.status.idle": "2023-04-15T05:47:17.367338Z",
     "shell.execute_reply": "2023-04-15T05:47:17.366006Z"
    },
    "id": "IA7Mmlo-g5my",
    "outputId": "b61943de-cce7-4e2d-df8e-db6be9b04b97",
    "papermill": {
     "duration": 204.789062,
     "end_time": "2023-04-15T05:47:17.370377",
     "exception": false,
     "start_time": "2023-04-15T05:43:52.581315",
     "status": "completed"
    },
    "tags": []
   },
   "outputs": [
    {
     "name": "stderr",
     "output_type": "stream",
     "text": [
      "/opt/conda/lib/python3.7/site-packages/IPython/core/interactiveshell.py:3553: DtypeWarning: Columns (1,3,5,6,7,8,9,10,11,12,13,16,17,19,20) have mixed types.Specify dtype option on import or set low_memory=False.\n",
      "  exec(code_obj, self.user_global_ns, self.user_ns)\n"
     ]
    }
   ],
   "source": [
    "train = pd.read_csv('/kaggle/input/jointsugm/train.csv')\n",
    "train.drop(['Unnamed: 0'], axis=1, inplace=True)\n",
    "\n",
    "train = complete_pipeline(train)\n",
    "train = train.reset_index()\n",
    "train.drop(['index'], axis=1, inplace=True)"
   ]
  },
  {
   "cell_type": "code",
   "execution_count": 13,
   "id": "441132f8",
   "metadata": {
    "execution": {
     "iopub.execute_input": "2023-04-15T05:47:17.414898Z",
     "iopub.status.busy": "2023-04-15T05:47:17.412368Z",
     "iopub.status.idle": "2023-04-15T05:47:17.579424Z",
     "shell.execute_reply": "2023-04-15T05:47:17.577776Z"
    },
    "papermill": {
     "duration": 0.19103,
     "end_time": "2023-04-15T05:47:17.581950",
     "exception": false,
     "start_time": "2023-04-15T05:47:17.390920",
     "status": "completed"
    },
    "tags": []
   },
   "outputs": [
    {
     "name": "stdout",
     "output_type": "stream",
     "text": [
      "<class 'pandas.core.frame.DataFrame'>\n",
      "RangeIndex: 193502 entries, 0 to 193501\n",
      "Data columns (total 24 columns):\n",
      " #   Column                          Non-Null Count   Dtype  \n",
      "---  ------                          --------------   -----  \n",
      " 0   floors_before_eq (total)        193502 non-null  float64\n",
      " 1   old_building                    193502 non-null  float64\n",
      " 2   plinth_area (ft^2)              193502 non-null  float64\n",
      " 3   height_before_eq (ft)           193502 non-null  float64\n",
      " 4   land_surface_condition          193502 non-null  object \n",
      " 5   type_of_foundation              193502 non-null  object \n",
      " 6   type_of_roof                    193502 non-null  object \n",
      " 7   type_of_ground_floor            193502 non-null  object \n",
      " 8   type_of_other_floor             193502 non-null  object \n",
      " 9   position                        193502 non-null  object \n",
      " 10  building_plan_configuration     193502 non-null  object \n",
      " 11  technical_solution_proposed     193502 non-null  object \n",
      " 12  legal_ownership_status          193502 non-null  object \n",
      " 13  has_secondary_use               193502 non-null  float64\n",
      " 14  type_of_reinforcement_concrete  193502 non-null  float64\n",
      " 15  residential_type                193502 non-null  object \n",
      " 16  no_family_residing              193502 non-null  float64\n",
      " 17  public_place_type               193502 non-null  object \n",
      " 18  industrial_use_type             193502 non-null  object \n",
      " 19  govermental_use_type            193502 non-null  object \n",
      " 20  flexible_superstructure         193502 non-null  object \n",
      " 21  wall_binding                    193502 non-null  object \n",
      " 22  wall_material                   193502 non-null  object \n",
      " 23  damage_grade                    193502 non-null  float64\n",
      "dtypes: float64(8), object(16)\n",
      "memory usage: 35.4+ MB\n"
     ]
    }
   ],
   "source": [
    "train.info()"
   ]
  },
  {
   "cell_type": "code",
   "execution_count": 14,
   "id": "841b1c11",
   "metadata": {
    "execution": {
     "iopub.execute_input": "2023-04-15T05:47:17.625213Z",
     "iopub.status.busy": "2023-04-15T05:47:17.624424Z",
     "iopub.status.idle": "2023-04-15T05:47:17.642149Z",
     "shell.execute_reply": "2023-04-15T05:47:17.641227Z"
    },
    "id": "7ItlpPXRMBAw",
    "papermill": {
     "duration": 0.042304,
     "end_time": "2023-04-15T05:47:17.644591",
     "exception": false,
     "start_time": "2023-04-15T05:47:17.602287",
     "status": "completed"
    },
    "tags": []
   },
   "outputs": [],
   "source": [
    "# Inverse (will be predicted)\n",
    "train['technical_solution_proposed'] = train['technical_solution_proposed'].replace('Unspecified', np.nan)"
   ]
  },
  {
   "cell_type": "code",
   "execution_count": 15,
   "id": "fa9b593e",
   "metadata": {
    "execution": {
     "iopub.execute_input": "2023-04-15T05:47:17.686869Z",
     "iopub.status.busy": "2023-04-15T05:47:17.685735Z",
     "iopub.status.idle": "2023-04-15T05:47:17.844035Z",
     "shell.execute_reply": "2023-04-15T05:47:17.842586Z"
    },
    "papermill": {
     "duration": 0.181746,
     "end_time": "2023-04-15T05:47:17.846330",
     "exception": false,
     "start_time": "2023-04-15T05:47:17.664584",
     "status": "completed"
    },
    "tags": []
   },
   "outputs": [
    {
     "name": "stdout",
     "output_type": "stream",
     "text": [
      "<class 'pandas.core.frame.DataFrame'>\n",
      "RangeIndex: 193502 entries, 0 to 193501\n",
      "Data columns (total 24 columns):\n",
      " #   Column                          Non-Null Count   Dtype  \n",
      "---  ------                          --------------   -----  \n",
      " 0   floors_before_eq (total)        193502 non-null  float64\n",
      " 1   old_building                    193502 non-null  float64\n",
      " 2   plinth_area (ft^2)              193502 non-null  float64\n",
      " 3   height_before_eq (ft)           193502 non-null  float64\n",
      " 4   land_surface_condition          193502 non-null  object \n",
      " 5   type_of_foundation              193502 non-null  object \n",
      " 6   type_of_roof                    193502 non-null  object \n",
      " 7   type_of_ground_floor            193502 non-null  object \n",
      " 8   type_of_other_floor             193502 non-null  object \n",
      " 9   position                        193502 non-null  object \n",
      " 10  building_plan_configuration     193502 non-null  object \n",
      " 11  technical_solution_proposed     33772 non-null   object \n",
      " 12  legal_ownership_status          193502 non-null  object \n",
      " 13  has_secondary_use               193502 non-null  float64\n",
      " 14  type_of_reinforcement_concrete  193502 non-null  float64\n",
      " 15  residential_type                193502 non-null  object \n",
      " 16  no_family_residing              193502 non-null  float64\n",
      " 17  public_place_type               193502 non-null  object \n",
      " 18  industrial_use_type             193502 non-null  object \n",
      " 19  govermental_use_type            193502 non-null  object \n",
      " 20  flexible_superstructure         193502 non-null  object \n",
      " 21  wall_binding                    193502 non-null  object \n",
      " 22  wall_material                   193502 non-null  object \n",
      " 23  damage_grade                    193502 non-null  float64\n",
      "dtypes: float64(8), object(16)\n",
      "memory usage: 35.4+ MB\n"
     ]
    }
   ],
   "source": [
    "train.info()"
   ]
  },
  {
   "cell_type": "markdown",
   "id": "8570dec8",
   "metadata": {
    "id": "cpj1zg3rgxRh",
    "papermill": {
     "duration": 0.020171,
     "end_time": "2023-04-15T05:47:17.887202",
     "exception": false,
     "start_time": "2023-04-15T05:47:17.867031",
     "status": "completed"
    },
    "tags": []
   },
   "source": [
    "# Start Here"
   ]
  },
  {
   "cell_type": "markdown",
   "id": "5d286d9f",
   "metadata": {
    "id": "jIEvyCNkhYNJ",
    "papermill": {
     "duration": 0.019861,
     "end_time": "2023-04-15T05:47:17.927374",
     "exception": false,
     "start_time": "2023-04-15T05:47:17.907513",
     "status": "completed"
    },
    "tags": []
   },
   "source": [
    "# Feature Engineering"
   ]
  },
  {
   "cell_type": "markdown",
   "id": "8986afb1",
   "metadata": {
    "id": "0g0FzpREKWY8",
    "papermill": {
     "duration": 0.020223,
     "end_time": "2023-04-15T05:47:17.968032",
     "exception": false,
     "start_time": "2023-04-15T05:47:17.947809",
     "status": "completed"
    },
    "tags": []
   },
   "source": [
    "## Predict the missing technical_solution_proposed for imputing train"
   ]
  },
  {
   "cell_type": "code",
   "execution_count": 16,
   "id": "3df10229",
   "metadata": {
    "execution": {
     "iopub.execute_input": "2023-04-15T05:47:18.010266Z",
     "iopub.status.busy": "2023-04-15T05:47:18.009861Z",
     "iopub.status.idle": "2023-04-15T05:47:18.030136Z",
     "shell.execute_reply": "2023-04-15T05:47:18.028879Z"
    },
    "id": "PbnZnMltXzhs",
    "papermill": {
     "duration": 0.044911,
     "end_time": "2023-04-15T05:47:18.033043",
     "exception": false,
     "start_time": "2023-04-15T05:47:17.988132",
     "status": "completed"
    },
    "tags": []
   },
   "outputs": [],
   "source": [
    "titr = train.copy()"
   ]
  },
  {
   "cell_type": "code",
   "execution_count": 17,
   "id": "228d1407",
   "metadata": {
    "execution": {
     "iopub.execute_input": "2023-04-15T05:47:18.075972Z",
     "iopub.status.busy": "2023-04-15T05:47:18.075538Z",
     "iopub.status.idle": "2023-04-15T05:47:18.107576Z",
     "shell.execute_reply": "2023-04-15T05:47:18.106478Z"
    },
    "id": "r_d3XLsvX5O4",
    "papermill": {
     "duration": 0.056975,
     "end_time": "2023-04-15T05:47:18.110592",
     "exception": false,
     "start_time": "2023-04-15T05:47:18.053617",
     "status": "completed"
    },
    "tags": []
   },
   "outputs": [],
   "source": [
    "titr = titr[titr['technical_solution_proposed'].notna()]"
   ]
  },
  {
   "cell_type": "code",
   "execution_count": 18,
   "id": "c8a61da9",
   "metadata": {
    "execution": {
     "iopub.execute_input": "2023-04-15T05:47:18.154761Z",
     "iopub.status.busy": "2023-04-15T05:47:18.154322Z",
     "iopub.status.idle": "2023-04-15T05:47:18.161762Z",
     "shell.execute_reply": "2023-04-15T05:47:18.160579Z"
    },
    "papermill": {
     "duration": 0.032157,
     "end_time": "2023-04-15T05:47:18.164232",
     "exception": false,
     "start_time": "2023-04-15T05:47:18.132075",
     "status": "completed"
    },
    "tags": []
   },
   "outputs": [
    {
     "data": {
      "text/plain": [
       "(33772, 24)"
      ]
     },
     "execution_count": 18,
     "metadata": {},
     "output_type": "execute_result"
    }
   ],
   "source": [
    "titr.shape"
   ]
  },
  {
   "cell_type": "code",
   "execution_count": 19,
   "id": "902fdd26",
   "metadata": {
    "execution": {
     "iopub.execute_input": "2023-04-15T05:47:18.207174Z",
     "iopub.status.busy": "2023-04-15T05:47:18.206792Z",
     "iopub.status.idle": "2023-04-15T05:47:19.598463Z",
     "shell.execute_reply": "2023-04-15T05:47:19.597364Z"
    },
    "id": "M81sjcI7Kc1b",
    "outputId": "47e24822-9e98-4e50-cb82-8a7792ce46d1",
    "papermill": {
     "duration": 1.416803,
     "end_time": "2023-04-15T05:47:19.601282",
     "exception": false,
     "start_time": "2023-04-15T05:47:18.184479",
     "status": "completed"
    },
    "tags": []
   },
   "outputs": [],
   "source": [
    "X_titr = titr[titr.columns.difference(['technical_solution_proposed'])]\n",
    "y_titr = titr['technical_solution_proposed']\n",
    "\n",
    "numerical_cols = X_titr.select_dtypes(include=['int64', 'float64']).columns.tolist()\n",
    "categorical_cols = X_titr.select_dtypes(include=['object']).columns.tolist()\n",
    "\n",
    "numerical_transformer = StandardScaler()\n",
    "categorical_transformer = OneHotEncoder(sparse=False)\n",
    "\n",
    "titr_preproc = ColumnTransformer(\n",
    "    transformers=[\n",
    "        ('num', numerical_transformer, numerical_cols),\n",
    "        ('cat', categorical_transformer, categorical_cols)\n",
    "    ])\n",
    "\n",
    "titr_preproc = titr_preproc.fit(train[train.columns.difference(['technical_solution_proposed'])])\n",
    "X_titr = titr_preproc.transform(X_titr)\n",
    "\n",
    "titr_le = LabelEncoder()\n",
    "y_titr = titr_le.fit_transform(y_titr)"
   ]
  },
  {
   "cell_type": "code",
   "execution_count": 20,
   "id": "6f061938",
   "metadata": {
    "execution": {
     "iopub.execute_input": "2023-04-15T05:47:19.643664Z",
     "iopub.status.busy": "2023-04-15T05:47:19.643260Z",
     "iopub.status.idle": "2023-04-15T05:48:29.472127Z",
     "shell.execute_reply": "2023-04-15T05:48:29.471092Z"
    },
    "papermill": {
     "duration": 69.853756,
     "end_time": "2023-04-15T05:48:29.475472",
     "exception": false,
     "start_time": "2023-04-15T05:47:19.621716",
     "status": "completed"
    },
    "tags": []
   },
   "outputs": [],
   "source": [
    "cb_titr = CatBoostClassifier() \n",
    "f1_avg, f1_std = cross_val_multiclass(cb_titr, X_titr, y_titr)"
   ]
  },
  {
   "cell_type": "code",
   "execution_count": 21,
   "id": "845ce887",
   "metadata": {
    "execution": {
     "iopub.execute_input": "2023-04-15T05:48:29.518124Z",
     "iopub.status.busy": "2023-04-15T05:48:29.517725Z",
     "iopub.status.idle": "2023-04-15T05:48:29.523816Z",
     "shell.execute_reply": "2023-04-15T05:48:29.522767Z"
    },
    "id": "kr3cqJu2L5Tp",
    "outputId": "c155e04d-a227-4a6c-99b1-d7e5d9f82eb2",
    "papermill": {
     "duration": 0.030187,
     "end_time": "2023-04-15T05:48:29.526356",
     "exception": false,
     "start_time": "2023-04-15T05:48:29.496169",
     "status": "completed"
    },
    "tags": []
   },
   "outputs": [
    {
     "name": "stdout",
     "output_type": "stream",
     "text": [
      "Avg: 0.9691829007755167, Std: 0.00287411186398703\n"
     ]
    }
   ],
   "source": [
    "print(f'Avg: {f1_avg}, Std: {f1_std}')"
   ]
  },
  {
   "cell_type": "code",
   "execution_count": 22,
   "id": "f8d5ccc1",
   "metadata": {
    "execution": {
     "iopub.execute_input": "2023-04-15T05:48:29.568508Z",
     "iopub.status.busy": "2023-04-15T05:48:29.568074Z",
     "iopub.status.idle": "2023-04-15T05:48:46.214382Z",
     "shell.execute_reply": "2023-04-15T05:48:46.213393Z"
    },
    "id": "A4GNI7b9uGls",
    "papermill": {
     "duration": 16.670349,
     "end_time": "2023-04-15T05:48:46.216857",
     "exception": false,
     "start_time": "2023-04-15T05:48:29.546508",
     "status": "completed"
    },
    "tags": []
   },
   "outputs": [
    {
     "data": {
      "text/plain": [
       "<catboost.core.CatBoostClassifier at 0x722a387e01d0>"
      ]
     },
     "execution_count": 22,
     "metadata": {},
     "output_type": "execute_result"
    }
   ],
   "source": [
    "cb_titr = CatBoostClassifier()\n",
    "cb_titr.fit(X_titr, y_titr, verbose=0)"
   ]
  },
  {
   "cell_type": "code",
   "execution_count": 23,
   "id": "08c30de5",
   "metadata": {
    "execution": {
     "iopub.execute_input": "2023-04-15T05:48:46.259548Z",
     "iopub.status.busy": "2023-04-15T05:48:46.258839Z",
     "iopub.status.idle": "2023-04-15T05:48:46.280427Z",
     "shell.execute_reply": "2023-04-15T05:48:46.279351Z"
    },
    "papermill": {
     "duration": 0.045767,
     "end_time": "2023-04-15T05:48:46.282951",
     "exception": false,
     "start_time": "2023-04-15T05:48:46.237184",
     "status": "completed"
    },
    "tags": []
   },
   "outputs": [],
   "source": [
    "train_before = train.copy()"
   ]
  },
  {
   "cell_type": "code",
   "execution_count": 24,
   "id": "cefae70c",
   "metadata": {
    "execution": {
     "iopub.execute_input": "2023-04-15T05:48:46.326183Z",
     "iopub.status.busy": "2023-04-15T05:48:46.325435Z",
     "iopub.status.idle": "2023-04-15T05:48:46.358318Z",
     "shell.execute_reply": "2023-04-15T05:48:46.357256Z"
    },
    "papermill": {
     "duration": 0.057065,
     "end_time": "2023-04-15T05:48:46.360890",
     "exception": false,
     "start_time": "2023-04-15T05:48:46.303825",
     "status": "completed"
    },
    "tags": []
   },
   "outputs": [],
   "source": [
    "train = train_before.copy()"
   ]
  },
  {
   "cell_type": "code",
   "execution_count": 25,
   "id": "435c2e69",
   "metadata": {
    "execution": {
     "iopub.execute_input": "2023-04-15T05:48:46.404705Z",
     "iopub.status.busy": "2023-04-15T05:48:46.403890Z",
     "iopub.status.idle": "2023-04-15T05:48:52.377116Z",
     "shell.execute_reply": "2023-04-15T05:48:52.375399Z"
    },
    "papermill": {
     "duration": 5.997384,
     "end_time": "2023-04-15T05:48:52.379461",
     "exception": false,
     "start_time": "2023-04-15T05:48:46.382077",
     "status": "completed"
    },
    "tags": []
   },
   "outputs": [
    {
     "name": "stderr",
     "output_type": "stream",
     "text": [
      "/opt/conda/lib/python3.7/site-packages/sklearn/preprocessing/_label.py:154: DataConversionWarning: A column-vector y was passed when a 1d array was expected. Please change the shape of y to (n_samples, ), for example using ravel().\n",
      "  y = column_or_1d(y, warn=True)\n"
     ]
    }
   ],
   "source": [
    "train.loc[train['technical_solution_proposed'].isna(), 'technical_solution_proposed'] = titr_le.inverse_transform(cb_titr.predict(titr_preproc.transform(train.loc[train['technical_solution_proposed'].isna(), train.columns.difference(['technical_solution_proposed'])]))).ravel()"
   ]
  },
  {
   "cell_type": "markdown",
   "id": "5b10d600",
   "metadata": {
    "id": "B7DXS3VrLIsi",
    "papermill": {
     "duration": 0.020373,
     "end_time": "2023-04-15T05:48:52.421330",
     "exception": false,
     "start_time": "2023-04-15T05:48:52.400957",
     "status": "completed"
    },
    "tags": []
   },
   "source": [
    "## Others"
   ]
  },
  {
   "cell_type": "code",
   "execution_count": 26,
   "id": "61e931de",
   "metadata": {
    "execution": {
     "iopub.execute_input": "2023-04-15T05:48:52.464759Z",
     "iopub.status.busy": "2023-04-15T05:48:52.464152Z",
     "iopub.status.idle": "2023-04-15T05:48:52.635924Z",
     "shell.execute_reply": "2023-04-15T05:48:52.634090Z"
    },
    "papermill": {
     "duration": 0.196736,
     "end_time": "2023-04-15T05:48:52.638942",
     "exception": false,
     "start_time": "2023-04-15T05:48:52.442206",
     "status": "completed"
    },
    "tags": []
   },
   "outputs": [
    {
     "name": "stdout",
     "output_type": "stream",
     "text": [
      "<class 'pandas.core.frame.DataFrame'>\n",
      "RangeIndex: 193502 entries, 0 to 193501\n",
      "Data columns (total 24 columns):\n",
      " #   Column                          Non-Null Count   Dtype  \n",
      "---  ------                          --------------   -----  \n",
      " 0   floors_before_eq (total)        193502 non-null  float64\n",
      " 1   old_building                    193502 non-null  float64\n",
      " 2   plinth_area (ft^2)              193502 non-null  float64\n",
      " 3   height_before_eq (ft)           193502 non-null  float64\n",
      " 4   land_surface_condition          193502 non-null  object \n",
      " 5   type_of_foundation              193502 non-null  object \n",
      " 6   type_of_roof                    193502 non-null  object \n",
      " 7   type_of_ground_floor            193502 non-null  object \n",
      " 8   type_of_other_floor             193502 non-null  object \n",
      " 9   position                        193502 non-null  object \n",
      " 10  building_plan_configuration     193502 non-null  object \n",
      " 11  technical_solution_proposed     193502 non-null  object \n",
      " 12  legal_ownership_status          193502 non-null  object \n",
      " 13  has_secondary_use               193502 non-null  float64\n",
      " 14  type_of_reinforcement_concrete  193502 non-null  float64\n",
      " 15  residential_type                193502 non-null  object \n",
      " 16  no_family_residing              193502 non-null  float64\n",
      " 17  public_place_type               193502 non-null  object \n",
      " 18  industrial_use_type             193502 non-null  object \n",
      " 19  govermental_use_type            193502 non-null  object \n",
      " 20  flexible_superstructure         193502 non-null  object \n",
      " 21  wall_binding                    193502 non-null  object \n",
      " 22  wall_material                   193502 non-null  object \n",
      " 23  damage_grade                    193502 non-null  float64\n",
      "dtypes: float64(8), object(16)\n",
      "memory usage: 35.4+ MB\n"
     ]
    }
   ],
   "source": [
    "train.info()"
   ]
  },
  {
   "cell_type": "code",
   "execution_count": 27,
   "id": "a4f1a5ee",
   "metadata": {
    "execution": {
     "iopub.execute_input": "2023-04-15T05:48:52.688053Z",
     "iopub.status.busy": "2023-04-15T05:48:52.687245Z",
     "iopub.status.idle": "2023-04-15T05:48:52.692800Z",
     "shell.execute_reply": "2023-04-15T05:48:52.691822Z"
    },
    "papermill": {
     "duration": 0.029726,
     "end_time": "2023-04-15T05:48:52.694754",
     "exception": false,
     "start_time": "2023-04-15T05:48:52.665028",
     "status": "completed"
    },
    "tags": []
   },
   "outputs": [],
   "source": [
    "def percentage_table(df, column):\n",
    "    value_counts = df[column].value_counts()\n",
    "    total_obs = value_counts.sum()\n",
    "    percentage = (value_counts / total_obs) * 100\n",
    "    return pd.concat([value_counts, percentage], axis=1, keys=['Count', 'Percentage'])"
   ]
  },
  {
   "cell_type": "code",
   "execution_count": 28,
   "id": "a605a9e7",
   "metadata": {
    "execution": {
     "iopub.execute_input": "2023-04-15T05:48:52.738319Z",
     "iopub.status.busy": "2023-04-15T05:48:52.737605Z",
     "iopub.status.idle": "2023-04-15T05:48:52.768570Z",
     "shell.execute_reply": "2023-04-15T05:48:52.767746Z"
    },
    "papermill": {
     "duration": 0.056072,
     "end_time": "2023-04-15T05:48:52.771058",
     "exception": false,
     "start_time": "2023-04-15T05:48:52.714986",
     "status": "completed"
    },
    "tags": []
   },
   "outputs": [
    {
     "data": {
      "text/html": [
       "<div>\n",
       "<style scoped>\n",
       "    .dataframe tbody tr th:only-of-type {\n",
       "        vertical-align: middle;\n",
       "    }\n",
       "\n",
       "    .dataframe tbody tr th {\n",
       "        vertical-align: top;\n",
       "    }\n",
       "\n",
       "    .dataframe thead th {\n",
       "        text-align: right;\n",
       "    }\n",
       "</style>\n",
       "<table border=\"1\" class=\"dataframe\">\n",
       "  <thead>\n",
       "    <tr style=\"text-align: right;\">\n",
       "      <th></th>\n",
       "      <th>Count</th>\n",
       "      <th>Percentage</th>\n",
       "    </tr>\n",
       "  </thead>\n",
       "  <tbody>\n",
       "    <tr>\n",
       "      <th>Stone Bricks</th>\n",
       "      <td>157977</td>\n",
       "      <td>81.641017</td>\n",
       "    </tr>\n",
       "    <tr>\n",
       "      <th>Unknown/not stated</th>\n",
       "      <td>18674</td>\n",
       "      <td>9.650546</td>\n",
       "    </tr>\n",
       "    <tr>\n",
       "      <th>Red Bricks</th>\n",
       "      <td>14343</td>\n",
       "      <td>7.412326</td>\n",
       "    </tr>\n",
       "    <tr>\n",
       "      <th>Red Bricks, Stone Bricks</th>\n",
       "      <td>2508</td>\n",
       "      <td>1.296111</td>\n",
       "    </tr>\n",
       "  </tbody>\n",
       "</table>\n",
       "</div>"
      ],
      "text/plain": [
       "                           Count  Percentage\n",
       "Stone Bricks              157977   81.641017\n",
       "Unknown/not stated         18674    9.650546\n",
       "Red Bricks                 14343    7.412326\n",
       "Red Bricks, Stone Bricks    2508    1.296111"
      ]
     },
     "execution_count": 28,
     "metadata": {},
     "output_type": "execute_result"
    }
   ],
   "source": [
    "percentage_table(train, 'wall_material')"
   ]
  },
  {
   "cell_type": "code",
   "execution_count": 29,
   "id": "d6a0d8b6",
   "metadata": {
    "execution": {
     "iopub.execute_input": "2023-04-15T05:48:52.816038Z",
     "iopub.status.busy": "2023-04-15T05:48:52.815223Z",
     "iopub.status.idle": "2023-04-15T05:48:52.849125Z",
     "shell.execute_reply": "2023-04-15T05:48:52.848269Z"
    },
    "papermill": {
     "duration": 0.059302,
     "end_time": "2023-04-15T05:48:52.851894",
     "exception": false,
     "start_time": "2023-04-15T05:48:52.792592",
     "status": "completed"
    },
    "tags": []
   },
   "outputs": [],
   "source": [
    "train.drop(['building_plan_configuration', 'legal_ownership_status', 'type_of_reinforcement_concrete',\n",
    "           'residential_type', 'public_place_type', 'industrial_use_type', 'govermental_use_type', 'flexible_superstructure'], axis=1, inplace=True)"
   ]
  },
  {
   "cell_type": "code",
   "execution_count": 30,
   "id": "042ab231",
   "metadata": {
    "execution": {
     "iopub.execute_input": "2023-04-15T05:48:52.896125Z",
     "iopub.status.busy": "2023-04-15T05:48:52.895683Z",
     "iopub.status.idle": "2023-04-15T05:48:52.954556Z",
     "shell.execute_reply": "2023-04-15T05:48:52.953298Z"
    },
    "id": "bQmhjQJvLJjw",
    "papermill": {
     "duration": 0.084819,
     "end_time": "2023-04-15T05:48:52.957767",
     "exception": false,
     "start_time": "2023-04-15T05:48:52.872948",
     "status": "completed"
    },
    "tags": []
   },
   "outputs": [],
   "source": [
    "train['total_building_area (ft^2)'] = train['plinth_area (ft^2)'] * train['height_before_eq (ft)']\n",
    "train['area_to_height_ratio'] = train['plinth_area (ft^2)'] / train['height_before_eq (ft)']\n",
    "train['height per floor (ft)'] = train['height_before_eq (ft)'] / train['floors_before_eq (total)']\n",
    "train['tsp_toof'] = train['technical_solution_proposed'] + '_' + train['type_of_other_floor']\n",
    "train['floor_area_ratio'] = train['total_building_area (ft^2)'] / (train['plinth_area (ft^2)'] * train['floors_before_eq (total)'])"
   ]
  },
  {
   "cell_type": "code",
   "execution_count": 31,
   "id": "6f4b90cb",
   "metadata": {
    "execution": {
     "iopub.execute_input": "2023-04-15T05:48:53.003263Z",
     "iopub.status.busy": "2023-04-15T05:48:53.001952Z",
     "iopub.status.idle": "2023-04-15T05:48:53.091055Z",
     "shell.execute_reply": "2023-04-15T05:48:53.089930Z"
    },
    "papermill": {
     "duration": 0.114646,
     "end_time": "2023-04-15T05:48:53.093767",
     "exception": false,
     "start_time": "2023-04-15T05:48:52.979121",
     "status": "completed"
    },
    "tags": []
   },
   "outputs": [],
   "source": [
    "train.drop(['plinth_area (ft^2)', 'height_before_eq (ft)'], axis=1, inplace=True)"
   ]
  },
  {
   "cell_type": "code",
   "execution_count": 32,
   "id": "bdb2925f",
   "metadata": {
    "execution": {
     "iopub.execute_input": "2023-04-15T05:48:53.137584Z",
     "iopub.status.busy": "2023-04-15T05:48:53.136803Z",
     "iopub.status.idle": "2023-04-15T05:48:53.218196Z",
     "shell.execute_reply": "2023-04-15T05:48:53.217172Z"
    },
    "papermill": {
     "duration": 0.105928,
     "end_time": "2023-04-15T05:48:53.220678",
     "exception": false,
     "start_time": "2023-04-15T05:48:53.114750",
     "status": "completed"
    },
    "tags": []
   },
   "outputs": [],
   "source": [
    "train = train[train['height per floor (ft)'] <= 15]\n",
    "train = train.reset_index()\n",
    "train.drop(['index'], axis=1, inplace=True)"
   ]
  },
  {
   "cell_type": "code",
   "execution_count": 33,
   "id": "cf4a5ec5",
   "metadata": {
    "execution": {
     "iopub.execute_input": "2023-04-15T05:48:53.264191Z",
     "iopub.status.busy": "2023-04-15T05:48:53.263590Z",
     "iopub.status.idle": "2023-04-15T05:48:53.339280Z",
     "shell.execute_reply": "2023-04-15T05:48:53.338035Z"
    },
    "papermill": {
     "duration": 0.100207,
     "end_time": "2023-04-15T05:48:53.341937",
     "exception": false,
     "start_time": "2023-04-15T05:48:53.241730",
     "status": "completed"
    },
    "tags": []
   },
   "outputs": [],
   "source": [
    "tsp_dict = {\n",
    "    'Reconstruction': 4,\n",
    "    'Major repair': 3,\n",
    "    'Minor repair': 2,\n",
    "    'No need': 1\n",
    "}\n",
    "\n",
    "train['technical_solution_proposed_int'] = train['technical_solution_proposed'].apply(lambda x: tsp_dict[x])"
   ]
  },
  {
   "cell_type": "code",
   "execution_count": 34,
   "id": "4aa51e86",
   "metadata": {
    "execution": {
     "iopub.execute_input": "2023-04-15T05:48:53.385651Z",
     "iopub.status.busy": "2023-04-15T05:48:53.385237Z",
     "iopub.status.idle": "2023-04-15T05:48:53.492250Z",
     "shell.execute_reply": "2023-04-15T05:48:53.491018Z"
    },
    "papermill": {
     "duration": 0.131559,
     "end_time": "2023-04-15T05:48:53.494483",
     "exception": false,
     "start_time": "2023-04-15T05:48:53.362924",
     "status": "completed"
    },
    "tags": []
   },
   "outputs": [
    {
     "name": "stdout",
     "output_type": "stream",
     "text": [
      "<class 'pandas.core.frame.DataFrame'>\n",
      "RangeIndex: 192441 entries, 0 to 192440\n",
      "Data columns (total 20 columns):\n",
      " #   Column                           Non-Null Count   Dtype  \n",
      "---  ------                           --------------   -----  \n",
      " 0   floors_before_eq (total)         192441 non-null  float64\n",
      " 1   old_building                     192441 non-null  float64\n",
      " 2   land_surface_condition           192441 non-null  object \n",
      " 3   type_of_foundation               192441 non-null  object \n",
      " 4   type_of_roof                     192441 non-null  object \n",
      " 5   type_of_ground_floor             192441 non-null  object \n",
      " 6   type_of_other_floor              192441 non-null  object \n",
      " 7   position                         192441 non-null  object \n",
      " 8   technical_solution_proposed      192441 non-null  object \n",
      " 9   has_secondary_use                192441 non-null  float64\n",
      " 10  no_family_residing               192441 non-null  float64\n",
      " 11  wall_binding                     192441 non-null  object \n",
      " 12  wall_material                    192441 non-null  object \n",
      " 13  damage_grade                     192441 non-null  float64\n",
      " 14  total_building_area (ft^2)       192441 non-null  float64\n",
      " 15  area_to_height_ratio             192441 non-null  float64\n",
      " 16  height per floor (ft)            192441 non-null  float64\n",
      " 17  tsp_toof                         192441 non-null  object \n",
      " 18  floor_area_ratio                 192441 non-null  float64\n",
      " 19  technical_solution_proposed_int  192441 non-null  int64  \n",
      "dtypes: float64(9), int64(1), object(10)\n",
      "memory usage: 29.4+ MB\n"
     ]
    }
   ],
   "source": [
    "train.info()"
   ]
  },
  {
   "cell_type": "code",
   "execution_count": 35,
   "id": "70197db9",
   "metadata": {
    "execution": {
     "iopub.execute_input": "2023-04-15T05:48:53.539621Z",
     "iopub.status.busy": "2023-04-15T05:48:53.538970Z",
     "iopub.status.idle": "2023-04-15T05:48:55.550227Z",
     "shell.execute_reply": "2023-04-15T05:48:55.549036Z"
    },
    "papermill": {
     "duration": 2.038028,
     "end_time": "2023-04-15T05:48:55.552941",
     "exception": false,
     "start_time": "2023-04-15T05:48:53.514913",
     "status": "completed"
    },
    "tags": []
   },
   "outputs": [],
   "source": [
    "train.to_csv('train_fed.csv', index=False)"
   ]
  },
  {
   "cell_type": "markdown",
   "id": "c0b0d191",
   "metadata": {
    "papermill": {
     "duration": 0.020248,
     "end_time": "2023-04-15T05:48:55.594380",
     "exception": false,
     "start_time": "2023-04-15T05:48:55.574132",
     "status": "completed"
    },
    "tags": []
   },
   "source": [
    "### Re-CL"
   ]
  },
  {
   "cell_type": "code",
   "execution_count": 36,
   "id": "69dfcf66",
   "metadata": {
    "execution": {
     "iopub.execute_input": "2023-04-15T05:48:55.637084Z",
     "iopub.status.busy": "2023-04-15T05:48:55.636686Z",
     "iopub.status.idle": "2023-04-15T05:48:56.131795Z",
     "shell.execute_reply": "2023-04-15T05:48:56.130710Z"
    },
    "papermill": {
     "duration": 0.519691,
     "end_time": "2023-04-15T05:48:56.134585",
     "exception": false,
     "start_time": "2023-04-15T05:48:55.614894",
     "status": "completed"
    },
    "tags": []
   },
   "outputs": [],
   "source": [
    "train = pd.read_csv('train_fed.csv')"
   ]
  },
  {
   "cell_type": "code",
   "execution_count": 37,
   "id": "c649c738",
   "metadata": {
    "execution": {
     "iopub.execute_input": "2023-04-15T05:48:56.177708Z",
     "iopub.status.busy": "2023-04-15T05:48:56.177319Z",
     "iopub.status.idle": "2023-04-15T05:49:26.279741Z",
     "shell.execute_reply": "2023-04-15T05:49:26.278565Z"
    },
    "papermill": {
     "duration": 30.145698,
     "end_time": "2023-04-15T05:49:26.301032",
     "exception": false,
     "start_time": "2023-04-15T05:48:56.155334",
     "status": "completed"
    },
    "tags": []
   },
   "outputs": [
    {
     "data": {
      "text/plain": [
       "(192047, 20)"
      ]
     },
     "execution_count": 37,
     "metadata": {},
     "output_type": "execute_result"
    }
   ],
   "source": [
    "train = train.groupby(list(train.columns.difference(['damage_grade']))).filter(lambda x: len(set(x['damage_grade'])) == 1)\n",
    "train.shape"
   ]
  },
  {
   "cell_type": "code",
   "execution_count": 38,
   "id": "65ac0f1e",
   "metadata": {
    "execution": {
     "iopub.execute_input": "2023-04-15T05:49:26.343865Z",
     "iopub.status.busy": "2023-04-15T05:49:26.343390Z",
     "iopub.status.idle": "2023-04-15T05:49:26.397324Z",
     "shell.execute_reply": "2023-04-15T05:49:26.396100Z"
    },
    "papermill": {
     "duration": 0.078953,
     "end_time": "2023-04-15T05:49:26.400435",
     "exception": false,
     "start_time": "2023-04-15T05:49:26.321482",
     "status": "completed"
    },
    "tags": []
   },
   "outputs": [],
   "source": [
    "train = train.reset_index()\n",
    "train.drop(['index'], axis=1, inplace=True)"
   ]
  },
  {
   "cell_type": "code",
   "execution_count": 39,
   "id": "2c21280d",
   "metadata": {
    "execution": {
     "iopub.execute_input": "2023-04-15T05:49:26.445400Z",
     "iopub.status.busy": "2023-04-15T05:49:26.444302Z",
     "iopub.status.idle": "2023-04-15T05:50:47.194902Z",
     "shell.execute_reply": "2023-04-15T05:50:47.193438Z"
    },
    "papermill": {
     "duration": 80.796431,
     "end_time": "2023-04-15T05:50:47.218138",
     "exception": false,
     "start_time": "2023-04-15T05:49:26.421707",
     "status": "completed"
    },
    "tags": []
   },
   "outputs": [
    {
     "data": {
      "text/plain": [
       "(180802, 20)"
      ]
     },
     "execution_count": 39,
     "metadata": {},
     "output_type": "execute_result"
    }
   ],
   "source": [
    "train = find_label_issue_train(train)\n",
    "train = train.reset_index()\n",
    "train.drop(['index'], axis=1, inplace=True)\n",
    "train.shape"
   ]
  },
  {
   "cell_type": "code",
   "execution_count": 40,
   "id": "7573e9d0",
   "metadata": {
    "execution": {
     "iopub.execute_input": "2023-04-15T05:50:47.262801Z",
     "iopub.status.busy": "2023-04-15T05:50:47.262092Z",
     "iopub.status.idle": "2023-04-15T05:50:47.367420Z",
     "shell.execute_reply": "2023-04-15T05:50:47.366550Z"
    },
    "papermill": {
     "duration": 0.130744,
     "end_time": "2023-04-15T05:50:47.369709",
     "exception": false,
     "start_time": "2023-04-15T05:50:47.238965",
     "status": "completed"
    },
    "tags": []
   },
   "outputs": [
    {
     "name": "stdout",
     "output_type": "stream",
     "text": [
      "<class 'pandas.core.frame.DataFrame'>\n",
      "RangeIndex: 180802 entries, 0 to 180801\n",
      "Data columns (total 20 columns):\n",
      " #   Column                           Non-Null Count   Dtype  \n",
      "---  ------                           --------------   -----  \n",
      " 0   floors_before_eq (total)         180802 non-null  float64\n",
      " 1   old_building                     180802 non-null  float64\n",
      " 2   land_surface_condition           180802 non-null  object \n",
      " 3   type_of_foundation               180802 non-null  object \n",
      " 4   type_of_roof                     180802 non-null  object \n",
      " 5   type_of_ground_floor             180802 non-null  object \n",
      " 6   type_of_other_floor              180802 non-null  object \n",
      " 7   position                         180802 non-null  object \n",
      " 8   technical_solution_proposed      180802 non-null  object \n",
      " 9   has_secondary_use                180802 non-null  float64\n",
      " 10  no_family_residing               180802 non-null  float64\n",
      " 11  wall_binding                     180802 non-null  object \n",
      " 12  wall_material                    180802 non-null  object \n",
      " 13  damage_grade                     180802 non-null  float64\n",
      " 14  total_building_area (ft^2)       180802 non-null  float64\n",
      " 15  area_to_height_ratio             180802 non-null  float64\n",
      " 16  height per floor (ft)            180802 non-null  float64\n",
      " 17  tsp_toof                         180802 non-null  object \n",
      " 18  floor_area_ratio                 180802 non-null  float64\n",
      " 19  technical_solution_proposed_int  180802 non-null  int64  \n",
      "dtypes: float64(9), int64(1), object(10)\n",
      "memory usage: 27.6+ MB\n"
     ]
    }
   ],
   "source": [
    "train.info()"
   ]
  },
  {
   "cell_type": "code",
   "execution_count": 41,
   "id": "aa261067",
   "metadata": {
    "execution": {
     "iopub.execute_input": "2023-04-15T05:50:47.414435Z",
     "iopub.status.busy": "2023-04-15T05:50:47.414030Z",
     "iopub.status.idle": "2023-04-15T05:50:49.266583Z",
     "shell.execute_reply": "2023-04-15T05:50:49.265433Z"
    },
    "papermill": {
     "duration": 1.878205,
     "end_time": "2023-04-15T05:50:49.269495",
     "exception": false,
     "start_time": "2023-04-15T05:50:47.391290",
     "status": "completed"
    },
    "tags": []
   },
   "outputs": [],
   "source": [
    "train.to_csv('train_final.csv', index=False)"
   ]
  },
  {
   "cell_type": "code",
   "execution_count": 42,
   "id": "1452e534",
   "metadata": {
    "execution": {
     "iopub.execute_input": "2023-04-15T05:50:49.314990Z",
     "iopub.status.busy": "2023-04-15T05:50:49.314543Z",
     "iopub.status.idle": "2023-04-15T05:50:49.800045Z",
     "shell.execute_reply": "2023-04-15T05:50:49.798905Z"
    },
    "papermill": {
     "duration": 0.512262,
     "end_time": "2023-04-15T05:50:49.802861",
     "exception": false,
     "start_time": "2023-04-15T05:50:49.290599",
     "status": "completed"
    },
    "tags": []
   },
   "outputs": [],
   "source": [
    "train = pd.read_csv('/kaggle/working/train_final.csv')"
   ]
  },
  {
   "cell_type": "markdown",
   "id": "cbe1e51e",
   "metadata": {
    "id": "UtuwcJBXhWu1",
    "papermill": {
     "duration": 0.021048,
     "end_time": "2023-04-15T05:50:49.845817",
     "exception": false,
     "start_time": "2023-04-15T05:50:49.824769",
     "status": "completed"
    },
    "tags": []
   },
   "source": [
    "# Modeling"
   ]
  },
  {
   "cell_type": "code",
   "execution_count": 43,
   "id": "e4ad1d52",
   "metadata": {
    "execution": {
     "iopub.execute_input": "2023-04-15T05:50:49.890560Z",
     "iopub.status.busy": "2023-04-15T05:50:49.889660Z",
     "iopub.status.idle": "2023-04-15T05:50:50.739682Z",
     "shell.execute_reply": "2023-04-15T05:50:50.738830Z"
    },
    "id": "SJAYUY5qZlK_",
    "papermill": {
     "duration": 0.875522,
     "end_time": "2023-04-15T05:50:50.742626",
     "exception": false,
     "start_time": "2023-04-15T05:50:49.867104",
     "status": "completed"
    },
    "tags": []
   },
   "outputs": [],
   "source": [
    "X = train[train.columns.difference(['damage_grade'])]\n",
    "y = train['damage_grade']\n",
    "\n",
    "numerical_cols = X.select_dtypes(include=['int64', 'float64']).columns.tolist()\n",
    "categorical_cols = X.select_dtypes(include=['object']).columns.tolist()\n",
    "\n",
    "numerical_transformer = StandardScaler()\n",
    "categorical_transformer = OneHotEncoder(sparse=False)\n",
    "\n",
    "preprocessor = ColumnTransformer(\n",
    "    transformers=[\n",
    "        ('num', numerical_transformer, numerical_cols),\n",
    "        ('cat', categorical_transformer, categorical_cols)\n",
    "    ])\n",
    "\n",
    "X = preprocessor.fit_transform(X)\n",
    "\n",
    "label_encoder = LabelEncoder()\n",
    "y = label_encoder.fit_transform(y)"
   ]
  },
  {
   "cell_type": "code",
   "execution_count": 44,
   "id": "6ee26641",
   "metadata": {
    "execution": {
     "iopub.execute_input": "2023-04-15T05:50:50.787834Z",
     "iopub.status.busy": "2023-04-15T05:50:50.787042Z",
     "iopub.status.idle": "2023-04-15T05:50:50.928912Z",
     "shell.execute_reply": "2023-04-15T05:50:50.927745Z"
    },
    "id": "KvXY5_ZYh1g2",
    "papermill": {
     "duration": 0.166912,
     "end_time": "2023-04-15T05:50:50.931685",
     "exception": false,
     "start_time": "2023-04-15T05:50:50.764773",
     "status": "completed"
    },
    "tags": []
   },
   "outputs": [],
   "source": [
    "# Create train-validation-test split with stratification\n",
    "X_train, X_val, y_train, y_val = train_test_split(X, y, train_size=0.6, random_state=42, stratify=y)\n",
    "X_val, X_test, y_val, y_test = train_test_split(X_val, y_val, test_size=0.5, random_state=42, stratify=y_val)"
   ]
  },
  {
   "cell_type": "markdown",
   "id": "fb6d4a5c",
   "metadata": {
    "id": "zK1N9xBWY3hY",
    "papermill": {
     "duration": 0.020802,
     "end_time": "2023-04-15T05:50:50.974005",
     "exception": false,
     "start_time": "2023-04-15T05:50:50.953203",
     "status": "completed"
    },
    "tags": []
   },
   "source": [
    "## Manual"
   ]
  },
  {
   "cell_type": "markdown",
   "id": "a10c5388",
   "metadata": {
    "papermill": {
     "duration": 0.020748,
     "end_time": "2023-04-15T05:50:51.016299",
     "exception": false,
     "start_time": "2023-04-15T05:50:50.995551",
     "status": "completed"
    },
    "tags": []
   },
   "source": [
    "### LightGBM"
   ]
  },
  {
   "cell_type": "code",
   "execution_count": 45,
   "id": "69c0bced",
   "metadata": {
    "execution": {
     "iopub.execute_input": "2023-04-15T05:50:51.061729Z",
     "iopub.status.busy": "2023-04-15T05:50:51.060548Z",
     "iopub.status.idle": "2023-04-15T05:50:57.795538Z",
     "shell.execute_reply": "2023-04-15T05:50:57.794519Z"
    },
    "papermill": {
     "duration": 6.760363,
     "end_time": "2023-04-15T05:50:57.798061",
     "exception": false,
     "start_time": "2023-04-15T05:50:51.037698",
     "status": "completed"
    },
    "tags": []
   },
   "outputs": [
    {
     "name": "stderr",
     "output_type": "stream",
     "text": [
      "/opt/conda/lib/python3.7/site-packages/lightgbm/sklearn.py:736: UserWarning: 'verbose' argument is deprecated and will be removed in a future release of LightGBM. Pass 'log_evaluation()' callback via 'callbacks' argument instead.\n",
      "  _log_warning(\"'verbose' argument is deprecated and will be removed in a future release of LightGBM. \"\n"
     ]
    },
    {
     "data": {
      "text/plain": [
       "LGBMClassifier()"
      ]
     },
     "execution_count": 45,
     "metadata": {},
     "output_type": "execute_result"
    }
   ],
   "source": [
    "lgbm = LGBMClassifier()\n",
    "lgbm.fit(X_train, y_train, verbose=0, eval_set=(X_val, y_val))"
   ]
  },
  {
   "cell_type": "code",
   "execution_count": 46,
   "id": "6dcfa70d",
   "metadata": {
    "execution": {
     "iopub.execute_input": "2023-04-15T05:50:57.842593Z",
     "iopub.status.busy": "2023-04-15T05:50:57.841630Z",
     "iopub.status.idle": "2023-04-15T05:50:58.203708Z",
     "shell.execute_reply": "2023-04-15T05:50:58.202643Z"
    },
    "papermill": {
     "duration": 0.387083,
     "end_time": "2023-04-15T05:50:58.206305",
     "exception": false,
     "start_time": "2023-04-15T05:50:57.819222",
     "status": "completed"
    },
    "tags": []
   },
   "outputs": [
    {
     "name": "stdout",
     "output_type": "stream",
     "text": [
      "              precision    recall  f1-score   support\n",
      "\n",
      "           1       0.99      0.99      0.99      4506\n",
      "           2       0.98      0.99      0.99      3184\n",
      "           3       1.00      1.00      1.00      5089\n",
      "           4       0.82      0.69      0.75      5864\n",
      "           5       0.90      0.95      0.92     17517\n",
      "\n",
      "    accuracy                           0.92     36160\n",
      "   macro avg       0.94      0.92      0.93     36160\n",
      "weighted avg       0.92      0.92      0.92     36160\n",
      "\n"
     ]
    }
   ],
   "source": [
    "y_val_pred = lgbm.predict(X_val)\n",
    "print(classification_report(y_val, y_val_pred, target_names=['1', '2', '3', '4', '5']))"
   ]
  },
  {
   "cell_type": "markdown",
   "id": "ab21b966",
   "metadata": {
    "papermill": {
     "duration": 0.02092,
     "end_time": "2023-04-15T05:50:58.249153",
     "exception": false,
     "start_time": "2023-04-15T05:50:58.228233",
     "status": "completed"
    },
    "tags": []
   },
   "source": [
    "### CatBoost"
   ]
  },
  {
   "cell_type": "code",
   "execution_count": 47,
   "id": "39893fb0",
   "metadata": {
    "execution": {
     "iopub.execute_input": "2023-04-15T05:50:58.293568Z",
     "iopub.status.busy": "2023-04-15T05:50:58.293139Z",
     "iopub.status.idle": "2023-04-15T05:51:59.378702Z",
     "shell.execute_reply": "2023-04-15T05:51:59.377807Z"
    },
    "id": "BTP_rGu_hEHu",
    "papermill": {
     "duration": 61.127824,
     "end_time": "2023-04-15T05:51:59.398185",
     "exception": false,
     "start_time": "2023-04-15T05:50:58.270361",
     "status": "completed"
    },
    "tags": []
   },
   "outputs": [
    {
     "data": {
      "text/plain": [
       "<catboost.core.CatBoostClassifier at 0x722a16f52dd0>"
      ]
     },
     "execution_count": 47,
     "metadata": {},
     "output_type": "execute_result"
    }
   ],
   "source": [
    "catboost = CatBoostClassifier()\n",
    "catboost.fit(X_train, y_train, verbose=0, eval_set=(X_val, y_val))"
   ]
  },
  {
   "cell_type": "code",
   "execution_count": 48,
   "id": "c2432c8c",
   "metadata": {
    "execution": {
     "iopub.execute_input": "2023-04-15T05:51:59.443510Z",
     "iopub.status.busy": "2023-04-15T05:51:59.442365Z",
     "iopub.status.idle": "2023-04-15T05:52:00.423704Z",
     "shell.execute_reply": "2023-04-15T05:52:00.422746Z"
    },
    "id": "iFPop-woRuhu",
    "papermill": {
     "duration": 1.006918,
     "end_time": "2023-04-15T05:52:00.426332",
     "exception": false,
     "start_time": "2023-04-15T05:51:59.419414",
     "status": "completed"
    },
    "tags": []
   },
   "outputs": [
    {
     "name": "stdout",
     "output_type": "stream",
     "text": [
      "              precision    recall  f1-score   support\n",
      "\n",
      "           1       0.99      0.99      0.99      4506\n",
      "           2       0.99      0.98      0.98      3184\n",
      "           3       1.00      1.00      1.00      5089\n",
      "           4       0.81      0.70      0.75      5864\n",
      "           5       0.90      0.95      0.92     17517\n",
      "\n",
      "    accuracy                           0.92     36160\n",
      "   macro avg       0.94      0.92      0.93     36160\n",
      "weighted avg       0.92      0.92      0.92     36160\n",
      "\n"
     ]
    }
   ],
   "source": [
    "y_val_pred = catboost.predict(X_val)\n",
    "print(classification_report(y_val, y_val_pred, target_names=['1', '2', '3', '4', '5']))"
   ]
  },
  {
   "cell_type": "markdown",
   "id": "304b1182",
   "metadata": {
    "papermill": {
     "duration": 0.021768,
     "end_time": "2023-04-15T05:52:00.470541",
     "exception": false,
     "start_time": "2023-04-15T05:52:00.448773",
     "status": "completed"
    },
    "tags": []
   },
   "source": [
    "### XGBoost"
   ]
  },
  {
   "cell_type": "code",
   "execution_count": 49,
   "id": "05643c61",
   "metadata": {
    "execution": {
     "iopub.execute_input": "2023-04-15T05:52:00.516281Z",
     "iopub.status.busy": "2023-04-15T05:52:00.515896Z",
     "iopub.status.idle": "2023-04-15T05:55:11.195799Z",
     "shell.execute_reply": "2023-04-15T05:55:11.194576Z"
    },
    "id": "ot3w4aJ9iBth",
    "papermill": {
     "duration": 190.72821,
     "end_time": "2023-04-15T05:55:11.220571",
     "exception": false,
     "start_time": "2023-04-15T05:52:00.492361",
     "status": "completed"
    },
    "tags": []
   },
   "outputs": [
    {
     "data": {
      "text/plain": [
       "XGBClassifier(base_score=0.5, booster='gbtree', callbacks=None,\n",
       "              colsample_bylevel=1, colsample_bynode=1, colsample_bytree=1,\n",
       "              early_stopping_rounds=None, enable_categorical=False,\n",
       "              eval_metric=None, gamma=0, gpu_id=-1, grow_policy='depthwise',\n",
       "              importance_type=None, interaction_constraints='',\n",
       "              learning_rate=0.300000012, max_bin=256, max_cat_to_onehot=4,\n",
       "              max_delta_step=0, max_depth=6, max_leaves=0, min_child_weight=1,\n",
       "              missing=nan, monotone_constraints='()', n_estimators=100,\n",
       "              n_jobs=0, num_parallel_tree=1, objective='multi:softprob',\n",
       "              predictor='auto', random_state=0, reg_alpha=0, ...)"
      ]
     },
     "execution_count": 49,
     "metadata": {},
     "output_type": "execute_result"
    }
   ],
   "source": [
    "xgboost = XGBClassifier()\n",
    "xgboost.fit(X_train, y_train)"
   ]
  },
  {
   "cell_type": "code",
   "execution_count": 50,
   "id": "c3f6cde8",
   "metadata": {
    "execution": {
     "iopub.execute_input": "2023-04-15T05:55:11.267538Z",
     "iopub.status.busy": "2023-04-15T05:55:11.267145Z",
     "iopub.status.idle": "2023-04-15T05:55:11.736347Z",
     "shell.execute_reply": "2023-04-15T05:55:11.735239Z"
    },
    "id": "VxZfx-MkaWLR",
    "papermill": {
     "duration": 0.496613,
     "end_time": "2023-04-15T05:55:11.738861",
     "exception": false,
     "start_time": "2023-04-15T05:55:11.242248",
     "status": "completed"
    },
    "tags": []
   },
   "outputs": [
    {
     "name": "stdout",
     "output_type": "stream",
     "text": [
      "              precision    recall  f1-score   support\n",
      "\n",
      "           1       0.99      0.99      0.99      4506\n",
      "           2       0.99      0.99      0.99      3184\n",
      "           3       1.00      1.00      1.00      5089\n",
      "           4       0.82      0.70      0.75      5864\n",
      "           5       0.90      0.95      0.93     17517\n",
      "\n",
      "    accuracy                           0.92     36160\n",
      "   macro avg       0.94      0.92      0.93     36160\n",
      "weighted avg       0.92      0.92      0.92     36160\n",
      "\n"
     ]
    }
   ],
   "source": [
    "y_val_pred = xgboost.predict(X_val)\n",
    "print(classification_report(y_val, y_val_pred, target_names=['1', '2', '3', '4', '5']))"
   ]
  },
  {
   "cell_type": "markdown",
   "id": "e2c14a67",
   "metadata": {
    "id": "ijWBOSoF2rz8",
    "papermill": {
     "duration": 0.021254,
     "end_time": "2023-04-15T05:55:11.782166",
     "exception": false,
     "start_time": "2023-04-15T05:55:11.760912",
     "status": "completed"
    },
    "tags": []
   },
   "source": [
    "## CV"
   ]
  },
  {
   "cell_type": "code",
   "execution_count": 51,
   "id": "73b7596c",
   "metadata": {
    "execution": {
     "iopub.execute_input": "2023-04-15T05:55:11.828296Z",
     "iopub.status.busy": "2023-04-15T05:55:11.827532Z",
     "iopub.status.idle": "2023-04-15T05:55:11.932617Z",
     "shell.execute_reply": "2023-04-15T05:55:11.931709Z"
    },
    "id": "DwZyDC0c3Hj3",
    "papermill": {
     "duration": 0.131341,
     "end_time": "2023-04-15T05:55:11.935417",
     "exception": false,
     "start_time": "2023-04-15T05:55:11.804076",
     "status": "completed"
    },
    "tags": []
   },
   "outputs": [],
   "source": [
    "X_cv, _, y_cv, _ = train_test_split(X, y, train_size=0.8, random_state=42, stratify=y)"
   ]
  },
  {
   "cell_type": "markdown",
   "id": "597a787a",
   "metadata": {
    "papermill": {
     "duration": 0.020733,
     "end_time": "2023-04-15T05:55:11.978815",
     "exception": false,
     "start_time": "2023-04-15T05:55:11.958082",
     "status": "completed"
    },
    "tags": []
   },
   "source": [
    "### LightGBM"
   ]
  },
  {
   "cell_type": "code",
   "execution_count": 52,
   "id": "bab16410",
   "metadata": {
    "execution": {
     "iopub.execute_input": "2023-04-15T05:55:12.024729Z",
     "iopub.status.busy": "2023-04-15T05:55:12.024017Z",
     "iopub.status.idle": "2023-04-15T05:55:44.539463Z",
     "shell.execute_reply": "2023-04-15T05:55:44.538417Z"
    },
    "papermill": {
     "duration": 32.541582,
     "end_time": "2023-04-15T05:55:44.542067",
     "exception": false,
     "start_time": "2023-04-15T05:55:12.000485",
     "status": "completed"
    },
    "tags": []
   },
   "outputs": [
    {
     "name": "stderr",
     "output_type": "stream",
     "text": [
      "/opt/conda/lib/python3.7/site-packages/lightgbm/sklearn.py:736: UserWarning: 'verbose' argument is deprecated and will be removed in a future release of LightGBM. Pass 'log_evaluation()' callback via 'callbacks' argument instead.\n",
      "  _log_warning(\"'verbose' argument is deprecated and will be removed in a future release of LightGBM. \"\n",
      "/opt/conda/lib/python3.7/site-packages/lightgbm/sklearn.py:736: UserWarning: 'verbose' argument is deprecated and will be removed in a future release of LightGBM. Pass 'log_evaluation()' callback via 'callbacks' argument instead.\n",
      "  _log_warning(\"'verbose' argument is deprecated and will be removed in a future release of LightGBM. \"\n",
      "/opt/conda/lib/python3.7/site-packages/lightgbm/sklearn.py:736: UserWarning: 'verbose' argument is deprecated and will be removed in a future release of LightGBM. Pass 'log_evaluation()' callback via 'callbacks' argument instead.\n",
      "  _log_warning(\"'verbose' argument is deprecated and will be removed in a future release of LightGBM. \"\n",
      "/opt/conda/lib/python3.7/site-packages/lightgbm/sklearn.py:736: UserWarning: 'verbose' argument is deprecated and will be removed in a future release of LightGBM. Pass 'log_evaluation()' callback via 'callbacks' argument instead.\n",
      "  _log_warning(\"'verbose' argument is deprecated and will be removed in a future release of LightGBM. \"\n",
      "/opt/conda/lib/python3.7/site-packages/lightgbm/sklearn.py:736: UserWarning: 'verbose' argument is deprecated and will be removed in a future release of LightGBM. Pass 'log_evaluation()' callback via 'callbacks' argument instead.\n",
      "  _log_warning(\"'verbose' argument is deprecated and will be removed in a future release of LightGBM. \"\n"
     ]
    }
   ],
   "source": [
    "f1_avg, f1_std = cross_val_multiclass(lgbm, X_cv, y_cv)"
   ]
  },
  {
   "cell_type": "code",
   "execution_count": 53,
   "id": "0dc432d7",
   "metadata": {
    "execution": {
     "iopub.execute_input": "2023-04-15T05:55:44.591017Z",
     "iopub.status.busy": "2023-04-15T05:55:44.590330Z",
     "iopub.status.idle": "2023-04-15T05:55:44.595622Z",
     "shell.execute_reply": "2023-04-15T05:55:44.594475Z"
    },
    "papermill": {
     "duration": 0.031914,
     "end_time": "2023-04-15T05:55:44.597820",
     "exception": false,
     "start_time": "2023-04-15T05:55:44.565906",
     "status": "completed"
    },
    "tags": []
   },
   "outputs": [
    {
     "name": "stdout",
     "output_type": "stream",
     "text": [
      "Avg: 0.9276450347206329, Std: 0.0009867197053731885\n"
     ]
    }
   ],
   "source": [
    "print(f'Avg: {f1_avg}, Std: {f1_std}')"
   ]
  },
  {
   "cell_type": "markdown",
   "id": "baf919ed",
   "metadata": {
    "papermill": {
     "duration": 0.022537,
     "end_time": "2023-04-15T05:55:44.644151",
     "exception": false,
     "start_time": "2023-04-15T05:55:44.621614",
     "status": "completed"
    },
    "tags": []
   },
   "source": [
    "### CatBoost"
   ]
  },
  {
   "cell_type": "code",
   "execution_count": 54,
   "id": "738aab10",
   "metadata": {
    "execution": {
     "iopub.execute_input": "2023-04-15T05:55:44.691967Z",
     "iopub.status.busy": "2023-04-15T05:55:44.691262Z",
     "iopub.status.idle": "2023-04-15T06:00:58.383396Z",
     "shell.execute_reply": "2023-04-15T06:00:58.382223Z"
    },
    "papermill": {
     "duration": 313.719899,
     "end_time": "2023-04-15T06:00:58.386402",
     "exception": false,
     "start_time": "2023-04-15T05:55:44.666503",
     "status": "completed"
    },
    "tags": []
   },
   "outputs": [],
   "source": [
    "f1_avg, f1_std = cross_val_multiclass(catboost, X_cv, y_cv)"
   ]
  },
  {
   "cell_type": "code",
   "execution_count": 55,
   "id": "f2f319f2",
   "metadata": {
    "execution": {
     "iopub.execute_input": "2023-04-15T06:00:58.433545Z",
     "iopub.status.busy": "2023-04-15T06:00:58.433144Z",
     "iopub.status.idle": "2023-04-15T06:00:58.438923Z",
     "shell.execute_reply": "2023-04-15T06:00:58.437509Z"
    },
    "id": "BejHDqPz8H8O",
    "papermill": {
     "duration": 0.031947,
     "end_time": "2023-04-15T06:00:58.441145",
     "exception": false,
     "start_time": "2023-04-15T06:00:58.409198",
     "status": "completed"
    },
    "tags": []
   },
   "outputs": [
    {
     "name": "stdout",
     "output_type": "stream",
     "text": [
      "Avg: 0.9282635631838015, Std: 0.0007893314263700054\n"
     ]
    }
   ],
   "source": [
    "print(f'Avg: {f1_avg}, Std: {f1_std}')"
   ]
  },
  {
   "cell_type": "markdown",
   "id": "deb3e611",
   "metadata": {
    "papermill": {
     "duration": 0.021698,
     "end_time": "2023-04-15T06:00:58.484736",
     "exception": false,
     "start_time": "2023-04-15T06:00:58.463038",
     "status": "completed"
    },
    "tags": []
   },
   "source": [
    "### XGBoost"
   ]
  },
  {
   "cell_type": "code",
   "execution_count": 56,
   "id": "3cbb48c8",
   "metadata": {
    "execution": {
     "iopub.execute_input": "2023-04-15T06:00:58.531453Z",
     "iopub.status.busy": "2023-04-15T06:00:58.531047Z",
     "iopub.status.idle": "2023-04-15T06:17:53.728984Z",
     "shell.execute_reply": "2023-04-15T06:17:53.727418Z"
    },
    "papermill": {
     "duration": 1015.224791,
     "end_time": "2023-04-15T06:17:53.731896",
     "exception": false,
     "start_time": "2023-04-15T06:00:58.507105",
     "status": "completed"
    },
    "tags": []
   },
   "outputs": [],
   "source": [
    "f1_avg, f1_std = cross_val_multiclass(xgboost, X_cv, y_cv)"
   ]
  },
  {
   "cell_type": "code",
   "execution_count": 57,
   "id": "12c28fda",
   "metadata": {
    "execution": {
     "iopub.execute_input": "2023-04-15T06:17:53.850010Z",
     "iopub.status.busy": "2023-04-15T06:17:53.849578Z",
     "iopub.status.idle": "2023-04-15T06:17:53.855262Z",
     "shell.execute_reply": "2023-04-15T06:17:53.854130Z"
    },
    "papermill": {
     "duration": 0.101759,
     "end_time": "2023-04-15T06:17:53.857732",
     "exception": false,
     "start_time": "2023-04-15T06:17:53.755973",
     "status": "completed"
    },
    "tags": []
   },
   "outputs": [
    {
     "name": "stdout",
     "output_type": "stream",
     "text": [
      "Avg: 0.9305196346963852, Std: 0.0004947006298689102\n"
     ]
    }
   ],
   "source": [
    "print(f'Avg: {f1_avg}, Std: {f1_std}')"
   ]
  },
  {
   "cell_type": "markdown",
   "id": "5a499559",
   "metadata": {
    "id": "jdKGtFaT2txY",
    "papermill": {
     "duration": 0.023517,
     "end_time": "2023-04-15T06:17:53.905097",
     "exception": false,
     "start_time": "2023-04-15T06:17:53.881580",
     "status": "completed"
    },
    "tags": []
   },
   "source": [
    "# Prediction"
   ]
  },
  {
   "cell_type": "markdown",
   "id": "759834a7",
   "metadata": {
    "papermill": {
     "duration": 0.022087,
     "end_time": "2023-04-15T06:17:53.950327",
     "exception": false,
     "start_time": "2023-04-15T06:17:53.928240",
     "status": "completed"
    },
    "tags": []
   },
   "source": [
    "## Holdout Test"
   ]
  },
  {
   "cell_type": "code",
   "execution_count": 58,
   "id": "cf5cd539",
   "metadata": {
    "execution": {
     "iopub.execute_input": "2023-04-15T06:17:53.996879Z",
     "iopub.status.busy": "2023-04-15T06:17:53.996475Z",
     "iopub.status.idle": "2023-04-15T06:17:54.467103Z",
     "shell.execute_reply": "2023-04-15T06:17:54.465836Z"
    },
    "papermill": {
     "duration": 0.497129,
     "end_time": "2023-04-15T06:17:54.469700",
     "exception": false,
     "start_time": "2023-04-15T06:17:53.972571",
     "status": "completed"
    },
    "tags": []
   },
   "outputs": [
    {
     "name": "stdout",
     "output_type": "stream",
     "text": [
      "              precision    recall  f1-score   support\n",
      "\n",
      "           1       0.99      1.00      1.00      4506\n",
      "           2       0.99      0.99      0.99      3184\n",
      "           3       1.00      1.00      1.00      5088\n",
      "           4       0.83      0.69      0.75      5865\n",
      "           5       0.90      0.95      0.93     17518\n",
      "\n",
      "    accuracy                           0.93     36161\n",
      "   macro avg       0.94      0.93      0.93     36161\n",
      "weighted avg       0.92      0.93      0.92     36161\n",
      "\n"
     ]
    }
   ],
   "source": [
    "y_val_test = xgboost.predict(X_test)\n",
    "print(classification_report(y_test, y_val_test, target_names=['1', '2', '3', '4', '5']))"
   ]
  },
  {
   "cell_type": "code",
   "execution_count": 59,
   "id": "23166414",
   "metadata": {
    "execution": {
     "iopub.execute_input": "2023-04-15T06:17:54.517484Z",
     "iopub.status.busy": "2023-04-15T06:17:54.517088Z",
     "iopub.status.idle": "2023-04-15T06:17:58.226664Z",
     "shell.execute_reply": "2023-04-15T06:17:58.225433Z"
    },
    "id": "_B3jkW6zBAvk",
    "papermill": {
     "duration": 3.736909,
     "end_time": "2023-04-15T06:17:58.229454",
     "exception": false,
     "start_time": "2023-04-15T06:17:54.492545",
     "status": "completed"
    },
    "tags": []
   },
   "outputs": [],
   "source": [
    "test = pd.read_csv('/kaggle/input/jointsugm/test.csv')\n",
    "test = complete_pipeline_test(test)\n",
    "test_id = test['id']"
   ]
  },
  {
   "cell_type": "code",
   "execution_count": 60,
   "id": "27831c0a",
   "metadata": {
    "execution": {
     "iopub.execute_input": "2023-04-15T06:17:58.276841Z",
     "iopub.status.busy": "2023-04-15T06:17:58.276432Z",
     "iopub.status.idle": "2023-04-15T06:17:58.482948Z",
     "shell.execute_reply": "2023-04-15T06:17:58.481983Z"
    },
    "papermill": {
     "duration": 0.233437,
     "end_time": "2023-04-15T06:17:58.485693",
     "exception": false,
     "start_time": "2023-04-15T06:17:58.252256",
     "status": "completed"
    },
    "tags": []
   },
   "outputs": [
    {
     "name": "stdout",
     "output_type": "stream",
     "text": [
      "<class 'pandas.core.frame.DataFrame'>\n",
      "RangeIndex: 242082 entries, 0 to 242081\n",
      "Data columns (total 24 columns):\n",
      " #   Column                          Non-Null Count   Dtype  \n",
      "---  ------                          --------------   -----  \n",
      " 0   id                              242082 non-null  int64  \n",
      " 1   floors_before_eq (total)        242082 non-null  int64  \n",
      " 2   old_building                    242082 non-null  int64  \n",
      " 3   plinth_area (ft^2)              242082 non-null  float64\n",
      " 4   height_before_eq (ft)           242082 non-null  int64  \n",
      " 5   land_surface_condition          242082 non-null  object \n",
      " 6   type_of_foundation              242082 non-null  object \n",
      " 7   type_of_roof                    242082 non-null  object \n",
      " 8   type_of_ground_floor            242082 non-null  object \n",
      " 9   type_of_other_floor             242082 non-null  object \n",
      " 10  position                        242082 non-null  object \n",
      " 11  building_plan_configuration     242082 non-null  object \n",
      " 12  technical_solution_proposed     242082 non-null  object \n",
      " 13  legal_ownership_status          242082 non-null  object \n",
      " 14  has_secondary_use               242082 non-null  float64\n",
      " 15  type_of_reinforcement_concrete  242082 non-null  object \n",
      " 16  residential_type                242082 non-null  object \n",
      " 17  no_family_residing              242082 non-null  float64\n",
      " 18  public_place_type               242082 non-null  object \n",
      " 19  industrial_use_type             242082 non-null  object \n",
      " 20  govermental_use_type            242082 non-null  object \n",
      " 21  flexible_superstructure         242082 non-null  object \n",
      " 22  wall_binding                    242082 non-null  object \n",
      " 23  wall_material                   242082 non-null  object \n",
      "dtypes: float64(3), int64(4), object(17)\n",
      "memory usage: 44.3+ MB\n"
     ]
    }
   ],
   "source": [
    "test.info()"
   ]
  },
  {
   "cell_type": "code",
   "execution_count": 61,
   "id": "12bd1447",
   "metadata": {
    "execution": {
     "iopub.execute_input": "2023-04-15T06:17:58.535109Z",
     "iopub.status.busy": "2023-04-15T06:17:58.534724Z",
     "iopub.status.idle": "2023-04-15T06:17:58.997568Z",
     "shell.execute_reply": "2023-04-15T06:17:58.996597Z"
    },
    "papermill": {
     "duration": 0.490996,
     "end_time": "2023-04-15T06:17:59.000440",
     "exception": false,
     "start_time": "2023-04-15T06:17:58.509444",
     "status": "completed"
    },
    "tags": []
   },
   "outputs": [],
   "source": [
    "test.drop(['building_plan_configuration', 'legal_ownership_status', 'type_of_reinforcement_concrete',\n",
    "           'residential_type', 'public_place_type', 'industrial_use_type', 'govermental_use_type', 'flexible_superstructure'], axis=1, inplace=True)\n",
    "\n",
    "test['total_building_area (ft^2)'] = test['plinth_area (ft^2)'] * test['height_before_eq (ft)']\n",
    "test['area_to_height_ratio'] = test['plinth_area (ft^2)'] / test['height_before_eq (ft)']\n",
    "test['height per floor (ft)'] = test['height_before_eq (ft)'] / test['floors_before_eq (total)']\n",
    "test['tsp_toof'] = test['technical_solution_proposed'] + '_' + test['type_of_other_floor']\n",
    "\n",
    "test['floor_area_ratio'] = test['total_building_area (ft^2)'] / (test['plinth_area (ft^2)'] * test['floors_before_eq (total)'])\n",
    "\n",
    "test.drop(['plinth_area (ft^2)', 'height_before_eq (ft)'], axis=1, inplace=True)\n",
    "\n",
    "tsp_dict = {\n",
    "    'Reconstruction': 4,\n",
    "    'Major repair': 3,\n",
    "    'Minor repair': 2,\n",
    "    'No need': 1\n",
    "}\n",
    "\n",
    "test['technical_solution_proposed_int'] = test['technical_solution_proposed'].apply(lambda x: tsp_dict[x])\n",
    "\n",
    "test = test[list(train.columns.difference(['damage_grade']))]"
   ]
  },
  {
   "cell_type": "code",
   "execution_count": 62,
   "id": "e6a981b0",
   "metadata": {
    "execution": {
     "iopub.execute_input": "2023-04-15T06:17:59.051687Z",
     "iopub.status.busy": "2023-04-15T06:17:59.051268Z",
     "iopub.status.idle": "2023-04-15T06:18:00.127921Z",
     "shell.execute_reply": "2023-04-15T06:18:00.126849Z"
    },
    "id": "CVDRM9RmEYmT",
    "papermill": {
     "duration": 1.105098,
     "end_time": "2023-04-15T06:18:00.130613",
     "exception": false,
     "start_time": "2023-04-15T06:17:59.025515",
     "status": "completed"
    },
    "tags": []
   },
   "outputs": [],
   "source": [
    "test = preprocessor.transform(test)"
   ]
  },
  {
   "cell_type": "code",
   "execution_count": 63,
   "id": "94bbc19c",
   "metadata": {
    "execution": {
     "iopub.execute_input": "2023-04-15T06:18:00.181532Z",
     "iopub.status.busy": "2023-04-15T06:18:00.181144Z",
     "iopub.status.idle": "2023-04-15T06:25:04.880240Z",
     "shell.execute_reply": "2023-04-15T06:25:04.879332Z"
    },
    "papermill": {
     "duration": 424.727827,
     "end_time": "2023-04-15T06:25:04.882384",
     "exception": false,
     "start_time": "2023-04-15T06:18:00.154557",
     "status": "completed"
    },
    "tags": []
   },
   "outputs": [
    {
     "name": "stderr",
     "output_type": "stream",
     "text": [
      "/opt/conda/lib/python3.7/site-packages/lightgbm/sklearn.py:736: UserWarning: 'verbose' argument is deprecated and will be removed in a future release of LightGBM. Pass 'log_evaluation()' callback via 'callbacks' argument instead.\n",
      "  _log_warning(\"'verbose' argument is deprecated and will be removed in a future release of LightGBM. \"\n"
     ]
    },
    {
     "data": {
      "text/plain": [
       "LGBMClassifier()"
      ]
     },
     "execution_count": 63,
     "metadata": {},
     "output_type": "execute_result"
    }
   ],
   "source": [
    "cb_final = CatBoostClassifier()\n",
    "cb_final.fit(X, y, verbose=0)\n",
    "\n",
    "xg_final = XGBClassifier()\n",
    "xg_final.fit(X, y, verbose=0)\n",
    "\n",
    "lgbm_final = LGBMClassifier()\n",
    "lgbm_final.fit(X, y, verbose=0)"
   ]
  },
  {
   "cell_type": "markdown",
   "id": "afbec95f",
   "metadata": {
    "papermill": {
     "duration": 0.022049,
     "end_time": "2023-04-15T06:25:04.927104",
     "exception": false,
     "start_time": "2023-04-15T06:25:04.905055",
     "status": "completed"
    },
    "tags": []
   },
   "source": [
    "## Solo Model"
   ]
  },
  {
   "cell_type": "markdown",
   "id": "d380e567",
   "metadata": {
    "papermill": {
     "duration": 0.022086,
     "end_time": "2023-04-15T06:25:04.971192",
     "exception": false,
     "start_time": "2023-04-15T06:25:04.949106",
     "status": "completed"
    },
    "tags": []
   },
   "source": [
    "### Hard"
   ]
  },
  {
   "cell_type": "code",
   "execution_count": 64,
   "id": "672bf9ae",
   "metadata": {
    "execution": {
     "iopub.execute_input": "2023-04-15T06:25:05.019223Z",
     "iopub.status.busy": "2023-04-15T06:25:05.018584Z",
     "iopub.status.idle": "2023-04-15T06:25:16.441037Z",
     "shell.execute_reply": "2023-04-15T06:25:16.440208Z"
    },
    "id": "PnUmImCIBMjc",
    "outputId": "7d5d6e03-7cb4-4ac3-fad2-b9c2226caa25",
    "papermill": {
     "duration": 11.449351,
     "end_time": "2023-04-15T06:25:16.443375",
     "exception": false,
     "start_time": "2023-04-15T06:25:04.994024",
     "status": "completed"
    },
    "tags": []
   },
   "outputs": [
    {
     "data": {
      "text/html": [
       "<div>\n",
       "<style scoped>\n",
       "    .dataframe tbody tr th:only-of-type {\n",
       "        vertical-align: middle;\n",
       "    }\n",
       "\n",
       "    .dataframe tbody tr th {\n",
       "        vertical-align: top;\n",
       "    }\n",
       "\n",
       "    .dataframe thead th {\n",
       "        text-align: right;\n",
       "    }\n",
       "</style>\n",
       "<table border=\"1\" class=\"dataframe\">\n",
       "  <thead>\n",
       "    <tr style=\"text-align: right;\">\n",
       "      <th></th>\n",
       "      <th>id</th>\n",
       "      <th>damage_grade_xg</th>\n",
       "      <th>damage_grade_cb</th>\n",
       "      <th>damage_grade_lg</th>\n",
       "    </tr>\n",
       "  </thead>\n",
       "  <tbody>\n",
       "    <tr>\n",
       "      <th>0</th>\n",
       "      <td>0</td>\n",
       "      <td>5</td>\n",
       "      <td>5</td>\n",
       "      <td>5</td>\n",
       "    </tr>\n",
       "    <tr>\n",
       "      <th>1</th>\n",
       "      <td>1</td>\n",
       "      <td>5</td>\n",
       "      <td>5</td>\n",
       "      <td>5</td>\n",
       "    </tr>\n",
       "    <tr>\n",
       "      <th>2</th>\n",
       "      <td>2</td>\n",
       "      <td>5</td>\n",
       "      <td>5</td>\n",
       "      <td>5</td>\n",
       "    </tr>\n",
       "    <tr>\n",
       "      <th>3</th>\n",
       "      <td>3</td>\n",
       "      <td>4</td>\n",
       "      <td>4</td>\n",
       "      <td>4</td>\n",
       "    </tr>\n",
       "    <tr>\n",
       "      <th>4</th>\n",
       "      <td>4</td>\n",
       "      <td>2</td>\n",
       "      <td>2</td>\n",
       "      <td>2</td>\n",
       "    </tr>\n",
       "  </tbody>\n",
       "</table>\n",
       "</div>"
      ],
      "text/plain": [
       "   id  damage_grade_xg  damage_grade_cb  damage_grade_lg\n",
       "0   0                5                5                5\n",
       "1   1                5                5                5\n",
       "2   2                5                5                5\n",
       "3   3                4                4                4\n",
       "4   4                2                2                2"
      ]
     },
     "execution_count": 64,
     "metadata": {},
     "output_type": "execute_result"
    }
   ],
   "source": [
    "pred_test_cb = cb_final.predict(test)\n",
    "pred_test_xg = xg_final.predict(test)\n",
    "pred_test_lg = lgbm_final.predict(test)\n",
    "sub = pd.DataFrame({\n",
    "    'id': test_id,\n",
    "    'damage_grade_xg': pred_test_xg.ravel(),\n",
    "    'damage_grade_cb': pred_test_cb.ravel(),\n",
    "    'damage_grade_lg': pred_test_lg.ravel()\n",
    "})\n",
    "\n",
    "sub['damage_grade_xg'] = sub['damage_grade_xg'].apply(lambda x: x+1)\n",
    "sub['damage_grade_cb'] = sub['damage_grade_cb'].apply(lambda x: x+1)\n",
    "sub['damage_grade_lg'] = sub['damage_grade_lg'].apply(lambda x: x+1)\n",
    "\n",
    "sub.head(5)"
   ]
  },
  {
   "cell_type": "code",
   "execution_count": 65,
   "id": "46c6a04a",
   "metadata": {
    "execution": {
     "iopub.execute_input": "2023-04-15T06:25:16.490533Z",
     "iopub.status.busy": "2023-04-15T06:25:16.489959Z",
     "iopub.status.idle": "2023-04-15T06:25:16.498920Z",
     "shell.execute_reply": "2023-04-15T06:25:16.498180Z"
    },
    "papermill": {
     "duration": 0.034802,
     "end_time": "2023-04-15T06:25:16.501294",
     "exception": false,
     "start_time": "2023-04-15T06:25:16.466492",
     "status": "completed"
    },
    "tags": []
   },
   "outputs": [
    {
     "data": {
      "text/plain": [
       "5    110986\n",
       "3     41094\n",
       "4     38366\n",
       "2     32463\n",
       "1     19173\n",
       "Name: damage_grade_xg, dtype: int64"
      ]
     },
     "execution_count": 65,
     "metadata": {},
     "output_type": "execute_result"
    }
   ],
   "source": [
    "sub['damage_grade_xg'].value_counts()"
   ]
  },
  {
   "cell_type": "code",
   "execution_count": 66,
   "id": "8523b9ca",
   "metadata": {
    "execution": {
     "iopub.execute_input": "2023-04-15T06:25:16.548931Z",
     "iopub.status.busy": "2023-04-15T06:25:16.548527Z",
     "iopub.status.idle": "2023-04-15T06:25:16.784064Z",
     "shell.execute_reply": "2023-04-15T06:25:16.783012Z"
    },
    "papermill": {
     "duration": 0.262653,
     "end_time": "2023-04-15T06:25:16.786613",
     "exception": false,
     "start_time": "2023-04-15T06:25:16.523960",
     "status": "completed"
    },
    "tags": []
   },
   "outputs": [],
   "source": [
    "sub[['id', 'damage_grade_xg']].rename(columns={'damage_grade_xg': 'damage_grade'}).to_csv('latest_pipe_xg.csv', index=False)"
   ]
  },
  {
   "cell_type": "code",
   "execution_count": 67,
   "id": "7bfb479d",
   "metadata": {
    "execution": {
     "iopub.execute_input": "2023-04-15T06:25:16.837151Z",
     "iopub.status.busy": "2023-04-15T06:25:16.836517Z",
     "iopub.status.idle": "2023-04-15T06:25:16.845618Z",
     "shell.execute_reply": "2023-04-15T06:25:16.844664Z"
    },
    "papermill": {
     "duration": 0.036453,
     "end_time": "2023-04-15T06:25:16.847831",
     "exception": false,
     "start_time": "2023-04-15T06:25:16.811378",
     "status": "completed"
    },
    "tags": []
   },
   "outputs": [
    {
     "data": {
      "text/plain": [
       "5    110460\n",
       "3     41101\n",
       "4     38895\n",
       "2     32461\n",
       "1     19165\n",
       "Name: damage_grade_cb, dtype: int64"
      ]
     },
     "execution_count": 67,
     "metadata": {},
     "output_type": "execute_result"
    }
   ],
   "source": [
    "sub['damage_grade_cb'].value_counts()"
   ]
  },
  {
   "cell_type": "code",
   "execution_count": 68,
   "id": "7d7b810d",
   "metadata": {
    "execution": {
     "iopub.execute_input": "2023-04-15T06:25:16.898611Z",
     "iopub.status.busy": "2023-04-15T06:25:16.897925Z",
     "iopub.status.idle": "2023-04-15T06:25:17.126777Z",
     "shell.execute_reply": "2023-04-15T06:25:17.125924Z"
    },
    "papermill": {
     "duration": 0.256858,
     "end_time": "2023-04-15T06:25:17.129257",
     "exception": false,
     "start_time": "2023-04-15T06:25:16.872399",
     "status": "completed"
    },
    "tags": []
   },
   "outputs": [],
   "source": [
    "sub[['id', 'damage_grade_cb']].rename(columns={'damage_grade_cb': 'damage_grade'}).to_csv('latest_pipe_cb.csv', index=False)"
   ]
  },
  {
   "cell_type": "code",
   "execution_count": 69,
   "id": "b8ed6e95",
   "metadata": {
    "execution": {
     "iopub.execute_input": "2023-04-15T06:25:17.177164Z",
     "iopub.status.busy": "2023-04-15T06:25:17.176527Z",
     "iopub.status.idle": "2023-04-15T06:25:17.185377Z",
     "shell.execute_reply": "2023-04-15T06:25:17.184418Z"
    },
    "papermill": {
     "duration": 0.034823,
     "end_time": "2023-04-15T06:25:17.187370",
     "exception": false,
     "start_time": "2023-04-15T06:25:17.152547",
     "status": "completed"
    },
    "tags": []
   },
   "outputs": [
    {
     "data": {
      "text/plain": [
       "5    110997\n",
       "3     41094\n",
       "4     38356\n",
       "2     32514\n",
       "1     19121\n",
       "Name: damage_grade_lg, dtype: int64"
      ]
     },
     "execution_count": 69,
     "metadata": {},
     "output_type": "execute_result"
    }
   ],
   "source": [
    "sub['damage_grade_lg'].value_counts()"
   ]
  },
  {
   "cell_type": "code",
   "execution_count": 70,
   "id": "b6a67b21",
   "metadata": {
    "execution": {
     "iopub.execute_input": "2023-04-15T06:25:17.235166Z",
     "iopub.status.busy": "2023-04-15T06:25:17.234546Z",
     "iopub.status.idle": "2023-04-15T06:25:17.478826Z",
     "shell.execute_reply": "2023-04-15T06:25:17.477982Z"
    },
    "papermill": {
     "duration": 0.271382,
     "end_time": "2023-04-15T06:25:17.481235",
     "exception": false,
     "start_time": "2023-04-15T06:25:17.209853",
     "status": "completed"
    },
    "tags": []
   },
   "outputs": [],
   "source": [
    "sub[['id', 'damage_grade_lg']].rename(columns={'damage_grade_lg': 'damage_grade'}).to_csv('latest_pipe_lg.csv', index=False)"
   ]
  },
  {
   "cell_type": "markdown",
   "id": "8bf5b64c",
   "metadata": {
    "papermill": {
     "duration": 0.022719,
     "end_time": "2023-04-15T06:25:17.527060",
     "exception": false,
     "start_time": "2023-04-15T06:25:17.504341",
     "status": "completed"
    },
    "tags": []
   },
   "source": [
    "### Prob"
   ]
  },
  {
   "cell_type": "code",
   "execution_count": 71,
   "id": "ec3ae01f",
   "metadata": {
    "execution": {
     "iopub.execute_input": "2023-04-15T06:25:17.574063Z",
     "iopub.status.busy": "2023-04-15T06:25:17.573619Z",
     "iopub.status.idle": "2023-04-15T06:25:30.173807Z",
     "shell.execute_reply": "2023-04-15T06:25:30.172788Z"
    },
    "papermill": {
     "duration": 12.626461,
     "end_time": "2023-04-15T06:25:30.176700",
     "exception": false,
     "start_time": "2023-04-15T06:25:17.550239",
     "status": "completed"
    },
    "tags": []
   },
   "outputs": [],
   "source": [
    "pred_proba_cb = cb_final.predict_proba(test)\n",
    "pred_proba_xg = xg_final.predict_proba(test)\n",
    "pred_proba_lg = lgbm_final.predict_proba(test)\n",
    "threshold = 0.70 # set threshold for probability of class 5\n",
    "sub = pd.DataFrame({\n",
    "    'id': test_id,\n",
    "    'pred_proba_cb': [4 if pred[4] <= threshold and pred.argmax() + 1 == 5 else pred.argmax() + 1 for pred in pred_proba_cb],\n",
    "    'pred_proba_xg': [4 if pred[4] <= threshold and pred.argmax() + 1 == 5 else pred.argmax() + 1 for pred in pred_proba_xg],\n",
    "    'pred_proba_lg': [4 if pred[4] <= threshold and pred.argmax() + 1 == 5 else pred.argmax() + 1 for pred in pred_proba_lg]\n",
    "})"
   ]
  },
  {
   "cell_type": "code",
   "execution_count": 72,
   "id": "54580500",
   "metadata": {
    "execution": {
     "iopub.execute_input": "2023-04-15T06:25:30.225492Z",
     "iopub.status.busy": "2023-04-15T06:25:30.225063Z",
     "iopub.status.idle": "2023-04-15T06:25:30.238949Z",
     "shell.execute_reply": "2023-04-15T06:25:30.237866Z"
    },
    "papermill": {
     "duration": 0.04093,
     "end_time": "2023-04-15T06:25:30.241206",
     "exception": false,
     "start_time": "2023-04-15T06:25:30.200276",
     "status": "completed"
    },
    "tags": []
   },
   "outputs": [
    {
     "data": {
      "text/plain": [
       "5    96140\n",
       "4    53212\n",
       "3    41094\n",
       "2    32463\n",
       "1    19173\n",
       "Name: pred_proba_xg, dtype: int64"
      ]
     },
     "execution_count": 72,
     "metadata": {},
     "output_type": "execute_result"
    }
   ],
   "source": [
    "sub['pred_proba_xg'].value_counts()"
   ]
  },
  {
   "cell_type": "code",
   "execution_count": 73,
   "id": "cbcecff7",
   "metadata": {
    "execution": {
     "iopub.execute_input": "2023-04-15T06:25:30.289748Z",
     "iopub.status.busy": "2023-04-15T06:25:30.289297Z",
     "iopub.status.idle": "2023-04-15T06:25:30.526028Z",
     "shell.execute_reply": "2023-04-15T06:25:30.524769Z"
    },
    "papermill": {
     "duration": 0.264796,
     "end_time": "2023-04-15T06:25:30.529144",
     "exception": false,
     "start_time": "2023-04-15T06:25:30.264348",
     "status": "completed"
    },
    "tags": []
   },
   "outputs": [],
   "source": [
    "sub[['id', 'pred_proba_xg']].rename(columns={'pred_proba_xg': 'damage_grade'}).to_csv('thresh_pipe_xg.csv', index=False)"
   ]
  },
  {
   "cell_type": "code",
   "execution_count": 74,
   "id": "d9c6fc73",
   "metadata": {
    "execution": {
     "iopub.execute_input": "2023-04-15T06:25:30.578316Z",
     "iopub.status.busy": "2023-04-15T06:25:30.577904Z",
     "iopub.status.idle": "2023-04-15T06:25:30.589127Z",
     "shell.execute_reply": "2023-04-15T06:25:30.587968Z"
    },
    "papermill": {
     "duration": 0.03845,
     "end_time": "2023-04-15T06:25:30.591521",
     "exception": false,
     "start_time": "2023-04-15T06:25:30.553071",
     "status": "completed"
    },
    "tags": []
   },
   "outputs": [
    {
     "data": {
      "text/plain": [
       "5    96518\n",
       "4    52837\n",
       "3    41101\n",
       "2    32461\n",
       "1    19165\n",
       "Name: pred_proba_cb, dtype: int64"
      ]
     },
     "execution_count": 74,
     "metadata": {},
     "output_type": "execute_result"
    }
   ],
   "source": [
    "sub['pred_proba_cb'].value_counts()"
   ]
  },
  {
   "cell_type": "code",
   "execution_count": 75,
   "id": "0aa12c00",
   "metadata": {
    "execution": {
     "iopub.execute_input": "2023-04-15T06:25:30.641046Z",
     "iopub.status.busy": "2023-04-15T06:25:30.640649Z",
     "iopub.status.idle": "2023-04-15T06:25:30.874538Z",
     "shell.execute_reply": "2023-04-15T06:25:30.873341Z"
    },
    "papermill": {
     "duration": 0.261948,
     "end_time": "2023-04-15T06:25:30.877475",
     "exception": false,
     "start_time": "2023-04-15T06:25:30.615527",
     "status": "completed"
    },
    "tags": []
   },
   "outputs": [],
   "source": [
    "sub[['id', 'pred_proba_cb']].rename(columns={'pred_proba_cb': 'damage_grade'}).to_csv('thresh_pipe_cb.csv', index=False)"
   ]
  },
  {
   "cell_type": "code",
   "execution_count": 76,
   "id": "0b8379cf",
   "metadata": {
    "execution": {
     "iopub.execute_input": "2023-04-15T06:25:30.927141Z",
     "iopub.status.busy": "2023-04-15T06:25:30.926644Z",
     "iopub.status.idle": "2023-04-15T06:25:30.937342Z",
     "shell.execute_reply": "2023-04-15T06:25:30.936269Z"
    },
    "papermill": {
     "duration": 0.03797,
     "end_time": "2023-04-15T06:25:30.939564",
     "exception": false,
     "start_time": "2023-04-15T06:25:30.901594",
     "status": "completed"
    },
    "tags": []
   },
   "outputs": [
    {
     "data": {
      "text/plain": [
       "5    95206\n",
       "4    54147\n",
       "3    41094\n",
       "2    32514\n",
       "1    19121\n",
       "Name: pred_proba_lg, dtype: int64"
      ]
     },
     "execution_count": 76,
     "metadata": {},
     "output_type": "execute_result"
    }
   ],
   "source": [
    "sub['pred_proba_lg'].value_counts()"
   ]
  },
  {
   "cell_type": "code",
   "execution_count": 77,
   "id": "070f7d69",
   "metadata": {
    "execution": {
     "iopub.execute_input": "2023-04-15T06:25:30.988575Z",
     "iopub.status.busy": "2023-04-15T06:25:30.988183Z",
     "iopub.status.idle": "2023-04-15T06:25:31.217038Z",
     "shell.execute_reply": "2023-04-15T06:25:31.215860Z"
    },
    "papermill": {
     "duration": 0.256024,
     "end_time": "2023-04-15T06:25:31.219575",
     "exception": false,
     "start_time": "2023-04-15T06:25:30.963551",
     "status": "completed"
    },
    "tags": []
   },
   "outputs": [],
   "source": [
    "sub[['id', 'pred_proba_lg']].rename(columns={'pred_proba_lg': 'damage_grade'}).to_csv('thresh_pipe_lg.csv', index=False)"
   ]
  },
  {
   "cell_type": "code",
   "execution_count": null,
   "id": "e06ba7fa",
   "metadata": {
    "papermill": {
     "duration": 0.022738,
     "end_time": "2023-04-15T06:25:31.264970",
     "exception": false,
     "start_time": "2023-04-15T06:25:31.242232",
     "status": "completed"
    },
    "tags": []
   },
   "outputs": [],
   "source": []
  }
 ],
 "metadata": {
  "kernelspec": {
   "display_name": "Python 3",
   "language": "python",
   "name": "python3"
  },
  "language_info": {
   "codemirror_mode": {
    "name": "ipython",
    "version": 3
   },
   "file_extension": ".py",
   "mimetype": "text/x-python",
   "name": "python",
   "nbconvert_exporter": "python",
   "pygments_lexer": "ipython3",
   "version": "3.7.12"
  },
  "papermill": {
   "default_parameters": {},
   "duration": 2539.598496,
   "end_time": "2023-04-15T06:25:34.698011",
   "environment_variables": {},
   "exception": null,
   "input_path": "__notebook__.ipynb",
   "output_path": "__notebook__.ipynb",
   "parameters": {},
   "start_time": "2023-04-15T05:43:15.099515",
   "version": "2.4.0"
  }
 },
 "nbformat": 4,
 "nbformat_minor": 5
}
