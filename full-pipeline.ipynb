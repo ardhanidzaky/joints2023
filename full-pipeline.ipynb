{
 "cells": [
  {
   "cell_type": "code",
   "execution_count": 1,
   "id": "ff270503",
   "metadata": {
    "execution": {
     "iopub.execute_input": "2023-04-16T07:30:58.979046Z",
     "iopub.status.busy": "2023-04-16T07:30:58.978196Z",
     "iopub.status.idle": "2023-04-16T07:31:22.668007Z",
     "shell.execute_reply": "2023-04-16T07:31:22.666718Z"
    },
    "id": "ZHzLtKjvf1qd",
    "outputId": "a5224770-6014-467d-cd0e-914dd65592a4",
    "papermill": {
     "duration": 23.716513,
     "end_time": "2023-04-16T07:31:22.671001",
     "exception": false,
     "start_time": "2023-04-16T07:30:58.954488",
     "status": "completed"
    },
    "tags": []
   },
   "outputs": [
    {
     "name": "stdout",
     "output_type": "stream",
     "text": [
      "\u001b[33mWARNING: Running pip as the 'root' user can result in broken permissions and conflicting behaviour with the system package manager. It is recommended to use a virtual environment instead: https://pip.pypa.io/warnings/venv\u001b[0m\u001b[33m\r\n",
      "\u001b[0m\u001b[33mWARNING: Running pip as the 'root' user can result in broken permissions and conflicting behaviour with the system package manager. It is recommended to use a virtual environment instead: https://pip.pypa.io/warnings/venv\u001b[0m\u001b[33m\r\n",
      "\u001b[0m"
     ]
    }
   ],
   "source": [
    "!pip install --q catboost\n",
    "!pip install --q cleanlab"
   ]
  },
  {
   "cell_type": "code",
   "execution_count": 2,
   "id": "6a0e8565",
   "metadata": {
    "execution": {
     "iopub.execute_input": "2023-04-16T07:31:22.716589Z",
     "iopub.status.busy": "2023-04-16T07:31:22.715667Z",
     "iopub.status.idle": "2023-04-16T07:31:25.913541Z",
     "shell.execute_reply": "2023-04-16T07:31:25.912240Z"
    },
    "id": "13I1WOMxdtnp",
    "papermill": {
     "duration": 3.224697,
     "end_time": "2023-04-16T07:31:25.916545",
     "exception": false,
     "start_time": "2023-04-16T07:31:22.691848",
     "status": "completed"
    },
    "tags": []
   },
   "outputs": [
    {
     "data": {
      "text/html": [
       "<style type='text/css'>\n",
       ".datatable table.frame { margin-bottom: 0; }\n",
       ".datatable table.frame thead { border-bottom: none; }\n",
       ".datatable table.frame tr.coltypes td {  color: #FFFFFF;  line-height: 6px;  padding: 0 0.5em;}\n",
       ".datatable .bool    { background: #DDDD99; }\n",
       ".datatable .object  { background: #565656; }\n",
       ".datatable .int     { background: #5D9E5D; }\n",
       ".datatable .float   { background: #4040CC; }\n",
       ".datatable .str     { background: #CC4040; }\n",
       ".datatable .time    { background: #40CC40; }\n",
       ".datatable .row_index {  background: var(--jp-border-color3);  border-right: 1px solid var(--jp-border-color0);  color: var(--jp-ui-font-color3);  font-size: 9px;}\n",
       ".datatable .frame tbody td { text-align: left; }\n",
       ".datatable .frame tr.coltypes .row_index {  background: var(--jp-border-color0);}\n",
       ".datatable th:nth-child(2) { padding-left: 12px; }\n",
       ".datatable .hellipsis {  color: var(--jp-cell-editor-border-color);}\n",
       ".datatable .vellipsis {  background: var(--jp-layout-color0);  color: var(--jp-cell-editor-border-color);}\n",
       ".datatable .na {  color: var(--jp-cell-editor-border-color);  font-size: 80%;}\n",
       ".datatable .sp {  opacity: 0.25;}\n",
       ".datatable .footer { font-size: 9px; }\n",
       ".datatable .frame_dimensions {  background: var(--jp-border-color3);  border-top: 1px solid var(--jp-border-color0);  color: var(--jp-ui-font-color3);  display: inline-block;  opacity: 0.6;  padding: 1px 10px 1px 5px;}\n",
       "</style>\n"
      ],
      "text/plain": [
       "<IPython.core.display.HTML object>"
      ]
     },
     "metadata": {},
     "output_type": "display_data"
    }
   ],
   "source": [
    "import pandas as pd\n",
    "import seaborn as sns\n",
    "import matplotlib.pyplot as plt\n",
    "import numpy as np\n",
    "import cleanlab\n",
    "import re\n",
    "\n",
    "from catboost import CatBoostClassifier\n",
    "from xgboost import XGBClassifier\n",
    "from lightgbm import LGBMClassifier\n",
    "\n",
    "from sklearn.linear_model import LogisticRegression\n",
    "from sklearn.model_selection import train_test_split, StratifiedKFold, cross_val_predict, KFold\n",
    "from sklearn.preprocessing import StandardScaler, OneHotEncoder, LabelEncoder\n",
    "from sklearn.compose import ColumnTransformer\n",
    "from sklearn.metrics import accuracy_score, recall_score, precision_score, f1_score, classification_report"
   ]
  },
  {
   "cell_type": "code",
   "execution_count": 3,
   "id": "a64336b4",
   "metadata": {
    "execution": {
     "iopub.execute_input": "2023-04-16T07:31:25.960432Z",
     "iopub.status.busy": "2023-04-16T07:31:25.959709Z",
     "iopub.status.idle": "2023-04-16T07:31:25.964885Z",
     "shell.execute_reply": "2023-04-16T07:31:25.964003Z"
    },
    "papermill": {
     "duration": 0.029765,
     "end_time": "2023-04-16T07:31:25.967119",
     "exception": false,
     "start_time": "2023-04-16T07:31:25.937354",
     "status": "completed"
    },
    "tags": []
   },
   "outputs": [],
   "source": [
    "pd.options.mode.chained_assignment = None"
   ]
  },
  {
   "cell_type": "markdown",
   "id": "5e00f67c",
   "metadata": {
    "id": "RiwTOwsKeqMu",
    "papermill": {
     "duration": 0.020201,
     "end_time": "2023-04-16T07:31:26.008328",
     "exception": false,
     "start_time": "2023-04-16T07:31:25.988127",
     "status": "completed"
    },
    "tags": []
   },
   "source": [
    "# Constants"
   ]
  },
  {
   "cell_type": "code",
   "execution_count": 4,
   "id": "01706018",
   "metadata": {
    "execution": {
     "iopub.execute_input": "2023-04-16T07:31:26.052353Z",
     "iopub.status.busy": "2023-04-16T07:31:26.051284Z",
     "iopub.status.idle": "2023-04-16T07:31:26.057137Z",
     "shell.execute_reply": "2023-04-16T07:31:26.056256Z"
    },
    "id": "dg8O0ApberfB",
    "papermill": {
     "duration": 0.030353,
     "end_time": "2023-04-16T07:31:26.059263",
     "exception": false,
     "start_time": "2023-04-16T07:31:26.028910",
     "status": "completed"
    },
    "tags": []
   },
   "outputs": [],
   "source": [
    "wb_mapping = {\n",
    "    0: 'Unknown/not stated',\n",
    "    1: 'Clay',\n",
    "    2: 'Mortar + Cement',\n",
    "    3: 'Mortar + Cement, Clay',\n",
    "    5: 'Mud + Mortar, Clay',\n",
    "    7: 'Mud + Mortar, Clay, Cement + Mortar'\n",
    "}\n",
    "\n",
    "wm_mapping = {\n",
    "    0: 'Unknown/not stated',\n",
    "    1: 'Red Bricks',\n",
    "    2: 'Stone Bricks',\n",
    "    3: 'Red Bricks, Stone Bricks'\n",
    "}"
   ]
  },
  {
   "cell_type": "markdown",
   "id": "34868420",
   "metadata": {
    "id": "oAZIPuR4dcwN",
    "papermill": {
     "duration": 0.021596,
     "end_time": "2023-04-16T07:31:26.101767",
     "exception": false,
     "start_time": "2023-04-16T07:31:26.080171",
     "status": "completed"
    },
    "tags": []
   },
   "source": [
    "# Pre-defined Function (Basic pre-processing)"
   ]
  },
  {
   "cell_type": "code",
   "execution_count": 5,
   "id": "1804fb94",
   "metadata": {
    "cellView": "form",
    "execution": {
     "iopub.execute_input": "2023-04-16T07:31:26.145608Z",
     "iopub.status.busy": "2023-04-16T07:31:26.144862Z",
     "iopub.status.idle": "2023-04-16T07:31:26.153297Z",
     "shell.execute_reply": "2023-04-16T07:31:26.152197Z"
    },
    "id": "DVsfP0ZmdZPG",
    "papermill": {
     "duration": 0.032944,
     "end_time": "2023-04-16T07:31:26.155629",
     "exception": false,
     "start_time": "2023-04-16T07:31:26.122685",
     "status": "completed"
    },
    "tags": []
   },
   "outputs": [],
   "source": [
    "#@title extract_num_floors\n",
    "def extract_num_floors(floor):\n",
    "    \"\"\"\n",
    "    This function extracts the number of floors from the 'floors_before_eq' column\n",
    "    and converts it to an integer. If the value is missing or cannot be converted\n",
    "    to an integer, it returns None.\n",
    "\n",
    "    Arguments:\n",
    "    - floor: The value in the 'floors_before_eq' column for a particular building\n",
    "\n",
    "    Returns:\n",
    "    - An integer representing the number of floors for the given building, or None\n",
    "      if the value is missing or cannot be converted to an integer.\n",
    "    \"\"\"\n",
    "    import re\n",
    "\n",
    "    if floor is None:\n",
    "        return None\n",
    "    else:\n",
    "        floor = str(floor)\n",
    "        floor = floor.lower()\n",
    "        if 'one' in floor or 'first' in floor or 'ground' in floor:\n",
    "            return 1\n",
    "        elif 'two' in floor or 'second' in floor:\n",
    "            return 2\n",
    "        elif 'three' in floor or 'third' in floor:\n",
    "            return 3\n",
    "        elif 'four' in floor or 'fourth' in floor:\n",
    "            return 4\n",
    "        elif 'five' in floor or 'fifth' in floor:\n",
    "            return 5\n",
    "        else:\n",
    "            floor = re.findall(r'\\d+', floor)\n",
    "            if len(floor) > 0:\n",
    "                return int(floor[0])\n",
    "            else:\n",
    "                return None"
   ]
  },
  {
   "cell_type": "code",
   "execution_count": 6,
   "id": "468f03bc",
   "metadata": {
    "cellView": "form",
    "execution": {
     "iopub.execute_input": "2023-04-16T07:31:26.199041Z",
     "iopub.status.busy": "2023-04-16T07:31:26.198417Z",
     "iopub.status.idle": "2023-04-16T07:31:26.212928Z",
     "shell.execute_reply": "2023-04-16T07:31:26.211945Z"
    },
    "id": "ZXQSL2wbXpRl",
    "papermill": {
     "duration": 0.039199,
     "end_time": "2023-04-16T07:31:26.215405",
     "exception": false,
     "start_time": "2023-04-16T07:31:26.176206",
     "status": "completed"
    },
    "tags": []
   },
   "outputs": [],
   "source": [
    "#@title standardize_value\n",
    "def standardize_value(data):\n",
    "    \"\"\"\n",
    "    This function takes a pandas dataframe as input and returns a new pandas dataframe\n",
    "    where all the categorical values are standardized. For example, if 'RCC' and 'RC' \n",
    "    are used interchangeably in the 'foundation_type' column, this function will standardize \n",
    "    all the 'RCC' values to 'RC' to avoid any inconsistencies.\n",
    "    \"\"\"\n",
    "\n",
    "    # type_of_foundation\n",
    "    data['type_of_foundation'] = data['type_of_foundation'].replace('RC', 'Reinforced Concrete')\n",
    "    data['type_of_foundation'] = data['type_of_foundation'].replace(['Bamboo/TImber', 'Bamboo or Timber', 'Bamboo/Timber'], 'Bamboo/Timber')\n",
    "    data['type_of_foundation'] = data['type_of_foundation'].replace(['Other', 'Others'], 'Other')\n",
    "    data['type_of_foundation'] = data['type_of_foundation'].replace(['Cement-Stone/Brick', 'Cement-Stone or Cement-Brick'], 'Cement-Stone/Brick')\n",
    "    \n",
    "    # type_of_roof\n",
    "    data['type_of_roof'] = data['type_of_roof'].replace(['Bamboo/Timber Light roof', 'Bamboo/TImber-Light Roof', 'Bamboo or Timber Light roof'], 'Bamboo/Timber Light roof')\n",
    "    data['type_of_roof'] = data['type_of_roof'].replace(['Bamboo/Timber Heavy roof ', 'Bamboo/TImber-Heavy Roof', 'Bamboo or Timber Heavy roof'], 'Bamboo/Timber Heavy roof')\n",
    "    data['type_of_roof'] = data['type_of_roof'].replace(['reinforced cement concrete/rb/rbc', 'rcc/rb/rbc', 'Reinforced Brick Slab/rcc/rbc', 'Reinforced brick concrete/rcc/rbc'], 'rcc/rb/rbc')\n",
    "    \n",
    "    # type_of_ground_floor\n",
    "    data['type_of_ground_floor'] = data['type_of_ground_floor'].replace(['mud', 'Mud'], 'Mud')\n",
    "    data['type_of_ground_floor'] = data['type_of_ground_floor'].replace(['reinforced concrete', 'Reinforced Concrete', 'RC'], 'Reinforced Concrete ')\n",
    "    data['type_of_ground_floor'] = data['type_of_ground_floor'].replace(['Brick/Stone', 'brick/stone', 'Brick or Stone'], 'Brick/Stone')\n",
    "    data['type_of_ground_floor'] = data['type_of_ground_floor'].replace(['TImber', 'Timber', 'Wood', 'Lumber'], 'Wood')\n",
    "\n",
    "    # type_of_other_floor\n",
    "    data['type_of_other_floor'] = data['type_of_other_floor'].replace(['TImber/Bamboo-Mud', 'Timber Mud or Bamboo-Mud', 'Wood or Bamboo Mud'], 'Wood or Bamboo Mud')\n",
    "    data['type_of_other_floor'] = data['type_of_other_floor'].replace(['Timber-Planck', 'Lumber-plank', 'Wood-Plank'], 'Wood-Plank')\n",
    "    data['type_of_other_floor'] = data['type_of_other_floor'].replace(['rcc/rb/rbc', 'reinforced cement concrete/rb/rbc', 'Reinforced brick concrete/rcc/rbc'], 'rcc/rb/rbc')\n",
    "    data['type_of_other_floor'] = data['type_of_other_floor'].replace(['Wood or Bamboo Mud', 'Wood-Mud or Bamboo Mud'], 'Wood-Mud or Bamboo Mud ')\n",
    "\n",
    "    # legal_ownership_status\n",
    "    data['legal_ownership_status'] = data['legal_ownership_status'].replace(['Private', 'Private Use', 'Prvt', 'Privste'], 'Private')\n",
    "    data['legal_ownership_status'] = data['legal_ownership_status'].replace(['Public', 'Public Use', 'Public Space'], 'Public')\n",
    "    data['legal_ownership_status'] = data['legal_ownership_status'].replace(['Institutional', 'Institutional Use', 'Institutionals'], 'Institutional')\n",
    "    data['legal_ownership_status'] = data['legal_ownership_status'].replace(['Other', 'Unknown', 'Unspecified'], 'Other')\n",
    "\n",
    "    return data"
   ]
  },
  {
   "cell_type": "code",
   "execution_count": 7,
   "id": "9d52d30e",
   "metadata": {
    "cellView": "form",
    "execution": {
     "iopub.execute_input": "2023-04-16T07:31:26.258436Z",
     "iopub.status.busy": "2023-04-16T07:31:26.257545Z",
     "iopub.status.idle": "2023-04-16T07:31:26.268933Z",
     "shell.execute_reply": "2023-04-16T07:31:26.267618Z"
    },
    "id": "ZHaRyzPnvA85",
    "papermill": {
     "duration": 0.03596,
     "end_time": "2023-04-16T07:31:26.271665",
     "exception": false,
     "start_time": "2023-04-16T07:31:26.235705",
     "status": "completed"
    },
    "tags": []
   },
   "outputs": [],
   "source": [
    "#@title find_label_issue_train\n",
    "def find_label_issue_train(data):\n",
    "    \"\"\"\n",
    "    Find label errors in the training data using the Confident Learning framework.\n",
    "\n",
    "    Arguments:\n",
    "    - data: A pandas DataFrame containing the training data.\n",
    "\n",
    "    Returns:\n",
    "    - A list of indices of examples in the training data that are likely to have label errors.\n",
    "\n",
    "    References: \n",
    "    \"\"\"\n",
    "    # Step 1: Apply a machine learning model to the training data to obtain predicted labels.\n",
    "    # This model should be trained using standard techniques and should not take into account the issue of label errors.\n",
    "    # Here, we assume that the model is already trained and is available for use.\n",
    "\n",
    "    # Step 2: Compute the empirical distribution of the predicted labels.\n",
    "    # This distribution will be used later to estimate the noise distribution.\n",
    "\n",
    "    # Step 3: Compute the joint distribution of the predicted labels and the true labels.\n",
    "    # This distribution can be estimated using the empirical distribution of the predicted labels and an estimate of the noise distribution.\n",
    "\n",
    "    # Step 4: Rank the examples in the training data by their likelihood of being mislabeled.\n",
    "    # This can be done by computing the conditional probability of the true label given the predicted label.\n",
    "\n",
    "    # Step 5: Identify examples that are likely to be mislabeled.\n",
    "    # This can be done by selecting examples with low confidence and high probability of being mislabeled.\n",
    "\n",
    "    # Step 6: Return the indices of the examples that are likely to be mislabeled.\n",
    "    # These examples can be further examined to determine if they are indeed mislabeled, and corrected if necessary.\n",
    "    # Alternatively, they can be removed from the training data to improve the performance of the machine learning model.\n",
    "\n",
    "    X = data[data.columns.difference(['damage_grade'])]\n",
    "    y = data['damage_grade']\n",
    "\n",
    "    numerical_cols = X.select_dtypes(include=['int64', 'float64']).columns.tolist()\n",
    "    categorical_cols = X.select_dtypes(include=['object']).columns.tolist()\n",
    "\n",
    "    numerical_transformer = StandardScaler()\n",
    "    categorical_transformer = OneHotEncoder(sparse=False)\n",
    "\n",
    "    preprocessor = ColumnTransformer(\n",
    "        transformers=[\n",
    "            ('num', numerical_transformer, numerical_cols),\n",
    "            ('cat', categorical_transformer, categorical_cols)\n",
    "        ])\n",
    "\n",
    "    X = preprocessor.fit_transform(X)\n",
    "\n",
    "    label_encoder = LabelEncoder()\n",
    "    y = label_encoder.fit_transform(y)\n",
    "\n",
    "    model = XGBClassifier(tree_method=\"hist\", enable_categorical=True)\n",
    "    pred_probs = cross_val_predict(model, X, y, method='predict_proba')\n",
    "\n",
    "    cl_issue_idx = cleanlab.filter.find_label_issues(y, pred_probs, return_indices_ranked_by='self_confidence')\n",
    "    \n",
    "    selected_rows = data.iloc[cl_issue_idx]\n",
    "    inverted_selection = data[~data.index.isin(cl_issue_idx)]\n",
    "\n",
    "    return inverted_selection"
   ]
  },
  {
   "cell_type": "code",
   "execution_count": 8,
   "id": "fec32127",
   "metadata": {
    "cellView": "form",
    "execution": {
     "iopub.execute_input": "2023-04-16T07:31:26.316034Z",
     "iopub.status.busy": "2023-04-16T07:31:26.315603Z",
     "iopub.status.idle": "2023-04-16T07:31:26.325624Z",
     "shell.execute_reply": "2023-04-16T07:31:26.324358Z"
    },
    "id": "zG4AwLU0eMhw",
    "papermill": {
     "duration": 0.03491,
     "end_time": "2023-04-16T07:31:26.328182",
     "exception": false,
     "start_time": "2023-04-16T07:31:26.293272",
     "status": "completed"
    },
    "tags": []
   },
   "outputs": [],
   "source": [
    "#@title complete_pipeline\n",
    "def complete_pipeline(data):\n",
    "    \"\"\"\n",
    "    This function takes a pandas dataframe as input, processes it through\n",
    "    various steps including missing value imputation, feature engineering,\n",
    "    and standardization, and returns the processed dataframe ready for\n",
    "    machine learning modeling. The function is designed to handle both\n",
    "    training and testing data by distinguishing between them based on the\n",
    "    presence of the 'damage_grade' column.\n",
    "    \"\"\"\n",
    "\n",
    "    # floors_before_eq (total)\n",
    "    data['floors_before_eq (total)'] = data['floors_before_eq (total)'].apply(lambda x: extract_num_floors(x))\n",
    "\n",
    "    # missing value\n",
    "    data = data[data['floors_before_eq (total)'].notna()]\n",
    "    data = data[data['plinth_area (ft^2)'].notna()]\n",
    "    data['technical_solution_proposed'] = data['technical_solution_proposed'].fillna('Unspecified')\n",
    "\n",
    "    # replace and lambda\n",
    "    data['plinth_area (ft^2)'] = data['plinth_area (ft^2)'].str.extract('(\\d+)').astype(float)\n",
    "    \n",
    "    data['no_family_residing'] = data['no_family_residing'].replace('None', 0).astype(float)\n",
    "    data['wall_binding'] = data['wall_binding'].replace(wb_mapping)\n",
    "    data['wall_material'] = data['wall_material'].replace(wm_mapping)\n",
    "\n",
    "    # data['type_of_reinforcement_concrete'] = data['type_of_reinforcement_concrete'].apply(lambda x: f'Type: {str(x)}')\n",
    "    \n",
    "    # value standardization\n",
    "    data = standardize_value(data)\n",
    "\n",
    "    # same group of features, different label\n",
    "    data = data.groupby(list(data.columns.difference(['damage_grade']))).filter(lambda x: len(set(x['damage_grade'])) == 1)\n",
    "\n",
    "    # label issue in train data\n",
    "    data = data.reset_index()\n",
    "    data.drop(['index'], axis=1, inplace=True)\n",
    "    data = find_label_issue_train(data)\n",
    "    \n",
    "    return data"
   ]
  },
  {
   "cell_type": "code",
   "execution_count": 9,
   "id": "4965778b",
   "metadata": {
    "cellView": "form",
    "execution": {
     "iopub.execute_input": "2023-04-16T07:31:26.372014Z",
     "iopub.status.busy": "2023-04-16T07:31:26.371185Z",
     "iopub.status.idle": "2023-04-16T07:31:26.379533Z",
     "shell.execute_reply": "2023-04-16T07:31:26.378622Z"
    },
    "id": "jLW6Gqys6mzF",
    "papermill": {
     "duration": 0.03325,
     "end_time": "2023-04-16T07:31:26.382090",
     "exception": false,
     "start_time": "2023-04-16T07:31:26.348840",
     "status": "completed"
    },
    "tags": []
   },
   "outputs": [],
   "source": [
    "#@title complete_pipeline_test\n",
    "def complete_pipeline_test(data):\n",
    "    \"\"\"\n",
    "    This function takes a pandas dataframe as input, processes it through\n",
    "    various steps including missing value imputation, feature engineering,\n",
    "    and standardization, and returns the processed dataframe ready for\n",
    "    machine learning modeling. The function is designed to handle both\n",
    "    training and testing data by distinguishing between them based on the\n",
    "    presence of the 'damage_grade' column.\n",
    "    \"\"\"\n",
    "    \n",
    "    data['floors_before_eq (total)'] = data['floors_before_eq (total)'].apply(lambda x: extract_num_floors(x))\n",
    "\n",
    "    # others\n",
    "    data['plinth_area (ft^2)'] = data['plinth_area (ft^2)'].str.extract('(\\d+)').astype(float)\n",
    "    \n",
    "    data['no_family_residing'] = data['no_family_residing'].replace('None', 0).astype(float)\n",
    "    data['wall_binding'] = data['wall_binding'].replace(wb_mapping)\n",
    "    data['wall_material'] = data['wall_material'].replace(wm_mapping)\n",
    "    \n",
    "    data['type_of_reinforcement_concrete'] = data['type_of_reinforcement_concrete'].apply(lambda x: f'Type: {str(float(x))}')\n",
    "\n",
    "    # value standardization\n",
    "    data = standardize_value(data)\n",
    "    \n",
    "    return data"
   ]
  },
  {
   "cell_type": "code",
   "execution_count": 10,
   "id": "be2a20ff",
   "metadata": {
    "cellView": "form",
    "execution": {
     "iopub.execute_input": "2023-04-16T07:31:26.426302Z",
     "iopub.status.busy": "2023-04-16T07:31:26.425425Z",
     "iopub.status.idle": "2023-04-16T07:31:26.433702Z",
     "shell.execute_reply": "2023-04-16T07:31:26.432815Z"
    },
    "id": "M-iZTblLJ2X9",
    "papermill": {
     "duration": 0.03323,
     "end_time": "2023-04-16T07:31:26.436137",
     "exception": false,
     "start_time": "2023-04-16T07:31:26.402907",
     "status": "completed"
    },
    "tags": []
   },
   "outputs": [],
   "source": [
    "#@title cross_val_multiclass\n",
    "def cross_val_multiclass(model, X, y, num_folds=5):\n",
    "    from sklearn.model_selection import KFold, cross_val_score\n",
    "    from sklearn.metrics import f1_score\n",
    "    import numpy as np\n",
    "\n",
    "    kf = KFold(n_splits=num_folds, shuffle=True, random_state=42)\n",
    "    f1_scores = []\n",
    "    for train_idx, test_idx in kf.split(X):\n",
    "        X_train, X_test = X[train_idx], X[test_idx]\n",
    "        y_train, y_test = y[train_idx], y[test_idx]\n",
    "        model.fit(X_train, y_train, verbose=0)\n",
    "        y_pred = model.predict(X_test)\n",
    "        f1_scores.append(f1_score(y_test, y_pred, average='macro'))\n",
    "    return np.mean(f1_scores), np.std(f1_scores)"
   ]
  },
  {
   "cell_type": "code",
   "execution_count": 11,
   "id": "d600cdf4",
   "metadata": {
    "cellView": "form",
    "execution": {
     "iopub.execute_input": "2023-04-16T07:31:26.480240Z",
     "iopub.status.busy": "2023-04-16T07:31:26.479356Z",
     "iopub.status.idle": "2023-04-16T07:31:26.487737Z",
     "shell.execute_reply": "2023-04-16T07:31:26.486889Z"
    },
    "id": "wkje0UzBJ8TJ",
    "papermill": {
     "duration": 0.033141,
     "end_time": "2023-04-16T07:31:26.490081",
     "exception": false,
     "start_time": "2023-04-16T07:31:26.456940",
     "status": "completed"
    },
    "tags": []
   },
   "outputs": [],
   "source": [
    "#@title categorical_correlation\n",
    "def categorical_correlation(var1, var2):\n",
    "    import scipy.stats as stats\n",
    "\n",
    "    contingency_table = pd.crosstab(var1, var2)\n",
    "  \n",
    "    chi2, p, dof, expected = stats.chi2_contingency(contingency_table)\n",
    "    \n",
    "    n = contingency_table.sum().sum()\n",
    "    phi2 = chi2/n\n",
    "    r, k = contingency_table.shape\n",
    "    phi2corr = max(0, phi2 - ((k-1)*(r-1))/(n-1))\n",
    "    rcorr = r - ((r-1)**2)/(n-1)\n",
    "    kcorr = k - ((k-1)**2)/(n-1)\n",
    "    V = np.sqrt(phi2corr / min((kcorr-1), (rcorr-1)))\n",
    "    \n",
    "    return {\"Chi-squared test\": {\"test statistic\": chi2, \"p-value\": p}, \"Cramer's V\": V}"
   ]
  },
  {
   "cell_type": "markdown",
   "id": "eaf00cbf",
   "metadata": {
    "id": "ldT1thHxg2Oh",
    "papermill": {
     "duration": 0.02047,
     "end_time": "2023-04-16T07:31:26.531283",
     "exception": false,
     "start_time": "2023-04-16T07:31:26.510813",
     "status": "completed"
    },
    "tags": []
   },
   "source": [
    "# Basic Data Cleaning"
   ]
  },
  {
   "cell_type": "code",
   "execution_count": 12,
   "id": "198131bf",
   "metadata": {
    "execution": {
     "iopub.execute_input": "2023-04-16T07:31:26.575400Z",
     "iopub.status.busy": "2023-04-16T07:31:26.574640Z",
     "iopub.status.idle": "2023-04-16T07:34:57.196858Z",
     "shell.execute_reply": "2023-04-16T07:34:57.195051Z"
    },
    "id": "IA7Mmlo-g5my",
    "outputId": "b61943de-cce7-4e2d-df8e-db6be9b04b97",
    "papermill": {
     "duration": 210.647892,
     "end_time": "2023-04-16T07:34:57.200031",
     "exception": false,
     "start_time": "2023-04-16T07:31:26.552139",
     "status": "completed"
    },
    "tags": []
   },
   "outputs": [
    {
     "name": "stderr",
     "output_type": "stream",
     "text": [
      "/opt/conda/lib/python3.7/site-packages/IPython/core/interactiveshell.py:3553: DtypeWarning: Columns (1,3,5,6,7,8,9,10,11,12,13,16,17,19,20) have mixed types.Specify dtype option on import or set low_memory=False.\n",
      "  exec(code_obj, self.user_global_ns, self.user_ns)\n"
     ]
    }
   ],
   "source": [
    "train = pd.read_csv('/kaggle/input/jointsugm/train.csv')\n",
    "train.drop(['Unnamed: 0'], axis=1, inplace=True)\n",
    "train.drop_duplicates(inplace=True)\n",
    "\n",
    "train = complete_pipeline(train)\n",
    "train = train.reset_index()\n",
    "train.drop(['index'], axis=1, inplace=True)"
   ]
  },
  {
   "cell_type": "code",
   "execution_count": 13,
   "id": "1294ddb9",
   "metadata": {
    "execution": {
     "iopub.execute_input": "2023-04-16T07:34:57.246439Z",
     "iopub.status.busy": "2023-04-16T07:34:57.244082Z",
     "iopub.status.idle": "2023-04-16T07:34:57.419986Z",
     "shell.execute_reply": "2023-04-16T07:34:57.418697Z"
    },
    "papermill": {
     "duration": 0.201487,
     "end_time": "2023-04-16T07:34:57.422699",
     "exception": false,
     "start_time": "2023-04-16T07:34:57.221212",
     "status": "completed"
    },
    "tags": []
   },
   "outputs": [
    {
     "name": "stdout",
     "output_type": "stream",
     "text": [
      "<class 'pandas.core.frame.DataFrame'>\n",
      "RangeIndex: 193402 entries, 0 to 193401\n",
      "Data columns (total 24 columns):\n",
      " #   Column                          Non-Null Count   Dtype  \n",
      "---  ------                          --------------   -----  \n",
      " 0   floors_before_eq (total)        193402 non-null  float64\n",
      " 1   old_building                    193402 non-null  float64\n",
      " 2   plinth_area (ft^2)              193402 non-null  float64\n",
      " 3   height_before_eq (ft)           193402 non-null  float64\n",
      " 4   land_surface_condition          193402 non-null  object \n",
      " 5   type_of_foundation              193402 non-null  object \n",
      " 6   type_of_roof                    193402 non-null  object \n",
      " 7   type_of_ground_floor            193402 non-null  object \n",
      " 8   type_of_other_floor             193402 non-null  object \n",
      " 9   position                        193402 non-null  object \n",
      " 10  building_plan_configuration     193402 non-null  object \n",
      " 11  technical_solution_proposed     193402 non-null  object \n",
      " 12  legal_ownership_status          193402 non-null  object \n",
      " 13  has_secondary_use               193402 non-null  float64\n",
      " 14  type_of_reinforcement_concrete  193402 non-null  float64\n",
      " 15  residential_type                193402 non-null  object \n",
      " 16  no_family_residing              193402 non-null  float64\n",
      " 17  public_place_type               193402 non-null  object \n",
      " 18  industrial_use_type             193402 non-null  object \n",
      " 19  govermental_use_type            193402 non-null  object \n",
      " 20  flexible_superstructure         193402 non-null  object \n",
      " 21  wall_binding                    193402 non-null  object \n",
      " 22  wall_material                   193402 non-null  object \n",
      " 23  damage_grade                    193402 non-null  float64\n",
      "dtypes: float64(8), object(16)\n",
      "memory usage: 35.4+ MB\n"
     ]
    }
   ],
   "source": [
    "train.info()"
   ]
  },
  {
   "cell_type": "code",
   "execution_count": 14,
   "id": "f98ed40f",
   "metadata": {
    "execution": {
     "iopub.execute_input": "2023-04-16T07:34:57.467117Z",
     "iopub.status.busy": "2023-04-16T07:34:57.466671Z",
     "iopub.status.idle": "2023-04-16T07:34:57.483535Z",
     "shell.execute_reply": "2023-04-16T07:34:57.482542Z"
    },
    "id": "7ItlpPXRMBAw",
    "papermill": {
     "duration": 0.042056,
     "end_time": "2023-04-16T07:34:57.486050",
     "exception": false,
     "start_time": "2023-04-16T07:34:57.443994",
     "status": "completed"
    },
    "tags": []
   },
   "outputs": [],
   "source": [
    "# Inverse (will be predicted)\n",
    "train['technical_solution_proposed'] = train['technical_solution_proposed'].replace('Unspecified', np.nan)"
   ]
  },
  {
   "cell_type": "code",
   "execution_count": 15,
   "id": "f9e572e2",
   "metadata": {
    "execution": {
     "iopub.execute_input": "2023-04-16T07:34:57.529480Z",
     "iopub.status.busy": "2023-04-16T07:34:57.529056Z",
     "iopub.status.idle": "2023-04-16T07:34:57.689210Z",
     "shell.execute_reply": "2023-04-16T07:34:57.687508Z"
    },
    "papermill": {
     "duration": 0.184706,
     "end_time": "2023-04-16T07:34:57.691715",
     "exception": false,
     "start_time": "2023-04-16T07:34:57.507009",
     "status": "completed"
    },
    "tags": []
   },
   "outputs": [
    {
     "name": "stdout",
     "output_type": "stream",
     "text": [
      "<class 'pandas.core.frame.DataFrame'>\n",
      "RangeIndex: 193402 entries, 0 to 193401\n",
      "Data columns (total 24 columns):\n",
      " #   Column                          Non-Null Count   Dtype  \n",
      "---  ------                          --------------   -----  \n",
      " 0   floors_before_eq (total)        193402 non-null  float64\n",
      " 1   old_building                    193402 non-null  float64\n",
      " 2   plinth_area (ft^2)              193402 non-null  float64\n",
      " 3   height_before_eq (ft)           193402 non-null  float64\n",
      " 4   land_surface_condition          193402 non-null  object \n",
      " 5   type_of_foundation              193402 non-null  object \n",
      " 6   type_of_roof                    193402 non-null  object \n",
      " 7   type_of_ground_floor            193402 non-null  object \n",
      " 8   type_of_other_floor             193402 non-null  object \n",
      " 9   position                        193402 non-null  object \n",
      " 10  building_plan_configuration     193402 non-null  object \n",
      " 11  technical_solution_proposed     33761 non-null   object \n",
      " 12  legal_ownership_status          193402 non-null  object \n",
      " 13  has_secondary_use               193402 non-null  float64\n",
      " 14  type_of_reinforcement_concrete  193402 non-null  float64\n",
      " 15  residential_type                193402 non-null  object \n",
      " 16  no_family_residing              193402 non-null  float64\n",
      " 17  public_place_type               193402 non-null  object \n",
      " 18  industrial_use_type             193402 non-null  object \n",
      " 19  govermental_use_type            193402 non-null  object \n",
      " 20  flexible_superstructure         193402 non-null  object \n",
      " 21  wall_binding                    193402 non-null  object \n",
      " 22  wall_material                   193402 non-null  object \n",
      " 23  damage_grade                    193402 non-null  float64\n",
      "dtypes: float64(8), object(16)\n",
      "memory usage: 35.4+ MB\n"
     ]
    }
   ],
   "source": [
    "train.info()"
   ]
  },
  {
   "cell_type": "markdown",
   "id": "3b0e05e3",
   "metadata": {
    "id": "cpj1zg3rgxRh",
    "papermill": {
     "duration": 0.021919,
     "end_time": "2023-04-16T07:34:57.734826",
     "exception": false,
     "start_time": "2023-04-16T07:34:57.712907",
     "status": "completed"
    },
    "tags": []
   },
   "source": [
    "# Start Here"
   ]
  },
  {
   "cell_type": "markdown",
   "id": "02062076",
   "metadata": {
    "id": "jIEvyCNkhYNJ",
    "papermill": {
     "duration": 0.02134,
     "end_time": "2023-04-16T07:34:57.779973",
     "exception": false,
     "start_time": "2023-04-16T07:34:57.758633",
     "status": "completed"
    },
    "tags": []
   },
   "source": [
    "# Feature Engineering"
   ]
  },
  {
   "cell_type": "markdown",
   "id": "f329cc05",
   "metadata": {
    "id": "0g0FzpREKWY8",
    "papermill": {
     "duration": 0.02115,
     "end_time": "2023-04-16T07:34:57.822272",
     "exception": false,
     "start_time": "2023-04-16T07:34:57.801122",
     "status": "completed"
    },
    "tags": []
   },
   "source": [
    "## Predict the missing technical_solution_proposed for imputing train"
   ]
  },
  {
   "cell_type": "code",
   "execution_count": 16,
   "id": "99f1e105",
   "metadata": {
    "execution": {
     "iopub.execute_input": "2023-04-16T07:34:57.867711Z",
     "iopub.status.busy": "2023-04-16T07:34:57.867299Z",
     "iopub.status.idle": "2023-04-16T07:34:57.887229Z",
     "shell.execute_reply": "2023-04-16T07:34:57.886163Z"
    },
    "id": "PbnZnMltXzhs",
    "papermill": {
     "duration": 0.045804,
     "end_time": "2023-04-16T07:34:57.890040",
     "exception": false,
     "start_time": "2023-04-16T07:34:57.844236",
     "status": "completed"
    },
    "tags": []
   },
   "outputs": [],
   "source": [
    "titr = train.copy()"
   ]
  },
  {
   "cell_type": "code",
   "execution_count": 17,
   "id": "6d61f2b7",
   "metadata": {
    "execution": {
     "iopub.execute_input": "2023-04-16T07:34:57.935499Z",
     "iopub.status.busy": "2023-04-16T07:34:57.935096Z",
     "iopub.status.idle": "2023-04-16T07:34:57.967927Z",
     "shell.execute_reply": "2023-04-16T07:34:57.966882Z"
    },
    "id": "r_d3XLsvX5O4",
    "papermill": {
     "duration": 0.058651,
     "end_time": "2023-04-16T07:34:57.970659",
     "exception": false,
     "start_time": "2023-04-16T07:34:57.912008",
     "status": "completed"
    },
    "tags": []
   },
   "outputs": [],
   "source": [
    "titr = titr[titr['technical_solution_proposed'].notna()]"
   ]
  },
  {
   "cell_type": "code",
   "execution_count": 18,
   "id": "f2f95254",
   "metadata": {
    "execution": {
     "iopub.execute_input": "2023-04-16T07:34:58.014918Z",
     "iopub.status.busy": "2023-04-16T07:34:58.014416Z",
     "iopub.status.idle": "2023-04-16T07:34:58.022224Z",
     "shell.execute_reply": "2023-04-16T07:34:58.020974Z"
    },
    "papermill": {
     "duration": 0.032473,
     "end_time": "2023-04-16T07:34:58.024518",
     "exception": false,
     "start_time": "2023-04-16T07:34:57.992045",
     "status": "completed"
    },
    "tags": []
   },
   "outputs": [
    {
     "data": {
      "text/plain": [
       "(33761, 24)"
      ]
     },
     "execution_count": 18,
     "metadata": {},
     "output_type": "execute_result"
    }
   ],
   "source": [
    "titr.shape"
   ]
  },
  {
   "cell_type": "code",
   "execution_count": 19,
   "id": "9e1f3d19",
   "metadata": {
    "execution": {
     "iopub.execute_input": "2023-04-16T07:34:58.069320Z",
     "iopub.status.busy": "2023-04-16T07:34:58.068886Z",
     "iopub.status.idle": "2023-04-16T07:34:59.468107Z",
     "shell.execute_reply": "2023-04-16T07:34:59.467027Z"
    },
    "id": "M81sjcI7Kc1b",
    "outputId": "47e24822-9e98-4e50-cb82-8a7792ce46d1",
    "papermill": {
     "duration": 1.425085,
     "end_time": "2023-04-16T07:34:59.470916",
     "exception": false,
     "start_time": "2023-04-16T07:34:58.045831",
     "status": "completed"
    },
    "tags": []
   },
   "outputs": [],
   "source": [
    "X_titr = titr[titr.columns.difference(['technical_solution_proposed'])]\n",
    "y_titr = titr['technical_solution_proposed']\n",
    "\n",
    "numerical_cols = X_titr.select_dtypes(include=['int64', 'float64']).columns.tolist()\n",
    "categorical_cols = X_titr.select_dtypes(include=['object']).columns.tolist()\n",
    "\n",
    "numerical_transformer = StandardScaler()\n",
    "categorical_transformer = OneHotEncoder(sparse=False)\n",
    "\n",
    "titr_preproc = ColumnTransformer(\n",
    "    transformers=[\n",
    "        ('num', numerical_transformer, numerical_cols),\n",
    "        ('cat', categorical_transformer, categorical_cols)\n",
    "    ])\n",
    "\n",
    "titr_preproc = titr_preproc.fit(train[train.columns.difference(['technical_solution_proposed'])])\n",
    "X_titr = titr_preproc.transform(X_titr)\n",
    "\n",
    "titr_le = LabelEncoder()\n",
    "y_titr = titr_le.fit_transform(y_titr)"
   ]
  },
  {
   "cell_type": "code",
   "execution_count": 20,
   "id": "f3557758",
   "metadata": {
    "execution": {
     "iopub.execute_input": "2023-04-16T07:34:59.515158Z",
     "iopub.status.busy": "2023-04-16T07:34:59.514710Z",
     "iopub.status.idle": "2023-04-16T07:36:10.912801Z",
     "shell.execute_reply": "2023-04-16T07:36:10.911528Z"
    },
    "papermill": {
     "duration": 71.424179,
     "end_time": "2023-04-16T07:36:10.916187",
     "exception": false,
     "start_time": "2023-04-16T07:34:59.492008",
     "status": "completed"
    },
    "tags": []
   },
   "outputs": [],
   "source": [
    "cb_titr = CatBoostClassifier() \n",
    "f1_avg, f1_std = cross_val_multiclass(cb_titr, X_titr, y_titr)"
   ]
  },
  {
   "cell_type": "code",
   "execution_count": 21,
   "id": "8c858afa",
   "metadata": {
    "execution": {
     "iopub.execute_input": "2023-04-16T07:36:10.962093Z",
     "iopub.status.busy": "2023-04-16T07:36:10.961348Z",
     "iopub.status.idle": "2023-04-16T07:36:10.968229Z",
     "shell.execute_reply": "2023-04-16T07:36:10.966827Z"
    },
    "id": "kr3cqJu2L5Tp",
    "outputId": "c155e04d-a227-4a6c-99b1-d7e5d9f82eb2",
    "papermill": {
     "duration": 0.032916,
     "end_time": "2023-04-16T07:36:10.970633",
     "exception": false,
     "start_time": "2023-04-16T07:36:10.937717",
     "status": "completed"
    },
    "tags": []
   },
   "outputs": [
    {
     "name": "stdout",
     "output_type": "stream",
     "text": [
      "Avg: 0.9685680780763104, Std: 0.001800833339435185\n"
     ]
    }
   ],
   "source": [
    "print(f'Avg: {f1_avg}, Std: {f1_std}')"
   ]
  },
  {
   "cell_type": "code",
   "execution_count": 22,
   "id": "d04df259",
   "metadata": {
    "execution": {
     "iopub.execute_input": "2023-04-16T07:36:11.017406Z",
     "iopub.status.busy": "2023-04-16T07:36:11.016231Z",
     "iopub.status.idle": "2023-04-16T07:36:28.153339Z",
     "shell.execute_reply": "2023-04-16T07:36:28.152035Z"
    },
    "id": "A4GNI7b9uGls",
    "papermill": {
     "duration": 17.163216,
     "end_time": "2023-04-16T07:36:28.156141",
     "exception": false,
     "start_time": "2023-04-16T07:36:10.992925",
     "status": "completed"
    },
    "tags": []
   },
   "outputs": [
    {
     "data": {
      "text/plain": [
       "<catboost.core.CatBoostClassifier at 0x7194a724b110>"
      ]
     },
     "execution_count": 22,
     "metadata": {},
     "output_type": "execute_result"
    }
   ],
   "source": [
    "cb_titr = CatBoostClassifier()\n",
    "cb_titr.fit(X_titr, y_titr, verbose=0)"
   ]
  },
  {
   "cell_type": "code",
   "execution_count": 23,
   "id": "186d698c",
   "metadata": {
    "execution": {
     "iopub.execute_input": "2023-04-16T07:36:28.203062Z",
     "iopub.status.busy": "2023-04-16T07:36:28.202500Z",
     "iopub.status.idle": "2023-04-16T07:36:28.224167Z",
     "shell.execute_reply": "2023-04-16T07:36:28.222769Z"
    },
    "papermill": {
     "duration": 0.048547,
     "end_time": "2023-04-16T07:36:28.226998",
     "exception": false,
     "start_time": "2023-04-16T07:36:28.178451",
     "status": "completed"
    },
    "tags": []
   },
   "outputs": [],
   "source": [
    "train_before = train.copy()"
   ]
  },
  {
   "cell_type": "code",
   "execution_count": 24,
   "id": "fb24e634",
   "metadata": {
    "execution": {
     "iopub.execute_input": "2023-04-16T07:36:28.272375Z",
     "iopub.status.busy": "2023-04-16T07:36:28.271606Z",
     "iopub.status.idle": "2023-04-16T07:36:28.321202Z",
     "shell.execute_reply": "2023-04-16T07:36:28.319893Z"
    },
    "papermill": {
     "duration": 0.075685,
     "end_time": "2023-04-16T07:36:28.324176",
     "exception": false,
     "start_time": "2023-04-16T07:36:28.248491",
     "status": "completed"
    },
    "tags": []
   },
   "outputs": [],
   "source": [
    "train = train_before.copy()"
   ]
  },
  {
   "cell_type": "code",
   "execution_count": 25,
   "id": "bc45d3e1",
   "metadata": {
    "execution": {
     "iopub.execute_input": "2023-04-16T07:36:28.369510Z",
     "iopub.status.busy": "2023-04-16T07:36:28.369105Z",
     "iopub.status.idle": "2023-04-16T07:36:34.402584Z",
     "shell.execute_reply": "2023-04-16T07:36:34.401341Z"
    },
    "papermill": {
     "duration": 6.059619,
     "end_time": "2023-04-16T07:36:34.405464",
     "exception": false,
     "start_time": "2023-04-16T07:36:28.345845",
     "status": "completed"
    },
    "tags": []
   },
   "outputs": [
    {
     "name": "stderr",
     "output_type": "stream",
     "text": [
      "/opt/conda/lib/python3.7/site-packages/sklearn/preprocessing/_label.py:154: DataConversionWarning: A column-vector y was passed when a 1d array was expected. Please change the shape of y to (n_samples, ), for example using ravel().\n",
      "  y = column_or_1d(y, warn=True)\n"
     ]
    }
   ],
   "source": [
    "train.loc[train['technical_solution_proposed'].isna(), 'technical_solution_proposed'] = titr_le.inverse_transform(cb_titr.predict(titr_preproc.transform(train.loc[train['technical_solution_proposed'].isna(), train.columns.difference(['technical_solution_proposed'])]))).ravel()"
   ]
  },
  {
   "cell_type": "markdown",
   "id": "2e48aa3b",
   "metadata": {
    "id": "B7DXS3VrLIsi",
    "papermill": {
     "duration": 0.021422,
     "end_time": "2023-04-16T07:36:34.449889",
     "exception": false,
     "start_time": "2023-04-16T07:36:34.428467",
     "status": "completed"
    },
    "tags": []
   },
   "source": [
    "## Others"
   ]
  },
  {
   "cell_type": "code",
   "execution_count": 26,
   "id": "92faa53f",
   "metadata": {
    "execution": {
     "iopub.execute_input": "2023-04-16T07:36:34.494986Z",
     "iopub.status.busy": "2023-04-16T07:36:34.494564Z",
     "iopub.status.idle": "2023-04-16T07:36:34.658145Z",
     "shell.execute_reply": "2023-04-16T07:36:34.656573Z"
    },
    "papermill": {
     "duration": 0.189343,
     "end_time": "2023-04-16T07:36:34.660845",
     "exception": false,
     "start_time": "2023-04-16T07:36:34.471502",
     "status": "completed"
    },
    "tags": []
   },
   "outputs": [
    {
     "name": "stdout",
     "output_type": "stream",
     "text": [
      "<class 'pandas.core.frame.DataFrame'>\n",
      "RangeIndex: 193402 entries, 0 to 193401\n",
      "Data columns (total 24 columns):\n",
      " #   Column                          Non-Null Count   Dtype  \n",
      "---  ------                          --------------   -----  \n",
      " 0   floors_before_eq (total)        193402 non-null  float64\n",
      " 1   old_building                    193402 non-null  float64\n",
      " 2   plinth_area (ft^2)              193402 non-null  float64\n",
      " 3   height_before_eq (ft)           193402 non-null  float64\n",
      " 4   land_surface_condition          193402 non-null  object \n",
      " 5   type_of_foundation              193402 non-null  object \n",
      " 6   type_of_roof                    193402 non-null  object \n",
      " 7   type_of_ground_floor            193402 non-null  object \n",
      " 8   type_of_other_floor             193402 non-null  object \n",
      " 9   position                        193402 non-null  object \n",
      " 10  building_plan_configuration     193402 non-null  object \n",
      " 11  technical_solution_proposed     193402 non-null  object \n",
      " 12  legal_ownership_status          193402 non-null  object \n",
      " 13  has_secondary_use               193402 non-null  float64\n",
      " 14  type_of_reinforcement_concrete  193402 non-null  float64\n",
      " 15  residential_type                193402 non-null  object \n",
      " 16  no_family_residing              193402 non-null  float64\n",
      " 17  public_place_type               193402 non-null  object \n",
      " 18  industrial_use_type             193402 non-null  object \n",
      " 19  govermental_use_type            193402 non-null  object \n",
      " 20  flexible_superstructure         193402 non-null  object \n",
      " 21  wall_binding                    193402 non-null  object \n",
      " 22  wall_material                   193402 non-null  object \n",
      " 23  damage_grade                    193402 non-null  float64\n",
      "dtypes: float64(8), object(16)\n",
      "memory usage: 35.4+ MB\n"
     ]
    }
   ],
   "source": [
    "train.info()"
   ]
  },
  {
   "cell_type": "code",
   "execution_count": 27,
   "id": "4361fba3",
   "metadata": {
    "execution": {
     "iopub.execute_input": "2023-04-16T07:36:34.706155Z",
     "iopub.status.busy": "2023-04-16T07:36:34.705667Z",
     "iopub.status.idle": "2023-04-16T07:36:34.712600Z",
     "shell.execute_reply": "2023-04-16T07:36:34.711225Z"
    },
    "papermill": {
     "duration": 0.032431,
     "end_time": "2023-04-16T07:36:34.714918",
     "exception": false,
     "start_time": "2023-04-16T07:36:34.682487",
     "status": "completed"
    },
    "tags": []
   },
   "outputs": [],
   "source": [
    "def percentage_table(df, column):\n",
    "    value_counts = df[column].value_counts()\n",
    "    total_obs = value_counts.sum()\n",
    "    percentage = (value_counts / total_obs) * 100\n",
    "    return pd.concat([value_counts, percentage], axis=1, keys=['Count', 'Percentage'])"
   ]
  },
  {
   "cell_type": "code",
   "execution_count": 28,
   "id": "b93da484",
   "metadata": {
    "execution": {
     "iopub.execute_input": "2023-04-16T07:36:34.760252Z",
     "iopub.status.busy": "2023-04-16T07:36:34.759813Z",
     "iopub.status.idle": "2023-04-16T07:36:34.794925Z",
     "shell.execute_reply": "2023-04-16T07:36:34.793638Z"
    },
    "papermill": {
     "duration": 0.060755,
     "end_time": "2023-04-16T07:36:34.797471",
     "exception": false,
     "start_time": "2023-04-16T07:36:34.736716",
     "status": "completed"
    },
    "tags": []
   },
   "outputs": [
    {
     "data": {
      "text/html": [
       "<div>\n",
       "<style scoped>\n",
       "    .dataframe tbody tr th:only-of-type {\n",
       "        vertical-align: middle;\n",
       "    }\n",
       "\n",
       "    .dataframe tbody tr th {\n",
       "        vertical-align: top;\n",
       "    }\n",
       "\n",
       "    .dataframe thead th {\n",
       "        text-align: right;\n",
       "    }\n",
       "</style>\n",
       "<table border=\"1\" class=\"dataframe\">\n",
       "  <thead>\n",
       "    <tr style=\"text-align: right;\">\n",
       "      <th></th>\n",
       "      <th>Count</th>\n",
       "      <th>Percentage</th>\n",
       "    </tr>\n",
       "  </thead>\n",
       "  <tbody>\n",
       "    <tr>\n",
       "      <th>Stone Bricks</th>\n",
       "      <td>157876</td>\n",
       "      <td>81.631007</td>\n",
       "    </tr>\n",
       "    <tr>\n",
       "      <th>Unknown/not stated</th>\n",
       "      <td>18670</td>\n",
       "      <td>9.653468</td>\n",
       "    </tr>\n",
       "    <tr>\n",
       "      <th>Red Bricks</th>\n",
       "      <td>14362</td>\n",
       "      <td>7.425983</td>\n",
       "    </tr>\n",
       "    <tr>\n",
       "      <th>Red Bricks, Stone Bricks</th>\n",
       "      <td>2494</td>\n",
       "      <td>1.289542</td>\n",
       "    </tr>\n",
       "  </tbody>\n",
       "</table>\n",
       "</div>"
      ],
      "text/plain": [
       "                           Count  Percentage\n",
       "Stone Bricks              157876   81.631007\n",
       "Unknown/not stated         18670    9.653468\n",
       "Red Bricks                 14362    7.425983\n",
       "Red Bricks, Stone Bricks    2494    1.289542"
      ]
     },
     "execution_count": 28,
     "metadata": {},
     "output_type": "execute_result"
    }
   ],
   "source": [
    "percentage_table(train, 'wall_material')"
   ]
  },
  {
   "cell_type": "code",
   "execution_count": 29,
   "id": "2e7279bc",
   "metadata": {
    "execution": {
     "iopub.execute_input": "2023-04-16T07:36:34.844138Z",
     "iopub.status.busy": "2023-04-16T07:36:34.843686Z",
     "iopub.status.idle": "2023-04-16T07:36:34.878081Z",
     "shell.execute_reply": "2023-04-16T07:36:34.877056Z"
    },
    "papermill": {
     "duration": 0.060438,
     "end_time": "2023-04-16T07:36:34.880723",
     "exception": false,
     "start_time": "2023-04-16T07:36:34.820285",
     "status": "completed"
    },
    "tags": []
   },
   "outputs": [],
   "source": [
    "train.drop(['building_plan_configuration', 'legal_ownership_status', 'type_of_reinforcement_concrete',\n",
    "           'residential_type', 'public_place_type', 'industrial_use_type', 'govermental_use_type', 'flexible_superstructure'], axis=1, inplace=True)"
   ]
  },
  {
   "cell_type": "code",
   "execution_count": 30,
   "id": "7f63170e",
   "metadata": {
    "execution": {
     "iopub.execute_input": "2023-04-16T07:36:34.927497Z",
     "iopub.status.busy": "2023-04-16T07:36:34.927064Z",
     "iopub.status.idle": "2023-04-16T07:36:34.986603Z",
     "shell.execute_reply": "2023-04-16T07:36:34.985334Z"
    },
    "id": "bQmhjQJvLJjw",
    "papermill": {
     "duration": 0.08665,
     "end_time": "2023-04-16T07:36:34.989630",
     "exception": false,
     "start_time": "2023-04-16T07:36:34.902980",
     "status": "completed"
    },
    "tags": []
   },
   "outputs": [],
   "source": [
    "train['total_building_area (ft^2)'] = train['plinth_area (ft^2)'] * train['height_before_eq (ft)']\n",
    "train['area_to_height_ratio'] = train['plinth_area (ft^2)'] / train['height_before_eq (ft)']\n",
    "train['height per floor (ft)'] = train['height_before_eq (ft)'] / train['floors_before_eq (total)']\n",
    "train['tsp_toof'] = train['technical_solution_proposed'] + '_' + train['type_of_other_floor']\n",
    "train['floor_area_ratio'] = train['total_building_area (ft^2)'] / (train['plinth_area (ft^2)'] * train['floors_before_eq (total)'])"
   ]
  },
  {
   "cell_type": "code",
   "execution_count": 31,
   "id": "fef84f5c",
   "metadata": {
    "execution": {
     "iopub.execute_input": "2023-04-16T07:36:35.036692Z",
     "iopub.status.busy": "2023-04-16T07:36:35.035822Z",
     "iopub.status.idle": "2023-04-16T07:36:35.128844Z",
     "shell.execute_reply": "2023-04-16T07:36:35.127577Z"
    },
    "papermill": {
     "duration": 0.11968,
     "end_time": "2023-04-16T07:36:35.131493",
     "exception": false,
     "start_time": "2023-04-16T07:36:35.011813",
     "status": "completed"
    },
    "tags": []
   },
   "outputs": [],
   "source": [
    "train.drop(['plinth_area (ft^2)', 'height_before_eq (ft)'], axis=1, inplace=True)"
   ]
  },
  {
   "cell_type": "code",
   "execution_count": 32,
   "id": "16932a76",
   "metadata": {
    "execution": {
     "iopub.execute_input": "2023-04-16T07:36:35.177779Z",
     "iopub.status.busy": "2023-04-16T07:36:35.176559Z",
     "iopub.status.idle": "2023-04-16T07:36:35.260724Z",
     "shell.execute_reply": "2023-04-16T07:36:35.259365Z"
    },
    "papermill": {
     "duration": 0.110333,
     "end_time": "2023-04-16T07:36:35.263596",
     "exception": false,
     "start_time": "2023-04-16T07:36:35.153263",
     "status": "completed"
    },
    "tags": []
   },
   "outputs": [],
   "source": [
    "train = train[train['height per floor (ft)'] <= 15]\n",
    "train = train.reset_index()\n",
    "train.drop(['index'], axis=1, inplace=True)"
   ]
  },
  {
   "cell_type": "code",
   "execution_count": 33,
   "id": "2e424bbd",
   "metadata": {
    "execution": {
     "iopub.execute_input": "2023-04-16T07:36:35.308984Z",
     "iopub.status.busy": "2023-04-16T07:36:35.308502Z",
     "iopub.status.idle": "2023-04-16T07:36:35.387163Z",
     "shell.execute_reply": "2023-04-16T07:36:35.385801Z"
    },
    "papermill": {
     "duration": 0.10476,
     "end_time": "2023-04-16T07:36:35.390121",
     "exception": false,
     "start_time": "2023-04-16T07:36:35.285361",
     "status": "completed"
    },
    "tags": []
   },
   "outputs": [],
   "source": [
    "tsp_dict = {\n",
    "    'Reconstruction': 4,\n",
    "    'Major repair': 3,\n",
    "    'Minor repair': 2,\n",
    "    'No need': 1\n",
    "}\n",
    "\n",
    "train['technical_solution_proposed_int'] = train['technical_solution_proposed'].apply(lambda x: tsp_dict[x])"
   ]
  },
  {
   "cell_type": "code",
   "execution_count": 34,
   "id": "1baebc20",
   "metadata": {
    "execution": {
     "iopub.execute_input": "2023-04-16T07:36:35.437544Z",
     "iopub.status.busy": "2023-04-16T07:36:35.436626Z",
     "iopub.status.idle": "2023-04-16T07:36:35.546655Z",
     "shell.execute_reply": "2023-04-16T07:36:35.545371Z"
    },
    "papermill": {
     "duration": 0.13627,
     "end_time": "2023-04-16T07:36:35.549136",
     "exception": false,
     "start_time": "2023-04-16T07:36:35.412866",
     "status": "completed"
    },
    "tags": []
   },
   "outputs": [
    {
     "name": "stdout",
     "output_type": "stream",
     "text": [
      "<class 'pandas.core.frame.DataFrame'>\n",
      "RangeIndex: 192344 entries, 0 to 192343\n",
      "Data columns (total 20 columns):\n",
      " #   Column                           Non-Null Count   Dtype  \n",
      "---  ------                           --------------   -----  \n",
      " 0   floors_before_eq (total)         192344 non-null  float64\n",
      " 1   old_building                     192344 non-null  float64\n",
      " 2   land_surface_condition           192344 non-null  object \n",
      " 3   type_of_foundation               192344 non-null  object \n",
      " 4   type_of_roof                     192344 non-null  object \n",
      " 5   type_of_ground_floor             192344 non-null  object \n",
      " 6   type_of_other_floor              192344 non-null  object \n",
      " 7   position                         192344 non-null  object \n",
      " 8   technical_solution_proposed      192344 non-null  object \n",
      " 9   has_secondary_use                192344 non-null  float64\n",
      " 10  no_family_residing               192344 non-null  float64\n",
      " 11  wall_binding                     192344 non-null  object \n",
      " 12  wall_material                    192344 non-null  object \n",
      " 13  damage_grade                     192344 non-null  float64\n",
      " 14  total_building_area (ft^2)       192344 non-null  float64\n",
      " 15  area_to_height_ratio             192344 non-null  float64\n",
      " 16  height per floor (ft)            192344 non-null  float64\n",
      " 17  tsp_toof                         192344 non-null  object \n",
      " 18  floor_area_ratio                 192344 non-null  float64\n",
      " 19  technical_solution_proposed_int  192344 non-null  int64  \n",
      "dtypes: float64(9), int64(1), object(10)\n",
      "memory usage: 29.3+ MB\n"
     ]
    }
   ],
   "source": [
    "train.info()"
   ]
  },
  {
   "cell_type": "code",
   "execution_count": 35,
   "id": "dba0d618",
   "metadata": {
    "execution": {
     "iopub.execute_input": "2023-04-16T07:36:35.595920Z",
     "iopub.status.busy": "2023-04-16T07:36:35.595250Z",
     "iopub.status.idle": "2023-04-16T07:36:37.658125Z",
     "shell.execute_reply": "2023-04-16T07:36:37.656973Z"
    },
    "papermill": {
     "duration": 2.08933,
     "end_time": "2023-04-16T07:36:37.661266",
     "exception": false,
     "start_time": "2023-04-16T07:36:35.571936",
     "status": "completed"
    },
    "tags": []
   },
   "outputs": [],
   "source": [
    "train.to_csv('train_fed.csv', index=False)"
   ]
  },
  {
   "cell_type": "markdown",
   "id": "1bfd3950",
   "metadata": {
    "papermill": {
     "duration": 0.022051,
     "end_time": "2023-04-16T07:36:37.705844",
     "exception": false,
     "start_time": "2023-04-16T07:36:37.683793",
     "status": "completed"
    },
    "tags": []
   },
   "source": [
    "### Re-CL"
   ]
  },
  {
   "cell_type": "code",
   "execution_count": 36,
   "id": "8a219e4a",
   "metadata": {
    "execution": {
     "iopub.execute_input": "2023-04-16T07:36:37.754894Z",
     "iopub.status.busy": "2023-04-16T07:36:37.754130Z",
     "iopub.status.idle": "2023-04-16T07:36:38.601969Z",
     "shell.execute_reply": "2023-04-16T07:36:38.600550Z"
    },
    "papermill": {
     "duration": 0.876683,
     "end_time": "2023-04-16T07:36:38.604985",
     "exception": false,
     "start_time": "2023-04-16T07:36:37.728302",
     "status": "completed"
    },
    "tags": []
   },
   "outputs": [],
   "source": [
    "train = pd.read_csv('train_fed.csv')\n",
    "train.drop_duplicates(inplace=True)"
   ]
  },
  {
   "cell_type": "code",
   "execution_count": 37,
   "id": "3e10d7e2",
   "metadata": {
    "execution": {
     "iopub.execute_input": "2023-04-16T07:36:38.651168Z",
     "iopub.status.busy": "2023-04-16T07:36:38.650705Z",
     "iopub.status.idle": "2023-04-16T07:37:09.976248Z",
     "shell.execute_reply": "2023-04-16T07:37:09.975125Z"
    },
    "papermill": {
     "duration": 31.372443,
     "end_time": "2023-04-16T07:37:09.999474",
     "exception": false,
     "start_time": "2023-04-16T07:36:38.627031",
     "status": "completed"
    },
    "tags": []
   },
   "outputs": [
    {
     "data": {
      "text/plain": [
       "(188967, 20)"
      ]
     },
     "execution_count": 37,
     "metadata": {},
     "output_type": "execute_result"
    }
   ],
   "source": [
    "train = train.groupby(list(train.columns.difference(['damage_grade']))).filter(lambda x: len(set(x['damage_grade'])) == 1)\n",
    "train.shape"
   ]
  },
  {
   "cell_type": "code",
   "execution_count": 38,
   "id": "ed76a1d7",
   "metadata": {
    "execution": {
     "iopub.execute_input": "2023-04-16T07:37:10.045341Z",
     "iopub.status.busy": "2023-04-16T07:37:10.044897Z",
     "iopub.status.idle": "2023-04-16T07:37:10.097448Z",
     "shell.execute_reply": "2023-04-16T07:37:10.096142Z"
    },
    "papermill": {
     "duration": 0.07917,
     "end_time": "2023-04-16T07:37:10.100440",
     "exception": false,
     "start_time": "2023-04-16T07:37:10.021270",
     "status": "completed"
    },
    "tags": []
   },
   "outputs": [],
   "source": [
    "train = train.reset_index()\n",
    "train.drop(['index'], axis=1, inplace=True)"
   ]
  },
  {
   "cell_type": "code",
   "execution_count": 39,
   "id": "696606f6",
   "metadata": {
    "execution": {
     "iopub.execute_input": "2023-04-16T07:37:10.145977Z",
     "iopub.status.busy": "2023-04-16T07:37:10.145566Z",
     "iopub.status.idle": "2023-04-16T07:38:33.639879Z",
     "shell.execute_reply": "2023-04-16T07:38:33.638393Z"
    },
    "papermill": {
     "duration": 83.541378,
     "end_time": "2023-04-16T07:38:33.663734",
     "exception": false,
     "start_time": "2023-04-16T07:37:10.122356",
     "status": "completed"
    },
    "tags": []
   },
   "outputs": [
    {
     "data": {
      "text/plain": [
       "(177766, 20)"
      ]
     },
     "execution_count": 39,
     "metadata": {},
     "output_type": "execute_result"
    }
   ],
   "source": [
    "train = find_label_issue_train(train)\n",
    "train = train.reset_index()\n",
    "train.drop(['index'], axis=1, inplace=True)\n",
    "train.shape"
   ]
  },
  {
   "cell_type": "code",
   "execution_count": 40,
   "id": "f4e5881b",
   "metadata": {
    "execution": {
     "iopub.execute_input": "2023-04-16T07:38:33.710028Z",
     "iopub.status.busy": "2023-04-16T07:38:33.709545Z",
     "iopub.status.idle": "2023-04-16T07:38:33.813493Z",
     "shell.execute_reply": "2023-04-16T07:38:33.811785Z"
    },
    "papermill": {
     "duration": 0.130748,
     "end_time": "2023-04-16T07:38:33.816348",
     "exception": false,
     "start_time": "2023-04-16T07:38:33.685600",
     "status": "completed"
    },
    "tags": []
   },
   "outputs": [
    {
     "name": "stdout",
     "output_type": "stream",
     "text": [
      "<class 'pandas.core.frame.DataFrame'>\n",
      "RangeIndex: 177766 entries, 0 to 177765\n",
      "Data columns (total 20 columns):\n",
      " #   Column                           Non-Null Count   Dtype  \n",
      "---  ------                           --------------   -----  \n",
      " 0   floors_before_eq (total)         177766 non-null  float64\n",
      " 1   old_building                     177766 non-null  float64\n",
      " 2   land_surface_condition           177766 non-null  object \n",
      " 3   type_of_foundation               177766 non-null  object \n",
      " 4   type_of_roof                     177766 non-null  object \n",
      " 5   type_of_ground_floor             177766 non-null  object \n",
      " 6   type_of_other_floor              177766 non-null  object \n",
      " 7   position                         177766 non-null  object \n",
      " 8   technical_solution_proposed      177766 non-null  object \n",
      " 9   has_secondary_use                177766 non-null  float64\n",
      " 10  no_family_residing               177766 non-null  float64\n",
      " 11  wall_binding                     177766 non-null  object \n",
      " 12  wall_material                    177766 non-null  object \n",
      " 13  damage_grade                     177766 non-null  float64\n",
      " 14  total_building_area (ft^2)       177766 non-null  float64\n",
      " 15  area_to_height_ratio             177766 non-null  float64\n",
      " 16  height per floor (ft)            177766 non-null  float64\n",
      " 17  tsp_toof                         177766 non-null  object \n",
      " 18  floor_area_ratio                 177766 non-null  float64\n",
      " 19  technical_solution_proposed_int  177766 non-null  int64  \n",
      "dtypes: float64(9), int64(1), object(10)\n",
      "memory usage: 27.1+ MB\n"
     ]
    }
   ],
   "source": [
    "train.info()"
   ]
  },
  {
   "cell_type": "code",
   "execution_count": 41,
   "id": "0339edd2",
   "metadata": {
    "execution": {
     "iopub.execute_input": "2023-04-16T07:38:33.864325Z",
     "iopub.status.busy": "2023-04-16T07:38:33.863913Z",
     "iopub.status.idle": "2023-04-16T07:38:35.757252Z",
     "shell.execute_reply": "2023-04-16T07:38:35.756224Z"
    },
    "papermill": {
     "duration": 1.920769,
     "end_time": "2023-04-16T07:38:35.760159",
     "exception": false,
     "start_time": "2023-04-16T07:38:33.839390",
     "status": "completed"
    },
    "tags": []
   },
   "outputs": [],
   "source": [
    "train.to_csv('train_final.csv', index=False)"
   ]
  },
  {
   "cell_type": "code",
   "execution_count": 42,
   "id": "269f7677",
   "metadata": {
    "execution": {
     "iopub.execute_input": "2023-04-16T07:38:35.806820Z",
     "iopub.status.busy": "2023-04-16T07:38:35.806405Z",
     "iopub.status.idle": "2023-04-16T07:38:36.318477Z",
     "shell.execute_reply": "2023-04-16T07:38:36.317243Z"
    },
    "papermill": {
     "duration": 0.538605,
     "end_time": "2023-04-16T07:38:36.321438",
     "exception": false,
     "start_time": "2023-04-16T07:38:35.782833",
     "status": "completed"
    },
    "tags": []
   },
   "outputs": [],
   "source": [
    "train = pd.read_csv('/kaggle/working/train_final.csv')"
   ]
  },
  {
   "cell_type": "markdown",
   "id": "f1153058",
   "metadata": {
    "id": "UtuwcJBXhWu1",
    "papermill": {
     "duration": 0.021917,
     "end_time": "2023-04-16T07:38:36.365605",
     "exception": false,
     "start_time": "2023-04-16T07:38:36.343688",
     "status": "completed"
    },
    "tags": []
   },
   "source": [
    "# Modeling"
   ]
  },
  {
   "cell_type": "code",
   "execution_count": 43,
   "id": "0653cbf0",
   "metadata": {
    "execution": {
     "iopub.execute_input": "2023-04-16T07:38:36.411930Z",
     "iopub.status.busy": "2023-04-16T07:38:36.411451Z",
     "iopub.status.idle": "2023-04-16T07:38:37.254002Z",
     "shell.execute_reply": "2023-04-16T07:38:37.253043Z"
    },
    "id": "SJAYUY5qZlK_",
    "papermill": {
     "duration": 0.868666,
     "end_time": "2023-04-16T07:38:37.256576",
     "exception": false,
     "start_time": "2023-04-16T07:38:36.387910",
     "status": "completed"
    },
    "tags": []
   },
   "outputs": [],
   "source": [
    "X = train[train.columns.difference(['damage_grade'])]\n",
    "y = train['damage_grade']\n",
    "\n",
    "numerical_cols = X.select_dtypes(include=['int64', 'float64']).columns.tolist()\n",
    "categorical_cols = X.select_dtypes(include=['object']).columns.tolist()\n",
    "\n",
    "numerical_transformer = StandardScaler()\n",
    "categorical_transformer = OneHotEncoder(sparse=False)\n",
    "\n",
    "preprocessor = ColumnTransformer(\n",
    "    transformers=[\n",
    "        ('num', numerical_transformer, numerical_cols),\n",
    "        ('cat', categorical_transformer, categorical_cols)\n",
    "    ])\n",
    "\n",
    "X = preprocessor.fit_transform(X)\n",
    "\n",
    "label_encoder = LabelEncoder()\n",
    "y = label_encoder.fit_transform(y)"
   ]
  },
  {
   "cell_type": "code",
   "execution_count": 44,
   "id": "6e054c66",
   "metadata": {
    "execution": {
     "iopub.execute_input": "2023-04-16T07:38:37.303580Z",
     "iopub.status.busy": "2023-04-16T07:38:37.302546Z",
     "iopub.status.idle": "2023-04-16T07:38:37.459008Z",
     "shell.execute_reply": "2023-04-16T07:38:37.457516Z"
    },
    "id": "KvXY5_ZYh1g2",
    "papermill": {
     "duration": 0.183009,
     "end_time": "2023-04-16T07:38:37.462059",
     "exception": false,
     "start_time": "2023-04-16T07:38:37.279050",
     "status": "completed"
    },
    "tags": []
   },
   "outputs": [],
   "source": [
    "# Create train-validation-test split with stratification\n",
    "X_train, X_val, y_train, y_val = train_test_split(X, y, train_size=0.6, random_state=42, stratify=y)\n",
    "X_val, X_test, y_val, y_test = train_test_split(X_val, y_val, test_size=0.5, random_state=42, stratify=y_val)"
   ]
  },
  {
   "cell_type": "markdown",
   "id": "22e33f85",
   "metadata": {
    "id": "zK1N9xBWY3hY",
    "papermill": {
     "duration": 0.021839,
     "end_time": "2023-04-16T07:38:37.506110",
     "exception": false,
     "start_time": "2023-04-16T07:38:37.484271",
     "status": "completed"
    },
    "tags": []
   },
   "source": [
    "## Manual"
   ]
  },
  {
   "cell_type": "markdown",
   "id": "dd254667",
   "metadata": {
    "papermill": {
     "duration": 0.021667,
     "end_time": "2023-04-16T07:38:37.549823",
     "exception": false,
     "start_time": "2023-04-16T07:38:37.528156",
     "status": "completed"
    },
    "tags": []
   },
   "source": [
    "### LightGBM"
   ]
  },
  {
   "cell_type": "code",
   "execution_count": 45,
   "id": "ba4d94f7",
   "metadata": {
    "execution": {
     "iopub.execute_input": "2023-04-16T07:38:37.596246Z",
     "iopub.status.busy": "2023-04-16T07:38:37.595570Z",
     "iopub.status.idle": "2023-04-16T07:38:44.097185Z",
     "shell.execute_reply": "2023-04-16T07:38:44.095968Z"
    },
    "papermill": {
     "duration": 6.527639,
     "end_time": "2023-04-16T07:38:44.099503",
     "exception": false,
     "start_time": "2023-04-16T07:38:37.571864",
     "status": "completed"
    },
    "tags": []
   },
   "outputs": [
    {
     "name": "stderr",
     "output_type": "stream",
     "text": [
      "/opt/conda/lib/python3.7/site-packages/lightgbm/sklearn.py:736: UserWarning: 'verbose' argument is deprecated and will be removed in a future release of LightGBM. Pass 'log_evaluation()' callback via 'callbacks' argument instead.\n",
      "  _log_warning(\"'verbose' argument is deprecated and will be removed in a future release of LightGBM. \"\n"
     ]
    },
    {
     "data": {
      "text/plain": [
       "LGBMClassifier()"
      ]
     },
     "execution_count": 45,
     "metadata": {},
     "output_type": "execute_result"
    }
   ],
   "source": [
    "lgbm = LGBMClassifier()\n",
    "lgbm.fit(X_train, y_train, verbose=0, eval_set=(X_val, y_val))"
   ]
  },
  {
   "cell_type": "code",
   "execution_count": 46,
   "id": "dc7c5629",
   "metadata": {
    "execution": {
     "iopub.execute_input": "2023-04-16T07:38:44.146987Z",
     "iopub.status.busy": "2023-04-16T07:38:44.146246Z",
     "iopub.status.idle": "2023-04-16T07:38:44.518240Z",
     "shell.execute_reply": "2023-04-16T07:38:44.516852Z"
    },
    "papermill": {
     "duration": 0.398547,
     "end_time": "2023-04-16T07:38:44.520663",
     "exception": false,
     "start_time": "2023-04-16T07:38:44.122116",
     "status": "completed"
    },
    "tags": []
   },
   "outputs": [
    {
     "name": "stdout",
     "output_type": "stream",
     "text": [
      "              precision    recall  f1-score   support\n",
      "\n",
      "           1       0.99      0.99      0.99      4413\n",
      "           2       0.98      0.99      0.99      3178\n",
      "           3       1.00      1.00      1.00      5040\n",
      "           4       0.82      0.68      0.74      5821\n",
      "           5       0.90      0.95      0.92     17101\n",
      "\n",
      "    accuracy                           0.92     35553\n",
      "   macro avg       0.94      0.92      0.93     35553\n",
      "weighted avg       0.92      0.92      0.92     35553\n",
      "\n"
     ]
    }
   ],
   "source": [
    "y_val_pred = lgbm.predict(X_val)\n",
    "print(classification_report(y_val, y_val_pred, target_names=['1', '2', '3', '4', '5']))"
   ]
  },
  {
   "cell_type": "markdown",
   "id": "d6dfdd89",
   "metadata": {
    "papermill": {
     "duration": 0.022075,
     "end_time": "2023-04-16T07:38:44.565398",
     "exception": false,
     "start_time": "2023-04-16T07:38:44.543323",
     "status": "completed"
    },
    "tags": []
   },
   "source": [
    "### CatBoost"
   ]
  },
  {
   "cell_type": "code",
   "execution_count": 47,
   "id": "80577c56",
   "metadata": {
    "execution": {
     "iopub.execute_input": "2023-04-16T07:38:44.612804Z",
     "iopub.status.busy": "2023-04-16T07:38:44.612083Z",
     "iopub.status.idle": "2023-04-16T07:39:45.573062Z",
     "shell.execute_reply": "2023-04-16T07:39:45.571890Z"
    },
    "id": "BTP_rGu_hEHu",
    "papermill": {
     "duration": 61.009722,
     "end_time": "2023-04-16T07:39:45.597732",
     "exception": false,
     "start_time": "2023-04-16T07:38:44.588010",
     "status": "completed"
    },
    "tags": []
   },
   "outputs": [
    {
     "data": {
      "text/plain": [
       "<catboost.core.CatBoostClassifier at 0x7194a7245bd0>"
      ]
     },
     "execution_count": 47,
     "metadata": {},
     "output_type": "execute_result"
    }
   ],
   "source": [
    "catboost = CatBoostClassifier()\n",
    "catboost.fit(X_train, y_train, verbose=0, eval_set=(X_val, y_val))"
   ]
  },
  {
   "cell_type": "code",
   "execution_count": 48,
   "id": "3b0f230f",
   "metadata": {
    "execution": {
     "iopub.execute_input": "2023-04-16T07:39:45.644168Z",
     "iopub.status.busy": "2023-04-16T07:39:45.643769Z",
     "iopub.status.idle": "2023-04-16T07:39:46.633165Z",
     "shell.execute_reply": "2023-04-16T07:39:46.631767Z"
    },
    "id": "iFPop-woRuhu",
    "papermill": {
     "duration": 1.015801,
     "end_time": "2023-04-16T07:39:46.635947",
     "exception": false,
     "start_time": "2023-04-16T07:39:45.620146",
     "status": "completed"
    },
    "tags": []
   },
   "outputs": [
    {
     "name": "stdout",
     "output_type": "stream",
     "text": [
      "              precision    recall  f1-score   support\n",
      "\n",
      "           1       0.99      0.99      0.99      4413\n",
      "           2       0.98      0.99      0.99      3178\n",
      "           3       1.00      1.00      1.00      5040\n",
      "           4       0.81      0.69      0.75      5821\n",
      "           5       0.90      0.95      0.92     17101\n",
      "\n",
      "    accuracy                           0.92     35553\n",
      "   macro avg       0.94      0.92      0.93     35553\n",
      "weighted avg       0.92      0.92      0.92     35553\n",
      "\n"
     ]
    }
   ],
   "source": [
    "y_val_pred = catboost.predict(X_val)\n",
    "print(classification_report(y_val, y_val_pred, target_names=['1', '2', '3', '4', '5']))"
   ]
  },
  {
   "cell_type": "markdown",
   "id": "32c48f03",
   "metadata": {
    "papermill": {
     "duration": 0.022042,
     "end_time": "2023-04-16T07:39:46.680967",
     "exception": false,
     "start_time": "2023-04-16T07:39:46.658925",
     "status": "completed"
    },
    "tags": []
   },
   "source": [
    "### XGBoost"
   ]
  },
  {
   "cell_type": "code",
   "execution_count": 49,
   "id": "40db7b92",
   "metadata": {
    "execution": {
     "iopub.execute_input": "2023-04-16T07:39:46.727562Z",
     "iopub.status.busy": "2023-04-16T07:39:46.727165Z",
     "iopub.status.idle": "2023-04-16T07:42:56.953231Z",
     "shell.execute_reply": "2023-04-16T07:42:56.952066Z"
    },
    "id": "ot3w4aJ9iBth",
    "papermill": {
     "duration": 190.275124,
     "end_time": "2023-04-16T07:42:56.978324",
     "exception": false,
     "start_time": "2023-04-16T07:39:46.703200",
     "status": "completed"
    },
    "tags": []
   },
   "outputs": [
    {
     "data": {
      "text/plain": [
       "XGBClassifier(base_score=0.5, booster='gbtree', callbacks=None,\n",
       "              colsample_bylevel=1, colsample_bynode=1, colsample_bytree=1,\n",
       "              early_stopping_rounds=None, enable_categorical=False,\n",
       "              eval_metric=None, gamma=0, gpu_id=-1, grow_policy='depthwise',\n",
       "              importance_type=None, interaction_constraints='',\n",
       "              learning_rate=0.300000012, max_bin=256, max_cat_to_onehot=4,\n",
       "              max_delta_step=0, max_depth=6, max_leaves=0, min_child_weight=1,\n",
       "              missing=nan, monotone_constraints='()', n_estimators=100,\n",
       "              n_jobs=0, num_parallel_tree=1, objective='multi:softprob',\n",
       "              predictor='auto', random_state=0, reg_alpha=0, ...)"
      ]
     },
     "execution_count": 49,
     "metadata": {},
     "output_type": "execute_result"
    }
   ],
   "source": [
    "xgboost = XGBClassifier()\n",
    "xgboost.fit(X_train, y_train)"
   ]
  },
  {
   "cell_type": "code",
   "execution_count": 50,
   "id": "fcaf1d22",
   "metadata": {
    "execution": {
     "iopub.execute_input": "2023-04-16T07:42:57.025689Z",
     "iopub.status.busy": "2023-04-16T07:42:57.025302Z",
     "iopub.status.idle": "2023-04-16T07:42:57.496294Z",
     "shell.execute_reply": "2023-04-16T07:42:57.494978Z"
    },
    "id": "VxZfx-MkaWLR",
    "papermill": {
     "duration": 0.497647,
     "end_time": "2023-04-16T07:42:57.498818",
     "exception": false,
     "start_time": "2023-04-16T07:42:57.001171",
     "status": "completed"
    },
    "tags": []
   },
   "outputs": [
    {
     "name": "stdout",
     "output_type": "stream",
     "text": [
      "              precision    recall  f1-score   support\n",
      "\n",
      "           1       0.99      0.99      0.99      4413\n",
      "           2       0.98      0.99      0.99      3178\n",
      "           3       1.00      1.00      1.00      5040\n",
      "           4       0.82      0.69      0.75      5821\n",
      "           5       0.90      0.95      0.92     17101\n",
      "\n",
      "    accuracy                           0.92     35553\n",
      "   macro avg       0.94      0.92      0.93     35553\n",
      "weighted avg       0.92      0.92      0.92     35553\n",
      "\n"
     ]
    }
   ],
   "source": [
    "y_val_pred = xgboost.predict(X_val)\n",
    "print(classification_report(y_val, y_val_pred, target_names=['1', '2', '3', '4', '5']))"
   ]
  },
  {
   "cell_type": "markdown",
   "id": "0249e08f",
   "metadata": {
    "id": "ijWBOSoF2rz8",
    "papermill": {
     "duration": 0.022402,
     "end_time": "2023-04-16T07:42:57.543863",
     "exception": false,
     "start_time": "2023-04-16T07:42:57.521461",
     "status": "completed"
    },
    "tags": []
   },
   "source": [
    "## CV"
   ]
  },
  {
   "cell_type": "code",
   "execution_count": 51,
   "id": "fad5b6a8",
   "metadata": {
    "execution": {
     "iopub.execute_input": "2023-04-16T07:42:57.591190Z",
     "iopub.status.busy": "2023-04-16T07:42:57.590796Z",
     "iopub.status.idle": "2023-04-16T07:42:57.695598Z",
     "shell.execute_reply": "2023-04-16T07:42:57.694455Z"
    },
    "id": "DwZyDC0c3Hj3",
    "papermill": {
     "duration": 0.131754,
     "end_time": "2023-04-16T07:42:57.698320",
     "exception": false,
     "start_time": "2023-04-16T07:42:57.566566",
     "status": "completed"
    },
    "tags": []
   },
   "outputs": [],
   "source": [
    "X_cv, _, y_cv, _ = train_test_split(X, y, train_size=0.8, random_state=42, stratify=y)"
   ]
  },
  {
   "cell_type": "markdown",
   "id": "07980b64",
   "metadata": {
    "papermill": {
     "duration": 0.023315,
     "end_time": "2023-04-16T07:42:57.744375",
     "exception": false,
     "start_time": "2023-04-16T07:42:57.721060",
     "status": "completed"
    },
    "tags": []
   },
   "source": [
    "### LightGBM"
   ]
  },
  {
   "cell_type": "code",
   "execution_count": 52,
   "id": "1d02e382",
   "metadata": {
    "execution": {
     "iopub.execute_input": "2023-04-16T07:42:57.792076Z",
     "iopub.status.busy": "2023-04-16T07:42:57.791665Z",
     "iopub.status.idle": "2023-04-16T07:43:30.904097Z",
     "shell.execute_reply": "2023-04-16T07:43:30.903047Z"
    },
    "papermill": {
     "duration": 33.139187,
     "end_time": "2023-04-16T07:43:30.906911",
     "exception": false,
     "start_time": "2023-04-16T07:42:57.767724",
     "status": "completed"
    },
    "tags": []
   },
   "outputs": [
    {
     "name": "stderr",
     "output_type": "stream",
     "text": [
      "/opt/conda/lib/python3.7/site-packages/lightgbm/sklearn.py:736: UserWarning: 'verbose' argument is deprecated and will be removed in a future release of LightGBM. Pass 'log_evaluation()' callback via 'callbacks' argument instead.\n",
      "  _log_warning(\"'verbose' argument is deprecated and will be removed in a future release of LightGBM. \"\n",
      "/opt/conda/lib/python3.7/site-packages/lightgbm/sklearn.py:736: UserWarning: 'verbose' argument is deprecated and will be removed in a future release of LightGBM. Pass 'log_evaluation()' callback via 'callbacks' argument instead.\n",
      "  _log_warning(\"'verbose' argument is deprecated and will be removed in a future release of LightGBM. \"\n",
      "/opt/conda/lib/python3.7/site-packages/lightgbm/sklearn.py:736: UserWarning: 'verbose' argument is deprecated and will be removed in a future release of LightGBM. Pass 'log_evaluation()' callback via 'callbacks' argument instead.\n",
      "  _log_warning(\"'verbose' argument is deprecated and will be removed in a future release of LightGBM. \"\n",
      "/opt/conda/lib/python3.7/site-packages/lightgbm/sklearn.py:736: UserWarning: 'verbose' argument is deprecated and will be removed in a future release of LightGBM. Pass 'log_evaluation()' callback via 'callbacks' argument instead.\n",
      "  _log_warning(\"'verbose' argument is deprecated and will be removed in a future release of LightGBM. \"\n",
      "/opt/conda/lib/python3.7/site-packages/lightgbm/sklearn.py:736: UserWarning: 'verbose' argument is deprecated and will be removed in a future release of LightGBM. Pass 'log_evaluation()' callback via 'callbacks' argument instead.\n",
      "  _log_warning(\"'verbose' argument is deprecated and will be removed in a future release of LightGBM. \"\n"
     ]
    }
   ],
   "source": [
    "f1_avg, f1_std = cross_val_multiclass(lgbm, X_cv, y_cv)"
   ]
  },
  {
   "cell_type": "code",
   "execution_count": 53,
   "id": "2bf214d3",
   "metadata": {
    "execution": {
     "iopub.execute_input": "2023-04-16T07:43:30.954918Z",
     "iopub.status.busy": "2023-04-16T07:43:30.954458Z",
     "iopub.status.idle": "2023-04-16T07:43:30.959758Z",
     "shell.execute_reply": "2023-04-16T07:43:30.958539Z"
    },
    "papermill": {
     "duration": 0.033199,
     "end_time": "2023-04-16T07:43:30.963287",
     "exception": false,
     "start_time": "2023-04-16T07:43:30.930088",
     "status": "completed"
    },
    "tags": []
   },
   "outputs": [
    {
     "name": "stdout",
     "output_type": "stream",
     "text": [
      "Avg: 0.9280753734261371, Std: 0.0009672209567026857\n"
     ]
    }
   ],
   "source": [
    "print(f'Avg: {f1_avg}, Std: {f1_std}')"
   ]
  },
  {
   "cell_type": "markdown",
   "id": "a84199db",
   "metadata": {
    "papermill": {
     "duration": 0.022685,
     "end_time": "2023-04-16T07:43:31.008996",
     "exception": false,
     "start_time": "2023-04-16T07:43:30.986311",
     "status": "completed"
    },
    "tags": []
   },
   "source": [
    "### CatBoost"
   ]
  },
  {
   "cell_type": "code",
   "execution_count": 54,
   "id": "65fd5ae7",
   "metadata": {
    "execution": {
     "iopub.execute_input": "2023-04-16T07:43:31.057936Z",
     "iopub.status.busy": "2023-04-16T07:43:31.057367Z",
     "iopub.status.idle": "2023-04-16T07:48:44.344711Z",
     "shell.execute_reply": "2023-04-16T07:48:44.343666Z"
    },
    "papermill": {
     "duration": 313.31449,
     "end_time": "2023-04-16T07:48:44.347390",
     "exception": false,
     "start_time": "2023-04-16T07:43:31.032900",
     "status": "completed"
    },
    "tags": []
   },
   "outputs": [],
   "source": [
    "f1_avg, f1_std = cross_val_multiclass(catboost, X_cv, y_cv)"
   ]
  },
  {
   "cell_type": "code",
   "execution_count": 55,
   "id": "2dc72546",
   "metadata": {
    "execution": {
     "iopub.execute_input": "2023-04-16T07:48:44.396830Z",
     "iopub.status.busy": "2023-04-16T07:48:44.396023Z",
     "iopub.status.idle": "2023-04-16T07:48:44.401735Z",
     "shell.execute_reply": "2023-04-16T07:48:44.400507Z"
    },
    "id": "BejHDqPz8H8O",
    "papermill": {
     "duration": 0.032859,
     "end_time": "2023-04-16T07:48:44.403958",
     "exception": false,
     "start_time": "2023-04-16T07:48:44.371099",
     "status": "completed"
    },
    "tags": []
   },
   "outputs": [
    {
     "name": "stdout",
     "output_type": "stream",
     "text": [
      "Avg: 0.9285373603406928, Std: 0.0008335448571513456\n"
     ]
    }
   ],
   "source": [
    "print(f'Avg: {f1_avg}, Std: {f1_std}')"
   ]
  },
  {
   "cell_type": "markdown",
   "id": "a2a091df",
   "metadata": {
    "papermill": {
     "duration": 0.022899,
     "end_time": "2023-04-16T07:48:44.450210",
     "exception": false,
     "start_time": "2023-04-16T07:48:44.427311",
     "status": "completed"
    },
    "tags": []
   },
   "source": [
    "### XGBoost"
   ]
  },
  {
   "cell_type": "code",
   "execution_count": 56,
   "id": "f4b1b03f",
   "metadata": {
    "execution": {
     "iopub.execute_input": "2023-04-16T07:48:44.499078Z",
     "iopub.status.busy": "2023-04-16T07:48:44.498261Z",
     "iopub.status.idle": "2023-04-16T08:05:40.916457Z",
     "shell.execute_reply": "2023-04-16T08:05:40.915341Z"
    },
    "papermill": {
     "duration": 1016.445654,
     "end_time": "2023-04-16T08:05:40.919209",
     "exception": false,
     "start_time": "2023-04-16T07:48:44.473555",
     "status": "completed"
    },
    "tags": []
   },
   "outputs": [],
   "source": [
    "f1_avg, f1_std = cross_val_multiclass(xgboost, X_cv, y_cv)"
   ]
  },
  {
   "cell_type": "code",
   "execution_count": 57,
   "id": "8b299231",
   "metadata": {
    "execution": {
     "iopub.execute_input": "2023-04-16T08:05:41.033623Z",
     "iopub.status.busy": "2023-04-16T08:05:41.032937Z",
     "iopub.status.idle": "2023-04-16T08:05:41.038119Z",
     "shell.execute_reply": "2023-04-16T08:05:41.037152Z"
    },
    "papermill": {
     "duration": 0.097081,
     "end_time": "2023-04-16T08:05:41.040149",
     "exception": false,
     "start_time": "2023-04-16T08:05:40.943068",
     "status": "completed"
    },
    "tags": []
   },
   "outputs": [
    {
     "name": "stdout",
     "output_type": "stream",
     "text": [
      "Avg: 0.9302688271287611, Std: 0.0009965596606417288\n"
     ]
    }
   ],
   "source": [
    "print(f'Avg: {f1_avg}, Std: {f1_std}')"
   ]
  },
  {
   "cell_type": "markdown",
   "id": "f765ebd7",
   "metadata": {
    "id": "jdKGtFaT2txY",
    "papermill": {
     "duration": 0.023998,
     "end_time": "2023-04-16T08:05:41.087426",
     "exception": false,
     "start_time": "2023-04-16T08:05:41.063428",
     "status": "completed"
    },
    "tags": []
   },
   "source": [
    "# Prediction"
   ]
  },
  {
   "cell_type": "markdown",
   "id": "4b144712",
   "metadata": {
    "papermill": {
     "duration": 0.023191,
     "end_time": "2023-04-16T08:05:41.134172",
     "exception": false,
     "start_time": "2023-04-16T08:05:41.110981",
     "status": "completed"
    },
    "tags": []
   },
   "source": [
    "## Holdout Test"
   ]
  },
  {
   "cell_type": "code",
   "execution_count": 58,
   "id": "388db952",
   "metadata": {
    "execution": {
     "iopub.execute_input": "2023-04-16T08:05:41.183452Z",
     "iopub.status.busy": "2023-04-16T08:05:41.182774Z",
     "iopub.status.idle": "2023-04-16T08:05:41.645668Z",
     "shell.execute_reply": "2023-04-16T08:05:41.644608Z"
    },
    "papermill": {
     "duration": 0.490121,
     "end_time": "2023-04-16T08:05:41.647920",
     "exception": false,
     "start_time": "2023-04-16T08:05:41.157799",
     "status": "completed"
    },
    "tags": []
   },
   "outputs": [
    {
     "name": "stdout",
     "output_type": "stream",
     "text": [
      "              precision    recall  f1-score   support\n",
      "\n",
      "           1       1.00      0.99      1.00      4413\n",
      "           2       0.99      0.99      0.99      3178\n",
      "           3       1.00      1.00      1.00      5040\n",
      "           4       0.83      0.71      0.77      5822\n",
      "           5       0.91      0.95      0.93     17101\n",
      "\n",
      "    accuracy                           0.93     35554\n",
      "   macro avg       0.95      0.93      0.94     35554\n",
      "weighted avg       0.93      0.93      0.93     35554\n",
      "\n"
     ]
    }
   ],
   "source": [
    "y_val_test = xgboost.predict(X_test)\n",
    "print(classification_report(y_test, y_val_test, target_names=['1', '2', '3', '4', '5']))"
   ]
  },
  {
   "cell_type": "code",
   "execution_count": 59,
   "id": "7bd969a5",
   "metadata": {
    "execution": {
     "iopub.execute_input": "2023-04-16T08:05:41.697636Z",
     "iopub.status.busy": "2023-04-16T08:05:41.696942Z",
     "iopub.status.idle": "2023-04-16T08:05:45.652701Z",
     "shell.execute_reply": "2023-04-16T08:05:45.651760Z"
    },
    "id": "_B3jkW6zBAvk",
    "papermill": {
     "duration": 3.98358,
     "end_time": "2023-04-16T08:05:45.655370",
     "exception": false,
     "start_time": "2023-04-16T08:05:41.671790",
     "status": "completed"
    },
    "tags": []
   },
   "outputs": [],
   "source": [
    "test = pd.read_csv('/kaggle/input/jointsugm/test.csv')\n",
    "test = complete_pipeline_test(test)\n",
    "test_id = test['id']"
   ]
  },
  {
   "cell_type": "code",
   "execution_count": 60,
   "id": "4241a2f0",
   "metadata": {
    "execution": {
     "iopub.execute_input": "2023-04-16T08:05:45.705384Z",
     "iopub.status.busy": "2023-04-16T08:05:45.704670Z",
     "iopub.status.idle": "2023-04-16T08:05:45.915350Z",
     "shell.execute_reply": "2023-04-16T08:05:45.914215Z"
    },
    "papermill": {
     "duration": 0.238667,
     "end_time": "2023-04-16T08:05:45.917937",
     "exception": false,
     "start_time": "2023-04-16T08:05:45.679270",
     "status": "completed"
    },
    "tags": []
   },
   "outputs": [
    {
     "name": "stdout",
     "output_type": "stream",
     "text": [
      "<class 'pandas.core.frame.DataFrame'>\n",
      "RangeIndex: 242082 entries, 0 to 242081\n",
      "Data columns (total 24 columns):\n",
      " #   Column                          Non-Null Count   Dtype  \n",
      "---  ------                          --------------   -----  \n",
      " 0   id                              242082 non-null  int64  \n",
      " 1   floors_before_eq (total)        242082 non-null  int64  \n",
      " 2   old_building                    242082 non-null  int64  \n",
      " 3   plinth_area (ft^2)              242082 non-null  float64\n",
      " 4   height_before_eq (ft)           242082 non-null  int64  \n",
      " 5   land_surface_condition          242082 non-null  object \n",
      " 6   type_of_foundation              242082 non-null  object \n",
      " 7   type_of_roof                    242082 non-null  object \n",
      " 8   type_of_ground_floor            242082 non-null  object \n",
      " 9   type_of_other_floor             242082 non-null  object \n",
      " 10  position                        242082 non-null  object \n",
      " 11  building_plan_configuration     242082 non-null  object \n",
      " 12  technical_solution_proposed     242082 non-null  object \n",
      " 13  legal_ownership_status          242082 non-null  object \n",
      " 14  has_secondary_use               242082 non-null  float64\n",
      " 15  type_of_reinforcement_concrete  242082 non-null  object \n",
      " 16  residential_type                242082 non-null  object \n",
      " 17  no_family_residing              242082 non-null  float64\n",
      " 18  public_place_type               242082 non-null  object \n",
      " 19  industrial_use_type             242082 non-null  object \n",
      " 20  govermental_use_type            242082 non-null  object \n",
      " 21  flexible_superstructure         242082 non-null  object \n",
      " 22  wall_binding                    242082 non-null  object \n",
      " 23  wall_material                   242082 non-null  object \n",
      "dtypes: float64(3), int64(4), object(17)\n",
      "memory usage: 44.3+ MB\n"
     ]
    }
   ],
   "source": [
    "test.info()"
   ]
  },
  {
   "cell_type": "code",
   "execution_count": 61,
   "id": "04a3ac0b",
   "metadata": {
    "execution": {
     "iopub.execute_input": "2023-04-16T08:05:45.971466Z",
     "iopub.status.busy": "2023-04-16T08:05:45.970777Z",
     "iopub.status.idle": "2023-04-16T08:05:46.434821Z",
     "shell.execute_reply": "2023-04-16T08:05:46.433624Z"
    },
    "papermill": {
     "duration": 0.494497,
     "end_time": "2023-04-16T08:05:46.438033",
     "exception": false,
     "start_time": "2023-04-16T08:05:45.943536",
     "status": "completed"
    },
    "tags": []
   },
   "outputs": [],
   "source": [
    "test.drop(['building_plan_configuration', 'legal_ownership_status', 'type_of_reinforcement_concrete',\n",
    "           'residential_type', 'public_place_type', 'industrial_use_type', 'govermental_use_type', 'flexible_superstructure'], axis=1, inplace=True)\n",
    "\n",
    "test['total_building_area (ft^2)'] = test['plinth_area (ft^2)'] * test['height_before_eq (ft)']\n",
    "test['area_to_height_ratio'] = test['plinth_area (ft^2)'] / test['height_before_eq (ft)']\n",
    "test['height per floor (ft)'] = test['height_before_eq (ft)'] / test['floors_before_eq (total)']\n",
    "test['tsp_toof'] = test['technical_solution_proposed'] + '_' + test['type_of_other_floor']\n",
    "\n",
    "test['floor_area_ratio'] = test['total_building_area (ft^2)'] / (test['plinth_area (ft^2)'] * test['floors_before_eq (total)'])\n",
    "\n",
    "test.drop(['plinth_area (ft^2)', 'height_before_eq (ft)'], axis=1, inplace=True)\n",
    "\n",
    "tsp_dict = {\n",
    "    'Reconstruction': 4,\n",
    "    'Major repair': 3,\n",
    "    'Minor repair': 2,\n",
    "    'No need': 1\n",
    "}\n",
    "\n",
    "test['technical_solution_proposed_int'] = test['technical_solution_proposed'].apply(lambda x: tsp_dict[x])\n",
    "\n",
    "test = test[list(train.columns.difference(['damage_grade']))]"
   ]
  },
  {
   "cell_type": "code",
   "execution_count": 62,
   "id": "23572f17",
   "metadata": {
    "execution": {
     "iopub.execute_input": "2023-04-16T08:05:46.488355Z",
     "iopub.status.busy": "2023-04-16T08:05:46.487941Z",
     "iopub.status.idle": "2023-04-16T08:05:47.570617Z",
     "shell.execute_reply": "2023-04-16T08:05:47.569369Z"
    },
    "id": "CVDRM9RmEYmT",
    "papermill": {
     "duration": 1.111636,
     "end_time": "2023-04-16T08:05:47.573798",
     "exception": false,
     "start_time": "2023-04-16T08:05:46.462162",
     "status": "completed"
    },
    "tags": []
   },
   "outputs": [],
   "source": [
    "test = preprocessor.transform(test)"
   ]
  },
  {
   "cell_type": "code",
   "execution_count": 63,
   "id": "e18104ab",
   "metadata": {
    "execution": {
     "iopub.execute_input": "2023-04-16T08:05:47.631892Z",
     "iopub.status.busy": "2023-04-16T08:05:47.631466Z",
     "iopub.status.idle": "2023-04-16T08:12:54.336591Z",
     "shell.execute_reply": "2023-04-16T08:12:54.335430Z"
    },
    "papermill": {
     "duration": 426.733334,
     "end_time": "2023-04-16T08:12:54.338924",
     "exception": false,
     "start_time": "2023-04-16T08:05:47.605590",
     "status": "completed"
    },
    "tags": []
   },
   "outputs": [
    {
     "name": "stderr",
     "output_type": "stream",
     "text": [
      "/opt/conda/lib/python3.7/site-packages/lightgbm/sklearn.py:736: UserWarning: 'verbose' argument is deprecated and will be removed in a future release of LightGBM. Pass 'log_evaluation()' callback via 'callbacks' argument instead.\n",
      "  _log_warning(\"'verbose' argument is deprecated and will be removed in a future release of LightGBM. \"\n"
     ]
    },
    {
     "data": {
      "text/plain": [
       "LGBMClassifier()"
      ]
     },
     "execution_count": 63,
     "metadata": {},
     "output_type": "execute_result"
    }
   ],
   "source": [
    "cb_final = CatBoostClassifier()\n",
    "cb_final.fit(X, y, verbose=0)\n",
    "\n",
    "xg_final = XGBClassifier()\n",
    "xg_final.fit(X, y, verbose=0)\n",
    "\n",
    "lgbm_final = LGBMClassifier()\n",
    "lgbm_final.fit(X, y, verbose=0)"
   ]
  },
  {
   "cell_type": "markdown",
   "id": "df8057fb",
   "metadata": {
    "papermill": {
     "duration": 0.023403,
     "end_time": "2023-04-16T08:12:54.386052",
     "exception": false,
     "start_time": "2023-04-16T08:12:54.362649",
     "status": "completed"
    },
    "tags": []
   },
   "source": [
    "## Solo Model"
   ]
  },
  {
   "cell_type": "markdown",
   "id": "f053cdcf",
   "metadata": {
    "papermill": {
     "duration": 0.023398,
     "end_time": "2023-04-16T08:12:54.433049",
     "exception": false,
     "start_time": "2023-04-16T08:12:54.409651",
     "status": "completed"
    },
    "tags": []
   },
   "source": [
    "### Hard"
   ]
  },
  {
   "cell_type": "code",
   "execution_count": 64,
   "id": "3c134c91",
   "metadata": {
    "execution": {
     "iopub.execute_input": "2023-04-16T08:12:54.483093Z",
     "iopub.status.busy": "2023-04-16T08:12:54.482263Z",
     "iopub.status.idle": "2023-04-16T08:13:05.848676Z",
     "shell.execute_reply": "2023-04-16T08:13:05.847679Z"
    },
    "id": "PnUmImCIBMjc",
    "outputId": "7d5d6e03-7cb4-4ac3-fad2-b9c2226caa25",
    "papermill": {
     "duration": 11.394294,
     "end_time": "2023-04-16T08:13:05.851109",
     "exception": false,
     "start_time": "2023-04-16T08:12:54.456815",
     "status": "completed"
    },
    "tags": []
   },
   "outputs": [
    {
     "data": {
      "text/html": [
       "<div>\n",
       "<style scoped>\n",
       "    .dataframe tbody tr th:only-of-type {\n",
       "        vertical-align: middle;\n",
       "    }\n",
       "\n",
       "    .dataframe tbody tr th {\n",
       "        vertical-align: top;\n",
       "    }\n",
       "\n",
       "    .dataframe thead th {\n",
       "        text-align: right;\n",
       "    }\n",
       "</style>\n",
       "<table border=\"1\" class=\"dataframe\">\n",
       "  <thead>\n",
       "    <tr style=\"text-align: right;\">\n",
       "      <th></th>\n",
       "      <th>id</th>\n",
       "      <th>damage_grade_xg</th>\n",
       "      <th>damage_grade_cb</th>\n",
       "      <th>damage_grade_lg</th>\n",
       "    </tr>\n",
       "  </thead>\n",
       "  <tbody>\n",
       "    <tr>\n",
       "      <th>0</th>\n",
       "      <td>0</td>\n",
       "      <td>5</td>\n",
       "      <td>5</td>\n",
       "      <td>5</td>\n",
       "    </tr>\n",
       "    <tr>\n",
       "      <th>1</th>\n",
       "      <td>1</td>\n",
       "      <td>5</td>\n",
       "      <td>5</td>\n",
       "      <td>5</td>\n",
       "    </tr>\n",
       "    <tr>\n",
       "      <th>2</th>\n",
       "      <td>2</td>\n",
       "      <td>5</td>\n",
       "      <td>5</td>\n",
       "      <td>5</td>\n",
       "    </tr>\n",
       "    <tr>\n",
       "      <th>3</th>\n",
       "      <td>3</td>\n",
       "      <td>4</td>\n",
       "      <td>4</td>\n",
       "      <td>4</td>\n",
       "    </tr>\n",
       "    <tr>\n",
       "      <th>4</th>\n",
       "      <td>4</td>\n",
       "      <td>2</td>\n",
       "      <td>2</td>\n",
       "      <td>2</td>\n",
       "    </tr>\n",
       "  </tbody>\n",
       "</table>\n",
       "</div>"
      ],
      "text/plain": [
       "   id  damage_grade_xg  damage_grade_cb  damage_grade_lg\n",
       "0   0                5                5                5\n",
       "1   1                5                5                5\n",
       "2   2                5                5                5\n",
       "3   3                4                4                4\n",
       "4   4                2                2                2"
      ]
     },
     "execution_count": 64,
     "metadata": {},
     "output_type": "execute_result"
    }
   ],
   "source": [
    "pred_test_cb = cb_final.predict(test)\n",
    "pred_test_xg = xg_final.predict(test)\n",
    "pred_test_lg = lgbm_final.predict(test)\n",
    "sub = pd.DataFrame({\n",
    "    'id': test_id,\n",
    "    'damage_grade_xg': pred_test_xg.ravel(),\n",
    "    'damage_grade_cb': pred_test_cb.ravel(),\n",
    "    'damage_grade_lg': pred_test_lg.ravel()\n",
    "})\n",
    "\n",
    "sub['damage_grade_xg'] = sub['damage_grade_xg'].apply(lambda x: x+1)\n",
    "sub['damage_grade_cb'] = sub['damage_grade_cb'].apply(lambda x: x+1)\n",
    "sub['damage_grade_lg'] = sub['damage_grade_lg'].apply(lambda x: x+1)\n",
    "\n",
    "sub.head(5)"
   ]
  },
  {
   "cell_type": "code",
   "execution_count": 65,
   "id": "948776b7",
   "metadata": {
    "execution": {
     "iopub.execute_input": "2023-04-16T08:13:05.902188Z",
     "iopub.status.busy": "2023-04-16T08:13:05.901432Z",
     "iopub.status.idle": "2023-04-16T08:13:05.911911Z",
     "shell.execute_reply": "2023-04-16T08:13:05.910792Z"
    },
    "papermill": {
     "duration": 0.038583,
     "end_time": "2023-04-16T08:13:05.914216",
     "exception": false,
     "start_time": "2023-04-16T08:13:05.875633",
     "status": "completed"
    },
    "tags": []
   },
   "outputs": [
    {
     "data": {
      "text/plain": [
       "5    110731\n",
       "3     41118\n",
       "4     38631\n",
       "2     32454\n",
       "1     19148\n",
       "Name: damage_grade_xg, dtype: int64"
      ]
     },
     "execution_count": 65,
     "metadata": {},
     "output_type": "execute_result"
    }
   ],
   "source": [
    "sub['damage_grade_xg'].value_counts()"
   ]
  },
  {
   "cell_type": "code",
   "execution_count": 66,
   "id": "81366346",
   "metadata": {
    "execution": {
     "iopub.execute_input": "2023-04-16T08:13:05.966162Z",
     "iopub.status.busy": "2023-04-16T08:13:05.965734Z",
     "iopub.status.idle": "2023-04-16T08:13:06.209355Z",
     "shell.execute_reply": "2023-04-16T08:13:06.208303Z"
    },
    "papermill": {
     "duration": 0.272823,
     "end_time": "2023-04-16T08:13:06.212217",
     "exception": false,
     "start_time": "2023-04-16T08:13:05.939394",
     "status": "completed"
    },
    "tags": []
   },
   "outputs": [],
   "source": [
    "sub[['id', 'damage_grade_xg']].rename(columns={'damage_grade_xg': 'damage_grade'}).to_csv('latest_pipe_xg.csv', index=False)"
   ]
  },
  {
   "cell_type": "code",
   "execution_count": 67,
   "id": "12263b2b",
   "metadata": {
    "execution": {
     "iopub.execute_input": "2023-04-16T08:13:06.263103Z",
     "iopub.status.busy": "2023-04-16T08:13:06.262672Z",
     "iopub.status.idle": "2023-04-16T08:13:06.273604Z",
     "shell.execute_reply": "2023-04-16T08:13:06.272434Z"
    },
    "papermill": {
     "duration": 0.039428,
     "end_time": "2023-04-16T08:13:06.276266",
     "exception": false,
     "start_time": "2023-04-16T08:13:06.236838",
     "status": "completed"
    },
    "tags": []
   },
   "outputs": [
    {
     "data": {
      "text/plain": [
       "5    110200\n",
       "3     41098\n",
       "4     39169\n",
       "2     32546\n",
       "1     19069\n",
       "Name: damage_grade_cb, dtype: int64"
      ]
     },
     "execution_count": 67,
     "metadata": {},
     "output_type": "execute_result"
    }
   ],
   "source": [
    "sub['damage_grade_cb'].value_counts()"
   ]
  },
  {
   "cell_type": "code",
   "execution_count": 68,
   "id": "c135b5d4",
   "metadata": {
    "execution": {
     "iopub.execute_input": "2023-04-16T08:13:06.328545Z",
     "iopub.status.busy": "2023-04-16T08:13:06.328163Z",
     "iopub.status.idle": "2023-04-16T08:13:06.566005Z",
     "shell.execute_reply": "2023-04-16T08:13:06.565011Z"
    },
    "papermill": {
     "duration": 0.266432,
     "end_time": "2023-04-16T08:13:06.568650",
     "exception": false,
     "start_time": "2023-04-16T08:13:06.302218",
     "status": "completed"
    },
    "tags": []
   },
   "outputs": [],
   "source": [
    "sub[['id', 'damage_grade_cb']].rename(columns={'damage_grade_cb': 'damage_grade'}).to_csv('latest_pipe_cb.csv', index=False)"
   ]
  },
  {
   "cell_type": "code",
   "execution_count": 69,
   "id": "76fe85c1",
   "metadata": {
    "execution": {
     "iopub.execute_input": "2023-04-16T08:13:06.619695Z",
     "iopub.status.busy": "2023-04-16T08:13:06.619285Z",
     "iopub.status.idle": "2023-04-16T08:13:06.630177Z",
     "shell.execute_reply": "2023-04-16T08:13:06.629003Z"
    },
    "papermill": {
     "duration": 0.039107,
     "end_time": "2023-04-16T08:13:06.632495",
     "exception": false,
     "start_time": "2023-04-16T08:13:06.593388",
     "status": "completed"
    },
    "tags": []
   },
   "outputs": [
    {
     "data": {
      "text/plain": [
       "5    110480\n",
       "3     41146\n",
       "4     38752\n",
       "2     32484\n",
       "1     19220\n",
       "Name: damage_grade_lg, dtype: int64"
      ]
     },
     "execution_count": 69,
     "metadata": {},
     "output_type": "execute_result"
    }
   ],
   "source": [
    "sub['damage_grade_lg'].value_counts()"
   ]
  },
  {
   "cell_type": "code",
   "execution_count": 70,
   "id": "f72b6589",
   "metadata": {
    "execution": {
     "iopub.execute_input": "2023-04-16T08:13:06.683967Z",
     "iopub.status.busy": "2023-04-16T08:13:06.683534Z",
     "iopub.status.idle": "2023-04-16T08:13:06.927296Z",
     "shell.execute_reply": "2023-04-16T08:13:06.926142Z"
    },
    "papermill": {
     "duration": 0.272786,
     "end_time": "2023-04-16T08:13:06.930009",
     "exception": false,
     "start_time": "2023-04-16T08:13:06.657223",
     "status": "completed"
    },
    "tags": []
   },
   "outputs": [],
   "source": [
    "sub[['id', 'damage_grade_lg']].rename(columns={'damage_grade_lg': 'damage_grade'}).to_csv('latest_pipe_lg.csv', index=False)"
   ]
  },
  {
   "cell_type": "markdown",
   "id": "e7213041",
   "metadata": {
    "papermill": {
     "duration": 0.024264,
     "end_time": "2023-04-16T08:13:06.978965",
     "exception": false,
     "start_time": "2023-04-16T08:13:06.954701",
     "status": "completed"
    },
    "tags": []
   },
   "source": [
    "### Prob"
   ]
  },
  {
   "cell_type": "code",
   "execution_count": 71,
   "id": "309ed535",
   "metadata": {
    "execution": {
     "iopub.execute_input": "2023-04-16T08:13:07.029890Z",
     "iopub.status.busy": "2023-04-16T08:13:07.029491Z",
     "iopub.status.idle": "2023-04-16T08:13:20.101466Z",
     "shell.execute_reply": "2023-04-16T08:13:20.100168Z"
    },
    "papermill": {
     "duration": 13.100692,
     "end_time": "2023-04-16T08:13:20.104393",
     "exception": false,
     "start_time": "2023-04-16T08:13:07.003701",
     "status": "completed"
    },
    "tags": []
   },
   "outputs": [],
   "source": [
    "pred_proba_cb = cb_final.predict_proba(test)\n",
    "pred_proba_xg = xg_final.predict_proba(test)\n",
    "pred_proba_lg = lgbm_final.predict_proba(test)\n",
    "threshold = 0.70 # set threshold for probability of class 5\n",
    "sub = pd.DataFrame({\n",
    "    'id': test_id,\n",
    "    'pred_proba_cb': [4 if pred[4] <= threshold and pred.argmax() + 1 == 5 else pred.argmax() + 1 for pred in pred_proba_cb],\n",
    "    'pred_proba_xg': [4 if pred[4] <= threshold and pred.argmax() + 1 == 5 else pred.argmax() + 1 for pred in pred_proba_xg],\n",
    "    'pred_proba_lg': [4 if pred[4] <= threshold and pred.argmax() + 1 == 5 else pred.argmax() + 1 for pred in pred_proba_lg]\n",
    "})"
   ]
  },
  {
   "cell_type": "code",
   "execution_count": 72,
   "id": "080569f9",
   "metadata": {
    "execution": {
     "iopub.execute_input": "2023-04-16T08:13:20.156251Z",
     "iopub.status.busy": "2023-04-16T08:13:20.155854Z",
     "iopub.status.idle": "2023-04-16T08:13:20.167641Z",
     "shell.execute_reply": "2023-04-16T08:13:20.166652Z"
    },
    "papermill": {
     "duration": 0.040328,
     "end_time": "2023-04-16T08:13:20.170158",
     "exception": false,
     "start_time": "2023-04-16T08:13:20.129830",
     "status": "completed"
    },
    "tags": []
   },
   "outputs": [
    {
     "data": {
      "text/plain": [
       "5    95841\n",
       "4    53521\n",
       "3    41118\n",
       "2    32454\n",
       "1    19148\n",
       "Name: pred_proba_xg, dtype: int64"
      ]
     },
     "execution_count": 72,
     "metadata": {},
     "output_type": "execute_result"
    }
   ],
   "source": [
    "sub['pred_proba_xg'].value_counts()"
   ]
  },
  {
   "cell_type": "code",
   "execution_count": 73,
   "id": "6ea6fe00",
   "metadata": {
    "execution": {
     "iopub.execute_input": "2023-04-16T08:13:20.224093Z",
     "iopub.status.busy": "2023-04-16T08:13:20.223351Z",
     "iopub.status.idle": "2023-04-16T08:13:20.463695Z",
     "shell.execute_reply": "2023-04-16T08:13:20.462397Z"
    },
    "papermill": {
     "duration": 0.270822,
     "end_time": "2023-04-16T08:13:20.466549",
     "exception": false,
     "start_time": "2023-04-16T08:13:20.195727",
     "status": "completed"
    },
    "tags": []
   },
   "outputs": [],
   "source": [
    "sub[['id', 'pred_proba_xg']].rename(columns={'pred_proba_xg': 'damage_grade'}).to_csv('thresh_pipe_xg.csv', index=False)"
   ]
  },
  {
   "cell_type": "code",
   "execution_count": 74,
   "id": "10d80edc",
   "metadata": {
    "execution": {
     "iopub.execute_input": "2023-04-16T08:13:20.517983Z",
     "iopub.status.busy": "2023-04-16T08:13:20.517548Z",
     "iopub.status.idle": "2023-04-16T08:13:20.531055Z",
     "shell.execute_reply": "2023-04-16T08:13:20.529880Z"
    },
    "papermill": {
     "duration": 0.042411,
     "end_time": "2023-04-16T08:13:20.533546",
     "exception": false,
     "start_time": "2023-04-16T08:13:20.491135",
     "status": "completed"
    },
    "tags": []
   },
   "outputs": [
    {
     "data": {
      "text/plain": [
       "5    96185\n",
       "4    53184\n",
       "3    41098\n",
       "2    32546\n",
       "1    19069\n",
       "Name: pred_proba_cb, dtype: int64"
      ]
     },
     "execution_count": 74,
     "metadata": {},
     "output_type": "execute_result"
    }
   ],
   "source": [
    "sub['pred_proba_cb'].value_counts()"
   ]
  },
  {
   "cell_type": "code",
   "execution_count": 75,
   "id": "e1acae99",
   "metadata": {
    "execution": {
     "iopub.execute_input": "2023-04-16T08:13:20.585085Z",
     "iopub.status.busy": "2023-04-16T08:13:20.584367Z",
     "iopub.status.idle": "2023-04-16T08:13:20.847846Z",
     "shell.execute_reply": "2023-04-16T08:13:20.846714Z"
    },
    "papermill": {
     "duration": 0.292375,
     "end_time": "2023-04-16T08:13:20.850682",
     "exception": false,
     "start_time": "2023-04-16T08:13:20.558307",
     "status": "completed"
    },
    "tags": []
   },
   "outputs": [],
   "source": [
    "sub[['id', 'pred_proba_cb']].rename(columns={'pred_proba_cb': 'damage_grade'}).to_csv('thresh_pipe_cb.csv', index=False)"
   ]
  },
  {
   "cell_type": "code",
   "execution_count": 76,
   "id": "75a08d0f",
   "metadata": {
    "execution": {
     "iopub.execute_input": "2023-04-16T08:13:20.902839Z",
     "iopub.status.busy": "2023-04-16T08:13:20.902398Z",
     "iopub.status.idle": "2023-04-16T08:13:20.914485Z",
     "shell.execute_reply": "2023-04-16T08:13:20.913217Z"
    },
    "papermill": {
     "duration": 0.041313,
     "end_time": "2023-04-16T08:13:20.917081",
     "exception": false,
     "start_time": "2023-04-16T08:13:20.875768",
     "status": "completed"
    },
    "tags": []
   },
   "outputs": [
    {
     "data": {
      "text/plain": [
       "5    94928\n",
       "4    54304\n",
       "3    41146\n",
       "2    32484\n",
       "1    19220\n",
       "Name: pred_proba_lg, dtype: int64"
      ]
     },
     "execution_count": 76,
     "metadata": {},
     "output_type": "execute_result"
    }
   ],
   "source": [
    "sub['pred_proba_lg'].value_counts()"
   ]
  },
  {
   "cell_type": "code",
   "execution_count": 77,
   "id": "95f4d2ca",
   "metadata": {
    "execution": {
     "iopub.execute_input": "2023-04-16T08:13:20.969186Z",
     "iopub.status.busy": "2023-04-16T08:13:20.968768Z",
     "iopub.status.idle": "2023-04-16T08:13:21.206669Z",
     "shell.execute_reply": "2023-04-16T08:13:21.205608Z"
    },
    "papermill": {
     "duration": 0.267221,
     "end_time": "2023-04-16T08:13:21.209512",
     "exception": false,
     "start_time": "2023-04-16T08:13:20.942291",
     "status": "completed"
    },
    "tags": []
   },
   "outputs": [],
   "source": [
    "sub[['id', 'pred_proba_lg']].rename(columns={'pred_proba_lg': 'damage_grade'}).to_csv('thresh_pipe_lg.csv', index=False)"
   ]
  },
  {
   "cell_type": "code",
   "execution_count": null,
   "id": "a582ecb3",
   "metadata": {
    "papermill": {
     "duration": 0.025142,
     "end_time": "2023-04-16T08:13:21.259503",
     "exception": false,
     "start_time": "2023-04-16T08:13:21.234361",
     "status": "completed"
    },
    "tags": []
   },
   "outputs": [],
   "source": []
  }
 ],
 "metadata": {
  "kernelspec": {
   "display_name": "Python 3",
   "language": "python",
   "name": "python3"
  },
  "language_info": {
   "codemirror_mode": {
    "name": "ipython",
    "version": 3
   },
   "file_extension": ".py",
   "mimetype": "text/x-python",
   "name": "python",
   "nbconvert_exporter": "python",
   "pygments_lexer": "ipython3",
   "version": "3.7.12"
  },
  "papermill": {
   "default_parameters": {},
   "duration": 2555.097669,
   "end_time": "2023-04-16T08:13:24.006821",
   "environment_variables": {},
   "exception": null,
   "input_path": "__notebook__.ipynb",
   "output_path": "__notebook__.ipynb",
   "parameters": {},
   "start_time": "2023-04-16T07:30:48.909152",
   "version": "2.4.0"
  }
 },
 "nbformat": 4,
 "nbformat_minor": 5
}
