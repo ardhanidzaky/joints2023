{
 "cells": [
  {
   "cell_type": "code",
   "execution_count": 1,
   "id": "70ad21af",
   "metadata": {
    "execution": {
     "iopub.execute_input": "2023-04-14T23:16:52.529000Z",
     "iopub.status.busy": "2023-04-14T23:16:52.528639Z",
     "iopub.status.idle": "2023-04-14T23:17:11.963352Z",
     "shell.execute_reply": "2023-04-14T23:17:11.961497Z"
    },
    "id": "ZHzLtKjvf1qd",
    "outputId": "a5224770-6014-467d-cd0e-914dd65592a4",
    "papermill": {
     "duration": 19.459363,
     "end_time": "2023-04-14T23:17:11.965972",
     "exception": false,
     "start_time": "2023-04-14T23:16:52.506609",
     "status": "completed"
    },
    "tags": []
   },
   "outputs": [
    {
     "name": "stdout",
     "output_type": "stream",
     "text": [
      "\u001b[33mWARNING: Running pip as the 'root' user can result in broken permissions and conflicting behaviour with the system package manager. It is recommended to use a virtual environment instead: https://pip.pypa.io/warnings/venv\u001b[0m\u001b[33m\r\n",
      "\u001b[0m\u001b[33mWARNING: Running pip as the 'root' user can result in broken permissions and conflicting behaviour with the system package manager. It is recommended to use a virtual environment instead: https://pip.pypa.io/warnings/venv\u001b[0m\u001b[33m\r\n",
      "\u001b[0m"
     ]
    }
   ],
   "source": [
    "!pip install --q catboost\n",
    "!pip install --q cleanlab"
   ]
  },
  {
   "cell_type": "code",
   "execution_count": 2,
   "id": "dda6bb05",
   "metadata": {
    "execution": {
     "iopub.execute_input": "2023-04-14T23:17:12.008462Z",
     "iopub.status.busy": "2023-04-14T23:17:12.007992Z",
     "iopub.status.idle": "2023-04-14T23:17:15.217032Z",
     "shell.execute_reply": "2023-04-14T23:17:15.215798Z"
    },
    "id": "13I1WOMxdtnp",
    "papermill": {
     "duration": 3.232599,
     "end_time": "2023-04-14T23:17:15.219470",
     "exception": false,
     "start_time": "2023-04-14T23:17:11.986871",
     "status": "completed"
    },
    "tags": []
   },
   "outputs": [
    {
     "data": {
      "text/html": [
       "<style type='text/css'>\n",
       ".datatable table.frame { margin-bottom: 0; }\n",
       ".datatable table.frame thead { border-bottom: none; }\n",
       ".datatable table.frame tr.coltypes td {  color: #FFFFFF;  line-height: 6px;  padding: 0 0.5em;}\n",
       ".datatable .bool    { background: #DDDD99; }\n",
       ".datatable .object  { background: #565656; }\n",
       ".datatable .int     { background: #5D9E5D; }\n",
       ".datatable .float   { background: #4040CC; }\n",
       ".datatable .str     { background: #CC4040; }\n",
       ".datatable .time    { background: #40CC40; }\n",
       ".datatable .row_index {  background: var(--jp-border-color3);  border-right: 1px solid var(--jp-border-color0);  color: var(--jp-ui-font-color3);  font-size: 9px;}\n",
       ".datatable .frame tbody td { text-align: left; }\n",
       ".datatable .frame tr.coltypes .row_index {  background: var(--jp-border-color0);}\n",
       ".datatable th:nth-child(2) { padding-left: 12px; }\n",
       ".datatable .hellipsis {  color: var(--jp-cell-editor-border-color);}\n",
       ".datatable .vellipsis {  background: var(--jp-layout-color0);  color: var(--jp-cell-editor-border-color);}\n",
       ".datatable .na {  color: var(--jp-cell-editor-border-color);  font-size: 80%;}\n",
       ".datatable .sp {  opacity: 0.25;}\n",
       ".datatable .footer { font-size: 9px; }\n",
       ".datatable .frame_dimensions {  background: var(--jp-border-color3);  border-top: 1px solid var(--jp-border-color0);  color: var(--jp-ui-font-color3);  display: inline-block;  opacity: 0.6;  padding: 1px 10px 1px 5px;}\n",
       "</style>\n"
      ],
      "text/plain": [
       "<IPython.core.display.HTML object>"
      ]
     },
     "metadata": {},
     "output_type": "display_data"
    }
   ],
   "source": [
    "import pandas as pd\n",
    "import seaborn as sns\n",
    "import matplotlib.pyplot as plt\n",
    "import numpy as np\n",
    "import cleanlab\n",
    "import re\n",
    "\n",
    "from catboost import CatBoostClassifier\n",
    "from xgboost import XGBClassifier\n",
    "from lightgbm import LGBMClassifier\n",
    "\n",
    "from sklearn.linear_model import LogisticRegression\n",
    "from sklearn.model_selection import train_test_split, StratifiedKFold, cross_val_predict, KFold\n",
    "from sklearn.preprocessing import StandardScaler, OneHotEncoder, LabelEncoder\n",
    "from sklearn.compose import ColumnTransformer\n",
    "from sklearn.metrics import accuracy_score, recall_score, precision_score, f1_score, classification_report"
   ]
  },
  {
   "cell_type": "code",
   "execution_count": 3,
   "id": "db3c18c3",
   "metadata": {
    "execution": {
     "iopub.execute_input": "2023-04-14T23:17:15.259892Z",
     "iopub.status.busy": "2023-04-14T23:17:15.259535Z",
     "iopub.status.idle": "2023-04-14T23:17:15.264594Z",
     "shell.execute_reply": "2023-04-14T23:17:15.262798Z"
    },
    "papermill": {
     "duration": 0.027725,
     "end_time": "2023-04-14T23:17:15.266523",
     "exception": false,
     "start_time": "2023-04-14T23:17:15.238798",
     "status": "completed"
    },
    "tags": []
   },
   "outputs": [],
   "source": [
    "pd.options.mode.chained_assignment = None"
   ]
  },
  {
   "cell_type": "markdown",
   "id": "88f15648",
   "metadata": {
    "id": "RiwTOwsKeqMu",
    "papermill": {
     "duration": 0.019407,
     "end_time": "2023-04-14T23:17:15.305025",
     "exception": false,
     "start_time": "2023-04-14T23:17:15.285618",
     "status": "completed"
    },
    "tags": []
   },
   "source": [
    "# Constants"
   ]
  },
  {
   "cell_type": "code",
   "execution_count": 4,
   "id": "e475004a",
   "metadata": {
    "execution": {
     "iopub.execute_input": "2023-04-14T23:17:15.347418Z",
     "iopub.status.busy": "2023-04-14T23:17:15.347030Z",
     "iopub.status.idle": "2023-04-14T23:17:15.353925Z",
     "shell.execute_reply": "2023-04-14T23:17:15.351774Z"
    },
    "id": "dg8O0ApberfB",
    "papermill": {
     "duration": 0.031513,
     "end_time": "2023-04-14T23:17:15.356564",
     "exception": false,
     "start_time": "2023-04-14T23:17:15.325051",
     "status": "completed"
    },
    "tags": []
   },
   "outputs": [],
   "source": [
    "wb_mapping = {\n",
    "    0: 'Unknown/not stated',\n",
    "    1: 'Clay',\n",
    "    2: 'Mortar + Cement',\n",
    "    3: 'Mortar + Cement, Clay',\n",
    "    5: 'Mud + Mortar, Clay',\n",
    "    7: 'Mud + Mortar, Clay, Cement + Mortar'\n",
    "}\n",
    "\n",
    "wm_mapping = {\n",
    "    0: 'Unknown/not stated',\n",
    "    1: 'Red Bricks',\n",
    "    2: 'Stone Bricks',\n",
    "    3: 'Red Bricks, Stone Bricks'\n",
    "}"
   ]
  },
  {
   "cell_type": "markdown",
   "id": "745cf213",
   "metadata": {
    "id": "oAZIPuR4dcwN",
    "papermill": {
     "duration": 0.019331,
     "end_time": "2023-04-14T23:17:15.395519",
     "exception": false,
     "start_time": "2023-04-14T23:17:15.376188",
     "status": "completed"
    },
    "tags": []
   },
   "source": [
    "# Pre-defined Function (Basic pre-processing)"
   ]
  },
  {
   "cell_type": "code",
   "execution_count": 5,
   "id": "72713353",
   "metadata": {
    "cellView": "form",
    "execution": {
     "iopub.execute_input": "2023-04-14T23:17:15.438393Z",
     "iopub.status.busy": "2023-04-14T23:17:15.437726Z",
     "iopub.status.idle": "2023-04-14T23:17:15.446958Z",
     "shell.execute_reply": "2023-04-14T23:17:15.445748Z"
    },
    "id": "DVsfP0ZmdZPG",
    "papermill": {
     "duration": 0.033024,
     "end_time": "2023-04-14T23:17:15.449047",
     "exception": false,
     "start_time": "2023-04-14T23:17:15.416023",
     "status": "completed"
    },
    "tags": []
   },
   "outputs": [],
   "source": [
    "#@title extract_num_floors\n",
    "def extract_num_floors(floor):\n",
    "    \"\"\"\n",
    "    This function extracts the number of floors from the 'floors_before_eq' column\n",
    "    and converts it to an integer. If the value is missing or cannot be converted\n",
    "    to an integer, it returns None.\n",
    "\n",
    "    Arguments:\n",
    "    - floor: The value in the 'floors_before_eq' column for a particular building\n",
    "\n",
    "    Returns:\n",
    "    - An integer representing the number of floors for the given building, or None\n",
    "      if the value is missing or cannot be converted to an integer.\n",
    "    \"\"\"\n",
    "    import re\n",
    "\n",
    "    if floor is None:\n",
    "        return None\n",
    "    else:\n",
    "        floor = str(floor)\n",
    "        floor = floor.lower()\n",
    "        if 'one' in floor or 'first' in floor or 'ground' in floor:\n",
    "            return 1\n",
    "        elif 'two' in floor or 'second' in floor:\n",
    "            return 2\n",
    "        elif 'three' in floor or 'third' in floor:\n",
    "            return 3\n",
    "        elif 'four' in floor or 'fourth' in floor:\n",
    "            return 4\n",
    "        elif 'five' in floor or 'fifth' in floor:\n",
    "            return 5\n",
    "        else:\n",
    "            floor = re.findall(r'\\d+', floor)\n",
    "            if len(floor) > 0:\n",
    "                return int(floor[0])\n",
    "            else:\n",
    "                return None"
   ]
  },
  {
   "cell_type": "code",
   "execution_count": 6,
   "id": "48a21255",
   "metadata": {
    "cellView": "form",
    "execution": {
     "iopub.execute_input": "2023-04-14T23:17:15.490333Z",
     "iopub.status.busy": "2023-04-14T23:17:15.489867Z",
     "iopub.status.idle": "2023-04-14T23:17:15.504719Z",
     "shell.execute_reply": "2023-04-14T23:17:15.502938Z"
    },
    "id": "ZXQSL2wbXpRl",
    "papermill": {
     "duration": 0.038886,
     "end_time": "2023-04-14T23:17:15.507570",
     "exception": false,
     "start_time": "2023-04-14T23:17:15.468684",
     "status": "completed"
    },
    "tags": []
   },
   "outputs": [],
   "source": [
    "#@title standardize_value\n",
    "def standardize_value(data):\n",
    "    \"\"\"\n",
    "    This function takes a pandas dataframe as input and returns a new pandas dataframe\n",
    "    where all the categorical values are standardized. For example, if 'RCC' and 'RC' \n",
    "    are used interchangeably in the 'foundation_type' column, this function will standardize \n",
    "    all the 'RCC' values to 'RC' to avoid any inconsistencies.\n",
    "    \"\"\"\n",
    "\n",
    "    # type_of_foundation\n",
    "    data['type_of_foundation'] = data['type_of_foundation'].replace('RC', 'Reinforced Concrete')\n",
    "    data['type_of_foundation'] = data['type_of_foundation'].replace(['Bamboo/TImber', 'Bamboo or Timber', 'Bamboo/Timber'], 'Bamboo/Timber')\n",
    "    data['type_of_foundation'] = data['type_of_foundation'].replace(['Other', 'Others'], 'Other')\n",
    "    data['type_of_foundation'] = data['type_of_foundation'].replace(['Cement-Stone/Brick', 'Cement-Stone or Cement-Brick'], 'Cement-Stone/Brick')\n",
    "    \n",
    "    # type_of_roof\n",
    "    data['type_of_roof'] = data['type_of_roof'].replace(['Bamboo/Timber Light roof', 'Bamboo/TImber-Light Roof', 'Bamboo or Timber Light roof'], 'Bamboo/Timber Light roof')\n",
    "    data['type_of_roof'] = data['type_of_roof'].replace(['Bamboo/Timber Heavy roof ', 'Bamboo/TImber-Heavy Roof', 'Bamboo or Timber Heavy roof'], 'Bamboo/Timber Heavy roof')\n",
    "    data['type_of_roof'] = data['type_of_roof'].replace(['reinforced cement concrete/rb/rbc', 'rcc/rb/rbc', 'Reinforced Brick Slab/rcc/rbc', 'Reinforced brick concrete/rcc/rbc'], 'rcc/rb/rbc')\n",
    "    \n",
    "    # type_of_ground_floor\n",
    "    data['type_of_ground_floor'] = data['type_of_ground_floor'].replace(['mud', 'Mud'], 'Mud')\n",
    "    data['type_of_ground_floor'] = data['type_of_ground_floor'].replace(['reinforced concrete', 'Reinforced Concrete', 'RC'], 'Reinforced Concrete ')\n",
    "    data['type_of_ground_floor'] = data['type_of_ground_floor'].replace(['Brick/Stone', 'brick/stone', 'Brick or Stone'], 'Brick/Stone')\n",
    "    data['type_of_ground_floor'] = data['type_of_ground_floor'].replace(['TImber', 'Timber', 'Wood', 'Lumber'], 'Wood')\n",
    "\n",
    "    # type_of_other_floor\n",
    "    data['type_of_other_floor'] = data['type_of_other_floor'].replace(['TImber/Bamboo-Mud', 'Timber Mud or Bamboo-Mud', 'Wood or Bamboo Mud'], 'Wood or Bamboo Mud')\n",
    "    data['type_of_other_floor'] = data['type_of_other_floor'].replace(['Timber-Planck', 'Lumber-plank', 'Wood-Plank'], 'Wood-Plank')\n",
    "    data['type_of_other_floor'] = data['type_of_other_floor'].replace(['rcc/rb/rbc', 'reinforced cement concrete/rb/rbc', 'Reinforced brick concrete/rcc/rbc'], 'rcc/rb/rbc')\n",
    "    data['type_of_other_floor'] = data['type_of_other_floor'].replace(['Wood or Bamboo Mud', 'Wood-Mud or Bamboo Mud'], 'Wood-Mud or Bamboo Mud ')\n",
    "\n",
    "    # legal_ownership_status\n",
    "    data['legal_ownership_status'] = data['legal_ownership_status'].replace(['Private', 'Private Use', 'Prvt', 'Privste'], 'Private')\n",
    "    data['legal_ownership_status'] = data['legal_ownership_status'].replace(['Public', 'Public Use', 'Public Space'], 'Public')\n",
    "    data['legal_ownership_status'] = data['legal_ownership_status'].replace(['Institutional', 'Institutional Use', 'Institutionals'], 'Institutional')\n",
    "    data['legal_ownership_status'] = data['legal_ownership_status'].replace(['Other', 'Unknown', 'Unspecified'], 'Other')\n",
    "\n",
    "    return data"
   ]
  },
  {
   "cell_type": "code",
   "execution_count": 7,
   "id": "91a83d78",
   "metadata": {
    "cellView": "form",
    "execution": {
     "iopub.execute_input": "2023-04-14T23:17:15.548963Z",
     "iopub.status.busy": "2023-04-14T23:17:15.548619Z",
     "iopub.status.idle": "2023-04-14T23:17:15.558592Z",
     "shell.execute_reply": "2023-04-14T23:17:15.557312Z"
    },
    "id": "ZHaRyzPnvA85",
    "papermill": {
     "duration": 0.033874,
     "end_time": "2023-04-14T23:17:15.561263",
     "exception": false,
     "start_time": "2023-04-14T23:17:15.527389",
     "status": "completed"
    },
    "tags": []
   },
   "outputs": [],
   "source": [
    "#@title find_label_issue_train\n",
    "def find_label_issue_train(data):\n",
    "    \"\"\"\n",
    "    Find label errors in the training data using the Confident Learning framework.\n",
    "\n",
    "    Arguments:\n",
    "    - data: A pandas DataFrame containing the training data.\n",
    "\n",
    "    Returns:\n",
    "    - A list of indices of examples in the training data that are likely to have label errors.\n",
    "\n",
    "    References: \n",
    "    \"\"\"\n",
    "    # Step 1: Apply a machine learning model to the training data to obtain predicted labels.\n",
    "    # This model should be trained using standard techniques and should not take into account the issue of label errors.\n",
    "    # Here, we assume that the model is already trained and is available for use.\n",
    "\n",
    "    # Step 2: Compute the empirical distribution of the predicted labels.\n",
    "    # This distribution will be used later to estimate the noise distribution.\n",
    "\n",
    "    # Step 3: Compute the joint distribution of the predicted labels and the true labels.\n",
    "    # This distribution can be estimated using the empirical distribution of the predicted labels and an estimate of the noise distribution.\n",
    "\n",
    "    # Step 4: Rank the examples in the training data by their likelihood of being mislabeled.\n",
    "    # This can be done by computing the conditional probability of the true label given the predicted label.\n",
    "\n",
    "    # Step 5: Identify examples that are likely to be mislabeled.\n",
    "    # This can be done by selecting examples with low confidence and high probability of being mislabeled.\n",
    "\n",
    "    # Step 6: Return the indices of the examples that are likely to be mislabeled.\n",
    "    # These examples can be further examined to determine if they are indeed mislabeled, and corrected if necessary.\n",
    "    # Alternatively, they can be removed from the training data to improve the performance of the machine learning model.\n",
    "\n",
    "    X = data[data.columns.difference(['damage_grade'])]\n",
    "    y = data['damage_grade']\n",
    "\n",
    "    numerical_cols = X.select_dtypes(include=['int64', 'float64']).columns.tolist()\n",
    "    categorical_cols = X.select_dtypes(include=['object']).columns.tolist()\n",
    "\n",
    "    numerical_transformer = StandardScaler()\n",
    "    categorical_transformer = OneHotEncoder(sparse=False)\n",
    "\n",
    "    preprocessor = ColumnTransformer(\n",
    "        transformers=[\n",
    "            ('num', numerical_transformer, numerical_cols),\n",
    "            ('cat', categorical_transformer, categorical_cols)\n",
    "        ])\n",
    "\n",
    "    X = preprocessor.fit_transform(X)\n",
    "\n",
    "    label_encoder = LabelEncoder()\n",
    "    y = label_encoder.fit_transform(y)\n",
    "\n",
    "    model = XGBClassifier(tree_method=\"hist\", enable_categorical=True)\n",
    "    pred_probs = cross_val_predict(model, X, y, method='predict_proba')\n",
    "\n",
    "    cl_issue_idx = cleanlab.filter.find_label_issues(y, pred_probs, return_indices_ranked_by='self_confidence')\n",
    "    \n",
    "    selected_rows = data.iloc[cl_issue_idx]\n",
    "    inverted_selection = data[~data.index.isin(cl_issue_idx)]\n",
    "\n",
    "    return inverted_selection"
   ]
  },
  {
   "cell_type": "code",
   "execution_count": 8,
   "id": "84376458",
   "metadata": {
    "cellView": "form",
    "execution": {
     "iopub.execute_input": "2023-04-14T23:17:15.602661Z",
     "iopub.status.busy": "2023-04-14T23:17:15.602278Z",
     "iopub.status.idle": "2023-04-14T23:17:15.612227Z",
     "shell.execute_reply": "2023-04-14T23:17:15.610768Z"
    },
    "id": "zG4AwLU0eMhw",
    "papermill": {
     "duration": 0.033837,
     "end_time": "2023-04-14T23:17:15.614788",
     "exception": false,
     "start_time": "2023-04-14T23:17:15.580951",
     "status": "completed"
    },
    "tags": []
   },
   "outputs": [],
   "source": [
    "#@title complete_pipeline\n",
    "def complete_pipeline(data):\n",
    "    \"\"\"\n",
    "    This function takes a pandas dataframe as input, processes it through\n",
    "    various steps including missing value imputation, feature engineering,\n",
    "    and standardization, and returns the processed dataframe ready for\n",
    "    machine learning modeling. The function is designed to handle both\n",
    "    training and testing data by distinguishing between them based on the\n",
    "    presence of the 'damage_grade' column.\n",
    "    \"\"\"\n",
    "\n",
    "    # floors_before_eq (total)\n",
    "    data['floors_before_eq (total)'] = data['floors_before_eq (total)'].apply(lambda x: extract_num_floors(x))\n",
    "\n",
    "    # missing value\n",
    "    data = data[data['floors_before_eq (total)'].notna()]\n",
    "    data = data[data['plinth_area (ft^2)'].notna()]\n",
    "    data['technical_solution_proposed'] = data['technical_solution_proposed'].fillna('Unspecified')\n",
    "\n",
    "    # replace and lambda\n",
    "    data['plinth_area (ft^2)'] = data['plinth_area (ft^2)'].str.extract('(\\d+)').astype(float)\n",
    "    \n",
    "    data['no_family_residing'] = data['no_family_residing'].replace('None', 0).astype(float)\n",
    "    data['wall_binding'] = data['wall_binding'].replace(wb_mapping)\n",
    "    data['wall_material'] = data['wall_material'].replace(wm_mapping)\n",
    "\n",
    "    # data['type_of_reinforcement_concrete'] = data['type_of_reinforcement_concrete'].apply(lambda x: f'Type: {str(x)}')\n",
    "    \n",
    "    # value standardization\n",
    "    data = standardize_value(data)\n",
    "\n",
    "    # same group of features, different label\n",
    "    data = data.groupby(list(data.columns.difference(['damage_grade']))).filter(lambda x: len(set(x['damage_grade'])) == 1)\n",
    "\n",
    "    # label issue in train data\n",
    "    data = data.reset_index()\n",
    "    data.drop(['index'], axis=1, inplace=True)\n",
    "    data = find_label_issue_train(data)\n",
    "    \n",
    "    return data"
   ]
  },
  {
   "cell_type": "code",
   "execution_count": 9,
   "id": "2d18746e",
   "metadata": {
    "cellView": "form",
    "execution": {
     "iopub.execute_input": "2023-04-14T23:17:15.655384Z",
     "iopub.status.busy": "2023-04-14T23:17:15.654903Z",
     "iopub.status.idle": "2023-04-14T23:17:15.663144Z",
     "shell.execute_reply": "2023-04-14T23:17:15.661780Z"
    },
    "id": "jLW6Gqys6mzF",
    "papermill": {
     "duration": 0.031932,
     "end_time": "2023-04-14T23:17:15.665897",
     "exception": false,
     "start_time": "2023-04-14T23:17:15.633965",
     "status": "completed"
    },
    "tags": []
   },
   "outputs": [],
   "source": [
    "#@title complete_pipeline_test\n",
    "def complete_pipeline_test(data):\n",
    "    \"\"\"\n",
    "    This function takes a pandas dataframe as input, processes it through\n",
    "    various steps including missing value imputation, feature engineering,\n",
    "    and standardization, and returns the processed dataframe ready for\n",
    "    machine learning modeling. The function is designed to handle both\n",
    "    training and testing data by distinguishing between them based on the\n",
    "    presence of the 'damage_grade' column.\n",
    "    \"\"\"\n",
    "    \n",
    "    data['floors_before_eq (total)'] = data['floors_before_eq (total)'].apply(lambda x: extract_num_floors(x))\n",
    "\n",
    "    # others\n",
    "    data['plinth_area (ft^2)'] = data['plinth_area (ft^2)'].str.extract('(\\d+)').astype(float)\n",
    "    \n",
    "    data['no_family_residing'] = data['no_family_residing'].replace('None', 0).astype(float)\n",
    "    data['wall_binding'] = data['wall_binding'].replace(wb_mapping)\n",
    "    data['wall_material'] = data['wall_material'].replace(wm_mapping)\n",
    "    \n",
    "    data['type_of_reinforcement_concrete'] = data['type_of_reinforcement_concrete'].apply(lambda x: f'Type: {str(float(x))}')\n",
    "\n",
    "    # value standardization\n",
    "    data = standardize_value(data)\n",
    "    \n",
    "    return data"
   ]
  },
  {
   "cell_type": "code",
   "execution_count": 10,
   "id": "fb8ccb6d",
   "metadata": {
    "cellView": "form",
    "execution": {
     "iopub.execute_input": "2023-04-14T23:17:15.707905Z",
     "iopub.status.busy": "2023-04-14T23:17:15.707482Z",
     "iopub.status.idle": "2023-04-14T23:17:15.716385Z",
     "shell.execute_reply": "2023-04-14T23:17:15.714973Z"
    },
    "id": "M-iZTblLJ2X9",
    "papermill": {
     "duration": 0.033584,
     "end_time": "2023-04-14T23:17:15.719128",
     "exception": false,
     "start_time": "2023-04-14T23:17:15.685544",
     "status": "completed"
    },
    "tags": []
   },
   "outputs": [],
   "source": [
    "#@title cross_val_multiclass\n",
    "def cross_val_multiclass(model, X, y, num_folds=5):\n",
    "    from sklearn.model_selection import KFold, cross_val_score\n",
    "    from sklearn.metrics import f1_score\n",
    "    import numpy as np\n",
    "\n",
    "    kf = KFold(n_splits=num_folds, shuffle=True, random_state=42)\n",
    "    f1_scores = []\n",
    "    for train_idx, test_idx in kf.split(X):\n",
    "        X_train, X_test = X[train_idx], X[test_idx]\n",
    "        y_train, y_test = y[train_idx], y[test_idx]\n",
    "        model.fit(X_train, y_train, verbose=0)\n",
    "        y_pred = model.predict(X_test)\n",
    "        f1_scores.append(f1_score(y_test, y_pred, average='macro'))\n",
    "    return np.mean(f1_scores), np.std(f1_scores)"
   ]
  },
  {
   "cell_type": "code",
   "execution_count": 11,
   "id": "119a6add",
   "metadata": {
    "cellView": "form",
    "execution": {
     "iopub.execute_input": "2023-04-14T23:17:15.761491Z",
     "iopub.status.busy": "2023-04-14T23:17:15.761081Z",
     "iopub.status.idle": "2023-04-14T23:17:15.769026Z",
     "shell.execute_reply": "2023-04-14T23:17:15.767515Z"
    },
    "id": "wkje0UzBJ8TJ",
    "papermill": {
     "duration": 0.032445,
     "end_time": "2023-04-14T23:17:15.771725",
     "exception": false,
     "start_time": "2023-04-14T23:17:15.739280",
     "status": "completed"
    },
    "tags": []
   },
   "outputs": [],
   "source": [
    "#@title categorical_correlation\n",
    "def categorical_correlation(var1, var2):\n",
    "    import scipy.stats as stats\n",
    "\n",
    "    contingency_table = pd.crosstab(var1, var2)\n",
    "  \n",
    "    chi2, p, dof, expected = stats.chi2_contingency(contingency_table)\n",
    "    \n",
    "    n = contingency_table.sum().sum()\n",
    "    phi2 = chi2/n\n",
    "    r, k = contingency_table.shape\n",
    "    phi2corr = max(0, phi2 - ((k-1)*(r-1))/(n-1))\n",
    "    rcorr = r - ((r-1)**2)/(n-1)\n",
    "    kcorr = k - ((k-1)**2)/(n-1)\n",
    "    V = np.sqrt(phi2corr / min((kcorr-1), (rcorr-1)))\n",
    "    \n",
    "    return {\"Chi-squared test\": {\"test statistic\": chi2, \"p-value\": p}, \"Cramer's V\": V}"
   ]
  },
  {
   "cell_type": "markdown",
   "id": "631459de",
   "metadata": {
    "id": "ldT1thHxg2Oh",
    "papermill": {
     "duration": 0.019064,
     "end_time": "2023-04-14T23:17:15.810997",
     "exception": false,
     "start_time": "2023-04-14T23:17:15.791933",
     "status": "completed"
    },
    "tags": []
   },
   "source": [
    "# Basic Data Cleaning"
   ]
  },
  {
   "cell_type": "code",
   "execution_count": 12,
   "id": "c759a83f",
   "metadata": {
    "execution": {
     "iopub.execute_input": "2023-04-14T23:17:15.852064Z",
     "iopub.status.busy": "2023-04-14T23:17:15.851692Z",
     "iopub.status.idle": "2023-04-14T23:20:58.472004Z",
     "shell.execute_reply": "2023-04-14T23:20:58.470745Z"
    },
    "id": "IA7Mmlo-g5my",
    "outputId": "b61943de-cce7-4e2d-df8e-db6be9b04b97",
    "papermill": {
     "duration": 222.643724,
     "end_time": "2023-04-14T23:20:58.474535",
     "exception": false,
     "start_time": "2023-04-14T23:17:15.830811",
     "status": "completed"
    },
    "tags": []
   },
   "outputs": [
    {
     "name": "stderr",
     "output_type": "stream",
     "text": [
      "/opt/conda/lib/python3.7/site-packages/IPython/core/interactiveshell.py:3553: DtypeWarning: Columns (1,3,5,6,7,8,9,10,11,12,13,16,17,19,20) have mixed types.Specify dtype option on import or set low_memory=False.\n",
      "  exec(code_obj, self.user_global_ns, self.user_ns)\n"
     ]
    }
   ],
   "source": [
    "train = pd.read_csv('/kaggle/input/jointsugm/train.csv')\n",
    "train.drop(['Unnamed: 0'], axis=1, inplace=True)\n",
    "\n",
    "train = complete_pipeline(train)\n",
    "train = train.reset_index()\n",
    "train.drop(['index'], axis=1, inplace=True)"
   ]
  },
  {
   "cell_type": "code",
   "execution_count": 13,
   "id": "7e2c8001",
   "metadata": {
    "execution": {
     "iopub.execute_input": "2023-04-14T23:20:58.515773Z",
     "iopub.status.busy": "2023-04-14T23:20:58.514786Z",
     "iopub.status.idle": "2023-04-14T23:20:58.644784Z",
     "shell.execute_reply": "2023-04-14T23:20:58.643359Z"
    },
    "papermill": {
     "duration": 0.153965,
     "end_time": "2023-04-14T23:20:58.647594",
     "exception": false,
     "start_time": "2023-04-14T23:20:58.493629",
     "status": "completed"
    },
    "tags": []
   },
   "outputs": [
    {
     "name": "stdout",
     "output_type": "stream",
     "text": [
      "<class 'pandas.core.frame.DataFrame'>\n",
      "RangeIndex: 193502 entries, 0 to 193501\n",
      "Data columns (total 24 columns):\n",
      " #   Column                          Non-Null Count   Dtype  \n",
      "---  ------                          --------------   -----  \n",
      " 0   floors_before_eq (total)        193502 non-null  float64\n",
      " 1   old_building                    193502 non-null  float64\n",
      " 2   plinth_area (ft^2)              193502 non-null  float64\n",
      " 3   height_before_eq (ft)           193502 non-null  float64\n",
      " 4   land_surface_condition          193502 non-null  object \n",
      " 5   type_of_foundation              193502 non-null  object \n",
      " 6   type_of_roof                    193502 non-null  object \n",
      " 7   type_of_ground_floor            193502 non-null  object \n",
      " 8   type_of_other_floor             193502 non-null  object \n",
      " 9   position                        193502 non-null  object \n",
      " 10  building_plan_configuration     193502 non-null  object \n",
      " 11  technical_solution_proposed     193502 non-null  object \n",
      " 12  legal_ownership_status          193502 non-null  object \n",
      " 13  has_secondary_use               193502 non-null  float64\n",
      " 14  type_of_reinforcement_concrete  193502 non-null  float64\n",
      " 15  residential_type                193502 non-null  object \n",
      " 16  no_family_residing              193502 non-null  float64\n",
      " 17  public_place_type               193502 non-null  object \n",
      " 18  industrial_use_type             193502 non-null  object \n",
      " 19  govermental_use_type            193502 non-null  object \n",
      " 20  flexible_superstructure         193502 non-null  object \n",
      " 21  wall_binding                    193502 non-null  object \n",
      " 22  wall_material                   193502 non-null  object \n",
      " 23  damage_grade                    193502 non-null  float64\n",
      "dtypes: float64(8), object(16)\n",
      "memory usage: 35.4+ MB\n"
     ]
    }
   ],
   "source": [
    "train.info()"
   ]
  },
  {
   "cell_type": "code",
   "execution_count": 14,
   "id": "af2a902f",
   "metadata": {
    "execution": {
     "iopub.execute_input": "2023-04-14T23:20:58.691152Z",
     "iopub.status.busy": "2023-04-14T23:20:58.688890Z",
     "iopub.status.idle": "2023-04-14T23:20:58.706064Z",
     "shell.execute_reply": "2023-04-14T23:20:58.704884Z"
    },
    "id": "7ItlpPXRMBAw",
    "papermill": {
     "duration": 0.041141,
     "end_time": "2023-04-14T23:20:58.708554",
     "exception": false,
     "start_time": "2023-04-14T23:20:58.667413",
     "status": "completed"
    },
    "tags": []
   },
   "outputs": [],
   "source": [
    "# Inverse (will be predicted)\n",
    "train['technical_solution_proposed'] = train['technical_solution_proposed'].replace('Unspecified', np.nan)"
   ]
  },
  {
   "cell_type": "code",
   "execution_count": 15,
   "id": "1e469425",
   "metadata": {
    "execution": {
     "iopub.execute_input": "2023-04-14T23:20:58.748817Z",
     "iopub.status.busy": "2023-04-14T23:20:58.748425Z",
     "iopub.status.idle": "2023-04-14T23:20:58.869988Z",
     "shell.execute_reply": "2023-04-14T23:20:58.867918Z"
    },
    "papermill": {
     "duration": 0.144419,
     "end_time": "2023-04-14T23:20:58.872589",
     "exception": false,
     "start_time": "2023-04-14T23:20:58.728170",
     "status": "completed"
    },
    "tags": []
   },
   "outputs": [
    {
     "name": "stdout",
     "output_type": "stream",
     "text": [
      "<class 'pandas.core.frame.DataFrame'>\n",
      "RangeIndex: 193502 entries, 0 to 193501\n",
      "Data columns (total 24 columns):\n",
      " #   Column                          Non-Null Count   Dtype  \n",
      "---  ------                          --------------   -----  \n",
      " 0   floors_before_eq (total)        193502 non-null  float64\n",
      " 1   old_building                    193502 non-null  float64\n",
      " 2   plinth_area (ft^2)              193502 non-null  float64\n",
      " 3   height_before_eq (ft)           193502 non-null  float64\n",
      " 4   land_surface_condition          193502 non-null  object \n",
      " 5   type_of_foundation              193502 non-null  object \n",
      " 6   type_of_roof                    193502 non-null  object \n",
      " 7   type_of_ground_floor            193502 non-null  object \n",
      " 8   type_of_other_floor             193502 non-null  object \n",
      " 9   position                        193502 non-null  object \n",
      " 10  building_plan_configuration     193502 non-null  object \n",
      " 11  technical_solution_proposed     33772 non-null   object \n",
      " 12  legal_ownership_status          193502 non-null  object \n",
      " 13  has_secondary_use               193502 non-null  float64\n",
      " 14  type_of_reinforcement_concrete  193502 non-null  float64\n",
      " 15  residential_type                193502 non-null  object \n",
      " 16  no_family_residing              193502 non-null  float64\n",
      " 17  public_place_type               193502 non-null  object \n",
      " 18  industrial_use_type             193502 non-null  object \n",
      " 19  govermental_use_type            193502 non-null  object \n",
      " 20  flexible_superstructure         193502 non-null  object \n",
      " 21  wall_binding                    193502 non-null  object \n",
      " 22  wall_material                   193502 non-null  object \n",
      " 23  damage_grade                    193502 non-null  float64\n",
      "dtypes: float64(8), object(16)\n",
      "memory usage: 35.4+ MB\n"
     ]
    }
   ],
   "source": [
    "train.info()"
   ]
  },
  {
   "cell_type": "markdown",
   "id": "9a39b4d1",
   "metadata": {
    "id": "cpj1zg3rgxRh",
    "papermill": {
     "duration": 0.020003,
     "end_time": "2023-04-14T23:20:58.913215",
     "exception": false,
     "start_time": "2023-04-14T23:20:58.893212",
     "status": "completed"
    },
    "tags": []
   },
   "source": [
    "# Start Here"
   ]
  },
  {
   "cell_type": "markdown",
   "id": "eaebdfd9",
   "metadata": {
    "id": "jIEvyCNkhYNJ",
    "papermill": {
     "duration": 0.019656,
     "end_time": "2023-04-14T23:20:58.953007",
     "exception": false,
     "start_time": "2023-04-14T23:20:58.933351",
     "status": "completed"
    },
    "tags": []
   },
   "source": [
    "# Feature Engineering"
   ]
  },
  {
   "cell_type": "markdown",
   "id": "70bd7e3a",
   "metadata": {
    "id": "MqTCvYlYJRmY",
    "papermill": {
     "duration": 0.019668,
     "end_time": "2023-04-14T23:20:58.992842",
     "exception": false,
     "start_time": "2023-04-14T23:20:58.973174",
     "status": "completed"
    },
    "tags": []
   },
   "source": [
    "## technical_solution_proposed"
   ]
  },
  {
   "cell_type": "code",
   "execution_count": 16,
   "id": "54540f5f",
   "metadata": {
    "execution": {
     "iopub.execute_input": "2023-04-14T23:20:59.035764Z",
     "iopub.status.busy": "2023-04-14T23:20:59.035385Z",
     "iopub.status.idle": "2023-04-14T23:21:00.773485Z",
     "shell.execute_reply": "2023-04-14T23:21:00.771788Z"
    },
    "id": "jEgyzUCyJg4k",
    "outputId": "1443c9d5-9ad8-475c-aab5-1b5f09b8c8f0",
    "papermill": {
     "duration": 1.762685,
     "end_time": "2023-04-14T23:21:00.776181",
     "exception": false,
     "start_time": "2023-04-14T23:20:59.013496",
     "status": "completed"
    },
    "tags": []
   },
   "outputs": [
    {
     "name": "stderr",
     "output_type": "stream",
     "text": [
      "/opt/conda/lib/python3.7/site-packages/IPython/core/interactiveshell.py:3553: DtypeWarning: Columns (1,3,5,6,7,8,9,10,11,12,13,16,17,19,20) have mixed types.Specify dtype option on import or set low_memory=False.\n",
      "  exec(code_obj, self.user_global_ns, self.user_ns)\n"
     ]
    }
   ],
   "source": [
    "temp = pd.read_csv('/kaggle/input/jointsugm/train.csv')\n",
    "temp.drop(['Unnamed: 0'], axis=1, inplace=True)\n",
    "\n",
    "temp = temp[temp['technical_solution_proposed'].notna()]"
   ]
  },
  {
   "cell_type": "code",
   "execution_count": 17,
   "id": "7387f9e0",
   "metadata": {
    "execution": {
     "iopub.execute_input": "2023-04-14T23:21:00.817715Z",
     "iopub.status.busy": "2023-04-14T23:21:00.817355Z",
     "iopub.status.idle": "2023-04-14T23:21:00.846874Z",
     "shell.execute_reply": "2023-04-14T23:21:00.845896Z"
    },
    "id": "q3pj4PK-HSVT",
    "outputId": "0d9df13d-f111-4794-953e-f02c757c380a",
    "papermill": {
     "duration": 0.053425,
     "end_time": "2023-04-14T23:21:00.849338",
     "exception": false,
     "start_time": "2023-04-14T23:21:00.795913",
     "status": "completed"
    },
    "tags": []
   },
   "outputs": [
    {
     "name": "stdout",
     "output_type": "stream",
     "text": [
      "{'Chi-squared test': {'test statistic': 85160.66206990725, 'p-value': 0.0}, \"Cramer's V\": 0.7787797312345093}\n"
     ]
    }
   ],
   "source": [
    "result = categorical_correlation(temp['technical_solution_proposed'], temp['damage_grade'])\n",
    "print(result)"
   ]
  },
  {
   "cell_type": "code",
   "execution_count": 18,
   "id": "eea4f742",
   "metadata": {
    "execution": {
     "iopub.execute_input": "2023-04-14T23:21:00.891559Z",
     "iopub.status.busy": "2023-04-14T23:21:00.890788Z",
     "iopub.status.idle": "2023-04-14T23:21:01.178761Z",
     "shell.execute_reply": "2023-04-14T23:21:01.177720Z"
    },
    "id": "erlSmEcgJkO5",
    "outputId": "f85fa89b-e9fd-4196-ded0-507df6cb5ed2",
    "papermill": {
     "duration": 0.311246,
     "end_time": "2023-04-14T23:21:01.180811",
     "exception": false,
     "start_time": "2023-04-14T23:21:00.869565",
     "status": "completed"
    },
    "tags": []
   },
   "outputs": [
    {
     "data": {
      "image/png": "[encoded data removed]",
      "text/plain": [
       "<Figure size 640x480 with 1 Axes>"
      ]
     },
     "metadata": {},
     "output_type": "display_data"
    }
   ],
   "source": [
    "sns.countplot(x=\"technical_solution_proposed\", hue=\"damage_grade\", data=temp)\n",
    "\n",
    "plt.xlabel(\"Technical Solution Proposed\")\n",
    "plt.ylabel(\"Count\")\n",
    "plt.title(\"Damage Grade per Technical Solution Proposed\")\n",
    "plt.show()"
   ]
  },
  {
   "cell_type": "markdown",
   "id": "1f83f4ac",
   "metadata": {
    "id": "0g0FzpREKWY8",
    "papermill": {
     "duration": 0.020203,
     "end_time": "2023-04-14T23:21:01.221156",
     "exception": false,
     "start_time": "2023-04-14T23:21:01.200953",
     "status": "completed"
    },
    "tags": []
   },
   "source": [
    "### Predict the missing technical_solution_proposed for imputing train"
   ]
  },
  {
   "cell_type": "code",
   "execution_count": 19,
   "id": "3216ca28",
   "metadata": {
    "execution": {
     "iopub.execute_input": "2023-04-14T23:21:01.265283Z",
     "iopub.status.busy": "2023-04-14T23:21:01.264125Z",
     "iopub.status.idle": "2023-04-14T23:21:01.281013Z",
     "shell.execute_reply": "2023-04-14T23:21:01.280213Z"
    },
    "id": "PbnZnMltXzhs",
    "papermill": {
     "duration": 0.041598,
     "end_time": "2023-04-14T23:21:01.283643",
     "exception": false,
     "start_time": "2023-04-14T23:21:01.242045",
     "status": "completed"
    },
    "tags": []
   },
   "outputs": [],
   "source": [
    "titr = train.copy()"
   ]
  },
  {
   "cell_type": "code",
   "execution_count": 20,
   "id": "697f4b35",
   "metadata": {
    "execution": {
     "iopub.execute_input": "2023-04-14T23:21:01.326422Z",
     "iopub.status.busy": "2023-04-14T23:21:01.325959Z",
     "iopub.status.idle": "2023-04-14T23:21:01.356728Z",
     "shell.execute_reply": "2023-04-14T23:21:01.354857Z"
    },
    "id": "r_d3XLsvX5O4",
    "papermill": {
     "duration": 0.055702,
     "end_time": "2023-04-14T23:21:01.359578",
     "exception": false,
     "start_time": "2023-04-14T23:21:01.303876",
     "status": "completed"
    },
    "tags": []
   },
   "outputs": [],
   "source": [
    "titr = titr[titr['technical_solution_proposed'].notna()]"
   ]
  },
  {
   "cell_type": "code",
   "execution_count": 21,
   "id": "05e4e060",
   "metadata": {
    "execution": {
     "iopub.execute_input": "2023-04-14T23:21:01.403547Z",
     "iopub.status.busy": "2023-04-14T23:21:01.403134Z",
     "iopub.status.idle": "2023-04-14T23:21:01.411536Z",
     "shell.execute_reply": "2023-04-14T23:21:01.410163Z"
    },
    "papermill": {
     "duration": 0.034084,
     "end_time": "2023-04-14T23:21:01.414580",
     "exception": false,
     "start_time": "2023-04-14T23:21:01.380496",
     "status": "completed"
    },
    "tags": []
   },
   "outputs": [
    {
     "data": {
      "text/plain": [
       "(33772, 24)"
      ]
     },
     "execution_count": 21,
     "metadata": {},
     "output_type": "execute_result"
    }
   ],
   "source": [
    "titr.shape"
   ]
  },
  {
   "cell_type": "code",
   "execution_count": 22,
   "id": "c990be4e",
   "metadata": {
    "execution": {
     "iopub.execute_input": "2023-04-14T23:21:01.459103Z",
     "iopub.status.busy": "2023-04-14T23:21:01.458711Z",
     "iopub.status.idle": "2023-04-14T23:21:02.492748Z",
     "shell.execute_reply": "2023-04-14T23:21:02.491348Z"
    },
    "id": "M81sjcI7Kc1b",
    "outputId": "47e24822-9e98-4e50-cb82-8a7792ce46d1",
    "papermill": {
     "duration": 1.059677,
     "end_time": "2023-04-14T23:21:02.495322",
     "exception": false,
     "start_time": "2023-04-14T23:21:01.435645",
     "status": "completed"
    },
    "tags": []
   },
   "outputs": [],
   "source": [
    "X_titr = titr[titr.columns.difference(['technical_solution_proposed'])]\n",
    "y_titr = titr['technical_solution_proposed']\n",
    "\n",
    "numerical_cols = X_titr.select_dtypes(include=['int64', 'float64']).columns.tolist()\n",
    "categorical_cols = X_titr.select_dtypes(include=['object']).columns.tolist()\n",
    "\n",
    "numerical_transformer = StandardScaler()\n",
    "categorical_transformer = OneHotEncoder(sparse=False)\n",
    "\n",
    "titr_preproc = ColumnTransformer(\n",
    "    transformers=[\n",
    "        ('num', numerical_transformer, numerical_cols),\n",
    "        ('cat', categorical_transformer, categorical_cols)\n",
    "    ])\n",
    "\n",
    "titr_preproc = titr_preproc.fit(train[train.columns.difference(['technical_solution_proposed'])])\n",
    "X_titr = titr_preproc.transform(X_titr)\n",
    "\n",
    "titr_le = LabelEncoder()\n",
    "y_titr = titr_le.fit_transform(y_titr)"
   ]
  },
  {
   "cell_type": "code",
   "execution_count": 23,
   "id": "590e4512",
   "metadata": {
    "execution": {
     "iopub.execute_input": "2023-04-14T23:21:02.538400Z",
     "iopub.status.busy": "2023-04-14T23:21:02.537992Z",
     "iopub.status.idle": "2023-04-14T23:22:12.207566Z",
     "shell.execute_reply": "2023-04-14T23:22:12.206729Z"
    },
    "papermill": {
     "duration": 69.694191,
     "end_time": "2023-04-14T23:22:12.209961",
     "exception": false,
     "start_time": "2023-04-14T23:21:02.515770",
     "status": "completed"
    },
    "tags": []
   },
   "outputs": [],
   "source": [
    "cb_titr = XGBClassifier()\n",
    "f1_avg, f1_std = cross_val_multiclass(cb_titr, X_titr, y_titr)"
   ]
  },
  {
   "cell_type": "code",
   "execution_count": 24,
   "id": "9a5b1c65",
   "metadata": {
    "execution": {
     "iopub.execute_input": "2023-04-14T23:22:12.252780Z",
     "iopub.status.busy": "2023-04-14T23:22:12.252183Z",
     "iopub.status.idle": "2023-04-14T23:22:12.257784Z",
     "shell.execute_reply": "2023-04-14T23:22:12.256295Z"
    },
    "id": "kr3cqJu2L5Tp",
    "outputId": "c155e04d-a227-4a6c-99b1-d7e5d9f82eb2",
    "papermill": {
     "duration": 0.029885,
     "end_time": "2023-04-14T23:22:12.260345",
     "exception": false,
     "start_time": "2023-04-14T23:22:12.230460",
     "status": "completed"
    },
    "tags": []
   },
   "outputs": [
    {
     "name": "stdout",
     "output_type": "stream",
     "text": [
      "Avg: 0.9670656336018455, Std: 0.0021510256753391075\n"
     ]
    }
   ],
   "source": [
    "print(f'Avg: {f1_avg}, Std: {f1_std}')"
   ]
  },
  {
   "cell_type": "code",
   "execution_count": 25,
   "id": "177cbeb3",
   "metadata": {
    "execution": {
     "iopub.execute_input": "2023-04-14T23:22:12.304076Z",
     "iopub.status.busy": "2023-04-14T23:22:12.303471Z",
     "iopub.status.idle": "2023-04-14T23:22:29.742593Z",
     "shell.execute_reply": "2023-04-14T23:22:29.741322Z"
    },
    "id": "A4GNI7b9uGls",
    "papermill": {
     "duration": 17.46406,
     "end_time": "2023-04-14T23:22:29.744986",
     "exception": false,
     "start_time": "2023-04-14T23:22:12.280926",
     "status": "completed"
    },
    "tags": []
   },
   "outputs": [
    {
     "data": {
      "text/plain": [
       "XGBClassifier(base_score=0.5, booster='gbtree', callbacks=None,\n",
       "              colsample_bylevel=1, colsample_bynode=1, colsample_bytree=1,\n",
       "              early_stopping_rounds=None, enable_categorical=False,\n",
       "              eval_metric=None, gamma=0, gpu_id=-1, grow_policy='depthwise',\n",
       "              importance_type=None, interaction_constraints='',\n",
       "              learning_rate=0.300000012, max_bin=256, max_cat_to_onehot=4,\n",
       "              max_delta_step=0, max_depth=6, max_leaves=0, min_child_weight=1,\n",
       "              missing=nan, monotone_constraints='()', n_estimators=100,\n",
       "              n_jobs=0, num_parallel_tree=1, objective='multi:softprob',\n",
       "              predictor='auto', random_state=0, reg_alpha=0, ...)"
      ]
     },
     "execution_count": 25,
     "metadata": {},
     "output_type": "execute_result"
    }
   ],
   "source": [
    "cb_titr = XGBClassifier()\n",
    "cb_titr.fit(X_titr, y_titr, verbose=0)"
   ]
  },
  {
   "cell_type": "code",
   "execution_count": 26,
   "id": "ce674576",
   "metadata": {
    "execution": {
     "iopub.execute_input": "2023-04-14T23:22:29.786703Z",
     "iopub.status.busy": "2023-04-14T23:22:29.786352Z",
     "iopub.status.idle": "2023-04-14T23:22:29.802502Z",
     "shell.execute_reply": "2023-04-14T23:22:29.801366Z"
    },
    "papermill": {
     "duration": 0.040543,
     "end_time": "2023-04-14T23:22:29.805672",
     "exception": false,
     "start_time": "2023-04-14T23:22:29.765129",
     "status": "completed"
    },
    "tags": []
   },
   "outputs": [],
   "source": [
    "train_before = train.copy()"
   ]
  },
  {
   "cell_type": "code",
   "execution_count": 27,
   "id": "9c9b627a",
   "metadata": {
    "execution": {
     "iopub.execute_input": "2023-04-14T23:22:29.848474Z",
     "iopub.status.busy": "2023-04-14T23:22:29.848073Z",
     "iopub.status.idle": "2023-04-14T23:22:29.874794Z",
     "shell.execute_reply": "2023-04-14T23:22:29.872969Z"
    },
    "papermill": {
     "duration": 0.051265,
     "end_time": "2023-04-14T23:22:29.877578",
     "exception": false,
     "start_time": "2023-04-14T23:22:29.826313",
     "status": "completed"
    },
    "tags": []
   },
   "outputs": [],
   "source": [
    "train = train_before.copy()"
   ]
  },
  {
   "cell_type": "code",
   "execution_count": 28,
   "id": "454c9a9c",
   "metadata": {
    "execution": {
     "iopub.execute_input": "2023-04-14T23:22:29.921458Z",
     "iopub.status.busy": "2023-04-14T23:22:29.920461Z",
     "iopub.status.idle": "2023-04-14T23:22:31.088453Z",
     "shell.execute_reply": "2023-04-14T23:22:31.087166Z"
    },
    "papermill": {
     "duration": 1.192745,
     "end_time": "2023-04-14T23:22:31.091039",
     "exception": false,
     "start_time": "2023-04-14T23:22:29.898294",
     "status": "completed"
    },
    "tags": []
   },
   "outputs": [],
   "source": [
    "train.loc[train['technical_solution_proposed'].isna(), 'technical_solution_proposed'] = titr_le.inverse_transform(cb_titr.predict(titr_preproc.transform(train.loc[train['technical_solution_proposed'].isna(), train.columns.difference(['technical_solution_proposed'])]))).ravel()"
   ]
  },
  {
   "cell_type": "markdown",
   "id": "55bd7c7d",
   "metadata": {
    "id": "B7DXS3VrLIsi",
    "papermill": {
     "duration": 0.020273,
     "end_time": "2023-04-14T23:22:31.132014",
     "exception": false,
     "start_time": "2023-04-14T23:22:31.111741",
     "status": "completed"
    },
    "tags": []
   },
   "source": [
    "## Others"
   ]
  },
  {
   "cell_type": "code",
   "execution_count": 29,
   "id": "4f943213",
   "metadata": {
    "execution": {
     "iopub.execute_input": "2023-04-14T23:22:31.175572Z",
     "iopub.status.busy": "2023-04-14T23:22:31.175166Z",
     "iopub.status.idle": "2023-04-14T23:22:31.296580Z",
     "shell.execute_reply": "2023-04-14T23:22:31.295315Z"
    },
    "papermill": {
     "duration": 0.147229,
     "end_time": "2023-04-14T23:22:31.299909",
     "exception": false,
     "start_time": "2023-04-14T23:22:31.152680",
     "status": "completed"
    },
    "tags": []
   },
   "outputs": [
    {
     "name": "stdout",
     "output_type": "stream",
     "text": [
      "<class 'pandas.core.frame.DataFrame'>\n",
      "RangeIndex: 193502 entries, 0 to 193501\n",
      "Data columns (total 24 columns):\n",
      " #   Column                          Non-Null Count   Dtype  \n",
      "---  ------                          --------------   -----  \n",
      " 0   floors_before_eq (total)        193502 non-null  float64\n",
      " 1   old_building                    193502 non-null  float64\n",
      " 2   plinth_area (ft^2)              193502 non-null  float64\n",
      " 3   height_before_eq (ft)           193502 non-null  float64\n",
      " 4   land_surface_condition          193502 non-null  object \n",
      " 5   type_of_foundation              193502 non-null  object \n",
      " 6   type_of_roof                    193502 non-null  object \n",
      " 7   type_of_ground_floor            193502 non-null  object \n",
      " 8   type_of_other_floor             193502 non-null  object \n",
      " 9   position                        193502 non-null  object \n",
      " 10  building_plan_configuration     193502 non-null  object \n",
      " 11  technical_solution_proposed     193502 non-null  object \n",
      " 12  legal_ownership_status          193502 non-null  object \n",
      " 13  has_secondary_use               193502 non-null  float64\n",
      " 14  type_of_reinforcement_concrete  193502 non-null  float64\n",
      " 15  residential_type                193502 non-null  object \n",
      " 16  no_family_residing              193502 non-null  float64\n",
      " 17  public_place_type               193502 non-null  object \n",
      " 18  industrial_use_type             193502 non-null  object \n",
      " 19  govermental_use_type            193502 non-null  object \n",
      " 20  flexible_superstructure         193502 non-null  object \n",
      " 21  wall_binding                    193502 non-null  object \n",
      " 22  wall_material                   193502 non-null  object \n",
      " 23  damage_grade                    193502 non-null  float64\n",
      "dtypes: float64(8), object(16)\n",
      "memory usage: 35.4+ MB\n"
     ]
    }
   ],
   "source": [
    "train.info()"
   ]
  },
  {
   "cell_type": "code",
   "execution_count": 30,
   "id": "f20d6095",
   "metadata": {
    "execution": {
     "iopub.execute_input": "2023-04-14T23:22:31.342147Z",
     "iopub.status.busy": "2023-04-14T23:22:31.341778Z",
     "iopub.status.idle": "2023-04-14T23:22:31.348758Z",
     "shell.execute_reply": "2023-04-14T23:22:31.346946Z"
    },
    "papermill": {
     "duration": 0.030854,
     "end_time": "2023-04-14T23:22:31.351096",
     "exception": false,
     "start_time": "2023-04-14T23:22:31.320242",
     "status": "completed"
    },
    "tags": []
   },
   "outputs": [],
   "source": [
    "def percentage_table(df, column):\n",
    "    value_counts = df[column].value_counts()\n",
    "    total_obs = value_counts.sum()\n",
    "    percentage = (value_counts / total_obs) * 100\n",
    "    return pd.concat([value_counts, percentage], axis=1, keys=['Count', 'Percentage'])"
   ]
  },
  {
   "cell_type": "code",
   "execution_count": 31,
   "id": "d3bad997",
   "metadata": {
    "execution": {
     "iopub.execute_input": "2023-04-14T23:22:31.395838Z",
     "iopub.status.busy": "2023-04-14T23:22:31.394097Z",
     "iopub.status.idle": "2023-04-14T23:22:31.425785Z",
     "shell.execute_reply": "2023-04-14T23:22:31.424083Z"
    },
    "papermill": {
     "duration": 0.056697,
     "end_time": "2023-04-14T23:22:31.428676",
     "exception": false,
     "start_time": "2023-04-14T23:22:31.371979",
     "status": "completed"
    },
    "tags": []
   },
   "outputs": [
    {
     "data": {
      "text/html": [
       "<div>\n",
       "<style scoped>\n",
       "    .dataframe tbody tr th:only-of-type {\n",
       "        vertical-align: middle;\n",
       "    }\n",
       "\n",
       "    .dataframe tbody tr th {\n",
       "        vertical-align: top;\n",
       "    }\n",
       "\n",
       "    .dataframe thead th {\n",
       "        text-align: right;\n",
       "    }\n",
       "</style>\n",
       "<table border=\"1\" class=\"dataframe\">\n",
       "  <thead>\n",
       "    <tr style=\"text-align: right;\">\n",
       "      <th></th>\n",
       "      <th>Count</th>\n",
       "      <th>Percentage</th>\n",
       "    </tr>\n",
       "  </thead>\n",
       "  <tbody>\n",
       "    <tr>\n",
       "      <th>Stone Bricks</th>\n",
       "      <td>157977</td>\n",
       "      <td>81.641017</td>\n",
       "    </tr>\n",
       "    <tr>\n",
       "      <th>Unknown/not stated</th>\n",
       "      <td>18674</td>\n",
       "      <td>9.650546</td>\n",
       "    </tr>\n",
       "    <tr>\n",
       "      <th>Red Bricks</th>\n",
       "      <td>14343</td>\n",
       "      <td>7.412326</td>\n",
       "    </tr>\n",
       "    <tr>\n",
       "      <th>Red Bricks, Stone Bricks</th>\n",
       "      <td>2508</td>\n",
       "      <td>1.296111</td>\n",
       "    </tr>\n",
       "  </tbody>\n",
       "</table>\n",
       "</div>"
      ],
      "text/plain": [
       "                           Count  Percentage\n",
       "Stone Bricks              157977   81.641017\n",
       "Unknown/not stated         18674    9.650546\n",
       "Red Bricks                 14343    7.412326\n",
       "Red Bricks, Stone Bricks    2508    1.296111"
      ]
     },
     "execution_count": 31,
     "metadata": {},
     "output_type": "execute_result"
    }
   ],
   "source": [
    "percentage_table(train, 'wall_material')"
   ]
  },
  {
   "cell_type": "code",
   "execution_count": 32,
   "id": "3a3fd955",
   "metadata": {
    "execution": {
     "iopub.execute_input": "2023-04-14T23:22:31.473605Z",
     "iopub.status.busy": "2023-04-14T23:22:31.472856Z",
     "iopub.status.idle": "2023-04-14T23:22:31.503414Z",
     "shell.execute_reply": "2023-04-14T23:22:31.502313Z"
    },
    "papermill": {
     "duration": 0.055734,
     "end_time": "2023-04-14T23:22:31.506024",
     "exception": false,
     "start_time": "2023-04-14T23:22:31.450290",
     "status": "completed"
    },
    "tags": []
   },
   "outputs": [],
   "source": [
    "train.drop(['building_plan_configuration', 'legal_ownership_status', 'type_of_reinforcement_concrete',\n",
    "           'residential_type', 'public_place_type', 'industrial_use_type', 'govermental_use_type', 'flexible_superstructure'], axis=1, inplace=True)"
   ]
  },
  {
   "cell_type": "code",
   "execution_count": 33,
   "id": "5eedc87c",
   "metadata": {
    "execution": {
     "iopub.execute_input": "2023-04-14T23:22:31.549270Z",
     "iopub.status.busy": "2023-04-14T23:22:31.548900Z",
     "iopub.status.idle": "2023-04-14T23:22:31.586018Z",
     "shell.execute_reply": "2023-04-14T23:22:31.585094Z"
    },
    "id": "bQmhjQJvLJjw",
    "papermill": {
     "duration": 0.06138,
     "end_time": "2023-04-14T23:22:31.588284",
     "exception": false,
     "start_time": "2023-04-14T23:22:31.526904",
     "status": "completed"
    },
    "tags": []
   },
   "outputs": [],
   "source": [
    "train['total_building_area (ft^2)'] = train['plinth_area (ft^2)'] * train['height_before_eq (ft)']\n",
    "train['area_to_height_ratio'] = train['plinth_area (ft^2)'] / train['height_before_eq (ft)']\n",
    "train['height per floor (ft)'] = train['height_before_eq (ft)'] / train['floors_before_eq (total)']\n",
    "train['tsp_toof'] = train['technical_solution_proposed'] + '_' + train['type_of_other_floor']"
   ]
  },
  {
   "cell_type": "code",
   "execution_count": 34,
   "id": "ee5769d8",
   "metadata": {
    "execution": {
     "iopub.execute_input": "2023-04-14T23:22:31.633802Z",
     "iopub.status.busy": "2023-04-14T23:22:31.632367Z",
     "iopub.status.idle": "2023-04-14T23:22:31.641125Z",
     "shell.execute_reply": "2023-04-14T23:22:31.639735Z"
    },
    "papermill": {
     "duration": 0.033424,
     "end_time": "2023-04-14T23:22:31.643239",
     "exception": false,
     "start_time": "2023-04-14T23:22:31.609815",
     "status": "completed"
    },
    "tags": []
   },
   "outputs": [],
   "source": [
    "train['gross_floor_area'] = train['plinth_area (ft^2)'] * train['floors_before_eq (total)']\n",
    "train['floor_area_ratio'] = train['total_building_area (ft^2)'] / train['gross_floor_area']"
   ]
  },
  {
   "cell_type": "code",
   "execution_count": 35,
   "id": "51a04cf3",
   "metadata": {
    "execution": {
     "iopub.execute_input": "2023-04-14T23:22:31.686017Z",
     "iopub.status.busy": "2023-04-14T23:22:31.685629Z",
     "iopub.status.idle": "2023-04-14T23:22:31.790067Z",
     "shell.execute_reply": "2023-04-14T23:22:31.788838Z"
    },
    "papermill": {
     "duration": 0.128782,
     "end_time": "2023-04-14T23:22:31.792766",
     "exception": false,
     "start_time": "2023-04-14T23:22:31.663984",
     "status": "completed"
    },
    "tags": []
   },
   "outputs": [],
   "source": [
    "train = train[train['height per floor (ft)'] <= 15]\n",
    "train = train.reset_index()\n",
    "train.drop(['index'], axis=1, inplace=True)"
   ]
  },
  {
   "cell_type": "code",
   "execution_count": 36,
   "id": "b92d9407",
   "metadata": {
    "execution": {
     "iopub.execute_input": "2023-04-14T23:22:31.836850Z",
     "iopub.status.busy": "2023-04-14T23:22:31.835926Z",
     "iopub.status.idle": "2023-04-14T23:22:31.918502Z",
     "shell.execute_reply": "2023-04-14T23:22:31.916927Z"
    },
    "papermill": {
     "duration": 0.107416,
     "end_time": "2023-04-14T23:22:31.920919",
     "exception": false,
     "start_time": "2023-04-14T23:22:31.813503",
     "status": "completed"
    },
    "tags": []
   },
   "outputs": [
    {
     "name": "stdout",
     "output_type": "stream",
     "text": [
      "<class 'pandas.core.frame.DataFrame'>\n",
      "RangeIndex: 192441 entries, 0 to 192440\n",
      "Data columns (total 22 columns):\n",
      " #   Column                       Non-Null Count   Dtype  \n",
      "---  ------                       --------------   -----  \n",
      " 0   floors_before_eq (total)     192441 non-null  float64\n",
      " 1   old_building                 192441 non-null  float64\n",
      " 2   plinth_area (ft^2)           192441 non-null  float64\n",
      " 3   height_before_eq (ft)        192441 non-null  float64\n",
      " 4   land_surface_condition       192441 non-null  object \n",
      " 5   type_of_foundation           192441 non-null  object \n",
      " 6   type_of_roof                 192441 non-null  object \n",
      " 7   type_of_ground_floor         192441 non-null  object \n",
      " 8   type_of_other_floor          192441 non-null  object \n",
      " 9   position                     192441 non-null  object \n",
      " 10  technical_solution_proposed  192441 non-null  object \n",
      " 11  has_secondary_use            192441 non-null  float64\n",
      " 12  no_family_residing           192441 non-null  float64\n",
      " 13  wall_binding                 192441 non-null  object \n",
      " 14  wall_material                192441 non-null  object \n",
      " 15  damage_grade                 192441 non-null  float64\n",
      " 16  total_building_area (ft^2)   192441 non-null  float64\n",
      " 17  area_to_height_ratio         192441 non-null  float64\n",
      " 18  height per floor (ft)        192441 non-null  float64\n",
      " 19  tsp_toof                     192441 non-null  object \n",
      " 20  gross_floor_area             192441 non-null  float64\n",
      " 21  floor_area_ratio             192441 non-null  float64\n",
      "dtypes: float64(12), object(10)\n",
      "memory usage: 32.3+ MB\n"
     ]
    }
   ],
   "source": [
    "train.info()"
   ]
  },
  {
   "cell_type": "code",
   "execution_count": 37,
   "id": "0cdd36b5",
   "metadata": {
    "execution": {
     "iopub.execute_input": "2023-04-14T23:22:31.967020Z",
     "iopub.status.busy": "2023-04-14T23:22:31.966632Z",
     "iopub.status.idle": "2023-04-14T23:22:33.841741Z",
     "shell.execute_reply": "2023-04-14T23:22:33.840172Z"
    },
    "papermill": {
     "duration": 1.901174,
     "end_time": "2023-04-14T23:22:33.844350",
     "exception": false,
     "start_time": "2023-04-14T23:22:31.943176",
     "status": "completed"
    },
    "tags": []
   },
   "outputs": [],
   "source": [
    "train.to_csv('train_fed.csv', index=False)"
   ]
  },
  {
   "cell_type": "markdown",
   "id": "dbc6bd46",
   "metadata": {
    "papermill": {
     "duration": 0.020421,
     "end_time": "2023-04-14T23:22:33.886763",
     "exception": false,
     "start_time": "2023-04-14T23:22:33.866342",
     "status": "completed"
    },
    "tags": []
   },
   "source": [
    "### Re-CL"
   ]
  },
  {
   "cell_type": "code",
   "execution_count": 38,
   "id": "b6e77a25",
   "metadata": {
    "execution": {
     "iopub.execute_input": "2023-04-14T23:22:33.931040Z",
     "iopub.status.busy": "2023-04-14T23:22:33.930641Z",
     "iopub.status.idle": "2023-04-14T23:22:34.383563Z",
     "shell.execute_reply": "2023-04-14T23:22:34.381810Z"
    },
    "papermill": {
     "duration": 0.478871,
     "end_time": "2023-04-14T23:22:34.386621",
     "exception": false,
     "start_time": "2023-04-14T23:22:33.907750",
     "status": "completed"
    },
    "tags": []
   },
   "outputs": [],
   "source": [
    "train = pd.read_csv('train_fed.csv')"
   ]
  },
  {
   "cell_type": "code",
   "execution_count": 39,
   "id": "ecfd3064",
   "metadata": {
    "execution": {
     "iopub.execute_input": "2023-04-14T23:22:34.430168Z",
     "iopub.status.busy": "2023-04-14T23:22:34.429774Z",
     "iopub.status.idle": "2023-04-14T23:23:03.179096Z",
     "shell.execute_reply": "2023-04-14T23:23:03.178098Z"
    },
    "papermill": {
     "duration": 28.774237,
     "end_time": "2023-04-14T23:23:03.181812",
     "exception": false,
     "start_time": "2023-04-14T23:22:34.407575",
     "status": "completed"
    },
    "tags": []
   },
   "outputs": [
    {
     "data": {
      "text/plain": [
       "(192047, 22)"
      ]
     },
     "execution_count": 39,
     "metadata": {},
     "output_type": "execute_result"
    }
   ],
   "source": [
    "train = train.groupby(list(train.columns.difference(['damage_grade']))).filter(lambda x: len(set(x['damage_grade'])) == 1)\n",
    "train.shape"
   ]
  },
  {
   "cell_type": "code",
   "execution_count": 40,
   "id": "792de3db",
   "metadata": {
    "execution": {
     "iopub.execute_input": "2023-04-14T23:23:03.236560Z",
     "iopub.status.busy": "2023-04-14T23:23:03.236184Z",
     "iopub.status.idle": "2023-04-14T23:23:03.288830Z",
     "shell.execute_reply": "2023-04-14T23:23:03.281186Z"
    },
    "papermill": {
     "duration": 0.085769,
     "end_time": "2023-04-14T23:23:03.292496",
     "exception": false,
     "start_time": "2023-04-14T23:23:03.206727",
     "status": "completed"
    },
    "tags": []
   },
   "outputs": [],
   "source": [
    "train = train.reset_index()\n",
    "train.drop(['index'], axis=1, inplace=True)"
   ]
  },
  {
   "cell_type": "code",
   "execution_count": 41,
   "id": "a5a7e40a",
   "metadata": {
    "execution": {
     "iopub.execute_input": "2023-04-14T23:23:03.347184Z",
     "iopub.status.busy": "2023-04-14T23:23:03.346785Z",
     "iopub.status.idle": "2023-04-14T23:24:36.263648Z",
     "shell.execute_reply": "2023-04-14T23:24:36.262509Z"
    },
    "papermill": {
     "duration": 92.963732,
     "end_time": "2023-04-14T23:24:36.285960",
     "exception": false,
     "start_time": "2023-04-14T23:23:03.322228",
     "status": "completed"
    },
    "tags": []
   },
   "outputs": [
    {
     "data": {
      "text/plain": [
       "(180953, 22)"
      ]
     },
     "execution_count": 41,
     "metadata": {},
     "output_type": "execute_result"
    }
   ],
   "source": [
    "train = find_label_issue_train(train)\n",
    "train = train.reset_index()\n",
    "train.drop(['index'], axis=1, inplace=True)\n",
    "train.shape"
   ]
  },
  {
   "cell_type": "code",
   "execution_count": 42,
   "id": "18fd7777",
   "metadata": {
    "execution": {
     "iopub.execute_input": "2023-04-14T23:24:36.330630Z",
     "iopub.status.busy": "2023-04-14T23:24:36.330225Z",
     "iopub.status.idle": "2023-04-14T23:24:36.410986Z",
     "shell.execute_reply": "2023-04-14T23:24:36.409741Z"
    },
    "papermill": {
     "duration": 0.106266,
     "end_time": "2023-04-14T23:24:36.413663",
     "exception": false,
     "start_time": "2023-04-14T23:24:36.307397",
     "status": "completed"
    },
    "tags": []
   },
   "outputs": [
    {
     "name": "stdout",
     "output_type": "stream",
     "text": [
      "<class 'pandas.core.frame.DataFrame'>\n",
      "RangeIndex: 180953 entries, 0 to 180952\n",
      "Data columns (total 22 columns):\n",
      " #   Column                       Non-Null Count   Dtype  \n",
      "---  ------                       --------------   -----  \n",
      " 0   floors_before_eq (total)     180953 non-null  float64\n",
      " 1   old_building                 180953 non-null  float64\n",
      " 2   plinth_area (ft^2)           180953 non-null  float64\n",
      " 3   height_before_eq (ft)        180953 non-null  float64\n",
      " 4   land_surface_condition       180953 non-null  object \n",
      " 5   type_of_foundation           180953 non-null  object \n",
      " 6   type_of_roof                 180953 non-null  object \n",
      " 7   type_of_ground_floor         180953 non-null  object \n",
      " 8   type_of_other_floor          180953 non-null  object \n",
      " 9   position                     180953 non-null  object \n",
      " 10  technical_solution_proposed  180953 non-null  object \n",
      " 11  has_secondary_use            180953 non-null  float64\n",
      " 12  no_family_residing           180953 non-null  float64\n",
      " 13  wall_binding                 180953 non-null  object \n",
      " 14  wall_material                180953 non-null  object \n",
      " 15  damage_grade                 180953 non-null  float64\n",
      " 16  total_building_area (ft^2)   180953 non-null  float64\n",
      " 17  area_to_height_ratio         180953 non-null  float64\n",
      " 18  height per floor (ft)        180953 non-null  float64\n",
      " 19  tsp_toof                     180953 non-null  object \n",
      " 20  gross_floor_area             180953 non-null  float64\n",
      " 21  floor_area_ratio             180953 non-null  float64\n",
      "dtypes: float64(12), object(10)\n",
      "memory usage: 30.4+ MB\n"
     ]
    }
   ],
   "source": [
    "train.info()"
   ]
  },
  {
   "cell_type": "code",
   "execution_count": 43,
   "id": "e6087159",
   "metadata": {
    "execution": {
     "iopub.execute_input": "2023-04-14T23:24:36.459908Z",
     "iopub.status.busy": "2023-04-14T23:24:36.459389Z",
     "iopub.status.idle": "2023-04-14T23:24:38.165721Z",
     "shell.execute_reply": "2023-04-14T23:24:38.164683Z"
    },
    "papermill": {
     "duration": 1.732106,
     "end_time": "2023-04-14T23:24:38.168127",
     "exception": false,
     "start_time": "2023-04-14T23:24:36.436021",
     "status": "completed"
    },
    "tags": []
   },
   "outputs": [],
   "source": [
    "train.to_csv('train_final.csv', index=False)"
   ]
  },
  {
   "cell_type": "code",
   "execution_count": 44,
   "id": "17cfca94",
   "metadata": {
    "execution": {
     "iopub.execute_input": "2023-04-14T23:24:38.211595Z",
     "iopub.status.busy": "2023-04-14T23:24:38.211197Z",
     "iopub.status.idle": "2023-04-14T23:24:38.623886Z",
     "shell.execute_reply": "2023-04-14T23:24:38.622803Z"
    },
    "papermill": {
     "duration": 0.437316,
     "end_time": "2023-04-14T23:24:38.626429",
     "exception": false,
     "start_time": "2023-04-14T23:24:38.189113",
     "status": "completed"
    },
    "tags": []
   },
   "outputs": [],
   "source": [
    "train = pd.read_csv('/kaggle/working/train_final.csv')"
   ]
  },
  {
   "cell_type": "markdown",
   "id": "98839a58",
   "metadata": {
    "id": "UtuwcJBXhWu1",
    "papermill": {
     "duration": 0.020659,
     "end_time": "2023-04-14T23:24:38.668125",
     "exception": false,
     "start_time": "2023-04-14T23:24:38.647466",
     "status": "completed"
    },
    "tags": []
   },
   "source": [
    "# Modeling"
   ]
  },
  {
   "cell_type": "code",
   "execution_count": 45,
   "id": "52054919",
   "metadata": {
    "execution": {
     "iopub.execute_input": "2023-04-14T23:24:38.712260Z",
     "iopub.status.busy": "2023-04-14T23:24:38.711570Z",
     "iopub.status.idle": "2023-04-14T23:24:39.329335Z",
     "shell.execute_reply": "2023-04-14T23:24:39.328580Z"
    },
    "id": "SJAYUY5qZlK_",
    "papermill": {
     "duration": 0.642487,
     "end_time": "2023-04-14T23:24:39.331722",
     "exception": false,
     "start_time": "2023-04-14T23:24:38.689235",
     "status": "completed"
    },
    "tags": []
   },
   "outputs": [],
   "source": [
    "X = train[train.columns.difference(['damage_grade'])]\n",
    "y = train['damage_grade']\n",
    "\n",
    "numerical_cols = X.select_dtypes(include=['int64', 'float64']).columns.tolist()\n",
    "categorical_cols = X.select_dtypes(include=['object']).columns.tolist()\n",
    "\n",
    "numerical_transformer = StandardScaler()\n",
    "categorical_transformer = OneHotEncoder(sparse=False)\n",
    "\n",
    "preprocessor = ColumnTransformer(\n",
    "    transformers=[\n",
    "        ('num', numerical_transformer, numerical_cols),\n",
    "        ('cat', categorical_transformer, categorical_cols)\n",
    "    ])\n",
    "\n",
    "X = preprocessor.fit_transform(X)\n",
    "\n",
    "label_encoder = LabelEncoder()\n",
    "y = label_encoder.fit_transform(y)"
   ]
  },
  {
   "cell_type": "code",
   "execution_count": 46,
   "id": "f8e82562",
   "metadata": {
    "execution": {
     "iopub.execute_input": "2023-04-14T23:24:39.377360Z",
     "iopub.status.busy": "2023-04-14T23:24:39.376641Z",
     "iopub.status.idle": "2023-04-14T23:24:39.493120Z",
     "shell.execute_reply": "2023-04-14T23:24:39.492152Z"
    },
    "id": "KvXY5_ZYh1g2",
    "papermill": {
     "duration": 0.142699,
     "end_time": "2023-04-14T23:24:39.495710",
     "exception": false,
     "start_time": "2023-04-14T23:24:39.353011",
     "status": "completed"
    },
    "tags": []
   },
   "outputs": [],
   "source": [
    "# Create train-validation-test split with stratification\n",
    "X_train, X_val, y_train, y_val = train_test_split(X, y, train_size=0.6, random_state=42, stratify=y)\n",
    "X_val, X_test, y_val, y_test = train_test_split(X_val, y_val, test_size=0.5, random_state=42, stratify=y_val)"
   ]
  },
  {
   "cell_type": "markdown",
   "id": "89ff9040",
   "metadata": {
    "id": "zK1N9xBWY3hY",
    "papermill": {
     "duration": 0.02129,
     "end_time": "2023-04-14T23:24:39.538970",
     "exception": false,
     "start_time": "2023-04-14T23:24:39.517680",
     "status": "completed"
    },
    "tags": []
   },
   "source": [
    "## Manual"
   ]
  },
  {
   "cell_type": "markdown",
   "id": "9b585319",
   "metadata": {
    "papermill": {
     "duration": 0.021657,
     "end_time": "2023-04-14T23:24:39.582146",
     "exception": false,
     "start_time": "2023-04-14T23:24:39.560489",
     "status": "completed"
    },
    "tags": []
   },
   "source": [
    "### LightGBM"
   ]
  },
  {
   "cell_type": "code",
   "execution_count": 47,
   "id": "dc9fc998",
   "metadata": {
    "execution": {
     "iopub.execute_input": "2023-04-14T23:24:39.626830Z",
     "iopub.status.busy": "2023-04-14T23:24:39.626173Z",
     "iopub.status.idle": "2023-04-14T23:24:49.202214Z",
     "shell.execute_reply": "2023-04-14T23:24:49.200807Z"
    },
    "papermill": {
     "duration": 9.601701,
     "end_time": "2023-04-14T23:24:49.205268",
     "exception": false,
     "start_time": "2023-04-14T23:24:39.603567",
     "status": "completed"
    },
    "tags": []
   },
   "outputs": [
    {
     "name": "stderr",
     "output_type": "stream",
     "text": [
      "/opt/conda/lib/python3.7/site-packages/lightgbm/sklearn.py:736: UserWarning: 'verbose' argument is deprecated and will be removed in a future release of LightGBM. Pass 'log_evaluation()' callback via 'callbacks' argument instead.\n",
      "  _log_warning(\"'verbose' argument is deprecated and will be removed in a future release of LightGBM. \"\n"
     ]
    },
    {
     "data": {
      "text/plain": [
       "LGBMClassifier()"
      ]
     },
     "execution_count": 47,
     "metadata": {},
     "output_type": "execute_result"
    }
   ],
   "source": [
    "lgbm = LGBMClassifier()\n",
    "lgbm.fit(X_train, y_train, verbose=0, eval_set=(X_val, y_val))"
   ]
  },
  {
   "cell_type": "code",
   "execution_count": 48,
   "id": "961e31ec",
   "metadata": {
    "execution": {
     "iopub.execute_input": "2023-04-14T23:24:49.251677Z",
     "iopub.status.busy": "2023-04-14T23:24:49.251278Z",
     "iopub.status.idle": "2023-04-14T23:24:49.584081Z",
     "shell.execute_reply": "2023-04-14T23:24:49.582789Z"
    },
    "papermill": {
     "duration": 0.358558,
     "end_time": "2023-04-14T23:24:49.586778",
     "exception": false,
     "start_time": "2023-04-14T23:24:49.228220",
     "status": "completed"
    },
    "tags": []
   },
   "outputs": [
    {
     "name": "stdout",
     "output_type": "stream",
     "text": [
      "              precision    recall  f1-score   support\n",
      "\n",
      "           1       0.99      0.99      0.99      4508\n",
      "           2       0.98      0.99      0.99      3184\n",
      "           3       1.00      1.00      1.00      5088\n",
      "           4       0.83      0.68      0.75      5918\n",
      "           5       0.90      0.95      0.93     17493\n",
      "\n",
      "    accuracy                           0.92     36191\n",
      "   macro avg       0.94      0.92      0.93     36191\n",
      "weighted avg       0.92      0.92      0.92     36191\n",
      "\n"
     ]
    }
   ],
   "source": [
    "y_val_pred = lgbm.predict(X_val)\n",
    "print(classification_report(y_val, y_val_pred, target_names=['1', '2', '3', '4', '5']))"
   ]
  },
  {
   "cell_type": "markdown",
   "id": "6702f819",
   "metadata": {
    "papermill": {
     "duration": 0.021089,
     "end_time": "2023-04-14T23:24:49.630838",
     "exception": false,
     "start_time": "2023-04-14T23:24:49.609749",
     "status": "completed"
    },
    "tags": []
   },
   "source": [
    "### CatBoost"
   ]
  },
  {
   "cell_type": "code",
   "execution_count": 49,
   "id": "6fa7eed2",
   "metadata": {
    "execution": {
     "iopub.execute_input": "2023-04-14T23:24:49.676090Z",
     "iopub.status.busy": "2023-04-14T23:24:49.675666Z",
     "iopub.status.idle": "2023-04-14T23:25:48.962291Z",
     "shell.execute_reply": "2023-04-14T23:25:48.961208Z"
    },
    "id": "BTP_rGu_hEHu",
    "papermill": {
     "duration": 59.331572,
     "end_time": "2023-04-14T23:25:48.984103",
     "exception": false,
     "start_time": "2023-04-14T23:24:49.652531",
     "status": "completed"
    },
    "tags": []
   },
   "outputs": [
    {
     "data": {
      "text/plain": [
       "<catboost.core.CatBoostClassifier at 0x765b605f7ed0>"
      ]
     },
     "execution_count": 49,
     "metadata": {},
     "output_type": "execute_result"
    }
   ],
   "source": [
    "catboost = CatBoostClassifier()\n",
    "catboost.fit(X_train, y_train, verbose=0, eval_set=(X_val, y_val))"
   ]
  },
  {
   "cell_type": "code",
   "execution_count": 50,
   "id": "ef16b2f9",
   "metadata": {
    "execution": {
     "iopub.execute_input": "2023-04-14T23:25:49.029531Z",
     "iopub.status.busy": "2023-04-14T23:25:49.028890Z",
     "iopub.status.idle": "2023-04-14T23:25:49.908785Z",
     "shell.execute_reply": "2023-04-14T23:25:49.908043Z"
    },
    "id": "iFPop-woRuhu",
    "papermill": {
     "duration": 0.905098,
     "end_time": "2023-04-14T23:25:49.910856",
     "exception": false,
     "start_time": "2023-04-14T23:25:49.005758",
     "status": "completed"
    },
    "tags": []
   },
   "outputs": [
    {
     "name": "stdout",
     "output_type": "stream",
     "text": [
      "              precision    recall  f1-score   support\n",
      "\n",
      "           1       0.99      0.99      0.99      4508\n",
      "           2       0.98      0.99      0.98      3184\n",
      "           3       1.00      1.00      1.00      5088\n",
      "           4       0.83      0.70      0.76      5918\n",
      "           5       0.90      0.95      0.93     17493\n",
      "\n",
      "    accuracy                           0.92     36191\n",
      "   macro avg       0.94      0.92      0.93     36191\n",
      "weighted avg       0.92      0.92      0.92     36191\n",
      "\n"
     ]
    }
   ],
   "source": [
    "y_val_pred = catboost.predict(X_val)\n",
    "print(classification_report(y_val, y_val_pred, target_names=['1', '2', '3', '4', '5']))"
   ]
  },
  {
   "cell_type": "markdown",
   "id": "81176a26",
   "metadata": {
    "papermill": {
     "duration": 0.021308,
     "end_time": "2023-04-14T23:25:49.953852",
     "exception": false,
     "start_time": "2023-04-14T23:25:49.932544",
     "status": "completed"
    },
    "tags": []
   },
   "source": [
    "### XGBoost"
   ]
  },
  {
   "cell_type": "code",
   "execution_count": 51,
   "id": "99e5cf11",
   "metadata": {
    "execution": {
     "iopub.execute_input": "2023-04-14T23:25:49.998895Z",
     "iopub.status.busy": "2023-04-14T23:25:49.998207Z",
     "iopub.status.idle": "2023-04-14T23:28:51.331385Z",
     "shell.execute_reply": "2023-04-14T23:28:51.330070Z"
    },
    "id": "ot3w4aJ9iBth",
    "papermill": {
     "duration": 181.381432,
     "end_time": "2023-04-14T23:28:51.356498",
     "exception": false,
     "start_time": "2023-04-14T23:25:49.975066",
     "status": "completed"
    },
    "tags": []
   },
   "outputs": [
    {
     "data": {
      "text/plain": [
       "XGBClassifier(base_score=0.5, booster='gbtree', callbacks=None,\n",
       "              colsample_bylevel=1, colsample_bynode=1, colsample_bytree=1,\n",
       "              early_stopping_rounds=None, enable_categorical=False,\n",
       "              eval_metric=None, gamma=0, gpu_id=-1, grow_policy='depthwise',\n",
       "              importance_type=None, interaction_constraints='',\n",
       "              learning_rate=0.300000012, max_bin=256, max_cat_to_onehot=4,\n",
       "              max_delta_step=0, max_depth=6, max_leaves=0, min_child_weight=1,\n",
       "              missing=nan, monotone_constraints='()', n_estimators=100,\n",
       "              n_jobs=0, num_parallel_tree=1, objective='multi:softprob',\n",
       "              predictor='auto', random_state=0, reg_alpha=0, ...)"
      ]
     },
     "execution_count": 51,
     "metadata": {},
     "output_type": "execute_result"
    }
   ],
   "source": [
    "xgboost = XGBClassifier()\n",
    "xgboost.fit(X_train, y_train)"
   ]
  },
  {
   "cell_type": "code",
   "execution_count": 52,
   "id": "da9bdb70",
   "metadata": {
    "execution": {
     "iopub.execute_input": "2023-04-14T23:28:51.401240Z",
     "iopub.status.busy": "2023-04-14T23:28:51.400871Z",
     "iopub.status.idle": "2023-04-14T23:28:51.791451Z",
     "shell.execute_reply": "2023-04-14T23:28:51.790060Z"
    },
    "id": "VxZfx-MkaWLR",
    "papermill": {
     "duration": 0.416284,
     "end_time": "2023-04-14T23:28:51.794203",
     "exception": false,
     "start_time": "2023-04-14T23:28:51.377919",
     "status": "completed"
    },
    "tags": []
   },
   "outputs": [
    {
     "name": "stdout",
     "output_type": "stream",
     "text": [
      "              precision    recall  f1-score   support\n",
      "\n",
      "           1       0.99      0.99      0.99      4508\n",
      "           2       0.98      0.99      0.99      3184\n",
      "           3       1.00      1.00      1.00      5088\n",
      "           4       0.83      0.69      0.76      5918\n",
      "           5       0.90      0.95      0.93     17493\n",
      "\n",
      "    accuracy                           0.92     36191\n",
      "   macro avg       0.94      0.92      0.93     36191\n",
      "weighted avg       0.92      0.92      0.92     36191\n",
      "\n"
     ]
    }
   ],
   "source": [
    "y_val_pred = xgboost.predict(X_val)\n",
    "print(classification_report(y_val, y_val_pred, target_names=['1', '2', '3', '4', '5']))"
   ]
  },
  {
   "cell_type": "markdown",
   "id": "31d0110f",
   "metadata": {
    "id": "ijWBOSoF2rz8",
    "papermill": {
     "duration": 0.021701,
     "end_time": "2023-04-14T23:28:51.837720",
     "exception": false,
     "start_time": "2023-04-14T23:28:51.816019",
     "status": "completed"
    },
    "tags": []
   },
   "source": [
    "## CV"
   ]
  },
  {
   "cell_type": "code",
   "execution_count": 53,
   "id": "d6fb3ed8",
   "metadata": {
    "execution": {
     "iopub.execute_input": "2023-04-14T23:28:51.883313Z",
     "iopub.status.busy": "2023-04-14T23:28:51.882942Z",
     "iopub.status.idle": "2023-04-14T23:28:51.980783Z",
     "shell.execute_reply": "2023-04-14T23:28:51.979590Z"
    },
    "id": "DwZyDC0c3Hj3",
    "papermill": {
     "duration": 0.123769,
     "end_time": "2023-04-14T23:28:51.983278",
     "exception": false,
     "start_time": "2023-04-14T23:28:51.859509",
     "status": "completed"
    },
    "tags": []
   },
   "outputs": [],
   "source": [
    "X_cv, _, y_cv, _ = train_test_split(X, y, train_size=0.8, random_state=42, stratify=y)"
   ]
  },
  {
   "cell_type": "markdown",
   "id": "c3ff75e2",
   "metadata": {
    "papermill": {
     "duration": 0.02209,
     "end_time": "2023-04-14T23:28:52.028181",
     "exception": false,
     "start_time": "2023-04-14T23:28:52.006091",
     "status": "completed"
    },
    "tags": []
   },
   "source": [
    "### LightGBM"
   ]
  },
  {
   "cell_type": "code",
   "execution_count": 54,
   "id": "7f4167ff",
   "metadata": {
    "execution": {
     "iopub.execute_input": "2023-04-14T23:28:52.073781Z",
     "iopub.status.busy": "2023-04-14T23:28:52.073385Z",
     "iopub.status.idle": "2023-04-14T23:29:39.734937Z",
     "shell.execute_reply": "2023-04-14T23:29:39.733839Z"
    },
    "papermill": {
     "duration": 47.687625,
     "end_time": "2023-04-14T23:29:39.737408",
     "exception": false,
     "start_time": "2023-04-14T23:28:52.049783",
     "status": "completed"
    },
    "tags": []
   },
   "outputs": [
    {
     "name": "stderr",
     "output_type": "stream",
     "text": [
      "/opt/conda/lib/python3.7/site-packages/lightgbm/sklearn.py:736: UserWarning: 'verbose' argument is deprecated and will be removed in a future release of LightGBM. Pass 'log_evaluation()' callback via 'callbacks' argument instead.\n",
      "  _log_warning(\"'verbose' argument is deprecated and will be removed in a future release of LightGBM. \"\n",
      "/opt/conda/lib/python3.7/site-packages/lightgbm/sklearn.py:736: UserWarning: 'verbose' argument is deprecated and will be removed in a future release of LightGBM. Pass 'log_evaluation()' callback via 'callbacks' argument instead.\n",
      "  _log_warning(\"'verbose' argument is deprecated and will be removed in a future release of LightGBM. \"\n",
      "/opt/conda/lib/python3.7/site-packages/lightgbm/sklearn.py:736: UserWarning: 'verbose' argument is deprecated and will be removed in a future release of LightGBM. Pass 'log_evaluation()' callback via 'callbacks' argument instead.\n",
      "  _log_warning(\"'verbose' argument is deprecated and will be removed in a future release of LightGBM. \"\n",
      "/opt/conda/lib/python3.7/site-packages/lightgbm/sklearn.py:736: UserWarning: 'verbose' argument is deprecated and will be removed in a future release of LightGBM. Pass 'log_evaluation()' callback via 'callbacks' argument instead.\n",
      "  _log_warning(\"'verbose' argument is deprecated and will be removed in a future release of LightGBM. \"\n",
      "/opt/conda/lib/python3.7/site-packages/lightgbm/sklearn.py:736: UserWarning: 'verbose' argument is deprecated and will be removed in a future release of LightGBM. Pass 'log_evaluation()' callback via 'callbacks' argument instead.\n",
      "  _log_warning(\"'verbose' argument is deprecated and will be removed in a future release of LightGBM. \"\n"
     ]
    }
   ],
   "source": [
    "f1_avg, f1_std = cross_val_multiclass(lgbm, X_cv, y_cv)"
   ]
  },
  {
   "cell_type": "code",
   "execution_count": 55,
   "id": "1d3cd62c",
   "metadata": {
    "execution": {
     "iopub.execute_input": "2023-04-14T23:29:39.783704Z",
     "iopub.status.busy": "2023-04-14T23:29:39.783011Z",
     "iopub.status.idle": "2023-04-14T23:29:39.787948Z",
     "shell.execute_reply": "2023-04-14T23:29:39.786912Z"
    },
    "papermill": {
     "duration": 0.030127,
     "end_time": "2023-04-14T23:29:39.789763",
     "exception": false,
     "start_time": "2023-04-14T23:29:39.759636",
     "status": "completed"
    },
    "tags": []
   },
   "outputs": [
    {
     "name": "stdout",
     "output_type": "stream",
     "text": [
      "Avg: 0.9283316178468322, Std: 0.001522396071962546\n"
     ]
    }
   ],
   "source": [
    "print(f'Avg: {f1_avg}, Std: {f1_std}')"
   ]
  },
  {
   "cell_type": "markdown",
   "id": "0858c900",
   "metadata": {
    "papermill": {
     "duration": 0.022367,
     "end_time": "2023-04-14T23:29:39.834084",
     "exception": false,
     "start_time": "2023-04-14T23:29:39.811717",
     "status": "completed"
    },
    "tags": []
   },
   "source": [
    "### CatBoost"
   ]
  },
  {
   "cell_type": "code",
   "execution_count": 56,
   "id": "7fe914a9",
   "metadata": {
    "execution": {
     "iopub.execute_input": "2023-04-14T23:29:39.881306Z",
     "iopub.status.busy": "2023-04-14T23:29:39.880629Z",
     "iopub.status.idle": "2023-04-14T23:34:40.316136Z",
     "shell.execute_reply": "2023-04-14T23:34:40.315101Z"
    },
    "papermill": {
     "duration": 300.462653,
     "end_time": "2023-04-14T23:34:40.318868",
     "exception": false,
     "start_time": "2023-04-14T23:29:39.856215",
     "status": "completed"
    },
    "tags": []
   },
   "outputs": [],
   "source": [
    "f1_avg, f1_std = cross_val_multiclass(catboost, X_cv, y_cv)"
   ]
  },
  {
   "cell_type": "code",
   "execution_count": 57,
   "id": "09dcd810",
   "metadata": {
    "execution": {
     "iopub.execute_input": "2023-04-14T23:34:40.364999Z",
     "iopub.status.busy": "2023-04-14T23:34:40.364578Z",
     "iopub.status.idle": "2023-04-14T23:34:40.371108Z",
     "shell.execute_reply": "2023-04-14T23:34:40.369377Z"
    },
    "id": "BejHDqPz8H8O",
    "papermill": {
     "duration": 0.032551,
     "end_time": "2023-04-14T23:34:40.373451",
     "exception": false,
     "start_time": "2023-04-14T23:34:40.340900",
     "status": "completed"
    },
    "tags": []
   },
   "outputs": [
    {
     "name": "stdout",
     "output_type": "stream",
     "text": [
      "Avg: 0.9287382761791229, Std: 0.0010999191429261566\n"
     ]
    }
   ],
   "source": [
    "print(f'Avg: {f1_avg}, Std: {f1_std}')"
   ]
  },
  {
   "cell_type": "markdown",
   "id": "bad8e5ff",
   "metadata": {
    "papermill": {
     "duration": 0.022045,
     "end_time": "2023-04-14T23:34:40.418535",
     "exception": false,
     "start_time": "2023-04-14T23:34:40.396490",
     "status": "completed"
    },
    "tags": []
   },
   "source": [
    "### XGBoost"
   ]
  },
  {
   "cell_type": "code",
   "execution_count": 58,
   "id": "5a5d3732",
   "metadata": {
    "execution": {
     "iopub.execute_input": "2023-04-14T23:34:40.465791Z",
     "iopub.status.busy": "2023-04-14T23:34:40.464854Z",
     "iopub.status.idle": "2023-04-14T23:50:36.418987Z",
     "shell.execute_reply": "2023-04-14T23:50:36.418287Z"
    },
    "papermill": {
     "duration": 955.980953,
     "end_time": "2023-04-14T23:50:36.421709",
     "exception": false,
     "start_time": "2023-04-14T23:34:40.440756",
     "status": "completed"
    },
    "tags": []
   },
   "outputs": [],
   "source": [
    "f1_avg, f1_std = cross_val_multiclass(xgboost, X_cv, y_cv)"
   ]
  },
  {
   "cell_type": "code",
   "execution_count": 59,
   "id": "e0f512b1",
   "metadata": {
    "execution": {
     "iopub.execute_input": "2023-04-14T23:50:36.527812Z",
     "iopub.status.busy": "2023-04-14T23:50:36.527239Z",
     "iopub.status.idle": "2023-04-14T23:50:36.532552Z",
     "shell.execute_reply": "2023-04-14T23:50:36.531406Z"
    },
    "papermill": {
     "duration": 0.090933,
     "end_time": "2023-04-14T23:50:36.534806",
     "exception": false,
     "start_time": "2023-04-14T23:50:36.443873",
     "status": "completed"
    },
    "tags": []
   },
   "outputs": [
    {
     "name": "stdout",
     "output_type": "stream",
     "text": [
      "Avg: 0.930808011090465, Std: 0.0015269279914576623\n"
     ]
    }
   ],
   "source": [
    "print(f'Avg: {f1_avg}, Std: {f1_std}')"
   ]
  },
  {
   "cell_type": "markdown",
   "id": "2115ad02",
   "metadata": {
    "id": "jdKGtFaT2txY",
    "papermill": {
     "duration": 0.022087,
     "end_time": "2023-04-14T23:50:36.579134",
     "exception": false,
     "start_time": "2023-04-14T23:50:36.557047",
     "status": "completed"
    },
    "tags": []
   },
   "source": [
    "# Prediction"
   ]
  },
  {
   "cell_type": "markdown",
   "id": "928d4b1e",
   "metadata": {
    "papermill": {
     "duration": 0.022286,
     "end_time": "2023-04-14T23:50:36.623742",
     "exception": false,
     "start_time": "2023-04-14T23:50:36.601456",
     "status": "completed"
    },
    "tags": []
   },
   "source": [
    "## Pick Model"
   ]
  },
  {
   "cell_type": "code",
   "execution_count": 60,
   "id": "fc73e048",
   "metadata": {
    "execution": {
     "iopub.execute_input": "2023-04-14T23:50:36.669581Z",
     "iopub.status.busy": "2023-04-14T23:50:36.669223Z",
     "iopub.status.idle": "2023-04-14T23:50:37.055624Z",
     "shell.execute_reply": "2023-04-14T23:50:37.054192Z"
    },
    "papermill": {
     "duration": 0.412935,
     "end_time": "2023-04-14T23:50:37.058620",
     "exception": false,
     "start_time": "2023-04-14T23:50:36.645685",
     "status": "completed"
    },
    "tags": []
   },
   "outputs": [
    {
     "name": "stdout",
     "output_type": "stream",
     "text": [
      "              precision    recall  f1-score   support\n",
      "\n",
      "           1       0.99      0.99      0.99      4508\n",
      "           2       0.99      0.99      0.99      3183\n",
      "           3       1.00      1.00      1.00      5088\n",
      "           4       0.84      0.72      0.78      5919\n",
      "           5       0.91      0.95      0.93     17493\n",
      "\n",
      "    accuracy                           0.93     36191\n",
      "   macro avg       0.95      0.93      0.94     36191\n",
      "weighted avg       0.93      0.93      0.93     36191\n",
      "\n"
     ]
    }
   ],
   "source": [
    "y_test_pred = xgboost.predict(X_test)\n",
    "print(classification_report(y_test, y_test_pred, target_names=['1', '2', '3', '4', '5']))"
   ]
  },
  {
   "cell_type": "code",
   "execution_count": 61,
   "id": "4bec51b1",
   "metadata": {
    "execution": {
     "iopub.execute_input": "2023-04-14T23:50:37.107072Z",
     "iopub.status.busy": "2023-04-14T23:50:37.106710Z",
     "iopub.status.idle": "2023-04-14T23:50:40.512056Z",
     "shell.execute_reply": "2023-04-14T23:50:40.511299Z"
    },
    "id": "_B3jkW6zBAvk",
    "papermill": {
     "duration": 3.432715,
     "end_time": "2023-04-14T23:50:40.514485",
     "exception": false,
     "start_time": "2023-04-14T23:50:37.081770",
     "status": "completed"
    },
    "tags": []
   },
   "outputs": [],
   "source": [
    "test = pd.read_csv('/kaggle/input/jointsugm/test.csv')\n",
    "test = complete_pipeline_test(test)\n",
    "test_id = test['id']"
   ]
  },
  {
   "cell_type": "code",
   "execution_count": 62,
   "id": "0d241654",
   "metadata": {
    "execution": {
     "iopub.execute_input": "2023-04-14T23:50:40.564953Z",
     "iopub.status.busy": "2023-04-14T23:50:40.564373Z",
     "iopub.status.idle": "2023-04-14T23:50:40.728289Z",
     "shell.execute_reply": "2023-04-14T23:50:40.726098Z"
    },
    "papermill": {
     "duration": 0.192593,
     "end_time": "2023-04-14T23:50:40.731003",
     "exception": false,
     "start_time": "2023-04-14T23:50:40.538410",
     "status": "completed"
    },
    "tags": []
   },
   "outputs": [
    {
     "name": "stdout",
     "output_type": "stream",
     "text": [
      "<class 'pandas.core.frame.DataFrame'>\n",
      "RangeIndex: 242082 entries, 0 to 242081\n",
      "Data columns (total 24 columns):\n",
      " #   Column                          Non-Null Count   Dtype  \n",
      "---  ------                          --------------   -----  \n",
      " 0   id                              242082 non-null  int64  \n",
      " 1   floors_before_eq (total)        242082 non-null  int64  \n",
      " 2   old_building                    242082 non-null  int64  \n",
      " 3   plinth_area (ft^2)              242082 non-null  float64\n",
      " 4   height_before_eq (ft)           242082 non-null  int64  \n",
      " 5   land_surface_condition          242082 non-null  object \n",
      " 6   type_of_foundation              242082 non-null  object \n",
      " 7   type_of_roof                    242082 non-null  object \n",
      " 8   type_of_ground_floor            242082 non-null  object \n",
      " 9   type_of_other_floor             242082 non-null  object \n",
      " 10  position                        242082 non-null  object \n",
      " 11  building_plan_configuration     242082 non-null  object \n",
      " 12  technical_solution_proposed     242082 non-null  object \n",
      " 13  legal_ownership_status          242082 non-null  object \n",
      " 14  has_secondary_use               242082 non-null  float64\n",
      " 15  type_of_reinforcement_concrete  242082 non-null  object \n",
      " 16  residential_type                242082 non-null  object \n",
      " 17  no_family_residing              242082 non-null  float64\n",
      " 18  public_place_type               242082 non-null  object \n",
      " 19  industrial_use_type             242082 non-null  object \n",
      " 20  govermental_use_type            242082 non-null  object \n",
      " 21  flexible_superstructure         242082 non-null  object \n",
      " 22  wall_binding                    242082 non-null  object \n",
      " 23  wall_material                   242082 non-null  object \n",
      "dtypes: float64(3), int64(4), object(17)\n",
      "memory usage: 44.3+ MB\n"
     ]
    }
   ],
   "source": [
    "test.info()"
   ]
  },
  {
   "cell_type": "code",
   "execution_count": 63,
   "id": "c994dbf5",
   "metadata": {
    "execution": {
     "iopub.execute_input": "2023-04-14T23:50:40.779173Z",
     "iopub.status.busy": "2023-04-14T23:50:40.778776Z",
     "iopub.status.idle": "2023-04-14T23:50:41.005097Z",
     "shell.execute_reply": "2023-04-14T23:50:41.003599Z"
    },
    "papermill": {
     "duration": 0.253769,
     "end_time": "2023-04-14T23:50:41.007602",
     "exception": false,
     "start_time": "2023-04-14T23:50:40.753833",
     "status": "completed"
    },
    "tags": []
   },
   "outputs": [],
   "source": [
    "test.drop(['building_plan_configuration', 'legal_ownership_status', 'type_of_reinforcement_concrete',\n",
    "           'residential_type', 'public_place_type', 'industrial_use_type', 'govermental_use_type', 'flexible_superstructure'], axis=1, inplace=True)\n",
    "\n",
    "test['total_building_area (ft^2)'] = test['plinth_area (ft^2)'] * test['height_before_eq (ft)']\n",
    "test['area_to_height_ratio'] = test['plinth_area (ft^2)'] / test['height_before_eq (ft)']\n",
    "test['height per floor (ft)'] = test['height_before_eq (ft)'] / test['floors_before_eq (total)']\n",
    "test['tsp_toof'] = test['technical_solution_proposed'] + '_' + test['type_of_other_floor']\n",
    "\n",
    "test['gross_floor_area'] = test['plinth_area (ft^2)'] * test['floors_before_eq (total)']\n",
    "test['floor_area_ratio'] = test['total_building_area (ft^2)'] / test['gross_floor_area']\n",
    "\n",
    "test = test[list(train.columns.difference(['damage_grade']))]"
   ]
  },
  {
   "cell_type": "code",
   "execution_count": 64,
   "id": "01d9ed62",
   "metadata": {
    "execution": {
     "iopub.execute_input": "2023-04-14T23:50:41.058355Z",
     "iopub.status.busy": "2023-04-14T23:50:41.057724Z",
     "iopub.status.idle": "2023-04-14T23:50:41.786857Z",
     "shell.execute_reply": "2023-04-14T23:50:41.784937Z"
    },
    "id": "CVDRM9RmEYmT",
    "papermill": {
     "duration": 0.758149,
     "end_time": "2023-04-14T23:50:41.789800",
     "exception": false,
     "start_time": "2023-04-14T23:50:41.031651",
     "status": "completed"
    },
    "tags": []
   },
   "outputs": [],
   "source": [
    "test = preprocessor.transform(test)"
   ]
  },
  {
   "cell_type": "code",
   "execution_count": 65,
   "id": "35e8a50b",
   "metadata": {
    "execution": {
     "iopub.execute_input": "2023-04-14T23:50:41.838961Z",
     "iopub.status.busy": "2023-04-14T23:50:41.838111Z",
     "iopub.status.idle": "2023-04-14T23:57:25.707302Z",
     "shell.execute_reply": "2023-04-14T23:57:25.706114Z"
    },
    "papermill": {
     "duration": 403.896622,
     "end_time": "2023-04-14T23:57:25.709673",
     "exception": false,
     "start_time": "2023-04-14T23:50:41.813051",
     "status": "completed"
    },
    "tags": []
   },
   "outputs": [
    {
     "name": "stderr",
     "output_type": "stream",
     "text": [
      "/opt/conda/lib/python3.7/site-packages/lightgbm/sklearn.py:736: UserWarning: 'verbose' argument is deprecated and will be removed in a future release of LightGBM. Pass 'log_evaluation()' callback via 'callbacks' argument instead.\n",
      "  _log_warning(\"'verbose' argument is deprecated and will be removed in a future release of LightGBM. \"\n"
     ]
    },
    {
     "data": {
      "text/plain": [
       "LGBMClassifier()"
      ]
     },
     "execution_count": 65,
     "metadata": {},
     "output_type": "execute_result"
    }
   ],
   "source": [
    "cb_final = CatBoostClassifier()\n",
    "cb_final.fit(X, y, verbose=0)\n",
    "\n",
    "xg_final = XGBClassifier()\n",
    "xg_final.fit(X, y, verbose=0)\n",
    "\n",
    "lgbm_final = LGBMClassifier()\n",
    "lgbm_final.fit(X, y, verbose=0)"
   ]
  },
  {
   "cell_type": "code",
   "execution_count": 66,
   "id": "1930e550",
   "metadata": {
    "execution": {
     "iopub.execute_input": "2023-04-14T23:57:25.757431Z",
     "iopub.status.busy": "2023-04-14T23:57:25.756780Z",
     "iopub.status.idle": "2023-04-14T23:57:36.911527Z",
     "shell.execute_reply": "2023-04-14T23:57:36.909655Z"
    },
    "papermill": {
     "duration": 11.181247,
     "end_time": "2023-04-14T23:57:36.913768",
     "exception": false,
     "start_time": "2023-04-14T23:57:25.732521",
     "status": "completed"
    },
    "tags": []
   },
   "outputs": [
    {
     "name": "stderr",
     "output_type": "stream",
     "text": [
      "/opt/conda/lib/python3.7/site-packages/lightgbm/sklearn.py:736: UserWarning: 'verbose' argument is deprecated and will be removed in a future release of LightGBM. Pass 'log_evaluation()' callback via 'callbacks' argument instead.\n",
      "  _log_warning(\"'verbose' argument is deprecated and will be removed in a future release of LightGBM. \"\n"
     ]
    },
    {
     "data": {
      "text/plain": [
       "LGBMClassifier()"
      ]
     },
     "execution_count": 66,
     "metadata": {},
     "output_type": "execute_result"
    }
   ],
   "source": [
    "lgbm_final = LGBMClassifier()\n",
    "lgbm_final.fit(X, y, verbose=0)"
   ]
  },
  {
   "cell_type": "markdown",
   "id": "d15f775c",
   "metadata": {
    "papermill": {
     "duration": 0.022907,
     "end_time": "2023-04-14T23:57:36.959584",
     "exception": false,
     "start_time": "2023-04-14T23:57:36.936677",
     "status": "completed"
    },
    "tags": []
   },
   "source": [
    "## Solo Model"
   ]
  },
  {
   "cell_type": "markdown",
   "id": "bb3eccf6",
   "metadata": {
    "papermill": {
     "duration": 0.022359,
     "end_time": "2023-04-14T23:57:37.004396",
     "exception": false,
     "start_time": "2023-04-14T23:57:36.982037",
     "status": "completed"
    },
    "tags": []
   },
   "source": [
    "### Hard"
   ]
  },
  {
   "cell_type": "code",
   "execution_count": 67,
   "id": "14655a0f",
   "metadata": {
    "execution": {
     "iopub.execute_input": "2023-04-14T23:57:37.051709Z",
     "iopub.status.busy": "2023-04-14T23:57:37.051053Z",
     "iopub.status.idle": "2023-04-14T23:57:39.011224Z",
     "shell.execute_reply": "2023-04-14T23:57:39.009859Z"
    },
    "id": "PnUmImCIBMjc",
    "outputId": "7d5d6e03-7cb4-4ac3-fad2-b9c2226caa25",
    "papermill": {
     "duration": 1.987198,
     "end_time": "2023-04-14T23:57:39.013913",
     "exception": false,
     "start_time": "2023-04-14T23:57:37.026715",
     "status": "completed"
    },
    "tags": []
   },
   "outputs": [
    {
     "data": {
      "text/html": [
       "<div>\n",
       "<style scoped>\n",
       "    .dataframe tbody tr th:only-of-type {\n",
       "        vertical-align: middle;\n",
       "    }\n",
       "\n",
       "    .dataframe tbody tr th {\n",
       "        vertical-align: top;\n",
       "    }\n",
       "\n",
       "    .dataframe thead th {\n",
       "        text-align: right;\n",
       "    }\n",
       "</style>\n",
       "<table border=\"1\" class=\"dataframe\">\n",
       "  <thead>\n",
       "    <tr style=\"text-align: right;\">\n",
       "      <th></th>\n",
       "      <th>id</th>\n",
       "      <th>damage_grade</th>\n",
       "    </tr>\n",
       "  </thead>\n",
       "  <tbody>\n",
       "    <tr>\n",
       "      <th>0</th>\n",
       "      <td>0</td>\n",
       "      <td>5</td>\n",
       "    </tr>\n",
       "    <tr>\n",
       "      <th>1</th>\n",
       "      <td>1</td>\n",
       "      <td>5</td>\n",
       "    </tr>\n",
       "    <tr>\n",
       "      <th>2</th>\n",
       "      <td>2</td>\n",
       "      <td>5</td>\n",
       "    </tr>\n",
       "    <tr>\n",
       "      <th>3</th>\n",
       "      <td>3</td>\n",
       "      <td>4</td>\n",
       "    </tr>\n",
       "    <tr>\n",
       "      <th>4</th>\n",
       "      <td>4</td>\n",
       "      <td>2</td>\n",
       "    </tr>\n",
       "  </tbody>\n",
       "</table>\n",
       "</div>"
      ],
      "text/plain": [
       "   id  damage_grade\n",
       "0   0             5\n",
       "1   1             5\n",
       "2   2             5\n",
       "3   3             4\n",
       "4   4             2"
      ]
     },
     "execution_count": 67,
     "metadata": {},
     "output_type": "execute_result"
    }
   ],
   "source": [
    "# pred_test = cb_final.predict(test)\n",
    "# pred_test = xg_final.predict(test)\n",
    "pred_test = lgbm_final.predict(test)\n",
    "sub = pd.DataFrame({\n",
    "    'id': test_id,\n",
    "    'damage_grade': pred_test.ravel()\n",
    "})\n",
    "\n",
    "sub['damage_grade'] = sub['damage_grade'].apply(lambda x: x+1)\n",
    "\n",
    "sub.head(5)"
   ]
  },
  {
   "cell_type": "code",
   "execution_count": 68,
   "id": "34d52aec",
   "metadata": {
    "execution": {
     "iopub.execute_input": "2023-04-14T23:57:39.073754Z",
     "iopub.status.busy": "2023-04-14T23:57:39.073230Z",
     "iopub.status.idle": "2023-04-14T23:57:39.088499Z",
     "shell.execute_reply": "2023-04-14T23:57:39.087322Z"
    },
    "papermill": {
     "duration": 0.052033,
     "end_time": "2023-04-14T23:57:39.091724",
     "exception": false,
     "start_time": "2023-04-14T23:57:39.039691",
     "status": "completed"
    },
    "tags": []
   },
   "outputs": [
    {
     "data": {
      "text/plain": [
       "5    110048\n",
       "3     41110\n",
       "4     39307\n",
       "2     32451\n",
       "1     19166\n",
       "Name: damage_grade, dtype: int64"
      ]
     },
     "execution_count": 68,
     "metadata": {},
     "output_type": "execute_result"
    }
   ],
   "source": [
    "sub['damage_grade'].value_counts()"
   ]
  },
  {
   "cell_type": "code",
   "execution_count": 69,
   "id": "0f9ccefb",
   "metadata": {
    "execution": {
     "iopub.execute_input": "2023-04-14T23:57:39.140695Z",
     "iopub.status.busy": "2023-04-14T23:57:39.140314Z",
     "iopub.status.idle": "2023-04-14T23:57:39.346884Z",
     "shell.execute_reply": "2023-04-14T23:57:39.345194Z"
    },
    "papermill": {
     "duration": 0.234752,
     "end_time": "2023-04-14T23:57:39.349785",
     "exception": false,
     "start_time": "2023-04-14T23:57:39.115033",
     "status": "completed"
    },
    "tags": []
   },
   "outputs": [],
   "source": [
    "sub.to_csv('latest_pipe_true.csv', index=False)"
   ]
  },
  {
   "cell_type": "markdown",
   "id": "861c8d76",
   "metadata": {
    "papermill": {
     "duration": 0.024139,
     "end_time": "2023-04-14T23:57:39.397682",
     "exception": false,
     "start_time": "2023-04-14T23:57:39.373543",
     "status": "completed"
    },
    "tags": []
   },
   "source": [
    "### Prob"
   ]
  },
  {
   "cell_type": "code",
   "execution_count": 70,
   "id": "eb0ad834",
   "metadata": {
    "execution": {
     "iopub.execute_input": "2023-04-14T23:57:39.447185Z",
     "iopub.status.busy": "2023-04-14T23:57:39.446794Z",
     "iopub.status.idle": "2023-04-14T23:57:40.194165Z",
     "shell.execute_reply": "2023-04-14T23:57:40.192736Z"
    },
    "papermill": {
     "duration": 0.775125,
     "end_time": "2023-04-14T23:57:40.196708",
     "exception": false,
     "start_time": "2023-04-14T23:57:39.421583",
     "status": "completed"
    },
    "tags": []
   },
   "outputs": [
    {
     "data": {
      "text/html": [
       "<div>\n",
       "<style scoped>\n",
       "    .dataframe tbody tr th:only-of-type {\n",
       "        vertical-align: middle;\n",
       "    }\n",
       "\n",
       "    .dataframe tbody tr th {\n",
       "        vertical-align: top;\n",
       "    }\n",
       "\n",
       "    .dataframe thead th {\n",
       "        text-align: right;\n",
       "    }\n",
       "</style>\n",
       "<table border=\"1\" class=\"dataframe\">\n",
       "  <thead>\n",
       "    <tr style=\"text-align: right;\">\n",
       "      <th></th>\n",
       "      <th>id</th>\n",
       "      <th>technical_solution_proposed</th>\n",
       "    </tr>\n",
       "  </thead>\n",
       "  <tbody>\n",
       "    <tr>\n",
       "      <th>0</th>\n",
       "      <td>0</td>\n",
       "      <td>4</td>\n",
       "    </tr>\n",
       "    <tr>\n",
       "      <th>1</th>\n",
       "      <td>1</td>\n",
       "      <td>4</td>\n",
       "    </tr>\n",
       "    <tr>\n",
       "      <th>2</th>\n",
       "      <td>2</td>\n",
       "      <td>4</td>\n",
       "    </tr>\n",
       "    <tr>\n",
       "      <th>3</th>\n",
       "      <td>3</td>\n",
       "      <td>4</td>\n",
       "    </tr>\n",
       "    <tr>\n",
       "      <th>4</th>\n",
       "      <td>4</td>\n",
       "      <td>2</td>\n",
       "    </tr>\n",
       "    <tr>\n",
       "      <th>...</th>\n",
       "      <td>...</td>\n",
       "      <td>...</td>\n",
       "    </tr>\n",
       "    <tr>\n",
       "      <th>242077</th>\n",
       "      <td>242077</td>\n",
       "      <td>3</td>\n",
       "    </tr>\n",
       "    <tr>\n",
       "      <th>242078</th>\n",
       "      <td>242078</td>\n",
       "      <td>4</td>\n",
       "    </tr>\n",
       "    <tr>\n",
       "      <th>242079</th>\n",
       "      <td>242079</td>\n",
       "      <td>1</td>\n",
       "    </tr>\n",
       "    <tr>\n",
       "      <th>242080</th>\n",
       "      <td>242080</td>\n",
       "      <td>4</td>\n",
       "    </tr>\n",
       "    <tr>\n",
       "      <th>242081</th>\n",
       "      <td>242081</td>\n",
       "      <td>4</td>\n",
       "    </tr>\n",
       "  </tbody>\n",
       "</table>\n",
       "<p>242082 rows × 2 columns</p>\n",
       "</div>"
      ],
      "text/plain": [
       "            id  technical_solution_proposed\n",
       "0            0                            4\n",
       "1            1                            4\n",
       "2            2                            4\n",
       "3            3                            4\n",
       "4            4                            2\n",
       "...        ...                          ...\n",
       "242077  242077                            3\n",
       "242078  242078                            4\n",
       "242079  242079                            1\n",
       "242080  242080                            4\n",
       "242081  242081                            4\n",
       "\n",
       "[242082 rows x 2 columns]"
      ]
     },
     "execution_count": 70,
     "metadata": {},
     "output_type": "execute_result"
    }
   ],
   "source": [
    "tsp_test = pd.read_csv('/kaggle/input/jointsugm/test.csv')[['id', 'technical_solution_proposed']]\n",
    "tsp_test['technical_solution_proposed'] = tsp_test['technical_solution_proposed'].replace({\n",
    "    'Reconstruction': 4,\n",
    "    'Minor repair': 2,\n",
    "    'Major repair': 3,\n",
    "    'No need': 1\n",
    "})\n",
    "tsp_test"
   ]
  },
  {
   "cell_type": "code",
   "execution_count": 71,
   "id": "b5e00522",
   "metadata": {
    "execution": {
     "iopub.execute_input": "2023-04-14T23:57:40.246095Z",
     "iopub.status.busy": "2023-04-14T23:57:40.245715Z",
     "iopub.status.idle": "2023-04-14T23:57:42.381562Z",
     "shell.execute_reply": "2023-04-14T23:57:42.380108Z"
    },
    "papermill": {
     "duration": 2.163935,
     "end_time": "2023-04-14T23:57:42.384299",
     "exception": false,
     "start_time": "2023-04-14T23:57:40.220364",
     "status": "completed"
    },
    "tags": []
   },
   "outputs": [],
   "source": [
    "# pred_test = cb_final.predict_proba(test)\n",
    "# pred_proba_test = xg_final.predict_proba(test)\n",
    "pred_proba_test = lgbm_final.predict_proba(test)\n",
    "threshold = 0.70 # set threshold for probability of class 5\n",
    "sub = pd.DataFrame({\n",
    "    'id': test_id,\n",
    "    'damage_grade': [4 if pred[4] <= threshold and pred.argmax() + 1 == 5 else pred.argmax() + 1 for pred in pred_proba_test],\n",
    "    'cek': tsp_test['technical_solution_proposed']\n",
    "})"
   ]
  },
  {
   "cell_type": "code",
   "execution_count": 72,
   "id": "60c9852a",
   "metadata": {
    "execution": {
     "iopub.execute_input": "2023-04-14T23:57:42.434546Z",
     "iopub.status.busy": "2023-04-14T23:57:42.434108Z",
     "iopub.status.idle": "2023-04-14T23:57:42.443003Z",
     "shell.execute_reply": "2023-04-14T23:57:42.442289Z"
    },
    "papermill": {
     "duration": 0.037382,
     "end_time": "2023-04-14T23:57:42.445781",
     "exception": false,
     "start_time": "2023-04-14T23:57:42.408399",
     "status": "completed"
    },
    "tags": []
   },
   "outputs": [
    {
     "data": {
      "text/plain": [
       "5    94953\n",
       "4    54402\n",
       "3    41110\n",
       "2    32451\n",
       "1    19166\n",
       "Name: damage_grade, dtype: int64"
      ]
     },
     "execution_count": 72,
     "metadata": {},
     "output_type": "execute_result"
    }
   ],
   "source": [
    "sub['damage_grade'].value_counts()"
   ]
  },
  {
   "cell_type": "code",
   "execution_count": 73,
   "id": "deeec4f0",
   "metadata": {
    "execution": {
     "iopub.execute_input": "2023-04-14T23:57:42.498143Z",
     "iopub.status.busy": "2023-04-14T23:57:42.497791Z",
     "iopub.status.idle": "2023-04-14T23:57:42.503333Z",
     "shell.execute_reply": "2023-04-14T23:57:42.502582Z"
    },
    "papermill": {
     "duration": 0.03459,
     "end_time": "2023-04-14T23:57:42.505379",
     "exception": false,
     "start_time": "2023-04-14T23:57:42.470789",
     "status": "completed"
    },
    "tags": []
   },
   "outputs": [],
   "source": [
    "sub['diff'] = sub['damage_grade'] < sub['cek']"
   ]
  },
  {
   "cell_type": "code",
   "execution_count": 74,
   "id": "92a04ba5",
   "metadata": {
    "execution": {
     "iopub.execute_input": "2023-04-14T23:57:42.554177Z",
     "iopub.status.busy": "2023-04-14T23:57:42.553626Z",
     "iopub.status.idle": "2023-04-14T23:57:42.562576Z",
     "shell.execute_reply": "2023-04-14T23:57:42.561635Z"
    },
    "papermill": {
     "duration": 0.035611,
     "end_time": "2023-04-14T23:57:42.564443",
     "exception": false,
     "start_time": "2023-04-14T23:57:42.528832",
     "status": "completed"
    },
    "tags": []
   },
   "outputs": [
    {
     "data": {
      "text/plain": [
       "False    239164\n",
       "True       2918\n",
       "Name: diff, dtype: int64"
      ]
     },
     "execution_count": 74,
     "metadata": {},
     "output_type": "execute_result"
    }
   ],
   "source": [
    "sub['diff'].value_counts()"
   ]
  },
  {
   "cell_type": "code",
   "execution_count": 75,
   "id": "7edb8750",
   "metadata": {
    "execution": {
     "iopub.execute_input": "2023-04-14T23:57:42.614489Z",
     "iopub.status.busy": "2023-04-14T23:57:42.612956Z",
     "iopub.status.idle": "2023-04-14T23:57:42.621196Z",
     "shell.execute_reply": "2023-04-14T23:57:42.620025Z"
    },
    "papermill": {
     "duration": 0.036049,
     "end_time": "2023-04-14T23:57:42.623957",
     "exception": false,
     "start_time": "2023-04-14T23:57:42.587908",
     "status": "completed"
    },
    "tags": []
   },
   "outputs": [],
   "source": [
    "sub['damage_grade'] = np.where(sub['diff'], sub['damage_grade'] + 1, sub['damage_grade'])"
   ]
  },
  {
   "cell_type": "code",
   "execution_count": 76,
   "id": "9c7418ba",
   "metadata": {
    "execution": {
     "iopub.execute_input": "2023-04-14T23:57:42.674305Z",
     "iopub.status.busy": "2023-04-14T23:57:42.673938Z",
     "iopub.status.idle": "2023-04-14T23:57:42.684620Z",
     "shell.execute_reply": "2023-04-14T23:57:42.683773Z"
    },
    "papermill": {
     "duration": 0.037637,
     "end_time": "2023-04-14T23:57:42.686452",
     "exception": false,
     "start_time": "2023-04-14T23:57:42.648815",
     "status": "completed"
    },
    "tags": []
   },
   "outputs": [
    {
     "data": {
      "text/plain": [
       "5    94953\n",
       "4    54430\n",
       "3    41206\n",
       "2    35093\n",
       "1    16400\n",
       "Name: damage_grade, dtype: int64"
      ]
     },
     "execution_count": 76,
     "metadata": {},
     "output_type": "execute_result"
    }
   ],
   "source": [
    "sub['damage_grade'].value_counts()"
   ]
  },
  {
   "cell_type": "code",
   "execution_count": 77,
   "id": "72d29356",
   "metadata": {
    "execution": {
     "iopub.execute_input": "2023-04-14T23:57:42.739186Z",
     "iopub.status.busy": "2023-04-14T23:57:42.737720Z",
     "iopub.status.idle": "2023-04-14T23:57:42.744885Z",
     "shell.execute_reply": "2023-04-14T23:57:42.744067Z"
    },
    "papermill": {
     "duration": 0.036108,
     "end_time": "2023-04-14T23:57:42.746929",
     "exception": false,
     "start_time": "2023-04-14T23:57:42.710821",
     "status": "completed"
    },
    "tags": []
   },
   "outputs": [
    {
     "data": {
      "text/plain": [
       "(242082, 4)"
      ]
     },
     "execution_count": 77,
     "metadata": {},
     "output_type": "execute_result"
    }
   ],
   "source": [
    "sub.shape"
   ]
  },
  {
   "cell_type": "code",
   "execution_count": 78,
   "id": "08b55dfe",
   "metadata": {
    "execution": {
     "iopub.execute_input": "2023-04-14T23:57:42.796851Z",
     "iopub.status.busy": "2023-04-14T23:57:42.796472Z",
     "iopub.status.idle": "2023-04-14T23:57:43.062571Z",
     "shell.execute_reply": "2023-04-14T23:57:43.061298Z"
    },
    "papermill": {
     "duration": 0.294493,
     "end_time": "2023-04-14T23:57:43.065372",
     "exception": false,
     "start_time": "2023-04-14T23:57:42.770879",
     "status": "completed"
    },
    "tags": []
   },
   "outputs": [],
   "source": [
    "sub.to_csv('grgr.csv', index=False)"
   ]
  },
  {
   "cell_type": "code",
   "execution_count": 79,
   "id": "ac0794ba",
   "metadata": {
    "execution": {
     "iopub.execute_input": "2023-04-14T23:57:43.115893Z",
     "iopub.status.busy": "2023-04-14T23:57:43.115356Z",
     "iopub.status.idle": "2023-04-14T23:57:43.377136Z",
     "shell.execute_reply": "2023-04-14T23:57:43.376353Z"
    },
    "papermill": {
     "duration": 0.290955,
     "end_time": "2023-04-14T23:57:43.379924",
     "exception": false,
     "start_time": "2023-04-14T23:57:43.088969",
     "status": "completed"
    },
    "tags": []
   },
   "outputs": [],
   "source": [
    "sub[['id', 'damage_grade']].to_csv('cobade3.csv', index=False)"
   ]
  },
  {
   "cell_type": "code",
   "execution_count": null,
   "id": "24b2b5bf",
   "metadata": {
    "papermill": {
     "duration": 0.026364,
     "end_time": "2023-04-14T23:57:43.435129",
     "exception": false,
     "start_time": "2023-04-14T23:57:43.408765",
     "status": "completed"
    },
    "tags": []
   },
   "outputs": [],
   "source": []
  }
 ],
 "metadata": {
  "kernelspec": {
   "display_name": "Python 3",
   "language": "python",
   "name": "python3"
  },
  "language_info": {
   "codemirror_mode": {
    "name": "ipython",
    "version": 3
   },
   "file_extension": ".py",
   "mimetype": "text/x-python",
   "name": "python",
   "nbconvert_exporter": "python",
   "pygments_lexer": "ipython3",
   "version": "3.7.12"
  },
  "papermill": {
   "default_parameters": {},
   "duration": 2463.72686,
   "end_time": "2023-04-14T23:57:46.968837",
   "environment_variables": {},
   "exception": null,
   "input_path": "__notebook__.ipynb",
   "output_path": "__notebook__.ipynb",
   "parameters": {},
   "start_time": "2023-04-14T23:16:43.241977",
   "version": "2.4.0"
  }
 },
 "nbformat": 4,
 "nbformat_minor": 5
}
