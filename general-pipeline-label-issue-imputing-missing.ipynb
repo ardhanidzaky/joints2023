{
 "cells": [
  {
   "cell_type": "code",
   "execution_count": 1,
   "id": "76d1d404",
   "metadata": {
    "execution": {
     "iopub.execute_input": "2023-04-14T16:40:17.873490Z",
     "iopub.status.busy": "2023-04-14T16:40:17.872695Z",
     "iopub.status.idle": "2023-04-14T16:40:42.159861Z",
     "shell.execute_reply": "2023-04-14T16:40:42.158189Z"
    },
    "id": "ZHzLtKjvf1qd",
    "outputId": "a5224770-6014-467d-cd0e-914dd65592a4",
    "papermill": {
     "duration": 24.304757,
     "end_time": "2023-04-14T16:40:42.163316",
     "exception": false,
     "start_time": "2023-04-14T16:40:17.858559",
     "status": "completed"
    },
    "tags": []
   },
   "outputs": [
    {
     "name": "stdout",
     "output_type": "stream",
     "text": [
      "\u001b[33mWARNING: Running pip as the 'root' user can result in broken permissions and conflicting behaviour with the system package manager. It is recommended to use a virtual environment instead: https://pip.pypa.io/warnings/venv\u001b[0m\u001b[33m\r\n",
      "\u001b[0m\u001b[33mWARNING: Running pip as the 'root' user can result in broken permissions and conflicting behaviour with the system package manager. It is recommended to use a virtual environment instead: https://pip.pypa.io/warnings/venv\u001b[0m\u001b[33m\r\n",
      "\u001b[0m"
     ]
    }
   ],
   "source": [
    "!pip install --q catboost\n",
    "!pip install --q cleanlab"
   ]
  },
  {
   "cell_type": "code",
   "execution_count": 2,
   "id": "f54750e7",
   "metadata": {
    "execution": {
     "iopub.execute_input": "2023-04-14T16:40:42.187847Z",
     "iopub.status.busy": "2023-04-14T16:40:42.187420Z",
     "iopub.status.idle": "2023-04-14T16:40:45.726740Z",
     "shell.execute_reply": "2023-04-14T16:40:45.725287Z"
    },
    "id": "13I1WOMxdtnp",
    "papermill": {
     "duration": 3.555594,
     "end_time": "2023-04-14T16:40:45.729926",
     "exception": false,
     "start_time": "2023-04-14T16:40:42.174332",
     "status": "completed"
    },
    "tags": []
   },
   "outputs": [
    {
     "data": {
      "text/html": [
       "<style type='text/css'>\n",
       ".datatable table.frame { margin-bottom: 0; }\n",
       ".datatable table.frame thead { border-bottom: none; }\n",
       ".datatable table.frame tr.coltypes td {  color: #FFFFFF;  line-height: 6px;  padding: 0 0.5em;}\n",
       ".datatable .bool    { background: #DDDD99; }\n",
       ".datatable .object  { background: #565656; }\n",
       ".datatable .int     { background: #5D9E5D; }\n",
       ".datatable .float   { background: #4040CC; }\n",
       ".datatable .str     { background: #CC4040; }\n",
       ".datatable .time    { background: #40CC40; }\n",
       ".datatable .row_index {  background: var(--jp-border-color3);  border-right: 1px solid var(--jp-border-color0);  color: var(--jp-ui-font-color3);  font-size: 9px;}\n",
       ".datatable .frame tbody td { text-align: left; }\n",
       ".datatable .frame tr.coltypes .row_index {  background: var(--jp-border-color0);}\n",
       ".datatable th:nth-child(2) { padding-left: 12px; }\n",
       ".datatable .hellipsis {  color: var(--jp-cell-editor-border-color);}\n",
       ".datatable .vellipsis {  background: var(--jp-layout-color0);  color: var(--jp-cell-editor-border-color);}\n",
       ".datatable .na {  color: var(--jp-cell-editor-border-color);  font-size: 80%;}\n",
       ".datatable .sp {  opacity: 0.25;}\n",
       ".datatable .footer { font-size: 9px; }\n",
       ".datatable .frame_dimensions {  background: var(--jp-border-color3);  border-top: 1px solid var(--jp-border-color0);  color: var(--jp-ui-font-color3);  display: inline-block;  opacity: 0.6;  padding: 1px 10px 1px 5px;}\n",
       "</style>\n"
      ],
      "text/plain": [
       "<IPython.core.display.HTML object>"
      ]
     },
     "metadata": {},
     "output_type": "display_data"
    }
   ],
   "source": [
    "import pandas as pd\n",
    "import seaborn as sns\n",
    "import matplotlib.pyplot as plt\n",
    "import numpy as np\n",
    "import cleanlab\n",
    "\n",
    "from catboost import CatBoostClassifier\n",
    "from xgboost import XGBClassifier\n",
    "from lightgbm import LGBMClassifier\n",
    "\n",
    "from sklearn.linear_model import LinearRegression\n",
    "from sklearn.model_selection import train_test_split, StratifiedKFold, cross_val_predict, KFold\n",
    "from sklearn.preprocessing import StandardScaler, OneHotEncoder, LabelEncoder\n",
    "from sklearn.compose import ColumnTransformer\n",
    "from sklearn.metrics import accuracy_score, recall_score, precision_score, f1_score, classification_report"
   ]
  },
  {
   "cell_type": "code",
   "execution_count": 3,
   "id": "0721f38b",
   "metadata": {
    "execution": {
     "iopub.execute_input": "2023-04-14T16:40:45.754388Z",
     "iopub.status.busy": "2023-04-14T16:40:45.753924Z",
     "iopub.status.idle": "2023-04-14T16:40:45.759590Z",
     "shell.execute_reply": "2023-04-14T16:40:45.758337Z"
    },
    "papermill": {
     "duration": 0.020645,
     "end_time": "2023-04-14T16:40:45.762107",
     "exception": false,
     "start_time": "2023-04-14T16:40:45.741462",
     "status": "completed"
    },
    "tags": []
   },
   "outputs": [],
   "source": [
    "pd.options.mode.chained_assignment = None"
   ]
  },
  {
   "cell_type": "markdown",
   "id": "2f554ee6",
   "metadata": {
    "id": "RiwTOwsKeqMu",
    "papermill": {
     "duration": 0.012384,
     "end_time": "2023-04-14T16:40:45.785819",
     "exception": false,
     "start_time": "2023-04-14T16:40:45.773435",
     "status": "completed"
    },
    "tags": []
   },
   "source": [
    "# Constants"
   ]
  },
  {
   "cell_type": "code",
   "execution_count": 4,
   "id": "031f668e",
   "metadata": {
    "execution": {
     "iopub.execute_input": "2023-04-14T16:40:45.809810Z",
     "iopub.status.busy": "2023-04-14T16:40:45.809391Z",
     "iopub.status.idle": "2023-04-14T16:40:45.816064Z",
     "shell.execute_reply": "2023-04-14T16:40:45.814611Z"
    },
    "id": "dg8O0ApberfB",
    "papermill": {
     "duration": 0.021753,
     "end_time": "2023-04-14T16:40:45.818484",
     "exception": false,
     "start_time": "2023-04-14T16:40:45.796731",
     "status": "completed"
    },
    "tags": []
   },
   "outputs": [],
   "source": [
    "wb_mapping = {\n",
    "    0: 'Unknown/not stated',\n",
    "    1: 'Clay',\n",
    "    2: 'Mortar + Cement',\n",
    "    3: 'Mortar + Cement, Clay',\n",
    "    5: 'Mud + Mortar, Clay',\n",
    "    7: 'Mud + Mortar, Clay, Cement + Mortar'\n",
    "}\n",
    "\n",
    "wm_mapping = {\n",
    "    0: 'Unknown/not stated',\n",
    "    1: 'Red Bricks',\n",
    "    2: 'Stone Bricks',\n",
    "    3: 'Red Bricks, Stone Bricks'\n",
    "}"
   ]
  },
  {
   "cell_type": "code",
   "execution_count": 5,
   "id": "29682203",
   "metadata": {
    "execution": {
     "iopub.execute_input": "2023-04-14T16:40:45.842087Z",
     "iopub.status.busy": "2023-04-14T16:40:45.841594Z",
     "iopub.status.idle": "2023-04-14T16:40:45.849879Z",
     "shell.execute_reply": "2023-04-14T16:40:45.848576Z"
    },
    "papermill": {
     "duration": 0.023419,
     "end_time": "2023-04-14T16:40:45.852804",
     "exception": false,
     "start_time": "2023-04-14T16:40:45.829385",
     "status": "completed"
    },
    "tags": []
   },
   "outputs": [],
   "source": [
    "test_number_dict = {\n",
    "    'two story': 2, 'floor second': 2, 'Floor two': 2, 'There is 2 Floor/Story': 2, \n",
    "    'Floor 2': 2, 'two': 2, ' just 2 floor': 2, '2': 2, '2 floor': 2, 'Two Floor': 2, \n",
    "    'floor two': 2, 'floor third': 3, 'three Story': 3, 'Three': 3, 'Floor-three': 3, \n",
    "    '3.00': 3, 'Floor 3': 3, 'Three floor': 3, ' has 3 Floor': 3, '1': 1, 'one': 1, \n",
    "    '1st Story': 1, 'floor one': 1, 'one story': 1, 'Has 1 floor': 1, 'Just 1 floor': 1, \n",
    "    'floor 1st': 1, 'Floor 1': 1, 'four Floor': 4, 'Floor 4': 4, 'Fl four': 4, 'Four': 4, \n",
    "    'Four Story': 4, 'floor four': 4, ' has Four fl': 4, '4': 4, '6': 6, 'Fl Five': 5, \n",
    "    ' Has Five fl': 5, 'fifth': 5, 'five Floor': 5, 'Floor Fifth': 5, '5': 5, '7': 7, \n",
    "    '9': 9\n",
    "}"
   ]
  },
  {
   "cell_type": "markdown",
   "id": "c49013b7",
   "metadata": {
    "id": "oAZIPuR4dcwN",
    "papermill": {
     "duration": 0.010651,
     "end_time": "2023-04-14T16:40:45.874290",
     "exception": false,
     "start_time": "2023-04-14T16:40:45.863639",
     "status": "completed"
    },
    "tags": []
   },
   "source": [
    "# Pre-defined Function (Basic pre-processing)"
   ]
  },
  {
   "cell_type": "code",
   "execution_count": 6,
   "id": "646c8990",
   "metadata": {
    "cellView": "form",
    "execution": {
     "iopub.execute_input": "2023-04-14T16:40:45.899764Z",
     "iopub.status.busy": "2023-04-14T16:40:45.899343Z",
     "iopub.status.idle": "2023-04-14T16:40:45.909559Z",
     "shell.execute_reply": "2023-04-14T16:40:45.908414Z"
    },
    "id": "DVsfP0ZmdZPG",
    "papermill": {
     "duration": 0.026542,
     "end_time": "2023-04-14T16:40:45.912101",
     "exception": false,
     "start_time": "2023-04-14T16:40:45.885559",
     "status": "completed"
    },
    "tags": []
   },
   "outputs": [],
   "source": [
    "#@title extract_num_floors\n",
    "def extract_num_floors(floor):\n",
    "    \"\"\"\n",
    "    This function extracts the number of floors from the 'floors_before_eq' column\n",
    "    and converts it to an integer. If the value is missing or cannot be converted\n",
    "    to an integer, it returns None.\n",
    "\n",
    "    Arguments:\n",
    "    - floor: The value in the 'floors_before_eq' column for a particular building\n",
    "\n",
    "    Returns:\n",
    "    - An integer representing the number of floors for the given building, or None\n",
    "      if the value is missing or cannot be converted to an integer.\n",
    "    \"\"\"\n",
    "    import re\n",
    "\n",
    "    if floor is None:\n",
    "        return None\n",
    "    else:\n",
    "        floor = str(floor)\n",
    "        floor = floor.lower()\n",
    "        if 'one' in floor or 'first' in floor or 'ground' in floor:\n",
    "            return 1\n",
    "        elif 'two' in floor or 'second' in floor:\n",
    "            return 2\n",
    "        elif 'three' in floor or 'third' in floor:\n",
    "            return 3\n",
    "        elif 'four' in floor or 'fourth' in floor:\n",
    "            return 4\n",
    "        elif 'five' in floor or 'fifth' in floor:\n",
    "            return 5\n",
    "        else:\n",
    "            floor = re.findall(r'\\d+', floor)\n",
    "            if len(floor) > 0:\n",
    "                return int(floor[0])\n",
    "            else:\n",
    "                return None"
   ]
  },
  {
   "cell_type": "code",
   "execution_count": 7,
   "id": "d81b4db6",
   "metadata": {
    "cellView": "form",
    "execution": {
     "iopub.execute_input": "2023-04-14T16:40:45.935791Z",
     "iopub.status.busy": "2023-04-14T16:40:45.935361Z",
     "iopub.status.idle": "2023-04-14T16:40:45.950901Z",
     "shell.execute_reply": "2023-04-14T16:40:45.949417Z"
    },
    "id": "ZXQSL2wbXpRl",
    "papermill": {
     "duration": 0.030769,
     "end_time": "2023-04-14T16:40:45.953671",
     "exception": false,
     "start_time": "2023-04-14T16:40:45.922902",
     "status": "completed"
    },
    "tags": []
   },
   "outputs": [],
   "source": [
    "#@title standardize_value\n",
    "def standardize_value(data):\n",
    "    \"\"\"\n",
    "    This function takes a pandas dataframe as input and returns a new pandas dataframe\n",
    "    where all the categorical values are standardized. For example, if 'RCC' and 'RC' \n",
    "    are used interchangeably in the 'foundation_type' column, this function will standardize \n",
    "    all the 'RCC' values to 'RC' to avoid any inconsistencies.\n",
    "    \"\"\"\n",
    "\n",
    "    # type_of_foundation\n",
    "    data['type_of_foundation'] = data['type_of_foundation'].replace('RC', 'Reinforced Concrete')\n",
    "    data['type_of_foundation'] = data['type_of_foundation'].replace(['Bamboo/TImber', 'Bamboo or Timber', 'Bamboo/Timber'], 'Bamboo/Timber')\n",
    "    data['type_of_foundation'] = data['type_of_foundation'].replace(['Other', 'Others'], 'Other')\n",
    "    data['type_of_foundation'] = data['type_of_foundation'].replace(['Cement-Stone/Brick', 'Cement-Stone or Cement-Brick'], 'Cement-Stone/Brick')\n",
    "    \n",
    "    # type_of_roof\n",
    "    data['type_of_roof'] = data['type_of_roof'].replace(['Bamboo/Timber Light roof', 'Bamboo/TImber-Light Roof', 'Bamboo or Timber Light roof'], 'Bamboo/Timber Light roof')\n",
    "    data['type_of_roof'] = data['type_of_roof'].replace(['Bamboo/Timber Heavy roof ', 'Bamboo/TImber-Heavy Roof', 'Bamboo or Timber Heavy roof'], 'Bamboo/Timber Heavy roof')\n",
    "    data['type_of_roof'] = data['type_of_roof'].replace(['reinforced cement concrete/rb/rbc', 'rcc/rb/rbc', 'Reinforced Brick Slab/rcc/rbc', 'Reinforced brick concrete/rcc/rbc'], 'rcc/rb/rbc')\n",
    "    \n",
    "    # type_of_ground_floor\n",
    "    data['type_of_ground_floor'] = data['type_of_ground_floor'].replace(['mud', 'Mud'], 'Mud')\n",
    "    data['type_of_ground_floor'] = data['type_of_ground_floor'].replace(['reinforced concrete', 'Reinforced Concrete', 'RC'], 'Reinforced Concrete ')\n",
    "    data['type_of_ground_floor'] = data['type_of_ground_floor'].replace(['Brick/Stone', 'brick/stone', 'Brick or Stone'], 'Brick/Stone')\n",
    "    data['type_of_ground_floor'] = data['type_of_ground_floor'].replace(['TImber', 'Timber', 'Wood', 'Lumber'], 'Wood')\n",
    "\n",
    "    # type_of_other_floor\n",
    "    data['type_of_other_floor'] = data['type_of_other_floor'].replace(['TImber/Bamboo-Mud', 'Timber Mud or Bamboo-Mud', 'Wood or Bamboo Mud'], 'Wood or Bamboo Mud')\n",
    "    data['type_of_other_floor'] = data['type_of_other_floor'].replace(['Timber-Planck', 'Lumber-plank', 'Wood-Plank'], 'Wood-Plank')\n",
    "    data['type_of_other_floor'] = data['type_of_other_floor'].replace(['rcc/rb/rbc', 'reinforced cement concrete/rb/rbc', 'Reinforced brick concrete/rcc/rbc'], 'rcc/rb/rbc')\n",
    "    data['type_of_other_floor'] = data['type_of_other_floor'].replace(['Wood or Bamboo Mud', 'Wood-Mud or Bamboo Mud'], 'Wood-Mud or Bamboo Mud ')\n",
    "\n",
    "    # legal_ownership_status\n",
    "    data['legal_ownership_status'] = data['legal_ownership_status'].replace(['Private', 'Private Use', 'Prvt', 'Privste'], 'Private')\n",
    "    data['legal_ownership_status'] = data['legal_ownership_status'].replace(['Public', 'Public Use', 'Public Space'], 'Public')\n",
    "    data['legal_ownership_status'] = data['legal_ownership_status'].replace(['Institutional', 'Institutional Use', 'Institutionals'], 'Institutional')\n",
    "    data['legal_ownership_status'] = data['legal_ownership_status'].replace(['Other', 'Unknown', 'Unspecified'], 'Other')\n",
    "\n",
    "    return data"
   ]
  },
  {
   "cell_type": "code",
   "execution_count": 8,
   "id": "d6fe5613",
   "metadata": {
    "cellView": "form",
    "execution": {
     "iopub.execute_input": "2023-04-14T16:40:45.977419Z",
     "iopub.status.busy": "2023-04-14T16:40:45.976986Z",
     "iopub.status.idle": "2023-04-14T16:40:45.988749Z",
     "shell.execute_reply": "2023-04-14T16:40:45.987227Z"
    },
    "id": "ZHaRyzPnvA85",
    "papermill": {
     "duration": 0.0268,
     "end_time": "2023-04-14T16:40:45.991368",
     "exception": false,
     "start_time": "2023-04-14T16:40:45.964568",
     "status": "completed"
    },
    "tags": []
   },
   "outputs": [],
   "source": [
    "#@title find_label_issue_train\n",
    "def find_label_issue_train(data):\n",
    "    \"\"\"\n",
    "    Find label errors in the training data using the Confident Learning framework.\n",
    "\n",
    "    Arguments:\n",
    "    - data: A pandas DataFrame containing the training data.\n",
    "\n",
    "    Returns:\n",
    "    - A list of indices of examples in the training data that are likely to have label errors.\n",
    "\n",
    "    References: \n",
    "    \"\"\"\n",
    "    # Step 1: Apply a machine learning model to the training data to obtain predicted labels.\n",
    "    # This model should be trained using standard techniques and should not take into account the issue of label errors.\n",
    "    # Here, we assume that the model is already trained and is available for use.\n",
    "\n",
    "    # Step 2: Compute the empirical distribution of the predicted labels.\n",
    "    # This distribution will be used later to estimate the noise distribution.\n",
    "\n",
    "    # Step 3: Compute the joint distribution of the predicted labels and the true labels.\n",
    "    # This distribution can be estimated using the empirical distribution of the predicted labels and an estimate of the noise distribution.\n",
    "\n",
    "    # Step 4: Rank the examples in the training data by their likelihood of being mislabeled.\n",
    "    # This can be done by computing the conditional probability of the true label given the predicted label.\n",
    "\n",
    "    # Step 5: Identify examples that are likely to be mislabeled.\n",
    "    # This can be done by selecting examples with low confidence and high probability of being mislabeled.\n",
    "\n",
    "    # Step 6: Return the indices of the examples that are likely to be mislabeled.\n",
    "    # These examples can be further examined to determine if they are indeed mislabeled, and corrected if necessary.\n",
    "    # Alternatively, they can be removed from the training data to improve the performance of the machine learning model.\n",
    "\n",
    "    X = data[data.columns.difference(['damage_grade'])]\n",
    "    y = data['damage_grade']\n",
    "\n",
    "    numerical_cols = X.select_dtypes(include=['int64', 'float64']).columns.tolist()\n",
    "    categorical_cols = X.select_dtypes(include=['object']).columns.tolist()\n",
    "\n",
    "    numerical_transformer = StandardScaler()\n",
    "    categorical_transformer = OneHotEncoder(sparse=False)\n",
    "\n",
    "    preprocessor = ColumnTransformer(\n",
    "        transformers=[\n",
    "            ('num', numerical_transformer, numerical_cols),\n",
    "            ('cat', categorical_transformer, categorical_cols)\n",
    "        ])\n",
    "\n",
    "    X = preprocessor.fit_transform(X)\n",
    "\n",
    "    label_encoder = LabelEncoder()\n",
    "    y = label_encoder.fit_transform(y)\n",
    "\n",
    "    model = XGBClassifier(tree_method=\"hist\", enable_categorical=True)\n",
    "    pred_probs = cross_val_predict(model, X, y, method='predict_proba')\n",
    "\n",
    "    cl_issue_idx = cleanlab.filter.find_label_issues(y, pred_probs, return_indices_ranked_by='self_confidence')\n",
    "    \n",
    "    selected_rows = data.iloc[cl_issue_idx]\n",
    "    inverted_selection = data[~data.index.isin(cl_issue_idx)]\n",
    "\n",
    "    return inverted_selection"
   ]
  },
  {
   "cell_type": "code",
   "execution_count": 9,
   "id": "cd4a7c4d",
   "metadata": {
    "cellView": "form",
    "execution": {
     "iopub.execute_input": "2023-04-14T16:40:46.016461Z",
     "iopub.status.busy": "2023-04-14T16:40:46.016030Z",
     "iopub.status.idle": "2023-04-14T16:40:46.027694Z",
     "shell.execute_reply": "2023-04-14T16:40:46.026187Z"
    },
    "id": "zG4AwLU0eMhw",
    "papermill": {
     "duration": 0.028119,
     "end_time": "2023-04-14T16:40:46.030436",
     "exception": false,
     "start_time": "2023-04-14T16:40:46.002317",
     "status": "completed"
    },
    "tags": []
   },
   "outputs": [],
   "source": [
    "#@title complete_pipeline\n",
    "def complete_pipeline(data):\n",
    "    \"\"\"\n",
    "    This function takes a pandas dataframe as input, processes it through\n",
    "    various steps including missing value imputation, feature engineering,\n",
    "    and standardization, and returns the processed dataframe ready for\n",
    "    machine learning modeling. The function is designed to handle both\n",
    "    training and testing data by distinguishing between them based on the\n",
    "    presence of the 'damage_grade' column.\n",
    "    \"\"\"\n",
    "\n",
    "    # floors_before_eq (total)\n",
    "    data['floors_before_eq (total)'] = data['floors_before_eq (total)'].apply(lambda x: extract_num_floors(x))\n",
    "\n",
    "    # missing value\n",
    "    data = data[data['floors_before_eq (total)'].notna()]\n",
    "    data = data[data['plinth_area (ft^2)'].notna()]\n",
    "    data['technical_solution_proposed'] = data['technical_solution_proposed'].fillna('Unspecified')\n",
    "\n",
    "    # replace and lambda\n",
    "    data['plinth_area (ft^2)'] = data['plinth_area (ft^2)'].str.extract('(\\d+)').astype(float)\n",
    "    \n",
    "    data['no_family_residing'] = data['no_family_residing'].replace('None', 0).astype(float)\n",
    "    data['wall_binding'] = data['wall_binding'].replace(wb_mapping)\n",
    "    data['wall_material'] = data['wall_material'].replace(wm_mapping)\n",
    "\n",
    "    data['type_of_reinforcement_concrete'] = data['type_of_reinforcement_concrete'].apply(lambda x: f'Type: {str(x)}')\n",
    "    \n",
    "    # value standardization\n",
    "    data = standardize_value(data)\n",
    "\n",
    "    # same group of features, different label\n",
    "    data = data.groupby(list(data.columns.difference(['damage_grade']))).filter(lambda x: len(set(x['damage_grade'])) == 1)\n",
    "\n",
    "    # label issue in train data\n",
    "    data = data.reset_index()\n",
    "    data.drop(['index'], axis=1, inplace=True)\n",
    "    data = find_label_issue_train(data)\n",
    "    \n",
    "    return data"
   ]
  },
  {
   "cell_type": "code",
   "execution_count": 10,
   "id": "a8e3f650",
   "metadata": {
    "cellView": "form",
    "execution": {
     "iopub.execute_input": "2023-04-14T16:40:46.054735Z",
     "iopub.status.busy": "2023-04-14T16:40:46.054303Z",
     "iopub.status.idle": "2023-04-14T16:40:46.063371Z",
     "shell.execute_reply": "2023-04-14T16:40:46.061884Z"
    },
    "id": "M-iZTblLJ2X9",
    "papermill": {
     "duration": 0.024295,
     "end_time": "2023-04-14T16:40:46.066011",
     "exception": false,
     "start_time": "2023-04-14T16:40:46.041716",
     "status": "completed"
    },
    "tags": []
   },
   "outputs": [],
   "source": [
    "#@title cross_val_multiclass\n",
    "def cross_val_multiclass(model, X, y, num_folds=5):\n",
    "    from sklearn.model_selection import KFold, cross_val_score\n",
    "    from sklearn.metrics import f1_score\n",
    "    import numpy as np\n",
    "\n",
    "    kf = KFold(n_splits=num_folds, shuffle=True, random_state=42)\n",
    "    f1_scores = []\n",
    "    for train_idx, test_idx in kf.split(X):\n",
    "        X_train, X_test = X[train_idx], X[test_idx]\n",
    "        y_train, y_test = y[train_idx], y[test_idx]\n",
    "        model.fit(X_train, y_train, verbose=0)\n",
    "        y_pred = model.predict(X_test)\n",
    "        f1_scores.append(f1_score(y_test, y_pred, average='macro'))\n",
    "    return np.mean(f1_scores), np.std(f1_scores)"
   ]
  },
  {
   "cell_type": "code",
   "execution_count": 11,
   "id": "66b98800",
   "metadata": {
    "cellView": "form",
    "execution": {
     "iopub.execute_input": "2023-04-14T16:40:46.090067Z",
     "iopub.status.busy": "2023-04-14T16:40:46.089667Z",
     "iopub.status.idle": "2023-04-14T16:40:46.098419Z",
     "shell.execute_reply": "2023-04-14T16:40:46.097112Z"
    },
    "id": "wkje0UzBJ8TJ",
    "papermill": {
     "duration": 0.023862,
     "end_time": "2023-04-14T16:40:46.100839",
     "exception": false,
     "start_time": "2023-04-14T16:40:46.076977",
     "status": "completed"
    },
    "tags": []
   },
   "outputs": [],
   "source": [
    "#@title categorical_correlation\n",
    "def categorical_correlation(var1, var2):\n",
    "    import scipy.stats as stats\n",
    "\n",
    "    contingency_table = pd.crosstab(var1, var2)\n",
    "  \n",
    "    chi2, p, dof, expected = stats.chi2_contingency(contingency_table)\n",
    "    \n",
    "    n = contingency_table.sum().sum()\n",
    "    phi2 = chi2/n\n",
    "    r, k = contingency_table.shape\n",
    "    phi2corr = max(0, phi2 - ((k-1)*(r-1))/(n-1))\n",
    "    rcorr = r - ((r-1)**2)/(n-1)\n",
    "    kcorr = k - ((k-1)**2)/(n-1)\n",
    "    V = np.sqrt(phi2corr / min((kcorr-1), (rcorr-1)))\n",
    "    \n",
    "    return {\"Chi-squared test\": {\"test statistic\": chi2, \"p-value\": p}, \"Cramer's V\": V}"
   ]
  },
  {
   "cell_type": "markdown",
   "id": "51893a28",
   "metadata": {
    "id": "ldT1thHxg2Oh",
    "papermill": {
     "duration": 0.01042,
     "end_time": "2023-04-14T16:40:46.121951",
     "exception": false,
     "start_time": "2023-04-14T16:40:46.111531",
     "status": "completed"
    },
    "tags": []
   },
   "source": [
    "# Basic Data Cleaning"
   ]
  },
  {
   "cell_type": "code",
   "execution_count": 12,
   "id": "7bd708a6",
   "metadata": {
    "execution": {
     "iopub.execute_input": "2023-04-14T16:40:46.145702Z",
     "iopub.status.busy": "2023-04-14T16:40:46.145308Z",
     "iopub.status.idle": "2023-04-14T16:44:23.666356Z",
     "shell.execute_reply": "2023-04-14T16:44:23.664447Z"
    },
    "id": "IA7Mmlo-g5my",
    "outputId": "b61943de-cce7-4e2d-df8e-db6be9b04b97",
    "papermill": {
     "duration": 217.537153,
     "end_time": "2023-04-14T16:44:23.669825",
     "exception": false,
     "start_time": "2023-04-14T16:40:46.132672",
     "status": "completed"
    },
    "tags": []
   },
   "outputs": [
    {
     "name": "stderr",
     "output_type": "stream",
     "text": [
      "/opt/conda/lib/python3.7/site-packages/IPython/core/interactiveshell.py:3553: DtypeWarning: Columns (1,3,5,6,7,8,9,10,11,12,13,16,17,19,20) have mixed types.Specify dtype option on import or set low_memory=False.\n",
      "  exec(code_obj, self.user_global_ns, self.user_ns)\n"
     ]
    }
   ],
   "source": [
    "train = pd.read_csv('/kaggle/input/jointsugm/train.csv')\n",
    "train.drop(['Unnamed: 0'], axis=1, inplace=True)\n",
    "\n",
    "train = complete_pipeline(train)\n",
    "train = train.reset_index()\n",
    "train.drop(['index'], axis=1, inplace=True)"
   ]
  },
  {
   "cell_type": "code",
   "execution_count": 13,
   "id": "9a5c6bc3",
   "metadata": {
    "execution": {
     "iopub.execute_input": "2023-04-14T16:44:23.696189Z",
     "iopub.status.busy": "2023-04-14T16:44:23.694038Z",
     "iopub.status.idle": "2023-04-14T16:44:23.713926Z",
     "shell.execute_reply": "2023-04-14T16:44:23.712750Z"
    },
    "id": "7ItlpPXRMBAw",
    "papermill": {
     "duration": 0.036134,
     "end_time": "2023-04-14T16:44:23.717163",
     "exception": false,
     "start_time": "2023-04-14T16:44:23.681029",
     "status": "completed"
    },
    "tags": []
   },
   "outputs": [],
   "source": [
    "# Inverse (will be predicted)\n",
    "train['technical_solution_proposed'] = train['technical_solution_proposed'].replace('Unspecified', np.nan)"
   ]
  },
  {
   "cell_type": "markdown",
   "id": "b2930bab",
   "metadata": {
    "id": "0g0FzpREKWY8",
    "papermill": {
     "duration": 0.010527,
     "end_time": "2023-04-14T16:44:23.738815",
     "exception": false,
     "start_time": "2023-04-14T16:44:23.728288",
     "status": "completed"
    },
    "tags": []
   },
   "source": [
    "### Predict the missing technical_solution_proposed for imputing train"
   ]
  },
  {
   "cell_type": "code",
   "execution_count": 14,
   "id": "631e4abd",
   "metadata": {
    "execution": {
     "iopub.execute_input": "2023-04-14T16:44:23.763320Z",
     "iopub.status.busy": "2023-04-14T16:44:23.762883Z",
     "iopub.status.idle": "2023-04-14T16:44:23.784860Z",
     "shell.execute_reply": "2023-04-14T16:44:23.783762Z"
    },
    "id": "PbnZnMltXzhs",
    "papermill": {
     "duration": 0.037651,
     "end_time": "2023-04-14T16:44:23.787497",
     "exception": false,
     "start_time": "2023-04-14T16:44:23.749846",
     "status": "completed"
    },
    "tags": []
   },
   "outputs": [],
   "source": [
    "titr = train.copy()"
   ]
  },
  {
   "cell_type": "code",
   "execution_count": 15,
   "id": "b074b453",
   "metadata": {
    "execution": {
     "iopub.execute_input": "2023-04-14T16:44:23.812416Z",
     "iopub.status.busy": "2023-04-14T16:44:23.811017Z",
     "iopub.status.idle": "2023-04-14T16:44:23.848056Z",
     "shell.execute_reply": "2023-04-14T16:44:23.846727Z"
    },
    "id": "r_d3XLsvX5O4",
    "papermill": {
     "duration": 0.052468,
     "end_time": "2023-04-14T16:44:23.850991",
     "exception": false,
     "start_time": "2023-04-14T16:44:23.798523",
     "status": "completed"
    },
    "tags": []
   },
   "outputs": [],
   "source": [
    "titr = titr[titr['technical_solution_proposed'].notna()]"
   ]
  },
  {
   "cell_type": "code",
   "execution_count": 16,
   "id": "f0685ffd",
   "metadata": {
    "execution": {
     "iopub.execute_input": "2023-04-14T16:44:23.875123Z",
     "iopub.status.busy": "2023-04-14T16:44:23.874705Z",
     "iopub.status.idle": "2023-04-14T16:44:25.467382Z",
     "shell.execute_reply": "2023-04-14T16:44:25.466144Z"
    },
    "id": "M81sjcI7Kc1b",
    "outputId": "47e24822-9e98-4e50-cb82-8a7792ce46d1",
    "papermill": {
     "duration": 1.608311,
     "end_time": "2023-04-14T16:44:25.470289",
     "exception": false,
     "start_time": "2023-04-14T16:44:23.861978",
     "status": "completed"
    },
    "tags": []
   },
   "outputs": [],
   "source": [
    "X_titr = titr[titr.columns.difference(['technical_solution_proposed'])]\n",
    "y_titr = titr['technical_solution_proposed']\n",
    "\n",
    "numerical_cols = X_titr.select_dtypes(include=['int64', 'float64']).columns.tolist()\n",
    "categorical_cols = X_titr.select_dtypes(include=['object']).columns.tolist()\n",
    "\n",
    "numerical_transformer = StandardScaler()\n",
    "categorical_transformer = OneHotEncoder(sparse=False)\n",
    "\n",
    "titr_preproc = ColumnTransformer(\n",
    "    transformers=[\n",
    "        ('num', numerical_transformer, numerical_cols),\n",
    "        ('cat', categorical_transformer, categorical_cols)\n",
    "    ])\n",
    "\n",
    "titr_preproc = titr_preproc.fit(train[train.columns.difference(['technical_solution_proposed'])])\n",
    "X_titr = titr_preproc.transform(X_titr)\n",
    "\n",
    "titr_le = LabelEncoder()\n",
    "y_titr = titr_le.fit_transform(y_titr)"
   ]
  },
  {
   "cell_type": "code",
   "execution_count": 17,
   "id": "3b34e011",
   "metadata": {
    "execution": {
     "iopub.execute_input": "2023-04-14T16:44:25.494510Z",
     "iopub.status.busy": "2023-04-14T16:44:25.493515Z",
     "iopub.status.idle": "2023-04-14T16:44:48.465689Z",
     "shell.execute_reply": "2023-04-14T16:44:48.464335Z"
    },
    "id": "A4GNI7b9uGls",
    "papermill": {
     "duration": 22.987076,
     "end_time": "2023-04-14T16:44:48.468399",
     "exception": false,
     "start_time": "2023-04-14T16:44:25.481323",
     "status": "completed"
    },
    "tags": []
   },
   "outputs": [
    {
     "data": {
      "text/plain": [
       "XGBClassifier(base_score=0.5, booster='gbtree', callbacks=None,\n",
       "              colsample_bylevel=1, colsample_bynode=1, colsample_bytree=1,\n",
       "              early_stopping_rounds=None, enable_categorical=False,\n",
       "              eval_metric=None, gamma=0, gpu_id=-1, grow_policy='depthwise',\n",
       "              importance_type=None, interaction_constraints='',\n",
       "              learning_rate=0.300000012, max_bin=256, max_cat_to_onehot=4,\n",
       "              max_delta_step=0, max_depth=6, max_leaves=0, min_child_weight=1,\n",
       "              missing=nan, monotone_constraints='()', n_estimators=100,\n",
       "              n_jobs=0, num_parallel_tree=1, objective='multi:softprob',\n",
       "              predictor='auto', random_state=0, reg_alpha=0, ...)"
      ]
     },
     "execution_count": 17,
     "metadata": {},
     "output_type": "execute_result"
    }
   ],
   "source": [
    "cb_titr = XGBClassifier()\n",
    "cb_titr.fit(X_titr, y_titr, verbose=0)"
   ]
  },
  {
   "cell_type": "code",
   "execution_count": 18,
   "id": "51d60514",
   "metadata": {
    "execution": {
     "iopub.execute_input": "2023-04-14T16:44:48.493604Z",
     "iopub.status.busy": "2023-04-14T16:44:48.492011Z",
     "iopub.status.idle": "2023-04-14T16:44:50.173175Z",
     "shell.execute_reply": "2023-04-14T16:44:50.172023Z"
    },
    "papermill": {
     "duration": 1.696581,
     "end_time": "2023-04-14T16:44:50.175968",
     "exception": false,
     "start_time": "2023-04-14T16:44:48.479387",
     "status": "completed"
    },
    "tags": []
   },
   "outputs": [],
   "source": [
    "train.loc[train['technical_solution_proposed'].isna(), 'technical_solution_proposed'] = titr_le.inverse_transform(cb_titr.predict(titr_preproc.transform(train.loc[train['technical_solution_proposed'].isna(), train.columns.difference(['technical_solution_proposed'])]))).ravel()"
   ]
  },
  {
   "cell_type": "markdown",
   "id": "a8d2185b",
   "metadata": {
    "id": "UtuwcJBXhWu1",
    "papermill": {
     "duration": 0.01054,
     "end_time": "2023-04-14T16:44:50.197577",
     "exception": false,
     "start_time": "2023-04-14T16:44:50.187037",
     "status": "completed"
    },
    "tags": []
   },
   "source": [
    "# Modeling"
   ]
  },
  {
   "cell_type": "code",
   "execution_count": 19,
   "id": "b1f86f8f",
   "metadata": {
    "execution": {
     "iopub.execute_input": "2023-04-14T16:44:50.221964Z",
     "iopub.status.busy": "2023-04-14T16:44:50.221296Z",
     "iopub.status.idle": "2023-04-14T16:44:51.692800Z",
     "shell.execute_reply": "2023-04-14T16:44:51.691447Z"
    },
    "id": "SJAYUY5qZlK_",
    "papermill": {
     "duration": 1.4871,
     "end_time": "2023-04-14T16:44:51.695803",
     "exception": false,
     "start_time": "2023-04-14T16:44:50.208703",
     "status": "completed"
    },
    "tags": []
   },
   "outputs": [],
   "source": [
    "X = train[train.columns.difference(['damage_grade'])]\n",
    "y = train['damage_grade']\n",
    "\n",
    "numerical_cols = X.select_dtypes(include=['int64', 'float64']).columns.tolist()\n",
    "categorical_cols = X.select_dtypes(include=['object']).columns.tolist()\n",
    "\n",
    "numerical_transformer = StandardScaler()\n",
    "categorical_transformer = OneHotEncoder(sparse=False)\n",
    "\n",
    "preprocessor = ColumnTransformer(\n",
    "    transformers=[\n",
    "        ('num', numerical_transformer, numerical_cols),\n",
    "        ('cat', categorical_transformer, categorical_cols)\n",
    "    ])\n",
    "\n",
    "X = preprocessor.fit_transform(X)\n",
    "\n",
    "label_encoder = LabelEncoder()\n",
    "y = label_encoder.fit_transform(y)"
   ]
  },
  {
   "cell_type": "code",
   "execution_count": 20,
   "id": "7cfae5ec",
   "metadata": {
    "execution": {
     "iopub.execute_input": "2023-04-14T16:44:51.720585Z",
     "iopub.status.busy": "2023-04-14T16:44:51.720128Z",
     "iopub.status.idle": "2023-04-14T16:44:51.922748Z",
     "shell.execute_reply": "2023-04-14T16:44:51.921314Z"
    },
    "id": "KvXY5_ZYh1g2",
    "papermill": {
     "duration": 0.218866,
     "end_time": "2023-04-14T16:44:51.925731",
     "exception": false,
     "start_time": "2023-04-14T16:44:51.706865",
     "status": "completed"
    },
    "tags": []
   },
   "outputs": [],
   "source": [
    "# Create train-validation-test split with stratification\n",
    "X_train, X_val, y_train, y_val = train_test_split(X, y, train_size=0.6, random_state=42, stratify=y)\n",
    "X_val, X_test, y_val, y_test = train_test_split(X_val, y_val, test_size=0.5, random_state=42, stratify=y_val)"
   ]
  },
  {
   "cell_type": "markdown",
   "id": "2509b835",
   "metadata": {
    "id": "zK1N9xBWY3hY",
    "papermill": {
     "duration": 0.010609,
     "end_time": "2023-04-14T16:44:51.947440",
     "exception": false,
     "start_time": "2023-04-14T16:44:51.936831",
     "status": "completed"
    },
    "tags": []
   },
   "source": [
    "## Manual"
   ]
  },
  {
   "cell_type": "markdown",
   "id": "8992d2f7",
   "metadata": {
    "papermill": {
     "duration": 0.010593,
     "end_time": "2023-04-14T16:44:51.968907",
     "exception": false,
     "start_time": "2023-04-14T16:44:51.958314",
     "status": "completed"
    },
    "tags": []
   },
   "source": [
    "### LightGBM"
   ]
  },
  {
   "cell_type": "code",
   "execution_count": 21,
   "id": "e345ecc4",
   "metadata": {
    "execution": {
     "iopub.execute_input": "2023-04-14T16:44:51.992604Z",
     "iopub.status.busy": "2023-04-14T16:44:51.992166Z",
     "iopub.status.idle": "2023-04-14T16:44:59.037729Z",
     "shell.execute_reply": "2023-04-14T16:44:59.036671Z"
    },
    "papermill": {
     "duration": 7.060146,
     "end_time": "2023-04-14T16:44:59.040005",
     "exception": false,
     "start_time": "2023-04-14T16:44:51.979859",
     "status": "completed"
    },
    "tags": []
   },
   "outputs": [
    {
     "name": "stderr",
     "output_type": "stream",
     "text": [
      "/opt/conda/lib/python3.7/site-packages/lightgbm/sklearn.py:736: UserWarning: 'verbose' argument is deprecated and will be removed in a future release of LightGBM. Pass 'log_evaluation()' callback via 'callbacks' argument instead.\n",
      "  _log_warning(\"'verbose' argument is deprecated and will be removed in a future release of LightGBM. \"\n"
     ]
    },
    {
     "data": {
      "text/plain": [
       "LGBMClassifier()"
      ]
     },
     "execution_count": 21,
     "metadata": {},
     "output_type": "execute_result"
    }
   ],
   "source": [
    "lgbm = LGBMClassifier()\n",
    "lgbm.fit(X_train, y_train, verbose=0, eval_set=(X_val, y_val))"
   ]
  },
  {
   "cell_type": "code",
   "execution_count": 22,
   "id": "2df05d73",
   "metadata": {
    "execution": {
     "iopub.execute_input": "2023-04-14T16:44:59.064782Z",
     "iopub.status.busy": "2023-04-14T16:44:59.063943Z",
     "iopub.status.idle": "2023-04-14T16:44:59.487763Z",
     "shell.execute_reply": "2023-04-14T16:44:59.486673Z"
    },
    "papermill": {
     "duration": 0.439223,
     "end_time": "2023-04-14T16:44:59.490556",
     "exception": false,
     "start_time": "2023-04-14T16:44:59.051333",
     "status": "completed"
    },
    "tags": []
   },
   "outputs": [
    {
     "name": "stdout",
     "output_type": "stream",
     "text": [
      "              precision    recall  f1-score   support\n",
      "\n",
      "           1       0.99      0.99      0.99      4562\n",
      "           2       0.98      0.99      0.98      3230\n",
      "           3       1.00      1.00      1.00      5108\n",
      "           4       0.75      0.53      0.62      6808\n",
      "           5       0.85      0.94      0.89     18992\n",
      "\n",
      "    accuracy                           0.88     38700\n",
      "   macro avg       0.91      0.89      0.90     38700\n",
      "weighted avg       0.88      0.88      0.88     38700\n",
      "\n"
     ]
    }
   ],
   "source": [
    "y_val_pred = lgbm.predict(X_val)\n",
    "print(classification_report(y_val, y_val_pred, target_names=['1', '2', '3', '4', '5']))"
   ]
  },
  {
   "cell_type": "markdown",
   "id": "cb375f1a",
   "metadata": {
    "papermill": {
     "duration": 0.010991,
     "end_time": "2023-04-14T16:44:59.513263",
     "exception": false,
     "start_time": "2023-04-14T16:44:59.502272",
     "status": "completed"
    },
    "tags": []
   },
   "source": [
    "### CatBoost"
   ]
  },
  {
   "cell_type": "code",
   "execution_count": 23,
   "id": "ef0437a4",
   "metadata": {
    "execution": {
     "iopub.execute_input": "2023-04-14T16:44:59.538273Z",
     "iopub.status.busy": "2023-04-14T16:44:59.537498Z",
     "iopub.status.idle": "2023-04-14T16:46:11.118074Z",
     "shell.execute_reply": "2023-04-14T16:46:11.116651Z"
    },
    "id": "BTP_rGu_hEHu",
    "papermill": {
     "duration": 71.603943,
     "end_time": "2023-04-14T16:46:11.128420",
     "exception": false,
     "start_time": "2023-04-14T16:44:59.524477",
     "status": "completed"
    },
    "tags": []
   },
   "outputs": [
    {
     "data": {
      "text/plain": [
       "<catboost.core.CatBoostClassifier at 0x79fe938fce50>"
      ]
     },
     "execution_count": 23,
     "metadata": {},
     "output_type": "execute_result"
    }
   ],
   "source": [
    "catboost = CatBoostClassifier()\n",
    "catboost.fit(X_train, y_train, verbose=0, eval_set=(X_val, y_val))"
   ]
  },
  {
   "cell_type": "code",
   "execution_count": 24,
   "id": "28920e55",
   "metadata": {
    "execution": {
     "iopub.execute_input": "2023-04-14T16:46:11.153190Z",
     "iopub.status.busy": "2023-04-14T16:46:11.152775Z",
     "iopub.status.idle": "2023-04-14T16:46:12.665172Z",
     "shell.execute_reply": "2023-04-14T16:46:12.663017Z"
    },
    "id": "iFPop-woRuhu",
    "papermill": {
     "duration": 1.528461,
     "end_time": "2023-04-14T16:46:12.668192",
     "exception": false,
     "start_time": "2023-04-14T16:46:11.139731",
     "status": "completed"
    },
    "tags": []
   },
   "outputs": [
    {
     "name": "stdout",
     "output_type": "stream",
     "text": [
      "              precision    recall  f1-score   support\n",
      "\n",
      "           1       0.99      0.98      0.99      4562\n",
      "           2       0.97      0.99      0.98      3230\n",
      "           3       1.00      1.00      1.00      5108\n",
      "           4       0.74      0.55      0.63      6808\n",
      "           5       0.85      0.93      0.89     18992\n",
      "\n",
      "    accuracy                           0.88     38700\n",
      "   macro avg       0.91      0.89      0.90     38700\n",
      "weighted avg       0.88      0.88      0.88     38700\n",
      "\n"
     ]
    }
   ],
   "source": [
    "y_val_pred = catboost.predict(X_val)\n",
    "print(classification_report(y_val, y_val_pred, target_names=['1', '2', '3', '4', '5']))"
   ]
  },
  {
   "cell_type": "markdown",
   "id": "35d33198",
   "metadata": {
    "papermill": {
     "duration": 0.012348,
     "end_time": "2023-04-14T16:46:12.692564",
     "exception": false,
     "start_time": "2023-04-14T16:46:12.680216",
     "status": "completed"
    },
    "tags": []
   },
   "source": [
    "### XGBoost"
   ]
  },
  {
   "cell_type": "code",
   "execution_count": 25,
   "id": "5e7218c2",
   "metadata": {
    "execution": {
     "iopub.execute_input": "2023-04-14T16:46:12.724609Z",
     "iopub.status.busy": "2023-04-14T16:46:12.724147Z",
     "iopub.status.idle": "2023-04-14T16:51:08.728162Z",
     "shell.execute_reply": "2023-04-14T16:51:08.726805Z"
    },
    "id": "ot3w4aJ9iBth",
    "papermill": {
     "duration": 296.033523,
     "end_time": "2023-04-14T16:51:08.741625",
     "exception": false,
     "start_time": "2023-04-14T16:46:12.708102",
     "status": "completed"
    },
    "tags": []
   },
   "outputs": [
    {
     "data": {
      "text/plain": [
       "XGBClassifier(base_score=0.5, booster='gbtree', callbacks=None,\n",
       "              colsample_bylevel=1, colsample_bynode=1, colsample_bytree=1,\n",
       "              early_stopping_rounds=None, enable_categorical=False,\n",
       "              eval_metric=None, gamma=0, gpu_id=-1, grow_policy='depthwise',\n",
       "              importance_type=None, interaction_constraints='',\n",
       "              learning_rate=0.300000012, max_bin=256, max_cat_to_onehot=4,\n",
       "              max_delta_step=0, max_depth=6, max_leaves=0, min_child_weight=1,\n",
       "              missing=nan, monotone_constraints='()', n_estimators=100,\n",
       "              n_jobs=0, num_parallel_tree=1, objective='multi:softprob',\n",
       "              predictor='auto', random_state=0, reg_alpha=0, ...)"
      ]
     },
     "execution_count": 25,
     "metadata": {},
     "output_type": "execute_result"
    }
   ],
   "source": [
    "xgboost = XGBClassifier()\n",
    "xgboost.fit(X_train, y_train)"
   ]
  },
  {
   "cell_type": "code",
   "execution_count": 26,
   "id": "6c4a5ba4",
   "metadata": {
    "execution": {
     "iopub.execute_input": "2023-04-14T16:51:08.766771Z",
     "iopub.status.busy": "2023-04-14T16:51:08.766395Z",
     "iopub.status.idle": "2023-04-14T16:51:09.313466Z",
     "shell.execute_reply": "2023-04-14T16:51:09.312324Z"
    },
    "id": "VxZfx-MkaWLR",
    "papermill": {
     "duration": 0.562564,
     "end_time": "2023-04-14T16:51:09.315997",
     "exception": false,
     "start_time": "2023-04-14T16:51:08.753433",
     "status": "completed"
    },
    "tags": []
   },
   "outputs": [
    {
     "name": "stdout",
     "output_type": "stream",
     "text": [
      "              precision    recall  f1-score   support\n",
      "\n",
      "           1       0.99      0.99      0.99      4562\n",
      "           2       0.98      0.99      0.98      3230\n",
      "           3       1.00      1.00      1.00      5108\n",
      "           4       0.75      0.54      0.63      6808\n",
      "           5       0.85      0.94      0.89     18992\n",
      "\n",
      "    accuracy                           0.88     38700\n",
      "   macro avg       0.91      0.89      0.90     38700\n",
      "weighted avg       0.88      0.88      0.88     38700\n",
      "\n"
     ]
    }
   ],
   "source": [
    "y_val_pred = xgboost.predict(X_val)\n",
    "print(classification_report(y_val, y_val_pred, target_names=['1', '2', '3', '4', '5']))"
   ]
  },
  {
   "cell_type": "markdown",
   "id": "54fa3ef9",
   "metadata": {
    "id": "ijWBOSoF2rz8",
    "papermill": {
     "duration": 0.01122,
     "end_time": "2023-04-14T16:51:09.338985",
     "exception": false,
     "start_time": "2023-04-14T16:51:09.327765",
     "status": "completed"
    },
    "tags": []
   },
   "source": [
    "## CV"
   ]
  },
  {
   "cell_type": "code",
   "execution_count": 27,
   "id": "3c56b58f",
   "metadata": {
    "execution": {
     "iopub.execute_input": "2023-04-14T16:51:09.364806Z",
     "iopub.status.busy": "2023-04-14T16:51:09.364045Z",
     "iopub.status.idle": "2023-04-14T16:51:09.503702Z",
     "shell.execute_reply": "2023-04-14T16:51:09.502555Z"
    },
    "id": "DwZyDC0c3Hj3",
    "papermill": {
     "duration": 0.155437,
     "end_time": "2023-04-14T16:51:09.506410",
     "exception": false,
     "start_time": "2023-04-14T16:51:09.350973",
     "status": "completed"
    },
    "tags": []
   },
   "outputs": [],
   "source": [
    "X_cv, _, y_cv, _ = train_test_split(X, y, train_size=0.8, random_state=42, stratify=y)"
   ]
  },
  {
   "cell_type": "markdown",
   "id": "616b915d",
   "metadata": {
    "papermill": {
     "duration": 0.011859,
     "end_time": "2023-04-14T16:51:09.530161",
     "exception": false,
     "start_time": "2023-04-14T16:51:09.518302",
     "status": "completed"
    },
    "tags": []
   },
   "source": [
    "### LightGBM"
   ]
  },
  {
   "cell_type": "code",
   "execution_count": 28,
   "id": "d097c276",
   "metadata": {
    "execution": {
     "iopub.execute_input": "2023-04-14T16:51:09.555696Z",
     "iopub.status.busy": "2023-04-14T16:51:09.554950Z",
     "iopub.status.idle": "2023-04-14T16:51:42.465660Z",
     "shell.execute_reply": "2023-04-14T16:51:42.464656Z"
    },
    "papermill": {
     "duration": 32.926941,
     "end_time": "2023-04-14T16:51:42.468597",
     "exception": false,
     "start_time": "2023-04-14T16:51:09.541656",
     "status": "completed"
    },
    "tags": []
   },
   "outputs": [
    {
     "name": "stderr",
     "output_type": "stream",
     "text": [
      "/opt/conda/lib/python3.7/site-packages/lightgbm/sklearn.py:736: UserWarning: 'verbose' argument is deprecated and will be removed in a future release of LightGBM. Pass 'log_evaluation()' callback via 'callbacks' argument instead.\n",
      "  _log_warning(\"'verbose' argument is deprecated and will be removed in a future release of LightGBM. \"\n",
      "/opt/conda/lib/python3.7/site-packages/lightgbm/sklearn.py:736: UserWarning: 'verbose' argument is deprecated and will be removed in a future release of LightGBM. Pass 'log_evaluation()' callback via 'callbacks' argument instead.\n",
      "  _log_warning(\"'verbose' argument is deprecated and will be removed in a future release of LightGBM. \"\n",
      "/opt/conda/lib/python3.7/site-packages/lightgbm/sklearn.py:736: UserWarning: 'verbose' argument is deprecated and will be removed in a future release of LightGBM. Pass 'log_evaluation()' callback via 'callbacks' argument instead.\n",
      "  _log_warning(\"'verbose' argument is deprecated and will be removed in a future release of LightGBM. \"\n",
      "/opt/conda/lib/python3.7/site-packages/lightgbm/sklearn.py:736: UserWarning: 'verbose' argument is deprecated and will be removed in a future release of LightGBM. Pass 'log_evaluation()' callback via 'callbacks' argument instead.\n",
      "  _log_warning(\"'verbose' argument is deprecated and will be removed in a future release of LightGBM. \"\n",
      "/opt/conda/lib/python3.7/site-packages/lightgbm/sklearn.py:736: UserWarning: 'verbose' argument is deprecated and will be removed in a future release of LightGBM. Pass 'log_evaluation()' callback via 'callbacks' argument instead.\n",
      "  _log_warning(\"'verbose' argument is deprecated and will be removed in a future release of LightGBM. \"\n"
     ]
    }
   ],
   "source": [
    "f1_avg, f1_std = cross_val_multiclass(lgbm, X_cv, y_cv)"
   ]
  },
  {
   "cell_type": "code",
   "execution_count": 29,
   "id": "ba8347f1",
   "metadata": {
    "execution": {
     "iopub.execute_input": "2023-04-14T16:51:42.494891Z",
     "iopub.status.busy": "2023-04-14T16:51:42.494112Z",
     "iopub.status.idle": "2023-04-14T16:51:42.500950Z",
     "shell.execute_reply": "2023-04-14T16:51:42.499535Z"
    },
    "papermill": {
     "duration": 0.022899,
     "end_time": "2023-04-14T16:51:42.503447",
     "exception": false,
     "start_time": "2023-04-14T16:51:42.480548",
     "status": "completed"
    },
    "tags": []
   },
   "outputs": [
    {
     "name": "stdout",
     "output_type": "stream",
     "text": [
      "Avg: 0.8975014586431861, Std: 0.0021159408021302014\n"
     ]
    }
   ],
   "source": [
    "print(f'Avg: {f1_avg}, Std: {f1_std}')"
   ]
  },
  {
   "cell_type": "markdown",
   "id": "b7aee171",
   "metadata": {
    "papermill": {
     "duration": 0.01356,
     "end_time": "2023-04-14T16:51:42.529359",
     "exception": false,
     "start_time": "2023-04-14T16:51:42.515799",
     "status": "completed"
    },
    "tags": []
   },
   "source": [
    "### CatBoost"
   ]
  },
  {
   "cell_type": "code",
   "execution_count": 30,
   "id": "589be9ba",
   "metadata": {
    "execution": {
     "iopub.execute_input": "2023-04-14T16:51:42.562076Z",
     "iopub.status.busy": "2023-04-14T16:51:42.561671Z",
     "iopub.status.idle": "2023-04-14T16:57:48.114108Z",
     "shell.execute_reply": "2023-04-14T16:57:48.113055Z"
    },
    "papermill": {
     "duration": 365.571411,
     "end_time": "2023-04-14T16:57:48.116969",
     "exception": false,
     "start_time": "2023-04-14T16:51:42.545558",
     "status": "completed"
    },
    "tags": []
   },
   "outputs": [],
   "source": [
    "f1_avg, f1_std = cross_val_multiclass(catboost, X_cv, y_cv)"
   ]
  },
  {
   "cell_type": "code",
   "execution_count": 31,
   "id": "42784094",
   "metadata": {
    "execution": {
     "iopub.execute_input": "2023-04-14T16:57:48.144179Z",
     "iopub.status.busy": "2023-04-14T16:57:48.143744Z",
     "iopub.status.idle": "2023-04-14T16:57:48.149258Z",
     "shell.execute_reply": "2023-04-14T16:57:48.148026Z"
    },
    "id": "BejHDqPz8H8O",
    "papermill": {
     "duration": 0.023169,
     "end_time": "2023-04-14T16:57:48.152832",
     "exception": false,
     "start_time": "2023-04-14T16:57:48.129663",
     "status": "completed"
    },
    "tags": []
   },
   "outputs": [
    {
     "name": "stdout",
     "output_type": "stream",
     "text": [
      "Avg: 0.8978941109293924, Std: 0.0023774648080181946\n"
     ]
    }
   ],
   "source": [
    "print(f'Avg: {f1_avg}, Std: {f1_std}')"
   ]
  },
  {
   "cell_type": "markdown",
   "id": "ebcc95b9",
   "metadata": {
    "papermill": {
     "duration": 0.012078,
     "end_time": "2023-04-14T16:57:48.177294",
     "exception": false,
     "start_time": "2023-04-14T16:57:48.165216",
     "status": "completed"
    },
    "tags": []
   },
   "source": [
    "### XGBoost"
   ]
  },
  {
   "cell_type": "code",
   "execution_count": 32,
   "id": "2284f478",
   "metadata": {
    "execution": {
     "iopub.execute_input": "2023-04-14T16:57:48.204052Z",
     "iopub.status.busy": "2023-04-14T16:57:48.203598Z",
     "iopub.status.idle": "2023-04-14T17:24:18.140156Z",
     "shell.execute_reply": "2023-04-14T17:24:18.137971Z"
    },
    "papermill": {
     "duration": 1589.953561,
     "end_time": "2023-04-14T17:24:18.143369",
     "exception": false,
     "start_time": "2023-04-14T16:57:48.189808",
     "status": "completed"
    },
    "tags": []
   },
   "outputs": [],
   "source": [
    "f1_avg, f1_std = cross_val_multiclass(xgboost, X_cv, y_cv)"
   ]
  },
  {
   "cell_type": "code",
   "execution_count": 33,
   "id": "f803fbf5",
   "metadata": {
    "execution": {
     "iopub.execute_input": "2023-04-14T17:24:18.170546Z",
     "iopub.status.busy": "2023-04-14T17:24:18.170109Z",
     "iopub.status.idle": "2023-04-14T17:24:18.179701Z",
     "shell.execute_reply": "2023-04-14T17:24:18.178080Z"
    },
    "papermill": {
     "duration": 0.027832,
     "end_time": "2023-04-14T17:24:18.183896",
     "exception": false,
     "start_time": "2023-04-14T17:24:18.156064",
     "status": "completed"
    },
    "tags": []
   },
   "outputs": [
    {
     "name": "stdout",
     "output_type": "stream",
     "text": [
      "Avg: 0.8994727843053253, Std: 0.0026312125680375826\n"
     ]
    }
   ],
   "source": [
    "print(f'Avg: {f1_avg}, Std: {f1_std}')"
   ]
  },
  {
   "cell_type": "code",
   "execution_count": null,
   "id": "7fbfc565",
   "metadata": {
    "papermill": {
     "duration": 0.012573,
     "end_time": "2023-04-14T17:24:18.209047",
     "exception": false,
     "start_time": "2023-04-14T17:24:18.196474",
     "status": "completed"
    },
    "tags": []
   },
   "outputs": [],
   "source": []
  }
 ],
 "metadata": {
  "kernelspec": {
   "display_name": "Python 3",
   "language": "python",
   "name": "python3"
  },
  "language_info": {
   "codemirror_mode": {
    "name": "ipython",
    "version": 3
   },
   "file_extension": ".py",
   "mimetype": "text/x-python",
   "name": "python",
   "nbconvert_exporter": "python",
   "pygments_lexer": "ipython3",
   "version": "3.7.12"
  },
  "papermill": {
   "default_parameters": {},
   "duration": 2654.24694,
   "end_time": "2023-04-14T17:24:21.473005",
   "environment_variables": {},
   "exception": null,
   "input_path": "__notebook__.ipynb",
   "output_path": "__notebook__.ipynb",
   "parameters": {},
   "start_time": "2023-04-14T16:40:07.226065",
   "version": "2.4.0"
  }
 },
 "nbformat": 4,
 "nbformat_minor": 5
}
