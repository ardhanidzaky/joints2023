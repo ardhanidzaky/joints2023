{
 "cells": [
  {
   "cell_type": "code",
   "execution_count": 1,
   "id": "fb7524cc",
   "metadata": {
    "execution": {
     "iopub.execute_input": "2023-04-14T16:40:05.262102Z",
     "iopub.status.busy": "2023-04-14T16:40:05.261649Z",
     "iopub.status.idle": "2023-04-14T16:40:29.416453Z",
     "shell.execute_reply": "2023-04-14T16:40:29.414850Z"
    },
    "id": "ZHzLtKjvf1qd",
    "outputId": "a5224770-6014-467d-cd0e-914dd65592a4",
    "papermill": {
     "duration": 24.169367,
     "end_time": "2023-04-14T16:40:29.419512",
     "exception": false,
     "start_time": "2023-04-14T16:40:05.250145",
     "status": "completed"
    },
    "tags": []
   },
   "outputs": [
    {
     "name": "stdout",
     "output_type": "stream",
     "text": [
      "\u001b[33mWARNING: Running pip as the 'root' user can result in broken permissions and conflicting behaviour with the system package manager. It is recommended to use a virtual environment instead: https://pip.pypa.io/warnings/venv\u001b[0m\u001b[33m\r\n",
      "\u001b[0m\u001b[33mWARNING: Running pip as the 'root' user can result in broken permissions and conflicting behaviour with the system package manager. It is recommended to use a virtual environment instead: https://pip.pypa.io/warnings/venv\u001b[0m\u001b[33m\r\n",
      "\u001b[0m"
     ]
    }
   ],
   "source": [
    "!pip install --q catboost\n",
    "!pip install --q cleanlab"
   ]
  },
  {
   "cell_type": "code",
   "execution_count": 2,
   "id": "70c4dbee",
   "metadata": {
    "execution": {
     "iopub.execute_input": "2023-04-14T16:40:29.439651Z",
     "iopub.status.busy": "2023-04-14T16:40:29.439214Z",
     "iopub.status.idle": "2023-04-14T16:40:32.611784Z",
     "shell.execute_reply": "2023-04-14T16:40:32.610279Z"
    },
    "id": "13I1WOMxdtnp",
    "papermill": {
     "duration": 3.186135,
     "end_time": "2023-04-14T16:40:32.614651",
     "exception": false,
     "start_time": "2023-04-14T16:40:29.428516",
     "status": "completed"
    },
    "tags": []
   },
   "outputs": [
    {
     "data": {
      "text/html": [
       "<style type='text/css'>\n",
       ".datatable table.frame { margin-bottom: 0; }\n",
       ".datatable table.frame thead { border-bottom: none; }\n",
       ".datatable table.frame tr.coltypes td {  color: #FFFFFF;  line-height: 6px;  padding: 0 0.5em;}\n",
       ".datatable .bool    { background: #DDDD99; }\n",
       ".datatable .object  { background: #565656; }\n",
       ".datatable .int     { background: #5D9E5D; }\n",
       ".datatable .float   { background: #4040CC; }\n",
       ".datatable .str     { background: #CC4040; }\n",
       ".datatable .time    { background: #40CC40; }\n",
       ".datatable .row_index {  background: var(--jp-border-color3);  border-right: 1px solid var(--jp-border-color0);  color: var(--jp-ui-font-color3);  font-size: 9px;}\n",
       ".datatable .frame tbody td { text-align: left; }\n",
       ".datatable .frame tr.coltypes .row_index {  background: var(--jp-border-color0);}\n",
       ".datatable th:nth-child(2) { padding-left: 12px; }\n",
       ".datatable .hellipsis {  color: var(--jp-cell-editor-border-color);}\n",
       ".datatable .vellipsis {  background: var(--jp-layout-color0);  color: var(--jp-cell-editor-border-color);}\n",
       ".datatable .na {  color: var(--jp-cell-editor-border-color);  font-size: 80%;}\n",
       ".datatable .sp {  opacity: 0.25;}\n",
       ".datatable .footer { font-size: 9px; }\n",
       ".datatable .frame_dimensions {  background: var(--jp-border-color3);  border-top: 1px solid var(--jp-border-color0);  color: var(--jp-ui-font-color3);  display: inline-block;  opacity: 0.6;  padding: 1px 10px 1px 5px;}\n",
       "</style>\n"
      ],
      "text/plain": [
       "<IPython.core.display.HTML object>"
      ]
     },
     "metadata": {},
     "output_type": "display_data"
    }
   ],
   "source": [
    "import pandas as pd\n",
    "import seaborn as sns\n",
    "import matplotlib.pyplot as plt\n",
    "import numpy as np\n",
    "import cleanlab\n",
    "\n",
    "from catboost import CatBoostClassifier\n",
    "from xgboost import XGBClassifier\n",
    "from lightgbm import LGBMClassifier\n",
    "\n",
    "from sklearn.linear_model import LinearRegression\n",
    "from sklearn.model_selection import train_test_split, StratifiedKFold, cross_val_predict, KFold\n",
    "from sklearn.preprocessing import StandardScaler, OneHotEncoder, LabelEncoder\n",
    "from sklearn.compose import ColumnTransformer\n",
    "from sklearn.metrics import accuracy_score, recall_score, precision_score, f1_score, classification_report"
   ]
  },
  {
   "cell_type": "code",
   "execution_count": 3,
   "id": "27b3910f",
   "metadata": {
    "execution": {
     "iopub.execute_input": "2023-04-14T16:40:32.634144Z",
     "iopub.status.busy": "2023-04-14T16:40:32.633734Z",
     "iopub.status.idle": "2023-04-14T16:40:32.639304Z",
     "shell.execute_reply": "2023-04-14T16:40:32.638300Z"
    },
    "papermill": {
     "duration": 0.017797,
     "end_time": "2023-04-14T16:40:32.641461",
     "exception": false,
     "start_time": "2023-04-14T16:40:32.623664",
     "status": "completed"
    },
    "tags": []
   },
   "outputs": [],
   "source": [
    "pd.options.mode.chained_assignment = None"
   ]
  },
  {
   "cell_type": "markdown",
   "id": "bf26f91c",
   "metadata": {
    "id": "RiwTOwsKeqMu",
    "papermill": {
     "duration": 0.00843,
     "end_time": "2023-04-14T16:40:32.658690",
     "exception": false,
     "start_time": "2023-04-14T16:40:32.650260",
     "status": "completed"
    },
    "tags": []
   },
   "source": [
    "# Constants"
   ]
  },
  {
   "cell_type": "code",
   "execution_count": 4,
   "id": "58f789a1",
   "metadata": {
    "execution": {
     "iopub.execute_input": "2023-04-14T16:40:32.678387Z",
     "iopub.status.busy": "2023-04-14T16:40:32.677651Z",
     "iopub.status.idle": "2023-04-14T16:40:32.683313Z",
     "shell.execute_reply": "2023-04-14T16:40:32.682323Z"
    },
    "id": "dg8O0ApberfB",
    "papermill": {
     "duration": 0.017978,
     "end_time": "2023-04-14T16:40:32.685486",
     "exception": false,
     "start_time": "2023-04-14T16:40:32.667508",
     "status": "completed"
    },
    "tags": []
   },
   "outputs": [],
   "source": [
    "wb_mapping = {\n",
    "    0: 'Unknown/not stated',\n",
    "    1: 'Clay',\n",
    "    2: 'Mortar + Cement',\n",
    "    3: 'Mortar + Cement, Clay',\n",
    "    5: 'Mud + Mortar, Clay',\n",
    "    7: 'Mud + Mortar, Clay, Cement + Mortar'\n",
    "}\n",
    "\n",
    "wm_mapping = {\n",
    "    0: 'Unknown/not stated',\n",
    "    1: 'Red Bricks',\n",
    "    2: 'Stone Bricks',\n",
    "    3: 'Red Bricks, Stone Bricks'\n",
    "}"
   ]
  },
  {
   "cell_type": "code",
   "execution_count": 5,
   "id": "352570d8",
   "metadata": {
    "execution": {
     "iopub.execute_input": "2023-04-14T16:40:32.705288Z",
     "iopub.status.busy": "2023-04-14T16:40:32.704547Z",
     "iopub.status.idle": "2023-04-14T16:40:32.712606Z",
     "shell.execute_reply": "2023-04-14T16:40:32.711053Z"
    },
    "papermill": {
     "duration": 0.021109,
     "end_time": "2023-04-14T16:40:32.715308",
     "exception": false,
     "start_time": "2023-04-14T16:40:32.694199",
     "status": "completed"
    },
    "tags": []
   },
   "outputs": [],
   "source": [
    "test_number_dict = {\n",
    "    'two story': 2, 'floor second': 2, 'Floor two': 2, 'There is 2 Floor/Story': 2, \n",
    "    'Floor 2': 2, 'two': 2, ' just 2 floor': 2, '2': 2, '2 floor': 2, 'Two Floor': 2, \n",
    "    'floor two': 2, 'floor third': 3, 'three Story': 3, 'Three': 3, 'Floor-three': 3, \n",
    "    '3.00': 3, 'Floor 3': 3, 'Three floor': 3, ' has 3 Floor': 3, '1': 1, 'one': 1, \n",
    "    '1st Story': 1, 'floor one': 1, 'one story': 1, 'Has 1 floor': 1, 'Just 1 floor': 1, \n",
    "    'floor 1st': 1, 'Floor 1': 1, 'four Floor': 4, 'Floor 4': 4, 'Fl four': 4, 'Four': 4, \n",
    "    'Four Story': 4, 'floor four': 4, ' has Four fl': 4, '4': 4, '6': 6, 'Fl Five': 5, \n",
    "    ' Has Five fl': 5, 'fifth': 5, 'five Floor': 5, 'Floor Fifth': 5, '5': 5, '7': 7, \n",
    "    '9': 9\n",
    "}"
   ]
  },
  {
   "cell_type": "markdown",
   "id": "adb00e52",
   "metadata": {
    "id": "oAZIPuR4dcwN",
    "papermill": {
     "duration": 0.008413,
     "end_time": "2023-04-14T16:40:32.732615",
     "exception": false,
     "start_time": "2023-04-14T16:40:32.724202",
     "status": "completed"
    },
    "tags": []
   },
   "source": [
    "# Pre-defined Function (Basic pre-processing)"
   ]
  },
  {
   "cell_type": "code",
   "execution_count": 6,
   "id": "b9d0ca40",
   "metadata": {
    "cellView": "form",
    "execution": {
     "iopub.execute_input": "2023-04-14T16:40:32.753044Z",
     "iopub.status.busy": "2023-04-14T16:40:32.752615Z",
     "iopub.status.idle": "2023-04-14T16:40:32.761922Z",
     "shell.execute_reply": "2023-04-14T16:40:32.761003Z"
    },
    "id": "DVsfP0ZmdZPG",
    "papermill": {
     "duration": 0.022025,
     "end_time": "2023-04-14T16:40:32.764301",
     "exception": false,
     "start_time": "2023-04-14T16:40:32.742276",
     "status": "completed"
    },
    "tags": []
   },
   "outputs": [],
   "source": [
    "#@title extract_num_floors\n",
    "def extract_num_floors(floor):\n",
    "    \"\"\"\n",
    "    This function extracts the number of floors from the 'floors_before_eq' column\n",
    "    and converts it to an integer. If the value is missing or cannot be converted\n",
    "    to an integer, it returns None.\n",
    "\n",
    "    Arguments:\n",
    "    - floor: The value in the 'floors_before_eq' column for a particular building\n",
    "\n",
    "    Returns:\n",
    "    - An integer representing the number of floors for the given building, or None\n",
    "      if the value is missing or cannot be converted to an integer.\n",
    "    \"\"\"\n",
    "    import re\n",
    "\n",
    "    if floor is None:\n",
    "        return None\n",
    "    else:\n",
    "        floor = str(floor)\n",
    "        floor = floor.lower()\n",
    "        if 'one' in floor or 'first' in floor or 'ground' in floor:\n",
    "            return 1\n",
    "        elif 'two' in floor or 'second' in floor:\n",
    "            return 2\n",
    "        elif 'three' in floor or 'third' in floor:\n",
    "            return 3\n",
    "        elif 'four' in floor or 'fourth' in floor:\n",
    "            return 4\n",
    "        elif 'five' in floor or 'fifth' in floor:\n",
    "            return 5\n",
    "        else:\n",
    "            floor = re.findall(r'\\d+', floor)\n",
    "            if len(floor) > 0:\n",
    "                return int(floor[0])\n",
    "            else:\n",
    "                return None"
   ]
  },
  {
   "cell_type": "code",
   "execution_count": 7,
   "id": "468cf2ca",
   "metadata": {
    "cellView": "form",
    "execution": {
     "iopub.execute_input": "2023-04-14T16:40:32.785527Z",
     "iopub.status.busy": "2023-04-14T16:40:32.784166Z",
     "iopub.status.idle": "2023-04-14T16:40:32.799764Z",
     "shell.execute_reply": "2023-04-14T16:40:32.798216Z"
    },
    "id": "ZXQSL2wbXpRl",
    "papermill": {
     "duration": 0.029241,
     "end_time": "2023-04-14T16:40:32.802496",
     "exception": false,
     "start_time": "2023-04-14T16:40:32.773255",
     "status": "completed"
    },
    "tags": []
   },
   "outputs": [],
   "source": [
    "#@title standardize_value\n",
    "def standardize_value(data):\n",
    "    \"\"\"\n",
    "    This function takes a pandas dataframe as input and returns a new pandas dataframe\n",
    "    where all the categorical values are standardized. For example, if 'RCC' and 'RC' \n",
    "    are used interchangeably in the 'foundation_type' column, this function will standardize \n",
    "    all the 'RCC' values to 'RC' to avoid any inconsistencies.\n",
    "    \"\"\"\n",
    "\n",
    "    # type_of_foundation\n",
    "    data['type_of_foundation'] = data['type_of_foundation'].replace('RC', 'Reinforced Concrete')\n",
    "    data['type_of_foundation'] = data['type_of_foundation'].replace(['Bamboo/TImber', 'Bamboo or Timber', 'Bamboo/Timber'], 'Bamboo/Timber')\n",
    "    data['type_of_foundation'] = data['type_of_foundation'].replace(['Other', 'Others'], 'Other')\n",
    "    data['type_of_foundation'] = data['type_of_foundation'].replace(['Cement-Stone/Brick', 'Cement-Stone or Cement-Brick'], 'Cement-Stone/Brick')\n",
    "    \n",
    "    # type_of_roof\n",
    "    data['type_of_roof'] = data['type_of_roof'].replace(['Bamboo/Timber Light roof', 'Bamboo/TImber-Light Roof', 'Bamboo or Timber Light roof'], 'Bamboo/Timber Light roof')\n",
    "    data['type_of_roof'] = data['type_of_roof'].replace(['Bamboo/Timber Heavy roof ', 'Bamboo/TImber-Heavy Roof', 'Bamboo or Timber Heavy roof'], 'Bamboo/Timber Heavy roof')\n",
    "    data['type_of_roof'] = data['type_of_roof'].replace(['reinforced cement concrete/rb/rbc', 'rcc/rb/rbc', 'Reinforced Brick Slab/rcc/rbc', 'Reinforced brick concrete/rcc/rbc'], 'rcc/rb/rbc')\n",
    "    \n",
    "    # type_of_ground_floor\n",
    "    data['type_of_ground_floor'] = data['type_of_ground_floor'].replace(['mud', 'Mud'], 'Mud')\n",
    "    data['type_of_ground_floor'] = data['type_of_ground_floor'].replace(['reinforced concrete', 'Reinforced Concrete', 'RC'], 'Reinforced Concrete ')\n",
    "    data['type_of_ground_floor'] = data['type_of_ground_floor'].replace(['Brick/Stone', 'brick/stone', 'Brick or Stone'], 'Brick/Stone')\n",
    "    data['type_of_ground_floor'] = data['type_of_ground_floor'].replace(['TImber', 'Timber', 'Wood', 'Lumber'], 'Wood')\n",
    "\n",
    "    # type_of_other_floor\n",
    "    data['type_of_other_floor'] = data['type_of_other_floor'].replace(['TImber/Bamboo-Mud', 'Timber Mud or Bamboo-Mud', 'Wood or Bamboo Mud'], 'Wood or Bamboo Mud')\n",
    "    data['type_of_other_floor'] = data['type_of_other_floor'].replace(['Timber-Planck', 'Lumber-plank', 'Wood-Plank'], 'Wood-Plank')\n",
    "    data['type_of_other_floor'] = data['type_of_other_floor'].replace(['rcc/rb/rbc', 'reinforced cement concrete/rb/rbc', 'Reinforced brick concrete/rcc/rbc'], 'rcc/rb/rbc')\n",
    "    data['type_of_other_floor'] = data['type_of_other_floor'].replace(['Wood or Bamboo Mud', 'Wood-Mud or Bamboo Mud'], 'Wood-Mud or Bamboo Mud ')\n",
    "\n",
    "    # legal_ownership_status\n",
    "    data['legal_ownership_status'] = data['legal_ownership_status'].replace(['Private', 'Private Use', 'Prvt', 'Privste'], 'Private')\n",
    "    data['legal_ownership_status'] = data['legal_ownership_status'].replace(['Public', 'Public Use', 'Public Space'], 'Public')\n",
    "    data['legal_ownership_status'] = data['legal_ownership_status'].replace(['Institutional', 'Institutional Use', 'Institutionals'], 'Institutional')\n",
    "    data['legal_ownership_status'] = data['legal_ownership_status'].replace(['Other', 'Unknown', 'Unspecified'], 'Other')\n",
    "\n",
    "    return data"
   ]
  },
  {
   "cell_type": "code",
   "execution_count": 8,
   "id": "ee630e8a",
   "metadata": {
    "execution": {
     "iopub.execute_input": "2023-04-14T16:40:32.822145Z",
     "iopub.status.busy": "2023-04-14T16:40:32.821714Z",
     "iopub.status.idle": "2023-04-14T16:40:32.832752Z",
     "shell.execute_reply": "2023-04-14T16:40:32.831437Z"
    },
    "papermill": {
     "duration": 0.024229,
     "end_time": "2023-04-14T16:40:32.835420",
     "exception": false,
     "start_time": "2023-04-14T16:40:32.811191",
     "status": "completed"
    },
    "tags": []
   },
   "outputs": [],
   "source": [
    "#@title find_label_issue_train\n",
    "def find_label_issue_train(data):\n",
    "    \"\"\"\n",
    "    Find label errors in the training data using the Confident Learning framework.\n",
    "\n",
    "    Arguments:\n",
    "    - data: A pandas DataFrame containing the training data.\n",
    "\n",
    "    Returns:\n",
    "    - A list of indices of examples in the training data that are likely to have label errors.\n",
    "\n",
    "    References: \n",
    "    \"\"\"\n",
    "    # Step 1: Apply a machine learning model to the training data to obtain predicted labels.\n",
    "    # This model should be trained using standard techniques and should not take into account the issue of label errors.\n",
    "    # Here, we assume that the model is already trained and is available for use.\n",
    "\n",
    "    # Step 2: Compute the empirical distribution of the predicted labels.\n",
    "    # This distribution will be used later to estimate the noise distribution.\n",
    "\n",
    "    # Step 3: Compute the joint distribution of the predicted labels and the true labels.\n",
    "    # This distribution can be estimated using the empirical distribution of the predicted labels and an estimate of the noise distribution.\n",
    "\n",
    "    # Step 4: Rank the examples in the training data by their likelihood of being mislabeled.\n",
    "    # This can be done by computing the conditional probability of the true label given the predicted label.\n",
    "\n",
    "    # Step 5: Identify examples that are likely to be mislabeled.\n",
    "    # This can be done by selecting examples with low confidence and high probability of being mislabeled.\n",
    "\n",
    "    # Step 6: Return the indices of the examples that are likely to be mislabeled.\n",
    "    # These examples can be further examined to determine if they are indeed mislabeled, and corrected if necessary.\n",
    "    # Alternatively, they can be removed from the training data to improve the performance of the machine learning model.\n",
    "\n",
    "    X = data[data.columns.difference(['damage_grade'])]\n",
    "    y = data['damage_grade']\n",
    "\n",
    "    numerical_cols = X.select_dtypes(include=['int64', 'float64']).columns.tolist()\n",
    "    categorical_cols = X.select_dtypes(include=['object']).columns.tolist()\n",
    "\n",
    "    numerical_transformer = StandardScaler()\n",
    "    categorical_transformer = OneHotEncoder(sparse=False)\n",
    "\n",
    "    preprocessor = ColumnTransformer(\n",
    "        transformers=[\n",
    "            ('num', numerical_transformer, numerical_cols),\n",
    "            ('cat', categorical_transformer, categorical_cols)\n",
    "        ])\n",
    "\n",
    "    X = preprocessor.fit_transform(X)\n",
    "\n",
    "    label_encoder = LabelEncoder()\n",
    "    y = label_encoder.fit_transform(y)\n",
    "\n",
    "    model = XGBClassifier(tree_method=\"hist\", enable_categorical=True)\n",
    "    pred_probs = cross_val_predict(model, X, y, method='predict_proba')\n",
    "\n",
    "    cl_issue_idx = cleanlab.filter.find_label_issues(y, pred_probs, return_indices_ranked_by='self_confidence')\n",
    "    \n",
    "    selected_rows = data.iloc[cl_issue_idx]\n",
    "    inverted_selection = data[~data.index.isin(cl_issue_idx)]\n",
    "\n",
    "    return inverted_selection"
   ]
  },
  {
   "cell_type": "code",
   "execution_count": 9,
   "id": "ca31cd19",
   "metadata": {
    "cellView": "form",
    "execution": {
     "iopub.execute_input": "2023-04-14T16:40:32.855071Z",
     "iopub.status.busy": "2023-04-14T16:40:32.854665Z",
     "iopub.status.idle": "2023-04-14T16:40:32.865645Z",
     "shell.execute_reply": "2023-04-14T16:40:32.864552Z"
    },
    "id": "zG4AwLU0eMhw",
    "papermill": {
     "duration": 0.023569,
     "end_time": "2023-04-14T16:40:32.868090",
     "exception": false,
     "start_time": "2023-04-14T16:40:32.844521",
     "status": "completed"
    },
    "tags": []
   },
   "outputs": [],
   "source": [
    "#@title complete_pipeline\n",
    "def complete_pipeline(data):\n",
    "    \"\"\"\n",
    "    This function takes a pandas dataframe as input, processes it through\n",
    "    various steps including missing value imputation, feature engineering,\n",
    "    and standardization, and returns the processed dataframe ready for\n",
    "    machine learning modeling. The function is designed to handle both\n",
    "    training and testing data by distinguishing between them based on the\n",
    "    presence of the 'damage_grade' column.\n",
    "    \"\"\"\n",
    "\n",
    "    # floors_before_eq (total)\n",
    "    data['floors_before_eq (total)'] = data['floors_before_eq (total)'].apply(lambda x: extract_num_floors(x))\n",
    "\n",
    "    # missing value\n",
    "    data = data[data['floors_before_eq (total)'].notna()]\n",
    "    data = data[data['plinth_area (ft^2)'].notna()]\n",
    "    data['technical_solution_proposed'] = data['technical_solution_proposed'].fillna('Unspecified')\n",
    "\n",
    "    # replace and lambda\n",
    "    data['plinth_area (ft^2)'] = data['plinth_area (ft^2)'].str.extract('(\\d+)').astype(float)\n",
    "    \n",
    "    data['no_family_residing'] = data['no_family_residing'].replace('None', 0).astype(float)\n",
    "    data['wall_binding'] = data['wall_binding'].replace(wb_mapping)\n",
    "    data['wall_material'] = data['wall_material'].replace(wm_mapping)\n",
    "\n",
    "    data['type_of_reinforcement_concrete'] = data['type_of_reinforcement_concrete'].apply(lambda x: f'Type: {str(x)}')\n",
    "    \n",
    "    # value standardization\n",
    "    data = standardize_value(data)\n",
    "    \n",
    "    # same group of features, different label\n",
    "    data = data.groupby(list(data.columns.difference(['damage_grade']))).filter(lambda x: len(set(x['damage_grade'])) == 1)\n",
    "\n",
    "    # label issue in train data\n",
    "    data = data.reset_index()\n",
    "    data.drop(['index'], axis=1, inplace=True)\n",
    "    data = find_label_issue_train(data)\n",
    "    \n",
    "    return data"
   ]
  },
  {
   "cell_type": "code",
   "execution_count": 10,
   "id": "f24e797a",
   "metadata": {
    "cellView": "form",
    "execution": {
     "iopub.execute_input": "2023-04-14T16:40:32.887922Z",
     "iopub.status.busy": "2023-04-14T16:40:32.887114Z",
     "iopub.status.idle": "2023-04-14T16:40:32.895701Z",
     "shell.execute_reply": "2023-04-14T16:40:32.894382Z"
    },
    "id": "M-iZTblLJ2X9",
    "papermill": {
     "duration": 0.021184,
     "end_time": "2023-04-14T16:40:32.898077",
     "exception": false,
     "start_time": "2023-04-14T16:40:32.876893",
     "status": "completed"
    },
    "tags": []
   },
   "outputs": [],
   "source": [
    "#@title cross_val_multiclass\n",
    "def cross_val_multiclass(model, X, y, num_folds=5):\n",
    "    from sklearn.model_selection import KFold, cross_val_score\n",
    "    from sklearn.metrics import f1_score\n",
    "    import numpy as np\n",
    "\n",
    "    kf = KFold(n_splits=num_folds, shuffle=True, random_state=42)\n",
    "    f1_scores = []\n",
    "    for train_idx, test_idx in kf.split(X):\n",
    "        X_train, X_test = X[train_idx], X[test_idx]\n",
    "        y_train, y_test = y[train_idx], y[test_idx]\n",
    "        model.fit(X_train, y_train, verbose=0)\n",
    "        y_pred = model.predict(X_test)\n",
    "        f1_scores.append(f1_score(y_test, y_pred, average='macro'))\n",
    "    return np.mean(f1_scores), np.std(f1_scores)"
   ]
  },
  {
   "cell_type": "markdown",
   "id": "08f29924",
   "metadata": {
    "id": "ldT1thHxg2Oh",
    "papermill": {
     "duration": 0.008531,
     "end_time": "2023-04-14T16:40:32.915441",
     "exception": false,
     "start_time": "2023-04-14T16:40:32.906910",
     "status": "completed"
    },
    "tags": []
   },
   "source": [
    "# Training Flow"
   ]
  },
  {
   "cell_type": "code",
   "execution_count": 11,
   "id": "e8b033ba",
   "metadata": {
    "execution": {
     "iopub.execute_input": "2023-04-14T16:40:32.935451Z",
     "iopub.status.busy": "2023-04-14T16:40:32.934290Z",
     "iopub.status.idle": "2023-04-14T16:44:07.820716Z",
     "shell.execute_reply": "2023-04-14T16:44:07.818816Z"
    },
    "id": "IA7Mmlo-g5my",
    "outputId": "b61943de-cce7-4e2d-df8e-db6be9b04b97",
    "papermill": {
     "duration": 214.899932,
     "end_time": "2023-04-14T16:44:07.824122",
     "exception": false,
     "start_time": "2023-04-14T16:40:32.924190",
     "status": "completed"
    },
    "tags": []
   },
   "outputs": [
    {
     "name": "stderr",
     "output_type": "stream",
     "text": [
      "/opt/conda/lib/python3.7/site-packages/IPython/core/interactiveshell.py:3553: DtypeWarning: Columns (1,3,5,6,7,8,9,10,11,12,13,16,17,19,20) have mixed types.Specify dtype option on import or set low_memory=False.\n",
      "  exec(code_obj, self.user_global_ns, self.user_ns)\n"
     ]
    }
   ],
   "source": [
    "train = pd.read_csv('/kaggle/input/jointsugm/train.csv')\n",
    "train.drop(['Unnamed: 0'], axis=1, inplace=True)\n",
    "\n",
    "train = complete_pipeline(train)\n",
    "train = train.reset_index()\n",
    "train.drop(['index'], axis=1, inplace=True)"
   ]
  },
  {
   "cell_type": "markdown",
   "id": "7c50501b",
   "metadata": {
    "id": "UtuwcJBXhWu1",
    "papermill": {
     "duration": 0.008934,
     "end_time": "2023-04-14T16:44:07.842786",
     "exception": false,
     "start_time": "2023-04-14T16:44:07.833852",
     "status": "completed"
    },
    "tags": []
   },
   "source": [
    "# Modeling"
   ]
  },
  {
   "cell_type": "code",
   "execution_count": 12,
   "id": "04eb2aa2",
   "metadata": {
    "execution": {
     "iopub.execute_input": "2023-04-14T16:44:07.864993Z",
     "iopub.status.busy": "2023-04-14T16:44:07.863399Z",
     "iopub.status.idle": "2023-04-14T16:44:09.336358Z",
     "shell.execute_reply": "2023-04-14T16:44:09.335092Z"
    },
    "id": "SJAYUY5qZlK_",
    "papermill": {
     "duration": 1.487082,
     "end_time": "2023-04-14T16:44:09.339361",
     "exception": false,
     "start_time": "2023-04-14T16:44:07.852279",
     "status": "completed"
    },
    "tags": []
   },
   "outputs": [],
   "source": [
    "X = train[train.columns.difference(['damage_grade'])]\n",
    "y = train['damage_grade']\n",
    "\n",
    "numerical_cols = X.select_dtypes(include=['int64', 'float64']).columns.tolist()\n",
    "categorical_cols = X.select_dtypes(include=['object']).columns.tolist()\n",
    "\n",
    "numerical_transformer = StandardScaler()\n",
    "categorical_transformer = OneHotEncoder(sparse=False)\n",
    "\n",
    "preprocessor = ColumnTransformer(\n",
    "    transformers=[\n",
    "        ('num', numerical_transformer, numerical_cols),\n",
    "        ('cat', categorical_transformer, categorical_cols)\n",
    "    ])\n",
    "\n",
    "X = preprocessor.fit_transform(X)\n",
    "\n",
    "label_encoder = LabelEncoder()\n",
    "y = label_encoder.fit_transform(y)"
   ]
  },
  {
   "cell_type": "code",
   "execution_count": 13,
   "id": "dd04edaa",
   "metadata": {
    "execution": {
     "iopub.execute_input": "2023-04-14T16:44:09.359384Z",
     "iopub.status.busy": "2023-04-14T16:44:09.358927Z",
     "iopub.status.idle": "2023-04-14T16:44:09.556853Z",
     "shell.execute_reply": "2023-04-14T16:44:09.555770Z"
    },
    "id": "KvXY5_ZYh1g2",
    "papermill": {
     "duration": 0.211175,
     "end_time": "2023-04-14T16:44:09.559625",
     "exception": false,
     "start_time": "2023-04-14T16:44:09.348450",
     "status": "completed"
    },
    "tags": []
   },
   "outputs": [],
   "source": [
    "# Create train-validation-test split with stratification\n",
    "X_train, X_val, y_train, y_val = train_test_split(X, y, train_size=0.6, random_state=42, stratify=y)\n",
    "X_val, X_test, y_val, y_test = train_test_split(X_val, y_val, test_size=0.5, random_state=42, stratify=y_val)"
   ]
  },
  {
   "cell_type": "markdown",
   "id": "dd036609",
   "metadata": {
    "id": "zK1N9xBWY3hY",
    "papermill": {
     "duration": 0.008933,
     "end_time": "2023-04-14T16:44:09.577685",
     "exception": false,
     "start_time": "2023-04-14T16:44:09.568752",
     "status": "completed"
    },
    "tags": []
   },
   "source": [
    "## Manual"
   ]
  },
  {
   "cell_type": "markdown",
   "id": "a1d52eab",
   "metadata": {
    "papermill": {
     "duration": 0.008767,
     "end_time": "2023-04-14T16:44:09.595551",
     "exception": false,
     "start_time": "2023-04-14T16:44:09.586784",
     "status": "completed"
    },
    "tags": []
   },
   "source": [
    "### LightGBM"
   ]
  },
  {
   "cell_type": "code",
   "execution_count": 14,
   "id": "2ed8b064",
   "metadata": {
    "execution": {
     "iopub.execute_input": "2023-04-14T16:44:09.615669Z",
     "iopub.status.busy": "2023-04-14T16:44:09.614918Z",
     "iopub.status.idle": "2023-04-14T16:44:17.400815Z",
     "shell.execute_reply": "2023-04-14T16:44:17.399604Z"
    },
    "papermill": {
     "duration": 7.79917,
     "end_time": "2023-04-14T16:44:17.403682",
     "exception": false,
     "start_time": "2023-04-14T16:44:09.604512",
     "status": "completed"
    },
    "tags": []
   },
   "outputs": [
    {
     "name": "stderr",
     "output_type": "stream",
     "text": [
      "/opt/conda/lib/python3.7/site-packages/lightgbm/sklearn.py:736: UserWarning: 'verbose' argument is deprecated and will be removed in a future release of LightGBM. Pass 'log_evaluation()' callback via 'callbacks' argument instead.\n",
      "  _log_warning(\"'verbose' argument is deprecated and will be removed in a future release of LightGBM. \"\n"
     ]
    },
    {
     "data": {
      "text/plain": [
       "LGBMClassifier()"
      ]
     },
     "execution_count": 14,
     "metadata": {},
     "output_type": "execute_result"
    }
   ],
   "source": [
    "lgbm = LGBMClassifier()\n",
    "lgbm.fit(X_train, y_train, verbose=0, eval_set=(X_val, y_val))"
   ]
  },
  {
   "cell_type": "code",
   "execution_count": 15,
   "id": "713ad607",
   "metadata": {
    "execution": {
     "iopub.execute_input": "2023-04-14T16:44:17.424990Z",
     "iopub.status.busy": "2023-04-14T16:44:17.424571Z",
     "iopub.status.idle": "2023-04-14T16:44:18.046118Z",
     "shell.execute_reply": "2023-04-14T16:44:18.044718Z"
    },
    "papermill": {
     "duration": 0.635951,
     "end_time": "2023-04-14T16:44:18.048940",
     "exception": false,
     "start_time": "2023-04-14T16:44:17.412989",
     "status": "completed"
    },
    "tags": []
   },
   "outputs": [
    {
     "name": "stdout",
     "output_type": "stream",
     "text": [
      "              precision    recall  f1-score   support\n",
      "\n",
      "           1       0.85      0.86      0.86      4562\n",
      "           2       0.73      0.44      0.55      3230\n",
      "           3       0.66      0.47      0.55      5108\n",
      "           4       0.58      0.46      0.51      6808\n",
      "           5       0.76      0.92      0.83     18992\n",
      "\n",
      "    accuracy                           0.73     38700\n",
      "   macro avg       0.72      0.63      0.66     38700\n",
      "weighted avg       0.72      0.73      0.72     38700\n",
      "\n"
     ]
    }
   ],
   "source": [
    "y_val_pred = lgbm.predict(X_val)\n",
    "print(classification_report(y_val, y_val_pred, target_names=['1', '2', '3', '4', '5']))"
   ]
  },
  {
   "cell_type": "markdown",
   "id": "39900df9",
   "metadata": {
    "papermill": {
     "duration": 0.009021,
     "end_time": "2023-04-14T16:44:18.067533",
     "exception": false,
     "start_time": "2023-04-14T16:44:18.058512",
     "status": "completed"
    },
    "tags": []
   },
   "source": [
    "### CatBoost"
   ]
  },
  {
   "cell_type": "code",
   "execution_count": 16,
   "id": "8287ff89",
   "metadata": {
    "execution": {
     "iopub.execute_input": "2023-04-14T16:44:18.088294Z",
     "iopub.status.busy": "2023-04-14T16:44:18.087862Z",
     "iopub.status.idle": "2023-04-14T16:45:26.513659Z",
     "shell.execute_reply": "2023-04-14T16:45:26.512671Z"
    },
    "id": "BTP_rGu_hEHu",
    "papermill": {
     "duration": 68.447705,
     "end_time": "2023-04-14T16:45:26.524534",
     "exception": false,
     "start_time": "2023-04-14T16:44:18.076829",
     "status": "completed"
    },
    "tags": []
   },
   "outputs": [
    {
     "data": {
      "text/plain": [
       "<catboost.core.CatBoostClassifier at 0x72195ce3da90>"
      ]
     },
     "execution_count": 16,
     "metadata": {},
     "output_type": "execute_result"
    }
   ],
   "source": [
    "catboost = CatBoostClassifier()\n",
    "catboost.fit(X_train, y_train, verbose=0, eval_set=(X_val, y_val))"
   ]
  },
  {
   "cell_type": "code",
   "execution_count": 17,
   "id": "6b3cf2b7",
   "metadata": {
    "execution": {
     "iopub.execute_input": "2023-04-14T16:45:26.546153Z",
     "iopub.status.busy": "2023-04-14T16:45:26.545409Z",
     "iopub.status.idle": "2023-04-14T16:45:28.023250Z",
     "shell.execute_reply": "2023-04-14T16:45:28.022300Z"
    },
    "id": "iFPop-woRuhu",
    "papermill": {
     "duration": 1.491484,
     "end_time": "2023-04-14T16:45:28.025794",
     "exception": false,
     "start_time": "2023-04-14T16:45:26.534310",
     "status": "completed"
    },
    "tags": []
   },
   "outputs": [
    {
     "name": "stdout",
     "output_type": "stream",
     "text": [
      "              precision    recall  f1-score   support\n",
      "\n",
      "           1       0.85      0.87      0.86      4562\n",
      "           2       0.72      0.45      0.55      3230\n",
      "           3       0.65      0.50      0.56      5108\n",
      "           4       0.59      0.48      0.53      6808\n",
      "           5       0.77      0.92      0.84     18992\n",
      "\n",
      "    accuracy                           0.74     38700\n",
      "   macro avg       0.72      0.64      0.67     38700\n",
      "weighted avg       0.73      0.74      0.73     38700\n",
      "\n"
     ]
    }
   ],
   "source": [
    "y_val_pred = catboost.predict(X_val)\n",
    "print(classification_report(y_val, y_val_pred, target_names=['1', '2', '3', '4', '5']))"
   ]
  },
  {
   "cell_type": "markdown",
   "id": "685c523a",
   "metadata": {
    "papermill": {
     "duration": 0.009224,
     "end_time": "2023-04-14T16:45:28.044897",
     "exception": false,
     "start_time": "2023-04-14T16:45:28.035673",
     "status": "completed"
    },
    "tags": []
   },
   "source": [
    "### XGBoost"
   ]
  },
  {
   "cell_type": "code",
   "execution_count": 18,
   "id": "385bf65c",
   "metadata": {
    "execution": {
     "iopub.execute_input": "2023-04-14T16:45:28.066003Z",
     "iopub.status.busy": "2023-04-14T16:45:28.065345Z",
     "iopub.status.idle": "2023-04-14T16:50:39.129255Z",
     "shell.execute_reply": "2023-04-14T16:50:39.128193Z"
    },
    "id": "ot3w4aJ9iBth",
    "papermill": {
     "duration": 311.086615,
     "end_time": "2023-04-14T16:50:39.140935",
     "exception": false,
     "start_time": "2023-04-14T16:45:28.054320",
     "status": "completed"
    },
    "tags": []
   },
   "outputs": [
    {
     "data": {
      "text/plain": [
       "XGBClassifier(base_score=0.5, booster='gbtree', callbacks=None,\n",
       "              colsample_bylevel=1, colsample_bynode=1, colsample_bytree=1,\n",
       "              early_stopping_rounds=None, enable_categorical=False,\n",
       "              eval_metric=None, gamma=0, gpu_id=-1, grow_policy='depthwise',\n",
       "              importance_type=None, interaction_constraints='',\n",
       "              learning_rate=0.300000012, max_bin=256, max_cat_to_onehot=4,\n",
       "              max_delta_step=0, max_depth=6, max_leaves=0, min_child_weight=1,\n",
       "              missing=nan, monotone_constraints='()', n_estimators=100,\n",
       "              n_jobs=0, num_parallel_tree=1, objective='multi:softprob',\n",
       "              predictor='auto', random_state=0, reg_alpha=0, ...)"
      ]
     },
     "execution_count": 18,
     "metadata": {},
     "output_type": "execute_result"
    }
   ],
   "source": [
    "xgboost = XGBClassifier()\n",
    "xgboost.fit(X_train, y_train)"
   ]
  },
  {
   "cell_type": "code",
   "execution_count": 19,
   "id": "e68648dc",
   "metadata": {
    "execution": {
     "iopub.execute_input": "2023-04-14T16:50:39.162173Z",
     "iopub.status.busy": "2023-04-14T16:50:39.161553Z",
     "iopub.status.idle": "2023-04-14T16:50:39.774282Z",
     "shell.execute_reply": "2023-04-14T16:50:39.772737Z"
    },
    "id": "VxZfx-MkaWLR",
    "papermill": {
     "duration": 0.626692,
     "end_time": "2023-04-14T16:50:39.777080",
     "exception": false,
     "start_time": "2023-04-14T16:50:39.150388",
     "status": "completed"
    },
    "tags": []
   },
   "outputs": [
    {
     "name": "stdout",
     "output_type": "stream",
     "text": [
      "              precision    recall  f1-score   support\n",
      "\n",
      "           1       0.86      0.87      0.86      4562\n",
      "           2       0.73      0.44      0.55      3230\n",
      "           3       0.66      0.49      0.56      5108\n",
      "           4       0.60      0.46      0.52      6808\n",
      "           5       0.76      0.93      0.84     18992\n",
      "\n",
      "    accuracy                           0.74     38700\n",
      "   macro avg       0.72      0.64      0.67     38700\n",
      "weighted avg       0.73      0.74      0.72     38700\n",
      "\n"
     ]
    }
   ],
   "source": [
    "y_val_pred = xgboost.predict(X_val)\n",
    "print(classification_report(y_val, y_val_pred, target_names=['1', '2', '3', '4', '5']))"
   ]
  },
  {
   "cell_type": "markdown",
   "id": "67f46c3a",
   "metadata": {
    "id": "ijWBOSoF2rz8",
    "papermill": {
     "duration": 0.00944,
     "end_time": "2023-04-14T16:50:39.796333",
     "exception": false,
     "start_time": "2023-04-14T16:50:39.786893",
     "status": "completed"
    },
    "tags": []
   },
   "source": [
    "## CV"
   ]
  },
  {
   "cell_type": "code",
   "execution_count": 20,
   "id": "c7a42741",
   "metadata": {
    "execution": {
     "iopub.execute_input": "2023-04-14T16:50:39.818441Z",
     "iopub.status.busy": "2023-04-14T16:50:39.817648Z",
     "iopub.status.idle": "2023-04-14T16:50:39.958393Z",
     "shell.execute_reply": "2023-04-14T16:50:39.957381Z"
    },
    "id": "DwZyDC0c3Hj3",
    "papermill": {
     "duration": 0.154698,
     "end_time": "2023-04-14T16:50:39.961037",
     "exception": false,
     "start_time": "2023-04-14T16:50:39.806339",
     "status": "completed"
    },
    "tags": []
   },
   "outputs": [],
   "source": [
    "X_cv, _, y_cv, _ = train_test_split(X, y, train_size=0.8, random_state=42, stratify=y)"
   ]
  },
  {
   "cell_type": "markdown",
   "id": "82fefb97",
   "metadata": {
    "papermill": {
     "duration": 0.009736,
     "end_time": "2023-04-14T16:50:39.980278",
     "exception": false,
     "start_time": "2023-04-14T16:50:39.970542",
     "status": "completed"
    },
    "tags": []
   },
   "source": [
    "### LightGBM"
   ]
  },
  {
   "cell_type": "code",
   "execution_count": 21,
   "id": "a7cd2d6f",
   "metadata": {
    "execution": {
     "iopub.execute_input": "2023-04-14T16:50:40.002032Z",
     "iopub.status.busy": "2023-04-14T16:50:40.001325Z",
     "iopub.status.idle": "2023-04-14T16:51:19.029528Z",
     "shell.execute_reply": "2023-04-14T16:51:19.028614Z"
    },
    "papermill": {
     "duration": 39.042309,
     "end_time": "2023-04-14T16:51:19.032170",
     "exception": false,
     "start_time": "2023-04-14T16:50:39.989861",
     "status": "completed"
    },
    "tags": []
   },
   "outputs": [
    {
     "name": "stderr",
     "output_type": "stream",
     "text": [
      "/opt/conda/lib/python3.7/site-packages/lightgbm/sklearn.py:736: UserWarning: 'verbose' argument is deprecated and will be removed in a future release of LightGBM. Pass 'log_evaluation()' callback via 'callbacks' argument instead.\n",
      "  _log_warning(\"'verbose' argument is deprecated and will be removed in a future release of LightGBM. \"\n",
      "/opt/conda/lib/python3.7/site-packages/lightgbm/sklearn.py:736: UserWarning: 'verbose' argument is deprecated and will be removed in a future release of LightGBM. Pass 'log_evaluation()' callback via 'callbacks' argument instead.\n",
      "  _log_warning(\"'verbose' argument is deprecated and will be removed in a future release of LightGBM. \"\n",
      "/opt/conda/lib/python3.7/site-packages/lightgbm/sklearn.py:736: UserWarning: 'verbose' argument is deprecated and will be removed in a future release of LightGBM. Pass 'log_evaluation()' callback via 'callbacks' argument instead.\n",
      "  _log_warning(\"'verbose' argument is deprecated and will be removed in a future release of LightGBM. \"\n",
      "/opt/conda/lib/python3.7/site-packages/lightgbm/sklearn.py:736: UserWarning: 'verbose' argument is deprecated and will be removed in a future release of LightGBM. Pass 'log_evaluation()' callback via 'callbacks' argument instead.\n",
      "  _log_warning(\"'verbose' argument is deprecated and will be removed in a future release of LightGBM. \"\n",
      "/opt/conda/lib/python3.7/site-packages/lightgbm/sklearn.py:736: UserWarning: 'verbose' argument is deprecated and will be removed in a future release of LightGBM. Pass 'log_evaluation()' callback via 'callbacks' argument instead.\n",
      "  _log_warning(\"'verbose' argument is deprecated and will be removed in a future release of LightGBM. \"\n"
     ]
    }
   ],
   "source": [
    "f1_avg, f1_std = cross_val_multiclass(lgbm, X_cv, y_cv)"
   ]
  },
  {
   "cell_type": "code",
   "execution_count": 22,
   "id": "b56cac11",
   "metadata": {
    "execution": {
     "iopub.execute_input": "2023-04-14T16:51:19.054360Z",
     "iopub.status.busy": "2023-04-14T16:51:19.053583Z",
     "iopub.status.idle": "2023-04-14T16:51:19.059500Z",
     "shell.execute_reply": "2023-04-14T16:51:19.058114Z"
    },
    "papermill": {
     "duration": 0.019508,
     "end_time": "2023-04-14T16:51:19.061601",
     "exception": false,
     "start_time": "2023-04-14T16:51:19.042093",
     "status": "completed"
    },
    "tags": []
   },
   "outputs": [
    {
     "name": "stdout",
     "output_type": "stream",
     "text": [
      "Avg: 0.6626218672504649, Std: 0.0039721998142208\n"
     ]
    }
   ],
   "source": [
    "print(f'Avg: {f1_avg}, Std: {f1_std}')"
   ]
  },
  {
   "cell_type": "markdown",
   "id": "7ad02c89",
   "metadata": {
    "papermill": {
     "duration": 0.009703,
     "end_time": "2023-04-14T16:51:19.081385",
     "exception": false,
     "start_time": "2023-04-14T16:51:19.071682",
     "status": "completed"
    },
    "tags": []
   },
   "source": [
    "### CatBoost"
   ]
  },
  {
   "cell_type": "code",
   "execution_count": 23,
   "id": "41b50d12",
   "metadata": {
    "execution": {
     "iopub.execute_input": "2023-04-14T16:51:19.103021Z",
     "iopub.status.busy": "2023-04-14T16:51:19.102285Z",
     "iopub.status.idle": "2023-04-14T16:57:05.021891Z",
     "shell.execute_reply": "2023-04-14T16:57:05.020529Z"
    },
    "papermill": {
     "duration": 345.934079,
     "end_time": "2023-04-14T16:57:05.025090",
     "exception": false,
     "start_time": "2023-04-14T16:51:19.091011",
     "status": "completed"
    },
    "tags": []
   },
   "outputs": [],
   "source": [
    "f1_avg, f1_std = cross_val_multiclass(catboost, X_cv, y_cv)"
   ]
  },
  {
   "cell_type": "code",
   "execution_count": 24,
   "id": "0e64ec03",
   "metadata": {
    "execution": {
     "iopub.execute_input": "2023-04-14T16:57:05.047339Z",
     "iopub.status.busy": "2023-04-14T16:57:05.046894Z",
     "iopub.status.idle": "2023-04-14T16:57:05.052607Z",
     "shell.execute_reply": "2023-04-14T16:57:05.051314Z"
    },
    "id": "BejHDqPz8H8O",
    "papermill": {
     "duration": 0.019982,
     "end_time": "2023-04-14T16:57:05.055399",
     "exception": false,
     "start_time": "2023-04-14T16:57:05.035417",
     "status": "completed"
    },
    "tags": []
   },
   "outputs": [
    {
     "name": "stdout",
     "output_type": "stream",
     "text": [
      "Avg: 0.6686541958042985, Std: 0.004562644905166073\n"
     ]
    }
   ],
   "source": [
    "print(f'Avg: {f1_avg}, Std: {f1_std}')"
   ]
  },
  {
   "cell_type": "markdown",
   "id": "f55ba437",
   "metadata": {
    "papermill": {
     "duration": 0.010217,
     "end_time": "2023-04-14T16:57:05.076080",
     "exception": false,
     "start_time": "2023-04-14T16:57:05.065863",
     "status": "completed"
    },
    "tags": []
   },
   "source": [
    "### XGBoost"
   ]
  },
  {
   "cell_type": "code",
   "execution_count": 25,
   "id": "9e97025a",
   "metadata": {
    "execution": {
     "iopub.execute_input": "2023-04-14T16:57:05.097913Z",
     "iopub.status.busy": "2023-04-14T16:57:05.097496Z",
     "iopub.status.idle": "2023-04-14T17:24:52.083457Z",
     "shell.execute_reply": "2023-04-14T17:24:52.082109Z"
    },
    "papermill": {
     "duration": 1667.00019,
     "end_time": "2023-04-14T17:24:52.086119",
     "exception": false,
     "start_time": "2023-04-14T16:57:05.085929",
     "status": "completed"
    },
    "tags": []
   },
   "outputs": [],
   "source": [
    "f1_avg, f1_std = cross_val_multiclass(xgboost, X_cv, y_cv)"
   ]
  },
  {
   "cell_type": "code",
   "execution_count": 26,
   "id": "85e99e9a",
   "metadata": {
    "execution": {
     "iopub.execute_input": "2023-04-14T17:24:52.108430Z",
     "iopub.status.busy": "2023-04-14T17:24:52.107984Z",
     "iopub.status.idle": "2023-04-14T17:24:52.113955Z",
     "shell.execute_reply": "2023-04-14T17:24:52.112413Z"
    },
    "papermill": {
     "duration": 0.019922,
     "end_time": "2023-04-14T17:24:52.116329",
     "exception": false,
     "start_time": "2023-04-14T17:24:52.096407",
     "status": "completed"
    },
    "tags": []
   },
   "outputs": [
    {
     "name": "stdout",
     "output_type": "stream",
     "text": [
      "Avg: 0.6673474040366536, Std: 0.003966663061625961\n"
     ]
    }
   ],
   "source": [
    "print(f'Avg: {f1_avg}, Std: {f1_std}')"
   ]
  }
 ],
 "metadata": {
  "kernelspec": {
   "display_name": "Python 3",
   "language": "python",
   "name": "python3"
  },
  "language_info": {
   "codemirror_mode": {
    "name": "ipython",
    "version": 3
   },
   "file_extension": ".py",
   "mimetype": "text/x-python",
   "name": "python",
   "nbconvert_exporter": "python",
   "pygments_lexer": "ipython3",
   "version": "3.7.12"
  },
  "papermill": {
   "default_parameters": {},
   "duration": 2700.181353,
   "end_time": "2023-04-14T17:24:55.243543",
   "environment_variables": {},
   "exception": null,
   "input_path": "__notebook__.ipynb",
   "output_path": "__notebook__.ipynb",
   "parameters": {},
   "start_time": "2023-04-14T16:39:55.062190",
   "version": "2.4.0"
  }
 },
 "nbformat": 4,
 "nbformat_minor": 5
}
