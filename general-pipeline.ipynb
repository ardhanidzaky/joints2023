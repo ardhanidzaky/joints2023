{
 "cells": [
  {
   "cell_type": "code",
   "execution_count": 1,
   "id": "6fe17dc9",
   "metadata": {
    "execution": {
     "iopub.execute_input": "2023-04-14T16:39:46.152615Z",
     "iopub.status.busy": "2023-04-14T16:39:46.152179Z",
     "iopub.status.idle": "2023-04-14T16:40:12.940803Z",
     "shell.execute_reply": "2023-04-14T16:40:12.939392Z"
    },
    "id": "ZHzLtKjvf1qd",
    "outputId": "a5224770-6014-467d-cd0e-914dd65592a4",
    "papermill": {
     "duration": 26.803861,
     "end_time": "2023-04-14T16:40:12.944115",
     "exception": false,
     "start_time": "2023-04-14T16:39:46.140254",
     "status": "completed"
    },
    "tags": []
   },
   "outputs": [
    {
     "name": "stdout",
     "output_type": "stream",
     "text": [
      "\u001b[33mWARNING: Running pip as the 'root' user can result in broken permissions and conflicting behaviour with the system package manager. It is recommended to use a virtual environment instead: https://pip.pypa.io/warnings/venv\u001b[0m\u001b[33m\r\n",
      "\u001b[0m\u001b[33mWARNING: Running pip as the 'root' user can result in broken permissions and conflicting behaviour with the system package manager. It is recommended to use a virtual environment instead: https://pip.pypa.io/warnings/venv\u001b[0m\u001b[33m\r\n",
      "\u001b[0m"
     ]
    }
   ],
   "source": [
    "!pip install --q catboost\n",
    "!pip install --q cleanlab"
   ]
  },
  {
   "cell_type": "code",
   "execution_count": 2,
   "id": "2b9edd40",
   "metadata": {
    "execution": {
     "iopub.execute_input": "2023-04-14T16:40:12.965443Z",
     "iopub.status.busy": "2023-04-14T16:40:12.964591Z",
     "iopub.status.idle": "2023-04-14T16:40:16.810247Z",
     "shell.execute_reply": "2023-04-14T16:40:16.808588Z"
    },
    "id": "13I1WOMxdtnp",
    "papermill": {
     "duration": 3.860188,
     "end_time": "2023-04-14T16:40:16.813831",
     "exception": false,
     "start_time": "2023-04-14T16:40:12.953643",
     "status": "completed"
    },
    "tags": []
   },
   "outputs": [
    {
     "data": {
      "text/html": [
       "<style type='text/css'>\n",
       ".datatable table.frame { margin-bottom: 0; }\n",
       ".datatable table.frame thead { border-bottom: none; }\n",
       ".datatable table.frame tr.coltypes td {  color: #FFFFFF;  line-height: 6px;  padding: 0 0.5em;}\n",
       ".datatable .bool    { background: #DDDD99; }\n",
       ".datatable .object  { background: #565656; }\n",
       ".datatable .int     { background: #5D9E5D; }\n",
       ".datatable .float   { background: #4040CC; }\n",
       ".datatable .str     { background: #CC4040; }\n",
       ".datatable .time    { background: #40CC40; }\n",
       ".datatable .row_index {  background: var(--jp-border-color3);  border-right: 1px solid var(--jp-border-color0);  color: var(--jp-ui-font-color3);  font-size: 9px;}\n",
       ".datatable .frame tbody td { text-align: left; }\n",
       ".datatable .frame tr.coltypes .row_index {  background: var(--jp-border-color0);}\n",
       ".datatable th:nth-child(2) { padding-left: 12px; }\n",
       ".datatable .hellipsis {  color: var(--jp-cell-editor-border-color);}\n",
       ".datatable .vellipsis {  background: var(--jp-layout-color0);  color: var(--jp-cell-editor-border-color);}\n",
       ".datatable .na {  color: var(--jp-cell-editor-border-color);  font-size: 80%;}\n",
       ".datatable .sp {  opacity: 0.25;}\n",
       ".datatable .footer { font-size: 9px; }\n",
       ".datatable .frame_dimensions {  background: var(--jp-border-color3);  border-top: 1px solid var(--jp-border-color0);  color: var(--jp-ui-font-color3);  display: inline-block;  opacity: 0.6;  padding: 1px 10px 1px 5px;}\n",
       "</style>\n"
      ],
      "text/plain": [
       "<IPython.core.display.HTML object>"
      ]
     },
     "metadata": {},
     "output_type": "display_data"
    }
   ],
   "source": [
    "import pandas as pd\n",
    "import seaborn as sns\n",
    "import matplotlib.pyplot as plt\n",
    "import numpy as np\n",
    "import cleanlab\n",
    "\n",
    "from catboost import CatBoostClassifier\n",
    "from xgboost import XGBClassifier\n",
    "from lightgbm import LGBMClassifier\n",
    "\n",
    "from sklearn.linear_model import LinearRegression\n",
    "from sklearn.model_selection import train_test_split, StratifiedKFold, cross_val_predict, KFold\n",
    "from sklearn.preprocessing import StandardScaler, OneHotEncoder, LabelEncoder\n",
    "from sklearn.compose import ColumnTransformer\n",
    "from sklearn.metrics import accuracy_score, recall_score, precision_score, f1_score, classification_report"
   ]
  },
  {
   "cell_type": "code",
   "execution_count": 3,
   "id": "d5f49f4c",
   "metadata": {
    "execution": {
     "iopub.execute_input": "2023-04-14T16:40:16.835183Z",
     "iopub.status.busy": "2023-04-14T16:40:16.834623Z",
     "iopub.status.idle": "2023-04-14T16:40:16.840949Z",
     "shell.execute_reply": "2023-04-14T16:40:16.839454Z"
    },
    "papermill": {
     "duration": 0.020516,
     "end_time": "2023-04-14T16:40:16.843815",
     "exception": false,
     "start_time": "2023-04-14T16:40:16.823299",
     "status": "completed"
    },
    "tags": []
   },
   "outputs": [],
   "source": [
    "pd.options.mode.chained_assignment = None"
   ]
  },
  {
   "cell_type": "markdown",
   "id": "fa6e1e82",
   "metadata": {
    "id": "RiwTOwsKeqMu",
    "papermill": {
     "duration": 0.009078,
     "end_time": "2023-04-14T16:40:16.863639",
     "exception": false,
     "start_time": "2023-04-14T16:40:16.854561",
     "status": "completed"
    },
    "tags": []
   },
   "source": [
    "# Constants"
   ]
  },
  {
   "cell_type": "code",
   "execution_count": 4,
   "id": "5be99297",
   "metadata": {
    "execution": {
     "iopub.execute_input": "2023-04-14T16:40:16.885072Z",
     "iopub.status.busy": "2023-04-14T16:40:16.884556Z",
     "iopub.status.idle": "2023-04-14T16:40:16.892774Z",
     "shell.execute_reply": "2023-04-14T16:40:16.890967Z"
    },
    "id": "dg8O0ApberfB",
    "papermill": {
     "duration": 0.022701,
     "end_time": "2023-04-14T16:40:16.895816",
     "exception": false,
     "start_time": "2023-04-14T16:40:16.873115",
     "status": "completed"
    },
    "tags": []
   },
   "outputs": [],
   "source": [
    "wb_mapping = {\n",
    "    0: 'Unknown/not stated',\n",
    "    1: 'Clay',\n",
    "    2: 'Mortar + Cement',\n",
    "    3: 'Mortar + Cement, Clay',\n",
    "    5: 'Mud + Mortar, Clay',\n",
    "    7: 'Mud + Mortar, Clay, Cement + Mortar'\n",
    "}\n",
    "\n",
    "wm_mapping = {\n",
    "    0: 'Unknown/not stated',\n",
    "    1: 'Red Bricks',\n",
    "    2: 'Stone Bricks',\n",
    "    3: 'Red Bricks, Stone Bricks'\n",
    "}"
   ]
  },
  {
   "cell_type": "code",
   "execution_count": 5,
   "id": "786d7a43",
   "metadata": {
    "execution": {
     "iopub.execute_input": "2023-04-14T16:40:16.918091Z",
     "iopub.status.busy": "2023-04-14T16:40:16.917238Z",
     "iopub.status.idle": "2023-04-14T16:40:16.926726Z",
     "shell.execute_reply": "2023-04-14T16:40:16.925092Z"
    },
    "papermill": {
     "duration": 0.024185,
     "end_time": "2023-04-14T16:40:16.930438",
     "exception": false,
     "start_time": "2023-04-14T16:40:16.906253",
     "status": "completed"
    },
    "tags": []
   },
   "outputs": [],
   "source": [
    "test_number_dict = {\n",
    "    'two story': 2, 'floor second': 2, 'Floor two': 2, 'There is 2 Floor/Story': 2, \n",
    "    'Floor 2': 2, 'two': 2, ' just 2 floor': 2, '2': 2, '2 floor': 2, 'Two Floor': 2, \n",
    "    'floor two': 2, 'floor third': 3, 'three Story': 3, 'Three': 3, 'Floor-three': 3, \n",
    "    '3.00': 3, 'Floor 3': 3, 'Three floor': 3, ' has 3 Floor': 3, '1': 1, 'one': 1, \n",
    "    '1st Story': 1, 'floor one': 1, 'one story': 1, 'Has 1 floor': 1, 'Just 1 floor': 1, \n",
    "    'floor 1st': 1, 'Floor 1': 1, 'four Floor': 4, 'Floor 4': 4, 'Fl four': 4, 'Four': 4, \n",
    "    'Four Story': 4, 'floor four': 4, ' has Four fl': 4, '4': 4, '6': 6, 'Fl Five': 5, \n",
    "    ' Has Five fl': 5, 'fifth': 5, 'five Floor': 5, 'Floor Fifth': 5, '5': 5, '7': 7, \n",
    "    '9': 9\n",
    "}"
   ]
  },
  {
   "cell_type": "markdown",
   "id": "43e237ce",
   "metadata": {
    "id": "oAZIPuR4dcwN",
    "papermill": {
     "duration": 0.008728,
     "end_time": "2023-04-14T16:40:16.948916",
     "exception": false,
     "start_time": "2023-04-14T16:40:16.940188",
     "status": "completed"
    },
    "tags": []
   },
   "source": [
    "# Pre-defined Function (Basic pre-processing)"
   ]
  },
  {
   "cell_type": "code",
   "execution_count": 6,
   "id": "1ecc24d8",
   "metadata": {
    "cellView": "form",
    "execution": {
     "iopub.execute_input": "2023-04-14T16:40:16.971192Z",
     "iopub.status.busy": "2023-04-14T16:40:16.970690Z",
     "iopub.status.idle": "2023-04-14T16:40:16.982107Z",
     "shell.execute_reply": "2023-04-14T16:40:16.980633Z"
    },
    "id": "DVsfP0ZmdZPG",
    "papermill": {
     "duration": 0.026061,
     "end_time": "2023-04-14T16:40:16.985366",
     "exception": false,
     "start_time": "2023-04-14T16:40:16.959305",
     "status": "completed"
    },
    "tags": []
   },
   "outputs": [],
   "source": [
    "#@title extract_num_floors\n",
    "def extract_num_floors(floor):\n",
    "    \"\"\"\n",
    "    This function extracts the number of floors from the 'floors_before_eq' column\n",
    "    and converts it to an integer. If the value is missing or cannot be converted\n",
    "    to an integer, it returns None.\n",
    "\n",
    "    Arguments:\n",
    "    - floor: The value in the 'floors_before_eq' column for a particular building\n",
    "\n",
    "    Returns:\n",
    "    - An integer representing the number of floors for the given building, or None\n",
    "      if the value is missing or cannot be converted to an integer.\n",
    "    \"\"\"\n",
    "    import re\n",
    "\n",
    "    if floor is None:\n",
    "        return None\n",
    "    else:\n",
    "        floor = str(floor)\n",
    "        floor = floor.lower()\n",
    "        if 'one' in floor or 'first' in floor or 'ground' in floor:\n",
    "            return 1\n",
    "        elif 'two' in floor or 'second' in floor:\n",
    "            return 2\n",
    "        elif 'three' in floor or 'third' in floor:\n",
    "            return 3\n",
    "        elif 'four' in floor or 'fourth' in floor:\n",
    "            return 4\n",
    "        elif 'five' in floor or 'fifth' in floor:\n",
    "            return 5\n",
    "        else:\n",
    "            floor = re.findall(r'\\d+', floor)\n",
    "            if len(floor) > 0:\n",
    "                return int(floor[0])\n",
    "            else:\n",
    "                return None"
   ]
  },
  {
   "cell_type": "code",
   "execution_count": 7,
   "id": "53e9894e",
   "metadata": {
    "cellView": "form",
    "execution": {
     "iopub.execute_input": "2023-04-14T16:40:17.008395Z",
     "iopub.status.busy": "2023-04-14T16:40:17.007502Z",
     "iopub.status.idle": "2023-04-14T16:40:17.023338Z",
     "shell.execute_reply": "2023-04-14T16:40:17.021074Z"
    },
    "id": "ZXQSL2wbXpRl",
    "papermill": {
     "duration": 0.032264,
     "end_time": "2023-04-14T16:40:17.027034",
     "exception": false,
     "start_time": "2023-04-14T16:40:16.994770",
     "status": "completed"
    },
    "tags": []
   },
   "outputs": [],
   "source": [
    "#@title standardize_value\n",
    "def standardize_value(data):\n",
    "    \"\"\"\n",
    "    This function takes a pandas dataframe as input and returns a new pandas dataframe\n",
    "    where all the categorical values are standardized. For example, if 'RCC' and 'RC' \n",
    "    are used interchangeably in the 'foundation_type' column, this function will standardize \n",
    "    all the 'RCC' values to 'RC' to avoid any inconsistencies.\n",
    "    \"\"\"\n",
    "\n",
    "    # type_of_foundation\n",
    "    data['type_of_foundation'] = data['type_of_foundation'].replace('RC', 'Reinforced Concrete')\n",
    "    data['type_of_foundation'] = data['type_of_foundation'].replace(['Bamboo/TImber', 'Bamboo or Timber', 'Bamboo/Timber'], 'Bamboo/Timber')\n",
    "    data['type_of_foundation'] = data['type_of_foundation'].replace(['Other', 'Others'], 'Other')\n",
    "    data['type_of_foundation'] = data['type_of_foundation'].replace(['Cement-Stone/Brick', 'Cement-Stone or Cement-Brick'], 'Cement-Stone/Brick')\n",
    "    \n",
    "    # type_of_roof\n",
    "    data['type_of_roof'] = data['type_of_roof'].replace(['Bamboo/Timber Light roof', 'Bamboo/TImber-Light Roof', 'Bamboo or Timber Light roof'], 'Bamboo/Timber Light roof')\n",
    "    data['type_of_roof'] = data['type_of_roof'].replace(['Bamboo/Timber Heavy roof ', 'Bamboo/TImber-Heavy Roof', 'Bamboo or Timber Heavy roof'], 'Bamboo/Timber Heavy roof')\n",
    "    data['type_of_roof'] = data['type_of_roof'].replace(['reinforced cement concrete/rb/rbc', 'rcc/rb/rbc', 'Reinforced Brick Slab/rcc/rbc', 'Reinforced brick concrete/rcc/rbc'], 'rcc/rb/rbc')\n",
    "    \n",
    "    # type_of_ground_floor\n",
    "    data['type_of_ground_floor'] = data['type_of_ground_floor'].replace(['mud', 'Mud'], 'Mud')\n",
    "    data['type_of_ground_floor'] = data['type_of_ground_floor'].replace(['reinforced concrete', 'Reinforced Concrete', 'RC'], 'Reinforced Concrete ')\n",
    "    data['type_of_ground_floor'] = data['type_of_ground_floor'].replace(['Brick/Stone', 'brick/stone', 'Brick or Stone'], 'Brick/Stone')\n",
    "    data['type_of_ground_floor'] = data['type_of_ground_floor'].replace(['TImber', 'Timber', 'Wood', 'Lumber'], 'Wood')\n",
    "\n",
    "    # type_of_other_floor\n",
    "    data['type_of_other_floor'] = data['type_of_other_floor'].replace(['TImber/Bamboo-Mud', 'Timber Mud or Bamboo-Mud', 'Wood or Bamboo Mud'], 'Wood or Bamboo Mud')\n",
    "    data['type_of_other_floor'] = data['type_of_other_floor'].replace(['Timber-Planck', 'Lumber-plank', 'Wood-Plank'], 'Wood-Plank')\n",
    "    data['type_of_other_floor'] = data['type_of_other_floor'].replace(['rcc/rb/rbc', 'reinforced cement concrete/rb/rbc', 'Reinforced brick concrete/rcc/rbc'], 'rcc/rb/rbc')\n",
    "    data['type_of_other_floor'] = data['type_of_other_floor'].replace(['Wood or Bamboo Mud', 'Wood-Mud or Bamboo Mud'], 'Wood-Mud or Bamboo Mud ')\n",
    "\n",
    "    # legal_ownership_status\n",
    "    data['legal_ownership_status'] = data['legal_ownership_status'].replace(['Private', 'Private Use', 'Prvt', 'Privste'], 'Private')\n",
    "    data['legal_ownership_status'] = data['legal_ownership_status'].replace(['Public', 'Public Use', 'Public Space'], 'Public')\n",
    "    data['legal_ownership_status'] = data['legal_ownership_status'].replace(['Institutional', 'Institutional Use', 'Institutionals'], 'Institutional')\n",
    "    data['legal_ownership_status'] = data['legal_ownership_status'].replace(['Other', 'Unknown', 'Unspecified'], 'Other')\n",
    "\n",
    "    return data"
   ]
  },
  {
   "cell_type": "code",
   "execution_count": 8,
   "id": "4a015221",
   "metadata": {
    "cellView": "form",
    "execution": {
     "iopub.execute_input": "2023-04-14T16:40:17.049872Z",
     "iopub.status.busy": "2023-04-14T16:40:17.049405Z",
     "iopub.status.idle": "2023-04-14T16:40:17.059876Z",
     "shell.execute_reply": "2023-04-14T16:40:17.058439Z"
    },
    "id": "zG4AwLU0eMhw",
    "papermill": {
     "duration": 0.025336,
     "end_time": "2023-04-14T16:40:17.062662",
     "exception": false,
     "start_time": "2023-04-14T16:40:17.037326",
     "status": "completed"
    },
    "tags": []
   },
   "outputs": [],
   "source": [
    "#@title complete_pipeline\n",
    "def complete_pipeline(data):\n",
    "    \"\"\"\n",
    "    This function takes a pandas dataframe as input, processes it through\n",
    "    various steps including missing value imputation, feature engineering,\n",
    "    and standardization, and returns the processed dataframe ready for\n",
    "    machine learning modeling. The function is designed to handle both\n",
    "    training and testing data by distinguishing between them based on the\n",
    "    presence of the 'damage_grade' column.\n",
    "    \"\"\"\n",
    "\n",
    "    # floors_before_eq (total)\n",
    "    data['floors_before_eq (total)'] = data['floors_before_eq (total)'].apply(lambda x: extract_num_floors(x))\n",
    "\n",
    "    # missing value\n",
    "    data = data[data['floors_before_eq (total)'].notna()]\n",
    "    data = data[data['plinth_area (ft^2)'].notna()]\n",
    "    data['technical_solution_proposed'] = data['technical_solution_proposed'].fillna('Unspecified')\n",
    "\n",
    "    # replace and lambda\n",
    "    data['plinth_area (ft^2)'] = data['plinth_area (ft^2)'].str.extract('(\\d+)').astype(float)\n",
    "    \n",
    "    data['no_family_residing'] = data['no_family_residing'].replace('None', 0).astype(float)\n",
    "    data['wall_binding'] = data['wall_binding'].replace(wb_mapping)\n",
    "    data['wall_material'] = data['wall_material'].replace(wm_mapping)\n",
    "\n",
    "    data['type_of_reinforcement_concrete'] = data['type_of_reinforcement_concrete'].apply(lambda x: f'Type: {str(x)}')\n",
    "    \n",
    "    # value standardization\n",
    "    data = standardize_value(data)\n",
    "    \n",
    "    return data"
   ]
  },
  {
   "cell_type": "code",
   "execution_count": 9,
   "id": "3bbfbe89",
   "metadata": {
    "cellView": "form",
    "execution": {
     "iopub.execute_input": "2023-04-14T16:40:17.085606Z",
     "iopub.status.busy": "2023-04-14T16:40:17.083876Z",
     "iopub.status.idle": "2023-04-14T16:40:17.096609Z",
     "shell.execute_reply": "2023-04-14T16:40:17.094924Z"
    },
    "id": "M-iZTblLJ2X9",
    "papermill": {
     "duration": 0.02873,
     "end_time": "2023-04-14T16:40:17.100530",
     "exception": false,
     "start_time": "2023-04-14T16:40:17.071800",
     "status": "completed"
    },
    "tags": []
   },
   "outputs": [],
   "source": [
    "#@title cross_val_multiclass\n",
    "def cross_val_multiclass(model, X, y, num_folds=5):\n",
    "    from sklearn.model_selection import KFold, cross_val_score\n",
    "    from sklearn.metrics import f1_score\n",
    "    import numpy as np\n",
    "\n",
    "    kf = KFold(n_splits=num_folds, shuffle=True, random_state=42)\n",
    "    f1_scores = []\n",
    "    for train_idx, test_idx in kf.split(X):\n",
    "        X_train, X_test = X[train_idx], X[test_idx]\n",
    "        y_train, y_test = y[train_idx], y[test_idx]\n",
    "        model.fit(X_train, y_train, verbose=0)\n",
    "        y_pred = model.predict(X_test)\n",
    "        f1_scores.append(f1_score(y_test, y_pred, average='macro'))\n",
    "    return np.mean(f1_scores), np.std(f1_scores)"
   ]
  },
  {
   "cell_type": "markdown",
   "id": "caba9fcb",
   "metadata": {
    "id": "ldT1thHxg2Oh",
    "papermill": {
     "duration": 0.009535,
     "end_time": "2023-04-14T16:40:17.119315",
     "exception": false,
     "start_time": "2023-04-14T16:40:17.109780",
     "status": "completed"
    },
    "tags": []
   },
   "source": [
    "# Training Flow"
   ]
  },
  {
   "cell_type": "code",
   "execution_count": 10,
   "id": "a8a70798",
   "metadata": {
    "execution": {
     "iopub.execute_input": "2023-04-14T16:40:17.141042Z",
     "iopub.status.busy": "2023-04-14T16:40:17.140135Z",
     "iopub.status.idle": "2023-04-14T16:40:27.955246Z",
     "shell.execute_reply": "2023-04-14T16:40:27.953888Z"
    },
    "id": "IA7Mmlo-g5my",
    "outputId": "b61943de-cce7-4e2d-df8e-db6be9b04b97",
    "papermill": {
     "duration": 10.829495,
     "end_time": "2023-04-14T16:40:27.958602",
     "exception": false,
     "start_time": "2023-04-14T16:40:17.129107",
     "status": "completed"
    },
    "tags": []
   },
   "outputs": [
    {
     "name": "stderr",
     "output_type": "stream",
     "text": [
      "/opt/conda/lib/python3.7/site-packages/IPython/core/interactiveshell.py:3553: DtypeWarning: Columns (1,3,5,6,7,8,9,10,11,12,13,16,17,19,20) have mixed types.Specify dtype option on import or set low_memory=False.\n",
      "  exec(code_obj, self.user_global_ns, self.user_ns)\n"
     ]
    }
   ],
   "source": [
    "train = pd.read_csv('/kaggle/input/jointsugm/train.csv')\n",
    "train.drop(['Unnamed: 0'], axis=1, inplace=True)\n",
    "\n",
    "train = complete_pipeline(train)\n",
    "train = train.reset_index()\n",
    "train.drop(['index'], axis=1, inplace=True)"
   ]
  },
  {
   "cell_type": "markdown",
   "id": "3afe626f",
   "metadata": {
    "id": "UtuwcJBXhWu1",
    "papermill": {
     "duration": 0.009288,
     "end_time": "2023-04-14T16:40:27.978736",
     "exception": false,
     "start_time": "2023-04-14T16:40:27.969448",
     "status": "completed"
    },
    "tags": []
   },
   "source": [
    "# Modeling"
   ]
  },
  {
   "cell_type": "code",
   "execution_count": 11,
   "id": "710e946a",
   "metadata": {
    "execution": {
     "iopub.execute_input": "2023-04-14T16:40:28.001083Z",
     "iopub.status.busy": "2023-04-14T16:40:28.000596Z",
     "iopub.status.idle": "2023-04-14T16:40:30.701857Z",
     "shell.execute_reply": "2023-04-14T16:40:30.699913Z"
    },
    "id": "SJAYUY5qZlK_",
    "papermill": {
     "duration": 2.717231,
     "end_time": "2023-04-14T16:40:30.705637",
     "exception": false,
     "start_time": "2023-04-14T16:40:27.988406",
     "status": "completed"
    },
    "tags": []
   },
   "outputs": [],
   "source": [
    "X = train[train.columns.difference(['damage_grade'])]\n",
    "y = train['damage_grade']\n",
    "\n",
    "numerical_cols = X.select_dtypes(include=['int64', 'float64']).columns.tolist()\n",
    "categorical_cols = X.select_dtypes(include=['object']).columns.tolist()\n",
    "\n",
    "numerical_transformer = StandardScaler()\n",
    "categorical_transformer = OneHotEncoder(sparse=False)\n",
    "\n",
    "preprocessor = ColumnTransformer(\n",
    "    transformers=[\n",
    "        ('num', numerical_transformer, numerical_cols),\n",
    "        ('cat', categorical_transformer, categorical_cols)\n",
    "    ])\n",
    "\n",
    "X = preprocessor.fit_transform(X)\n",
    "\n",
    "label_encoder = LabelEncoder()\n",
    "y = label_encoder.fit_transform(y)"
   ]
  },
  {
   "cell_type": "code",
   "execution_count": 12,
   "id": "eca40f53",
   "metadata": {
    "execution": {
     "iopub.execute_input": "2023-04-14T16:40:30.727454Z",
     "iopub.status.busy": "2023-04-14T16:40:30.726944Z",
     "iopub.status.idle": "2023-04-14T16:40:31.185785Z",
     "shell.execute_reply": "2023-04-14T16:40:31.184116Z"
    },
    "id": "KvXY5_ZYh1g2",
    "papermill": {
     "duration": 0.473064,
     "end_time": "2023-04-14T16:40:31.188927",
     "exception": false,
     "start_time": "2023-04-14T16:40:30.715863",
     "status": "completed"
    },
    "tags": []
   },
   "outputs": [],
   "source": [
    "# Create train-validation-test split with stratification\n",
    "X_train, X_val, y_train, y_val = train_test_split(X, y, train_size=0.6, random_state=42, stratify=y)\n",
    "X_val, X_test, y_val, y_test = train_test_split(X_val, y_val, test_size=0.5, random_state=42, stratify=y_val)"
   ]
  },
  {
   "cell_type": "markdown",
   "id": "781a5097",
   "metadata": {
    "id": "zK1N9xBWY3hY",
    "papermill": {
     "duration": 0.009954,
     "end_time": "2023-04-14T16:40:31.209232",
     "exception": false,
     "start_time": "2023-04-14T16:40:31.199278",
     "status": "completed"
    },
    "tags": []
   },
   "source": [
    "## Manual"
   ]
  },
  {
   "cell_type": "markdown",
   "id": "21140337",
   "metadata": {
    "papermill": {
     "duration": 0.009187,
     "end_time": "2023-04-14T16:40:31.229597",
     "exception": false,
     "start_time": "2023-04-14T16:40:31.220410",
     "status": "completed"
    },
    "tags": []
   },
   "source": [
    "### LightGBM"
   ]
  },
  {
   "cell_type": "code",
   "execution_count": 13,
   "id": "069f6f43",
   "metadata": {
    "execution": {
     "iopub.execute_input": "2023-04-14T16:40:31.251881Z",
     "iopub.status.busy": "2023-04-14T16:40:31.251171Z",
     "iopub.status.idle": "2023-04-14T16:40:42.025322Z",
     "shell.execute_reply": "2023-04-14T16:40:42.023921Z"
    },
    "papermill": {
     "duration": 10.788236,
     "end_time": "2023-04-14T16:40:42.028206",
     "exception": false,
     "start_time": "2023-04-14T16:40:31.239970",
     "status": "completed"
    },
    "tags": []
   },
   "outputs": [
    {
     "name": "stderr",
     "output_type": "stream",
     "text": [
      "/opt/conda/lib/python3.7/site-packages/lightgbm/sklearn.py:736: UserWarning: 'verbose' argument is deprecated and will be removed in a future release of LightGBM. Pass 'log_evaluation()' callback via 'callbacks' argument instead.\n",
      "  _log_warning(\"'verbose' argument is deprecated and will be removed in a future release of LightGBM. \"\n"
     ]
    },
    {
     "data": {
      "text/plain": [
       "LGBMClassifier()"
      ]
     },
     "execution_count": 13,
     "metadata": {},
     "output_type": "execute_result"
    }
   ],
   "source": [
    "lgbm = LGBMClassifier()\n",
    "lgbm.fit(X_train, y_train, verbose=0, eval_set=(X_val, y_val))"
   ]
  },
  {
   "cell_type": "code",
   "execution_count": 14,
   "id": "fb824172",
   "metadata": {
    "execution": {
     "iopub.execute_input": "2023-04-14T16:40:42.050042Z",
     "iopub.status.busy": "2023-04-14T16:40:42.049539Z",
     "iopub.status.idle": "2023-04-14T16:40:42.916798Z",
     "shell.execute_reply": "2023-04-14T16:40:42.914893Z"
    },
    "papermill": {
     "duration": 0.8819,
     "end_time": "2023-04-14T16:40:42.920076",
     "exception": false,
     "start_time": "2023-04-14T16:40:42.038176",
     "status": "completed"
    },
    "tags": []
   },
   "outputs": [
    {
     "name": "stdout",
     "output_type": "stream",
     "text": [
      "              precision    recall  f1-score   support\n",
      "\n",
      "           1       0.56      0.65      0.60      6268\n",
      "           2       0.51      0.19      0.28      6861\n",
      "           3       0.50      0.20      0.28     10823\n",
      "           4       0.36      0.16      0.22     14532\n",
      "           5       0.49      0.89      0.63     21837\n",
      "\n",
      "    accuracy                           0.48     60321\n",
      "   macro avg       0.48      0.42      0.40     60321\n",
      "weighted avg       0.47      0.48      0.43     60321\n",
      "\n"
     ]
    }
   ],
   "source": [
    "y_val_pred = lgbm.predict(X_val)\n",
    "print(classification_report(y_val, y_val_pred, target_names=['1', '2', '3', '4', '5']))"
   ]
  },
  {
   "cell_type": "markdown",
   "id": "e7a12379",
   "metadata": {
    "papermill": {
     "duration": 0.009042,
     "end_time": "2023-04-14T16:40:42.938927",
     "exception": false,
     "start_time": "2023-04-14T16:40:42.929885",
     "status": "completed"
    },
    "tags": []
   },
   "source": [
    "### CatBoost"
   ]
  },
  {
   "cell_type": "code",
   "execution_count": 15,
   "id": "0741242c",
   "metadata": {
    "execution": {
     "iopub.execute_input": "2023-04-14T16:40:42.959545Z",
     "iopub.status.busy": "2023-04-14T16:40:42.959114Z",
     "iopub.status.idle": "2023-04-14T16:42:31.530933Z",
     "shell.execute_reply": "2023-04-14T16:42:31.529607Z"
    },
    "id": "BTP_rGu_hEHu",
    "papermill": {
     "duration": 108.595341,
     "end_time": "2023-04-14T16:42:31.543520",
     "exception": false,
     "start_time": "2023-04-14T16:40:42.948179",
     "status": "completed"
    },
    "tags": []
   },
   "outputs": [
    {
     "data": {
      "text/plain": [
       "<catboost.core.CatBoostClassifier at 0x77abb430a810>"
      ]
     },
     "execution_count": 15,
     "metadata": {},
     "output_type": "execute_result"
    }
   ],
   "source": [
    "catboost = CatBoostClassifier()\n",
    "catboost.fit(X_train, y_train, verbose=0, eval_set=(X_val, y_val))"
   ]
  },
  {
   "cell_type": "code",
   "execution_count": 16,
   "id": "08deca7a",
   "metadata": {
    "execution": {
     "iopub.execute_input": "2023-04-14T16:42:31.564607Z",
     "iopub.status.busy": "2023-04-14T16:42:31.563873Z",
     "iopub.status.idle": "2023-04-14T16:42:34.013036Z",
     "shell.execute_reply": "2023-04-14T16:42:34.011089Z"
    },
    "id": "iFPop-woRuhu",
    "papermill": {
     "duration": 2.463185,
     "end_time": "2023-04-14T16:42:34.015939",
     "exception": false,
     "start_time": "2023-04-14T16:42:31.552754",
     "status": "completed"
    },
    "tags": []
   },
   "outputs": [
    {
     "name": "stdout",
     "output_type": "stream",
     "text": [
      "              precision    recall  f1-score   support\n",
      "\n",
      "           1       0.57      0.64      0.60      6268\n",
      "           2       0.50      0.21      0.29      6861\n",
      "           3       0.47      0.22      0.30     10823\n",
      "           4       0.38      0.18      0.24     14532\n",
      "           5       0.50      0.88      0.63     21837\n",
      "\n",
      "    accuracy                           0.49     60321\n",
      "   macro avg       0.48      0.42      0.42     60321\n",
      "weighted avg       0.47      0.49      0.44     60321\n",
      "\n"
     ]
    }
   ],
   "source": [
    "y_val_pred = catboost.predict(X_val)\n",
    "print(classification_report(y_val, y_val_pred, target_names=['1', '2', '3', '4', '5']))"
   ]
  },
  {
   "cell_type": "markdown",
   "id": "4af03408",
   "metadata": {
    "papermill": {
     "duration": 0.008988,
     "end_time": "2023-04-14T16:42:34.034762",
     "exception": false,
     "start_time": "2023-04-14T16:42:34.025774",
     "status": "completed"
    },
    "tags": []
   },
   "source": [
    "### XGBoost"
   ]
  },
  {
   "cell_type": "code",
   "execution_count": 17,
   "id": "1c74c5e6",
   "metadata": {
    "execution": {
     "iopub.execute_input": "2023-04-14T16:42:34.055757Z",
     "iopub.status.busy": "2023-04-14T16:42:34.055300Z",
     "iopub.status.idle": "2023-04-14T16:50:50.706447Z",
     "shell.execute_reply": "2023-04-14T16:50:50.705196Z"
    },
    "id": "ot3w4aJ9iBth",
    "papermill": {
     "duration": 496.674962,
     "end_time": "2023-04-14T16:50:50.719132",
     "exception": false,
     "start_time": "2023-04-14T16:42:34.044170",
     "status": "completed"
    },
    "tags": []
   },
   "outputs": [
    {
     "data": {
      "text/plain": [
       "XGBClassifier(base_score=0.5, booster='gbtree', callbacks=None,\n",
       "              colsample_bylevel=1, colsample_bynode=1, colsample_bytree=1,\n",
       "              early_stopping_rounds=None, enable_categorical=False,\n",
       "              eval_metric=None, gamma=0, gpu_id=-1, grow_policy='depthwise',\n",
       "              importance_type=None, interaction_constraints='',\n",
       "              learning_rate=0.300000012, max_bin=256, max_cat_to_onehot=4,\n",
       "              max_delta_step=0, max_depth=6, max_leaves=0, min_child_weight=1,\n",
       "              missing=nan, monotone_constraints='()', n_estimators=100,\n",
       "              n_jobs=0, num_parallel_tree=1, objective='multi:softprob',\n",
       "              predictor='auto', random_state=0, reg_alpha=0, ...)"
      ]
     },
     "execution_count": 17,
     "metadata": {},
     "output_type": "execute_result"
    }
   ],
   "source": [
    "xgboost = XGBClassifier()\n",
    "xgboost.fit(X_train, y_train)"
   ]
  },
  {
   "cell_type": "code",
   "execution_count": 18,
   "id": "cc49e49c",
   "metadata": {
    "execution": {
     "iopub.execute_input": "2023-04-14T16:50:50.741617Z",
     "iopub.status.busy": "2023-04-14T16:50:50.741188Z",
     "iopub.status.idle": "2023-04-14T16:50:51.729380Z",
     "shell.execute_reply": "2023-04-14T16:50:51.727890Z"
    },
    "id": "VxZfx-MkaWLR",
    "papermill": {
     "duration": 1.002788,
     "end_time": "2023-04-14T16:50:51.732340",
     "exception": false,
     "start_time": "2023-04-14T16:50:50.729552",
     "status": "completed"
    },
    "tags": []
   },
   "outputs": [
    {
     "name": "stdout",
     "output_type": "stream",
     "text": [
      "              precision    recall  f1-score   support\n",
      "\n",
      "           1       0.57      0.63      0.60      6268\n",
      "           2       0.50      0.21      0.29      6861\n",
      "           3       0.49      0.20      0.29     10823\n",
      "           4       0.37      0.16      0.22     14532\n",
      "           5       0.49      0.89      0.63     21837\n",
      "\n",
      "    accuracy                           0.49     60321\n",
      "   macro avg       0.49      0.42      0.41     60321\n",
      "weighted avg       0.47      0.49      0.43     60321\n",
      "\n"
     ]
    }
   ],
   "source": [
    "y_val_pred = xgboost.predict(X_val)\n",
    "print(classification_report(y_val, y_val_pred, target_names=['1', '2', '3', '4', '5']))"
   ]
  },
  {
   "cell_type": "markdown",
   "id": "34560950",
   "metadata": {
    "id": "ijWBOSoF2rz8",
    "papermill": {
     "duration": 0.009574,
     "end_time": "2023-04-14T16:50:51.751710",
     "exception": false,
     "start_time": "2023-04-14T16:50:51.742136",
     "status": "completed"
    },
    "tags": []
   },
   "source": [
    "## CV"
   ]
  },
  {
   "cell_type": "code",
   "execution_count": 19,
   "id": "c4de9e96",
   "metadata": {
    "execution": {
     "iopub.execute_input": "2023-04-14T16:50:51.772567Z",
     "iopub.status.busy": "2023-04-14T16:50:51.772143Z",
     "iopub.status.idle": "2023-04-14T16:50:52.025134Z",
     "shell.execute_reply": "2023-04-14T16:50:52.023688Z"
    },
    "id": "DwZyDC0c3Hj3",
    "papermill": {
     "duration": 0.266894,
     "end_time": "2023-04-14T16:50:52.028173",
     "exception": false,
     "start_time": "2023-04-14T16:50:51.761279",
     "status": "completed"
    },
    "tags": []
   },
   "outputs": [],
   "source": [
    "X_cv, _, y_cv, _ = train_test_split(X, y, train_size=0.8, random_state=42, stratify=y)"
   ]
  },
  {
   "cell_type": "markdown",
   "id": "853dc841",
   "metadata": {
    "papermill": {
     "duration": 0.01039,
     "end_time": "2023-04-14T16:50:52.048601",
     "exception": false,
     "start_time": "2023-04-14T16:50:52.038211",
     "status": "completed"
    },
    "tags": []
   },
   "source": [
    "### LightGBM"
   ]
  },
  {
   "cell_type": "code",
   "execution_count": 20,
   "id": "8095f80f",
   "metadata": {
    "execution": {
     "iopub.execute_input": "2023-04-14T16:50:52.070839Z",
     "iopub.status.busy": "2023-04-14T16:50:52.070376Z",
     "iopub.status.idle": "2023-04-14T16:51:41.562127Z",
     "shell.execute_reply": "2023-04-14T16:51:41.560826Z"
    },
    "papermill": {
     "duration": 49.506909,
     "end_time": "2023-04-14T16:51:41.565652",
     "exception": false,
     "start_time": "2023-04-14T16:50:52.058743",
     "status": "completed"
    },
    "tags": []
   },
   "outputs": [
    {
     "name": "stderr",
     "output_type": "stream",
     "text": [
      "/opt/conda/lib/python3.7/site-packages/lightgbm/sklearn.py:736: UserWarning: 'verbose' argument is deprecated and will be removed in a future release of LightGBM. Pass 'log_evaluation()' callback via 'callbacks' argument instead.\n",
      "  _log_warning(\"'verbose' argument is deprecated and will be removed in a future release of LightGBM. \"\n",
      "/opt/conda/lib/python3.7/site-packages/lightgbm/sklearn.py:736: UserWarning: 'verbose' argument is deprecated and will be removed in a future release of LightGBM. Pass 'log_evaluation()' callback via 'callbacks' argument instead.\n",
      "  _log_warning(\"'verbose' argument is deprecated and will be removed in a future release of LightGBM. \"\n",
      "/opt/conda/lib/python3.7/site-packages/lightgbm/sklearn.py:736: UserWarning: 'verbose' argument is deprecated and will be removed in a future release of LightGBM. Pass 'log_evaluation()' callback via 'callbacks' argument instead.\n",
      "  _log_warning(\"'verbose' argument is deprecated and will be removed in a future release of LightGBM. \"\n",
      "/opt/conda/lib/python3.7/site-packages/lightgbm/sklearn.py:736: UserWarning: 'verbose' argument is deprecated and will be removed in a future release of LightGBM. Pass 'log_evaluation()' callback via 'callbacks' argument instead.\n",
      "  _log_warning(\"'verbose' argument is deprecated and will be removed in a future release of LightGBM. \"\n",
      "/opt/conda/lib/python3.7/site-packages/lightgbm/sklearn.py:736: UserWarning: 'verbose' argument is deprecated and will be removed in a future release of LightGBM. Pass 'log_evaluation()' callback via 'callbacks' argument instead.\n",
      "  _log_warning(\"'verbose' argument is deprecated and will be removed in a future release of LightGBM. \"\n"
     ]
    }
   ],
   "source": [
    "f1_avg, f1_std = cross_val_multiclass(lgbm, X_cv, y_cv)"
   ]
  },
  {
   "cell_type": "code",
   "execution_count": 21,
   "id": "dd9d4b26",
   "metadata": {
    "execution": {
     "iopub.execute_input": "2023-04-14T16:51:41.589905Z",
     "iopub.status.busy": "2023-04-14T16:51:41.589088Z",
     "iopub.status.idle": "2023-04-14T16:51:41.596095Z",
     "shell.execute_reply": "2023-04-14T16:51:41.594680Z"
    },
    "papermill": {
     "duration": 0.022536,
     "end_time": "2023-04-14T16:51:41.598654",
     "exception": false,
     "start_time": "2023-04-14T16:51:41.576118",
     "status": "completed"
    },
    "tags": []
   },
   "outputs": [
    {
     "name": "stdout",
     "output_type": "stream",
     "text": [
      "Avg: 0.4047235018628226, Std: 0.0018913317086214421\n"
     ]
    }
   ],
   "source": [
    "print(f'Avg: {f1_avg}, Std: {f1_std}')"
   ]
  },
  {
   "cell_type": "markdown",
   "id": "505d1312",
   "metadata": {
    "papermill": {
     "duration": 0.010262,
     "end_time": "2023-04-14T16:51:41.618914",
     "exception": false,
     "start_time": "2023-04-14T16:51:41.608652",
     "status": "completed"
    },
    "tags": []
   },
   "source": [
    "### CatBoost"
   ]
  },
  {
   "cell_type": "code",
   "execution_count": 22,
   "id": "27444ebf",
   "metadata": {
    "execution": {
     "iopub.execute_input": "2023-04-14T16:51:41.643364Z",
     "iopub.status.busy": "2023-04-14T16:51:41.641740Z",
     "iopub.status.idle": "2023-04-14T17:00:50.167511Z",
     "shell.execute_reply": "2023-04-14T17:00:50.166124Z"
    },
    "papermill": {
     "duration": 548.541732,
     "end_time": "2023-04-14T17:00:50.171207",
     "exception": false,
     "start_time": "2023-04-14T16:51:41.629475",
     "status": "completed"
    },
    "tags": []
   },
   "outputs": [],
   "source": [
    "f1_avg, f1_std = cross_val_multiclass(catboost, X_cv, y_cv)"
   ]
  },
  {
   "cell_type": "code",
   "execution_count": 23,
   "id": "2cc21379",
   "metadata": {
    "execution": {
     "iopub.execute_input": "2023-04-14T17:00:50.195833Z",
     "iopub.status.busy": "2023-04-14T17:00:50.194951Z",
     "iopub.status.idle": "2023-04-14T17:00:50.202122Z",
     "shell.execute_reply": "2023-04-14T17:00:50.200621Z"
    },
    "id": "BejHDqPz8H8O",
    "papermill": {
     "duration": 0.02201,
     "end_time": "2023-04-14T17:00:50.205135",
     "exception": false,
     "start_time": "2023-04-14T17:00:50.183125",
     "status": "completed"
    },
    "tags": []
   },
   "outputs": [
    {
     "name": "stdout",
     "output_type": "stream",
     "text": [
      "Avg: 0.4162848786318367, Std: 0.0022455761416318647\n"
     ]
    }
   ],
   "source": [
    "print(f'Avg: {f1_avg}, Std: {f1_std}')"
   ]
  },
  {
   "cell_type": "markdown",
   "id": "16e87d80",
   "metadata": {
    "papermill": {
     "duration": 0.0097,
     "end_time": "2023-04-14T17:00:50.225160",
     "exception": false,
     "start_time": "2023-04-14T17:00:50.215460",
     "status": "completed"
    },
    "tags": []
   },
   "source": [
    "### XGBoost"
   ]
  },
  {
   "cell_type": "code",
   "execution_count": 24,
   "id": "b000b7cc",
   "metadata": {
    "execution": {
     "iopub.execute_input": "2023-04-14T17:00:50.247785Z",
     "iopub.status.busy": "2023-04-14T17:00:50.246975Z",
     "iopub.status.idle": "2023-04-14T17:45:19.906279Z",
     "shell.execute_reply": "2023-04-14T17:45:19.905004Z"
    },
    "papermill": {
     "duration": 2669.673972,
     "end_time": "2023-04-14T17:45:19.909317",
     "exception": false,
     "start_time": "2023-04-14T17:00:50.235345",
     "status": "completed"
    },
    "tags": []
   },
   "outputs": [],
   "source": [
    "f1_avg, f1_std = cross_val_multiclass(xgboost, X_cv, y_cv)"
   ]
  },
  {
   "cell_type": "code",
   "execution_count": 25,
   "id": "cfef9096",
   "metadata": {
    "execution": {
     "iopub.execute_input": "2023-04-14T17:45:19.932664Z",
     "iopub.status.busy": "2023-04-14T17:45:19.932222Z",
     "iopub.status.idle": "2023-04-14T17:45:19.938469Z",
     "shell.execute_reply": "2023-04-14T17:45:19.937165Z"
    },
    "papermill": {
     "duration": 0.021467,
     "end_time": "2023-04-14T17:45:19.941646",
     "exception": false,
     "start_time": "2023-04-14T17:45:19.920179",
     "status": "completed"
    },
    "tags": []
   },
   "outputs": [
    {
     "name": "stdout",
     "output_type": "stream",
     "text": [
      "Avg: 0.40816311408500017, Std: 0.0024844580119386572\n"
     ]
    }
   ],
   "source": [
    "print(f'Avg: {f1_avg}, Std: {f1_std}')"
   ]
  }
 ],
 "metadata": {
  "kernelspec": {
   "display_name": "Python 3",
   "language": "python",
   "name": "python3"
  },
  "language_info": {
   "codemirror_mode": {
    "name": "ipython",
    "version": 3
   },
   "file_extension": ".py",
   "mimetype": "text/x-python",
   "name": "python",
   "nbconvert_exporter": "python",
   "pygments_lexer": "ipython3",
   "version": "3.7.12"
  },
  "papermill": {
   "default_parameters": {},
   "duration": 3947.012929,
   "end_time": "2023-04-14T17:45:21.186874",
   "environment_variables": {},
   "exception": null,
   "input_path": "__notebook__.ipynb",
   "output_path": "__notebook__.ipynb",
   "parameters": {},
   "start_time": "2023-04-14T16:39:34.173945",
   "version": "2.4.0"
  }
 },
 "nbformat": 4,
 "nbformat_minor": 5
}
