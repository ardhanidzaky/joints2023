{
 "cells": [
  {
   "cell_type": "code",
   "execution_count": 1,
   "id": "23fe0374",
   "metadata": {
    "execution": {
     "iopub.execute_input": "2023-04-15T09:59:20.333195Z",
     "iopub.status.busy": "2023-04-15T09:59:20.332664Z",
     "iopub.status.idle": "2023-04-15T09:59:44.297284Z",
     "shell.execute_reply": "2023-04-15T09:59:44.295477Z"
    },
    "id": "ZHzLtKjvf1qd",
    "outputId": "a5224770-6014-467d-cd0e-914dd65592a4",
    "papermill": {
     "duration": 23.981518,
     "end_time": "2023-04-15T09:59:44.300175",
     "exception": false,
     "start_time": "2023-04-15T09:59:20.318657",
     "status": "completed"
    },
    "tags": []
   },
   "outputs": [
    {
     "name": "stdout",
     "output_type": "stream",
     "text": [
      "\u001b[33mWARNING: Running pip as the 'root' user can result in broken permissions and conflicting behaviour with the system package manager. It is recommended to use a virtual environment instead: https://pip.pypa.io/warnings/venv\u001b[0m\u001b[33m\r\n",
      "\u001b[0m\u001b[33mWARNING: Running pip as the 'root' user can result in broken permissions and conflicting behaviour with the system package manager. It is recommended to use a virtual environment instead: https://pip.pypa.io/warnings/venv\u001b[0m\u001b[33m\r\n",
      "\u001b[0m"
     ]
    }
   ],
   "source": [
    "!pip install --q catboost\n",
    "!pip install --q cleanlab"
   ]
  },
  {
   "cell_type": "code",
   "execution_count": 2,
   "id": "de99220f",
   "metadata": {
    "execution": {
     "iopub.execute_input": "2023-04-15T09:59:44.325329Z",
     "iopub.status.busy": "2023-04-15T09:59:44.324884Z",
     "iopub.status.idle": "2023-04-15T09:59:47.586310Z",
     "shell.execute_reply": "2023-04-15T09:59:47.584952Z"
    },
    "id": "13I1WOMxdtnp",
    "papermill": {
     "duration": 3.277283,
     "end_time": "2023-04-15T09:59:47.589293",
     "exception": false,
     "start_time": "2023-04-15T09:59:44.312010",
     "status": "completed"
    },
    "tags": []
   },
   "outputs": [
    {
     "data": {
      "text/html": [
       "<style type='text/css'>\n",
       ".datatable table.frame { margin-bottom: 0; }\n",
       ".datatable table.frame thead { border-bottom: none; }\n",
       ".datatable table.frame tr.coltypes td {  color: #FFFFFF;  line-height: 6px;  padding: 0 0.5em;}\n",
       ".datatable .bool    { background: #DDDD99; }\n",
       ".datatable .object  { background: #565656; }\n",
       ".datatable .int     { background: #5D9E5D; }\n",
       ".datatable .float   { background: #4040CC; }\n",
       ".datatable .str     { background: #CC4040; }\n",
       ".datatable .time    { background: #40CC40; }\n",
       ".datatable .row_index {  background: var(--jp-border-color3);  border-right: 1px solid var(--jp-border-color0);  color: var(--jp-ui-font-color3);  font-size: 9px;}\n",
       ".datatable .frame tbody td { text-align: left; }\n",
       ".datatable .frame tr.coltypes .row_index {  background: var(--jp-border-color0);}\n",
       ".datatable th:nth-child(2) { padding-left: 12px; }\n",
       ".datatable .hellipsis {  color: var(--jp-cell-editor-border-color);}\n",
       ".datatable .vellipsis {  background: var(--jp-layout-color0);  color: var(--jp-cell-editor-border-color);}\n",
       ".datatable .na {  color: var(--jp-cell-editor-border-color);  font-size: 80%;}\n",
       ".datatable .sp {  opacity: 0.25;}\n",
       ".datatable .footer { font-size: 9px; }\n",
       ".datatable .frame_dimensions {  background: var(--jp-border-color3);  border-top: 1px solid var(--jp-border-color0);  color: var(--jp-ui-font-color3);  display: inline-block;  opacity: 0.6;  padding: 1px 10px 1px 5px;}\n",
       "</style>\n"
      ],
      "text/plain": [
       "<IPython.core.display.HTML object>"
      ]
     },
     "metadata": {},
     "output_type": "display_data"
    }
   ],
   "source": [
    "import pandas as pd\n",
    "import seaborn as sns\n",
    "import matplotlib.pyplot as plt\n",
    "import numpy as np\n",
    "import cleanlab\n",
    "import re\n",
    "\n",
    "from catboost import CatBoostClassifier\n",
    "from xgboost import XGBClassifier\n",
    "from lightgbm import LGBMClassifier\n",
    "\n",
    "from sklearn.linear_model import LogisticRegression\n",
    "from sklearn.model_selection import train_test_split, StratifiedKFold, cross_val_predict, KFold\n",
    "from sklearn.preprocessing import StandardScaler, OneHotEncoder, LabelEncoder\n",
    "from sklearn.compose import ColumnTransformer\n",
    "from sklearn.metrics import accuracy_score, recall_score, precision_score, f1_score, classification_report"
   ]
  },
  {
   "cell_type": "code",
   "execution_count": 3,
   "id": "fc0857c4",
   "metadata": {
    "execution": {
     "iopub.execute_input": "2023-04-15T09:59:47.613203Z",
     "iopub.status.busy": "2023-04-15T09:59:47.612774Z",
     "iopub.status.idle": "2023-04-15T09:59:47.618487Z",
     "shell.execute_reply": "2023-04-15T09:59:47.617269Z"
    },
    "papermill": {
     "duration": 0.020606,
     "end_time": "2023-04-15T09:59:47.621057",
     "exception": false,
     "start_time": "2023-04-15T09:59:47.600451",
     "status": "completed"
    },
    "tags": []
   },
   "outputs": [],
   "source": [
    "pd.options.mode.chained_assignment = None"
   ]
  },
  {
   "cell_type": "markdown",
   "id": "e5622723",
   "metadata": {
    "id": "RiwTOwsKeqMu",
    "papermill": {
     "duration": 0.012547,
     "end_time": "2023-04-15T09:59:47.644485",
     "exception": false,
     "start_time": "2023-04-15T09:59:47.631938",
     "status": "completed"
    },
    "tags": []
   },
   "source": [
    "# Constants"
   ]
  },
  {
   "cell_type": "code",
   "execution_count": 4,
   "id": "edf47c67",
   "metadata": {
    "execution": {
     "iopub.execute_input": "2023-04-15T09:59:47.668637Z",
     "iopub.status.busy": "2023-04-15T09:59:47.667954Z",
     "iopub.status.idle": "2023-04-15T09:59:47.674281Z",
     "shell.execute_reply": "2023-04-15T09:59:47.673241Z"
    },
    "id": "dg8O0ApberfB",
    "papermill": {
     "duration": 0.021451,
     "end_time": "2023-04-15T09:59:47.676841",
     "exception": false,
     "start_time": "2023-04-15T09:59:47.655390",
     "status": "completed"
    },
    "tags": []
   },
   "outputs": [],
   "source": [
    "wb_mapping = {\n",
    "    0: 'Unknown/not stated',\n",
    "    1: 'Clay',\n",
    "    2: 'Mortar + Cement',\n",
    "    3: 'Mortar + Cement, Clay',\n",
    "    5: 'Mud + Mortar, Clay',\n",
    "    7: 'Mud + Mortar, Clay, Cement + Mortar'\n",
    "}\n",
    "\n",
    "wm_mapping = {\n",
    "    0: 'Unknown/not stated',\n",
    "    1: 'Red Bricks',\n",
    "    2: 'Stone Bricks',\n",
    "    3: 'Red Bricks, Stone Bricks'\n",
    "}"
   ]
  },
  {
   "cell_type": "markdown",
   "id": "572f9958",
   "metadata": {
    "id": "oAZIPuR4dcwN",
    "papermill": {
     "duration": 0.010618,
     "end_time": "2023-04-15T09:59:47.698307",
     "exception": false,
     "start_time": "2023-04-15T09:59:47.687689",
     "status": "completed"
    },
    "tags": []
   },
   "source": [
    "# Pre-defined Function (Basic pre-processing)"
   ]
  },
  {
   "cell_type": "code",
   "execution_count": 5,
   "id": "6a28623e",
   "metadata": {
    "cellView": "form",
    "execution": {
     "iopub.execute_input": "2023-04-15T09:59:47.722293Z",
     "iopub.status.busy": "2023-04-15T09:59:47.721569Z",
     "iopub.status.idle": "2023-04-15T09:59:47.729749Z",
     "shell.execute_reply": "2023-04-15T09:59:47.728792Z"
    },
    "id": "DVsfP0ZmdZPG",
    "papermill": {
     "duration": 0.022948,
     "end_time": "2023-04-15T09:59:47.732117",
     "exception": false,
     "start_time": "2023-04-15T09:59:47.709169",
     "status": "completed"
    },
    "tags": []
   },
   "outputs": [],
   "source": [
    "#@title extract_num_floors\n",
    "def extract_num_floors(floor):\n",
    "    \"\"\"\n",
    "    This function extracts the number of floors from the 'floors_before_eq' column\n",
    "    and converts it to an integer. If the value is missing or cannot be converted\n",
    "    to an integer, it returns None.\n",
    "\n",
    "    Arguments:\n",
    "    - floor: The value in the 'floors_before_eq' column for a particular building\n",
    "\n",
    "    Returns:\n",
    "    - An integer representing the number of floors for the given building, or None\n",
    "      if the value is missing or cannot be converted to an integer.\n",
    "    \"\"\"\n",
    "    import re\n",
    "\n",
    "    if floor is None:\n",
    "        return None\n",
    "    else:\n",
    "        floor = str(floor)\n",
    "        floor = floor.lower()\n",
    "        if 'one' in floor or 'first' in floor or 'ground' in floor:\n",
    "            return 1\n",
    "        elif 'two' in floor or 'second' in floor:\n",
    "            return 2\n",
    "        elif 'three' in floor or 'third' in floor:\n",
    "            return 3\n",
    "        elif 'four' in floor or 'fourth' in floor:\n",
    "            return 4\n",
    "        elif 'five' in floor or 'fifth' in floor:\n",
    "            return 5\n",
    "        else:\n",
    "            floor = re.findall(r'\\d+', floor)\n",
    "            if len(floor) > 0:\n",
    "                return int(floor[0])\n",
    "            else:\n",
    "                return None"
   ]
  },
  {
   "cell_type": "code",
   "execution_count": 6,
   "id": "2903e144",
   "metadata": {
    "cellView": "form",
    "execution": {
     "iopub.execute_input": "2023-04-15T09:59:47.756489Z",
     "iopub.status.busy": "2023-04-15T09:59:47.755634Z",
     "iopub.status.idle": "2023-04-15T09:59:47.771084Z",
     "shell.execute_reply": "2023-04-15T09:59:47.769854Z"
    },
    "id": "ZXQSL2wbXpRl",
    "papermill": {
     "duration": 0.031178,
     "end_time": "2023-04-15T09:59:47.774314",
     "exception": false,
     "start_time": "2023-04-15T09:59:47.743136",
     "status": "completed"
    },
    "tags": []
   },
   "outputs": [],
   "source": [
    "#@title standardize_value\n",
    "def standardize_value(data):\n",
    "    \"\"\"\n",
    "    This function takes a pandas dataframe as input and returns a new pandas dataframe\n",
    "    where all the categorical values are standardized. For example, if 'RCC' and 'RC' \n",
    "    are used interchangeably in the 'foundation_type' column, this function will standardize \n",
    "    all the 'RCC' values to 'RC' to avoid any inconsistencies.\n",
    "    \"\"\"\n",
    "\n",
    "    # type_of_foundation\n",
    "    data['type_of_foundation'] = data['type_of_foundation'].replace('RC', 'Reinforced Concrete')\n",
    "    data['type_of_foundation'] = data['type_of_foundation'].replace(['Bamboo/TImber', 'Bamboo or Timber', 'Bamboo/Timber'], 'Bamboo/Timber')\n",
    "    data['type_of_foundation'] = data['type_of_foundation'].replace(['Other', 'Others'], 'Other')\n",
    "    data['type_of_foundation'] = data['type_of_foundation'].replace(['Cement-Stone/Brick', 'Cement-Stone or Cement-Brick'], 'Cement-Stone/Brick')\n",
    "    \n",
    "    # type_of_roof\n",
    "    data['type_of_roof'] = data['type_of_roof'].replace(['Bamboo/Timber Light roof', 'Bamboo/TImber-Light Roof', 'Bamboo or Timber Light roof'], 'Bamboo/Timber Light roof')\n",
    "    data['type_of_roof'] = data['type_of_roof'].replace(['Bamboo/Timber Heavy roof ', 'Bamboo/TImber-Heavy Roof', 'Bamboo or Timber Heavy roof'], 'Bamboo/Timber Heavy roof')\n",
    "    data['type_of_roof'] = data['type_of_roof'].replace(['reinforced cement concrete/rb/rbc', 'rcc/rb/rbc', 'Reinforced Brick Slab/rcc/rbc', 'Reinforced brick concrete/rcc/rbc'], 'rcc/rb/rbc')\n",
    "    \n",
    "    # type_of_ground_floor\n",
    "    data['type_of_ground_floor'] = data['type_of_ground_floor'].replace(['mud', 'Mud'], 'Mud')\n",
    "    data['type_of_ground_floor'] = data['type_of_ground_floor'].replace(['reinforced concrete', 'Reinforced Concrete', 'RC'], 'Reinforced Concrete ')\n",
    "    data['type_of_ground_floor'] = data['type_of_ground_floor'].replace(['Brick/Stone', 'brick/stone', 'Brick or Stone'], 'Brick/Stone')\n",
    "    data['type_of_ground_floor'] = data['type_of_ground_floor'].replace(['TImber', 'Timber', 'Wood', 'Lumber'], 'Wood')\n",
    "\n",
    "    # type_of_other_floor\n",
    "    data['type_of_other_floor'] = data['type_of_other_floor'].replace(['TImber/Bamboo-Mud', 'Timber Mud or Bamboo-Mud', 'Wood or Bamboo Mud'], 'Wood or Bamboo Mud')\n",
    "    data['type_of_other_floor'] = data['type_of_other_floor'].replace(['Timber-Planck', 'Lumber-plank', 'Wood-Plank'], 'Wood-Plank')\n",
    "    data['type_of_other_floor'] = data['type_of_other_floor'].replace(['rcc/rb/rbc', 'reinforced cement concrete/rb/rbc', 'Reinforced brick concrete/rcc/rbc'], 'rcc/rb/rbc')\n",
    "    data['type_of_other_floor'] = data['type_of_other_floor'].replace(['Wood or Bamboo Mud', 'Wood-Mud or Bamboo Mud'], 'Wood-Mud or Bamboo Mud ')\n",
    "\n",
    "    # legal_ownership_status\n",
    "    data['legal_ownership_status'] = data['legal_ownership_status'].replace(['Private', 'Private Use', 'Prvt', 'Privste'], 'Private')\n",
    "    data['legal_ownership_status'] = data['legal_ownership_status'].replace(['Public', 'Public Use', 'Public Space'], 'Public')\n",
    "    data['legal_ownership_status'] = data['legal_ownership_status'].replace(['Institutional', 'Institutional Use', 'Institutionals'], 'Institutional')\n",
    "    data['legal_ownership_status'] = data['legal_ownership_status'].replace(['Other', 'Unknown', 'Unspecified'], 'Other')\n",
    "\n",
    "    return data"
   ]
  },
  {
   "cell_type": "code",
   "execution_count": 7,
   "id": "a5a54f8d",
   "metadata": {
    "cellView": "form",
    "execution": {
     "iopub.execute_input": "2023-04-15T09:59:47.798439Z",
     "iopub.status.busy": "2023-04-15T09:59:47.798000Z",
     "iopub.status.idle": "2023-04-15T09:59:47.809496Z",
     "shell.execute_reply": "2023-04-15T09:59:47.808312Z"
    },
    "id": "ZHaRyzPnvA85",
    "papermill": {
     "duration": 0.026633,
     "end_time": "2023-04-15T09:59:47.812014",
     "exception": false,
     "start_time": "2023-04-15T09:59:47.785381",
     "status": "completed"
    },
    "tags": []
   },
   "outputs": [],
   "source": [
    "#@title find_label_issue_train\n",
    "def find_label_issue_train(data):\n",
    "    \"\"\"\n",
    "    Find label errors in the training data using the Confident Learning framework.\n",
    "\n",
    "    Arguments:\n",
    "    - data: A pandas DataFrame containing the training data.\n",
    "\n",
    "    Returns:\n",
    "    - A list of indices of examples in the training data that are likely to have label errors.\n",
    "\n",
    "    References: \n",
    "    \"\"\"\n",
    "    # Step 1: Apply a machine learning model to the training data to obtain predicted labels.\n",
    "    # This model should be trained using standard techniques and should not take into account the issue of label errors.\n",
    "    # Here, we assume that the model is already trained and is available for use.\n",
    "\n",
    "    # Step 2: Compute the empirical distribution of the predicted labels.\n",
    "    # This distribution will be used later to estimate the noise distribution.\n",
    "\n",
    "    # Step 3: Compute the joint distribution of the predicted labels and the true labels.\n",
    "    # This distribution can be estimated using the empirical distribution of the predicted labels and an estimate of the noise distribution.\n",
    "\n",
    "    # Step 4: Rank the examples in the training data by their likelihood of being mislabeled.\n",
    "    # This can be done by computing the conditional probability of the true label given the predicted label.\n",
    "\n",
    "    # Step 5: Identify examples that are likely to be mislabeled.\n",
    "    # This can be done by selecting examples with low confidence and high probability of being mislabeled.\n",
    "\n",
    "    # Step 6: Return the indices of the examples that are likely to be mislabeled.\n",
    "    # These examples can be further examined to determine if they are indeed mislabeled, and corrected if necessary.\n",
    "    # Alternatively, they can be removed from the training data to improve the performance of the machine learning model.\n",
    "\n",
    "    X = data[data.columns.difference(['damage_grade'])]\n",
    "    y = data['damage_grade']\n",
    "\n",
    "    numerical_cols = X.select_dtypes(include=['int64', 'float64']).columns.tolist()\n",
    "    categorical_cols = X.select_dtypes(include=['object']).columns.tolist()\n",
    "\n",
    "    numerical_transformer = StandardScaler()\n",
    "    categorical_transformer = OneHotEncoder(sparse=False)\n",
    "\n",
    "    preprocessor = ColumnTransformer(\n",
    "        transformers=[\n",
    "            ('num', numerical_transformer, numerical_cols),\n",
    "            ('cat', categorical_transformer, categorical_cols)\n",
    "        ])\n",
    "\n",
    "    X = preprocessor.fit_transform(X)\n",
    "\n",
    "    label_encoder = LabelEncoder()\n",
    "    y = label_encoder.fit_transform(y)\n",
    "\n",
    "    model = XGBClassifier(tree_method=\"hist\", enable_categorical=True)\n",
    "    pred_probs = cross_val_predict(model, X, y, method='predict_proba')\n",
    "\n",
    "    cl_issue_idx = cleanlab.filter.find_label_issues(y, pred_probs, return_indices_ranked_by='self_confidence')\n",
    "    \n",
    "    selected_rows = data.iloc[cl_issue_idx]\n",
    "    inverted_selection = data[~data.index.isin(cl_issue_idx)]\n",
    "\n",
    "    return inverted_selection"
   ]
  },
  {
   "cell_type": "code",
   "execution_count": 8,
   "id": "aa1040df",
   "metadata": {
    "cellView": "form",
    "execution": {
     "iopub.execute_input": "2023-04-15T09:59:47.836633Z",
     "iopub.status.busy": "2023-04-15T09:59:47.836173Z",
     "iopub.status.idle": "2023-04-15T09:59:47.846473Z",
     "shell.execute_reply": "2023-04-15T09:59:47.845203Z"
    },
    "id": "zG4AwLU0eMhw",
    "papermill": {
     "duration": 0.025259,
     "end_time": "2023-04-15T09:59:47.848734",
     "exception": false,
     "start_time": "2023-04-15T09:59:47.823475",
     "status": "completed"
    },
    "tags": []
   },
   "outputs": [],
   "source": [
    "#@title complete_pipeline\n",
    "def complete_pipeline(data):\n",
    "    \"\"\"\n",
    "    This function takes a pandas dataframe as input, processes it through\n",
    "    various steps including missing value imputation, feature engineering,\n",
    "    and standardization, and returns the processed dataframe ready for\n",
    "    machine learning modeling. The function is designed to handle both\n",
    "    training and testing data by distinguishing between them based on the\n",
    "    presence of the 'damage_grade' column.\n",
    "    \"\"\"\n",
    "\n",
    "    # floors_before_eq (total)\n",
    "    data['floors_before_eq (total)'] = data['floors_before_eq (total)'].apply(lambda x: extract_num_floors(x))\n",
    "\n",
    "    # missing value\n",
    "    data = data[data['floors_before_eq (total)'].notna()]\n",
    "    data = data[data['plinth_area (ft^2)'].notna()]\n",
    "    data['technical_solution_proposed'] = data['technical_solution_proposed'].fillna('Unspecified')\n",
    "\n",
    "    # replace and lambda\n",
    "    data['plinth_area (ft^2)'] = data['plinth_area (ft^2)'].str.extract('(\\d+)').astype(float)\n",
    "    \n",
    "    data['no_family_residing'] = data['no_family_residing'].replace('None', 0).astype(float)\n",
    "    data['wall_binding'] = data['wall_binding'].replace(wb_mapping)\n",
    "    data['wall_material'] = data['wall_material'].replace(wm_mapping)\n",
    "\n",
    "    # data['type_of_reinforcement_concrete'] = data['type_of_reinforcement_concrete'].apply(lambda x: f'Type: {str(x)}')\n",
    "    \n",
    "    # value standardization\n",
    "    data = standardize_value(data)\n",
    "\n",
    "    # same group of features, different label\n",
    "    data = data.groupby(list(data.columns.difference(['damage_grade']))).filter(lambda x: len(set(x['damage_grade'])) == 1)\n",
    "\n",
    "    # label issue in train data\n",
    "    data = data.reset_index()\n",
    "    data.drop(['index'], axis=1, inplace=True)\n",
    "    data = find_label_issue_train(data)\n",
    "    \n",
    "    return data"
   ]
  },
  {
   "cell_type": "code",
   "execution_count": 9,
   "id": "a12aa323",
   "metadata": {
    "cellView": "form",
    "execution": {
     "iopub.execute_input": "2023-04-15T09:59:47.873254Z",
     "iopub.status.busy": "2023-04-15T09:59:47.872580Z",
     "iopub.status.idle": "2023-04-15T09:59:47.880832Z",
     "shell.execute_reply": "2023-04-15T09:59:47.879957Z"
    },
    "id": "jLW6Gqys6mzF",
    "papermill": {
     "duration": 0.023339,
     "end_time": "2023-04-15T09:59:47.883327",
     "exception": false,
     "start_time": "2023-04-15T09:59:47.859988",
     "status": "completed"
    },
    "tags": []
   },
   "outputs": [],
   "source": [
    "#@title complete_pipeline_test\n",
    "def complete_pipeline_test(data):\n",
    "    \"\"\"\n",
    "    This function takes a pandas dataframe as input, processes it through\n",
    "    various steps including missing value imputation, feature engineering,\n",
    "    and standardization, and returns the processed dataframe ready for\n",
    "    machine learning modeling. The function is designed to handle both\n",
    "    training and testing data by distinguishing between them based on the\n",
    "    presence of the 'damage_grade' column.\n",
    "    \"\"\"\n",
    "    \n",
    "    data['floors_before_eq (total)'] = data['floors_before_eq (total)'].apply(lambda x: extract_num_floors(x))\n",
    "\n",
    "    # others\n",
    "    data['plinth_area (ft^2)'] = data['plinth_area (ft^2)'].str.extract('(\\d+)').astype(float)\n",
    "    \n",
    "    data['no_family_residing'] = data['no_family_residing'].replace('None', 0).astype(float)\n",
    "    data['wall_binding'] = data['wall_binding'].replace(wb_mapping)\n",
    "    data['wall_material'] = data['wall_material'].replace(wm_mapping)\n",
    "    \n",
    "    data['type_of_reinforcement_concrete'] = data['type_of_reinforcement_concrete'].apply(lambda x: f'Type: {str(float(x))}')\n",
    "\n",
    "    # value standardization\n",
    "    data = standardize_value(data)\n",
    "    \n",
    "    return data"
   ]
  },
  {
   "cell_type": "code",
   "execution_count": 10,
   "id": "a61e61fb",
   "metadata": {
    "cellView": "form",
    "execution": {
     "iopub.execute_input": "2023-04-15T09:59:47.907852Z",
     "iopub.status.busy": "2023-04-15T09:59:47.907242Z",
     "iopub.status.idle": "2023-04-15T09:59:47.914296Z",
     "shell.execute_reply": "2023-04-15T09:59:47.913350Z"
    },
    "id": "M-iZTblLJ2X9",
    "papermill": {
     "duration": 0.022219,
     "end_time": "2023-04-15T09:59:47.916691",
     "exception": false,
     "start_time": "2023-04-15T09:59:47.894472",
     "status": "completed"
    },
    "tags": []
   },
   "outputs": [],
   "source": [
    "#@title cross_val_multiclass\n",
    "def cross_val_multiclass(model, X, y, num_folds=5):\n",
    "    from sklearn.model_selection import KFold, cross_val_score\n",
    "    from sklearn.metrics import f1_score\n",
    "    import numpy as np\n",
    "\n",
    "    kf = KFold(n_splits=num_folds, shuffle=True, random_state=42)\n",
    "    f1_scores = []\n",
    "    for train_idx, test_idx in kf.split(X):\n",
    "        X_train, X_test = X[train_idx], X[test_idx]\n",
    "        y_train, y_test = y[train_idx], y[test_idx]\n",
    "        model.fit(X_train, y_train, verbose=0)\n",
    "        y_pred = model.predict(X_test)\n",
    "        f1_scores.append(f1_score(y_test, y_pred, average='macro'))\n",
    "    return np.mean(f1_scores), np.std(f1_scores)"
   ]
  },
  {
   "cell_type": "code",
   "execution_count": 11,
   "id": "9e779983",
   "metadata": {
    "cellView": "form",
    "execution": {
     "iopub.execute_input": "2023-04-15T09:59:47.941666Z",
     "iopub.status.busy": "2023-04-15T09:59:47.940874Z",
     "iopub.status.idle": "2023-04-15T09:59:47.949211Z",
     "shell.execute_reply": "2023-04-15T09:59:47.947684Z"
    },
    "id": "wkje0UzBJ8TJ",
    "papermill": {
     "duration": 0.023946,
     "end_time": "2023-04-15T09:59:47.952062",
     "exception": false,
     "start_time": "2023-04-15T09:59:47.928116",
     "status": "completed"
    },
    "tags": []
   },
   "outputs": [],
   "source": [
    "#@title categorical_correlation\n",
    "def categorical_correlation(var1, var2):\n",
    "    import scipy.stats as stats\n",
    "\n",
    "    contingency_table = pd.crosstab(var1, var2)\n",
    "  \n",
    "    chi2, p, dof, expected = stats.chi2_contingency(contingency_table)\n",
    "    \n",
    "    n = contingency_table.sum().sum()\n",
    "    phi2 = chi2/n\n",
    "    r, k = contingency_table.shape\n",
    "    phi2corr = max(0, phi2 - ((k-1)*(r-1))/(n-1))\n",
    "    rcorr = r - ((r-1)**2)/(n-1)\n",
    "    kcorr = k - ((k-1)**2)/(n-1)\n",
    "    V = np.sqrt(phi2corr / min((kcorr-1), (rcorr-1)))\n",
    "    \n",
    "    return {\"Chi-squared test\": {\"test statistic\": chi2, \"p-value\": p}, \"Cramer's V\": V}"
   ]
  },
  {
   "cell_type": "markdown",
   "id": "b34e4490",
   "metadata": {
    "id": "ldT1thHxg2Oh",
    "papermill": {
     "duration": 0.010813,
     "end_time": "2023-04-15T09:59:47.974422",
     "exception": false,
     "start_time": "2023-04-15T09:59:47.963609",
     "status": "completed"
    },
    "tags": []
   },
   "source": [
    "# Training Flow"
   ]
  },
  {
   "cell_type": "code",
   "execution_count": 12,
   "id": "9c99789a",
   "metadata": {
    "execution": {
     "iopub.execute_input": "2023-04-15T09:59:47.999063Z",
     "iopub.status.busy": "2023-04-15T09:59:47.998018Z",
     "iopub.status.idle": "2023-04-15T10:03:18.275294Z",
     "shell.execute_reply": "2023-04-15T10:03:18.273508Z"
    },
    "id": "IA7Mmlo-g5my",
    "outputId": "b61943de-cce7-4e2d-df8e-db6be9b04b97",
    "papermill": {
     "duration": 210.293193,
     "end_time": "2023-04-15T10:03:18.278713",
     "exception": false,
     "start_time": "2023-04-15T09:59:47.985520",
     "status": "completed"
    },
    "tags": []
   },
   "outputs": [
    {
     "name": "stderr",
     "output_type": "stream",
     "text": [
      "/opt/conda/lib/python3.7/site-packages/IPython/core/interactiveshell.py:3553: DtypeWarning: Columns (1,3,5,6,7,8,9,10,11,12,13,16,17,19,20) have mixed types.Specify dtype option on import or set low_memory=False.\n",
      "  exec(code_obj, self.user_global_ns, self.user_ns)\n"
     ]
    }
   ],
   "source": [
    "train = pd.read_csv('/kaggle/input/jointsugm/train.csv')\n",
    "train.drop(['Unnamed: 0'], axis=1, inplace=True)\n",
    "\n",
    "train = complete_pipeline(train)\n",
    "train = train.reset_index()\n",
    "train.drop(['index', 'technical_solution_proposed'], axis=1, inplace=True)"
   ]
  },
  {
   "cell_type": "code",
   "execution_count": 13,
   "id": "6cef3ff9",
   "metadata": {
    "execution": {
     "iopub.execute_input": "2023-04-15T10:03:18.305024Z",
     "iopub.status.busy": "2023-04-15T10:03:18.303478Z",
     "iopub.status.idle": "2023-04-15T10:03:18.465355Z",
     "shell.execute_reply": "2023-04-15T10:03:18.464039Z"
    },
    "papermill": {
     "duration": 0.177946,
     "end_time": "2023-04-15T10:03:18.468234",
     "exception": false,
     "start_time": "2023-04-15T10:03:18.290288",
     "status": "completed"
    },
    "tags": []
   },
   "outputs": [
    {
     "name": "stdout",
     "output_type": "stream",
     "text": [
      "<class 'pandas.core.frame.DataFrame'>\n",
      "RangeIndex: 193502 entries, 0 to 193501\n",
      "Data columns (total 23 columns):\n",
      " #   Column                          Non-Null Count   Dtype  \n",
      "---  ------                          --------------   -----  \n",
      " 0   floors_before_eq (total)        193502 non-null  float64\n",
      " 1   old_building                    193502 non-null  float64\n",
      " 2   plinth_area (ft^2)              193502 non-null  float64\n",
      " 3   height_before_eq (ft)           193502 non-null  float64\n",
      " 4   land_surface_condition          193502 non-null  object \n",
      " 5   type_of_foundation              193502 non-null  object \n",
      " 6   type_of_roof                    193502 non-null  object \n",
      " 7   type_of_ground_floor            193502 non-null  object \n",
      " 8   type_of_other_floor             193502 non-null  object \n",
      " 9   position                        193502 non-null  object \n",
      " 10  building_plan_configuration     193502 non-null  object \n",
      " 11  legal_ownership_status          193502 non-null  object \n",
      " 12  has_secondary_use               193502 non-null  float64\n",
      " 13  type_of_reinforcement_concrete  193502 non-null  float64\n",
      " 14  residential_type                193502 non-null  object \n",
      " 15  no_family_residing              193502 non-null  float64\n",
      " 16  public_place_type               193502 non-null  object \n",
      " 17  industrial_use_type             193502 non-null  object \n",
      " 18  govermental_use_type            193502 non-null  object \n",
      " 19  flexible_superstructure         193502 non-null  object \n",
      " 20  wall_binding                    193502 non-null  object \n",
      " 21  wall_material                   193502 non-null  object \n",
      " 22  damage_grade                    193502 non-null  float64\n",
      "dtypes: float64(8), object(15)\n",
      "memory usage: 34.0+ MB\n"
     ]
    }
   ],
   "source": [
    "train.info()"
   ]
  },
  {
   "cell_type": "code",
   "execution_count": 14,
   "id": "f2a7db98",
   "metadata": {
    "execution": {
     "iopub.execute_input": "2023-04-15T10:03:18.493147Z",
     "iopub.status.busy": "2023-04-15T10:03:18.491995Z",
     "iopub.status.idle": "2023-04-15T10:03:18.528068Z",
     "shell.execute_reply": "2023-04-15T10:03:18.526778Z"
    },
    "papermill": {
     "duration": 0.051538,
     "end_time": "2023-04-15T10:03:18.531064",
     "exception": false,
     "start_time": "2023-04-15T10:03:18.479526",
     "status": "completed"
    },
    "tags": []
   },
   "outputs": [],
   "source": [
    "train.drop(['building_plan_configuration', 'legal_ownership_status', 'type_of_reinforcement_concrete',\n",
    "           'residential_type', 'public_place_type', 'industrial_use_type', 'govermental_use_type', 'flexible_superstructure'], axis=1, inplace=True)"
   ]
  },
  {
   "cell_type": "code",
   "execution_count": 15,
   "id": "bf71f5df",
   "metadata": {
    "execution": {
     "iopub.execute_input": "2023-04-15T10:03:18.555996Z",
     "iopub.status.busy": "2023-04-15T10:03:18.554905Z",
     "iopub.status.idle": "2023-04-15T10:03:18.565428Z",
     "shell.execute_reply": "2023-04-15T10:03:18.564498Z"
    },
    "id": "bQmhjQJvLJjw",
    "papermill": {
     "duration": 0.025474,
     "end_time": "2023-04-15T10:03:18.567845",
     "exception": false,
     "start_time": "2023-04-15T10:03:18.542371",
     "status": "completed"
    },
    "tags": []
   },
   "outputs": [],
   "source": [
    "train['total_building_area (ft^2)'] = train['plinth_area (ft^2)'] * train['height_before_eq (ft)']\n",
    "train['area_to_height_ratio'] = train['plinth_area (ft^2)'] / train['height_before_eq (ft)']\n",
    "train['height per floor (ft)'] = train['height_before_eq (ft)'] / train['floors_before_eq (total)']"
   ]
  },
  {
   "cell_type": "code",
   "execution_count": 16,
   "id": "5236728f",
   "metadata": {
    "execution": {
     "iopub.execute_input": "2023-04-15T10:03:18.592280Z",
     "iopub.status.busy": "2023-04-15T10:03:18.591475Z",
     "iopub.status.idle": "2023-04-15T10:03:18.599691Z",
     "shell.execute_reply": "2023-04-15T10:03:18.598645Z"
    },
    "papermill": {
     "duration": 0.023033,
     "end_time": "2023-04-15T10:03:18.602001",
     "exception": false,
     "start_time": "2023-04-15T10:03:18.578968",
     "status": "completed"
    },
    "tags": []
   },
   "outputs": [],
   "source": [
    "train['gross_floor_area'] = train['plinth_area (ft^2)'] * train['floors_before_eq (total)']\n",
    "train['floor_area_ratio'] = train['total_building_area (ft^2)'] / train['gross_floor_area']"
   ]
  },
  {
   "cell_type": "code",
   "execution_count": 17,
   "id": "14ea0c63",
   "metadata": {
    "execution": {
     "iopub.execute_input": "2023-04-15T10:03:18.626421Z",
     "iopub.status.busy": "2023-04-15T10:03:18.625959Z",
     "iopub.status.idle": "2023-04-15T10:03:18.702830Z",
     "shell.execute_reply": "2023-04-15T10:03:18.701467Z"
    },
    "papermill": {
     "duration": 0.092702,
     "end_time": "2023-04-15T10:03:18.705991",
     "exception": false,
     "start_time": "2023-04-15T10:03:18.613289",
     "status": "completed"
    },
    "tags": []
   },
   "outputs": [],
   "source": [
    "train = train[train['height per floor (ft)'] <= 15]\n",
    "train = train.reset_index()\n",
    "train.drop(['index'], axis=1, inplace=True)"
   ]
  },
  {
   "cell_type": "code",
   "execution_count": 18,
   "id": "ad43f40a",
   "metadata": {
    "execution": {
     "iopub.execute_input": "2023-04-15T10:03:18.730737Z",
     "iopub.status.busy": "2023-04-15T10:03:18.730308Z",
     "iopub.status.idle": "2023-04-15T10:03:48.824787Z",
     "shell.execute_reply": "2023-04-15T10:03:48.823465Z"
    },
    "papermill": {
     "duration": 30.118691,
     "end_time": "2023-04-15T10:03:48.836366",
     "exception": false,
     "start_time": "2023-04-15T10:03:18.717675",
     "status": "completed"
    },
    "tags": []
   },
   "outputs": [
    {
     "data": {
      "text/plain": [
       "(190900, 20)"
      ]
     },
     "execution_count": 18,
     "metadata": {},
     "output_type": "execute_result"
    }
   ],
   "source": [
    "train = train.groupby(list(train.columns.difference(['damage_grade']))).filter(lambda x: len(set(x['damage_grade'])) == 1)\n",
    "train.shape"
   ]
  },
  {
   "cell_type": "code",
   "execution_count": 19,
   "id": "a5975676",
   "metadata": {
    "execution": {
     "iopub.execute_input": "2023-04-15T10:03:48.861118Z",
     "iopub.status.busy": "2023-04-15T10:03:48.860454Z",
     "iopub.status.idle": "2023-04-15T10:03:48.902367Z",
     "shell.execute_reply": "2023-04-15T10:03:48.901413Z"
    },
    "papermill": {
     "duration": 0.057993,
     "end_time": "2023-04-15T10:03:48.905438",
     "exception": false,
     "start_time": "2023-04-15T10:03:48.847445",
     "status": "completed"
    },
    "tags": []
   },
   "outputs": [],
   "source": [
    "train = train.reset_index()\n",
    "train.drop(['index'], axis=1, inplace=True)"
   ]
  },
  {
   "cell_type": "code",
   "execution_count": 20,
   "id": "89a949cd",
   "metadata": {
    "execution": {
     "iopub.execute_input": "2023-04-15T10:03:48.932349Z",
     "iopub.status.busy": "2023-04-15T10:03:48.931361Z",
     "iopub.status.idle": "2023-04-15T10:04:55.450838Z",
     "shell.execute_reply": "2023-04-15T10:04:55.449278Z"
    },
    "papermill": {
     "duration": 66.5456,
     "end_time": "2023-04-15T10:04:55.464311",
     "exception": false,
     "start_time": "2023-04-15T10:03:48.918711",
     "status": "completed"
    },
    "tags": []
   },
   "outputs": [
    {
     "data": {
      "text/plain": [
       "(152061, 20)"
      ]
     },
     "execution_count": 20,
     "metadata": {},
     "output_type": "execute_result"
    }
   ],
   "source": [
    "train = find_label_issue_train(train)\n",
    "train = train.reset_index()\n",
    "train.drop(['index'], axis=1, inplace=True)\n",
    "train.shape"
   ]
  },
  {
   "cell_type": "markdown",
   "id": "f89150c6",
   "metadata": {
    "id": "UtuwcJBXhWu1",
    "papermill": {
     "duration": 0.01085,
     "end_time": "2023-04-15T10:04:55.486281",
     "exception": false,
     "start_time": "2023-04-15T10:04:55.475431",
     "status": "completed"
    },
    "tags": []
   },
   "source": [
    "# Modeling"
   ]
  },
  {
   "cell_type": "code",
   "execution_count": 21,
   "id": "1f1dbfd4",
   "metadata": {
    "execution": {
     "iopub.execute_input": "2023-04-15T10:04:55.511533Z",
     "iopub.status.busy": "2023-04-15T10:04:55.510794Z",
     "iopub.status.idle": "2023-04-15T10:04:56.138065Z",
     "shell.execute_reply": "2023-04-15T10:04:56.136894Z"
    },
    "id": "SJAYUY5qZlK_",
    "papermill": {
     "duration": 0.643203,
     "end_time": "2023-04-15T10:04:56.140712",
     "exception": false,
     "start_time": "2023-04-15T10:04:55.497509",
     "status": "completed"
    },
    "tags": []
   },
   "outputs": [],
   "source": [
    "X = train[train.columns.difference(['damage_grade'])]\n",
    "y = train['damage_grade']\n",
    "\n",
    "numerical_cols = X.select_dtypes(include=['int64', 'float64']).columns.tolist()\n",
    "categorical_cols = X.select_dtypes(include=['object']).columns.tolist()\n",
    "\n",
    "numerical_transformer = StandardScaler()\n",
    "categorical_transformer = OneHotEncoder(sparse=False)\n",
    "\n",
    "preprocessor = ColumnTransformer(\n",
    "    transformers=[\n",
    "        ('num', numerical_transformer, numerical_cols),\n",
    "        ('cat', categorical_transformer, categorical_cols)\n",
    "    ])\n",
    "\n",
    "X = preprocessor.fit_transform(X)\n",
    "\n",
    "label_encoder = LabelEncoder()\n",
    "y = label_encoder.fit_transform(y)"
   ]
  },
  {
   "cell_type": "code",
   "execution_count": 22,
   "id": "aed9314d",
   "metadata": {
    "execution": {
     "iopub.execute_input": "2023-04-15T10:04:56.166524Z",
     "iopub.status.busy": "2023-04-15T10:04:56.165609Z",
     "iopub.status.idle": "2023-04-15T10:04:56.286015Z",
     "shell.execute_reply": "2023-04-15T10:04:56.284740Z"
    },
    "id": "KvXY5_ZYh1g2",
    "papermill": {
     "duration": 0.137225,
     "end_time": "2023-04-15T10:04:56.289605",
     "exception": false,
     "start_time": "2023-04-15T10:04:56.152380",
     "status": "completed"
    },
    "tags": []
   },
   "outputs": [],
   "source": [
    "# Create train-validation-test split with stratification\n",
    "X_train, X_val, y_train, y_val = train_test_split(X, y, train_size=0.6, random_state=42, stratify=y)\n",
    "X_val, X_test, y_val, y_test = train_test_split(X_val, y_val, test_size=0.5, random_state=42, stratify=y_val)"
   ]
  },
  {
   "cell_type": "markdown",
   "id": "735fac42",
   "metadata": {
    "id": "zK1N9xBWY3hY",
    "papermill": {
     "duration": 0.011124,
     "end_time": "2023-04-15T10:04:56.312161",
     "exception": false,
     "start_time": "2023-04-15T10:04:56.301037",
     "status": "completed"
    },
    "tags": []
   },
   "source": [
    "## Manual"
   ]
  },
  {
   "cell_type": "markdown",
   "id": "677760a4",
   "metadata": {
    "papermill": {
     "duration": 0.011009,
     "end_time": "2023-04-15T10:04:56.334662",
     "exception": false,
     "start_time": "2023-04-15T10:04:56.323653",
     "status": "completed"
    },
    "tags": []
   },
   "source": [
    "### LightGBM"
   ]
  },
  {
   "cell_type": "code",
   "execution_count": 23,
   "id": "b6f10abd",
   "metadata": {
    "execution": {
     "iopub.execute_input": "2023-04-15T10:04:56.359515Z",
     "iopub.status.busy": "2023-04-15T10:04:56.359113Z",
     "iopub.status.idle": "2023-04-15T10:05:03.626163Z",
     "shell.execute_reply": "2023-04-15T10:05:03.624962Z"
    },
    "papermill": {
     "duration": 7.282868,
     "end_time": "2023-04-15T10:05:03.628855",
     "exception": false,
     "start_time": "2023-04-15T10:04:56.345987",
     "status": "completed"
    },
    "tags": []
   },
   "outputs": [
    {
     "name": "stderr",
     "output_type": "stream",
     "text": [
      "/opt/conda/lib/python3.7/site-packages/lightgbm/sklearn.py:736: UserWarning: 'verbose' argument is deprecated and will be removed in a future release of LightGBM. Pass 'log_evaluation()' callback via 'callbacks' argument instead.\n",
      "  _log_warning(\"'verbose' argument is deprecated and will be removed in a future release of LightGBM. \"\n"
     ]
    },
    {
     "data": {
      "text/plain": [
       "LGBMClassifier()"
      ]
     },
     "execution_count": 23,
     "metadata": {},
     "output_type": "execute_result"
    }
   ],
   "source": [
    "lgbm = LGBMClassifier()\n",
    "lgbm.fit(X_train, y_train, verbose=0, eval_set=(X_val, y_val))"
   ]
  },
  {
   "cell_type": "code",
   "execution_count": 24,
   "id": "e31f9f3c",
   "metadata": {
    "execution": {
     "iopub.execute_input": "2023-04-15T10:05:03.654057Z",
     "iopub.status.busy": "2023-04-15T10:05:03.653660Z",
     "iopub.status.idle": "2023-04-15T10:05:04.112001Z",
     "shell.execute_reply": "2023-04-15T10:05:04.110792Z"
    },
    "papermill": {
     "duration": 0.473945,
     "end_time": "2023-04-15T10:05:04.114458",
     "exception": false,
     "start_time": "2023-04-15T10:05:03.640513",
     "status": "completed"
    },
    "tags": []
   },
   "outputs": [
    {
     "name": "stdout",
     "output_type": "stream",
     "text": [
      "              precision    recall  f1-score   support\n",
      "\n",
      "           1       0.92      0.95      0.93      3800\n",
      "           2       0.77      0.43      0.55      1590\n",
      "           3       0.72      0.49      0.58      2739\n",
      "           4       0.73      0.62      0.67      5046\n",
      "           5       0.84      0.94      0.89     17237\n",
      "\n",
      "    accuracy                           0.82     30412\n",
      "   macro avg       0.80      0.69      0.72     30412\n",
      "weighted avg       0.81      0.82      0.81     30412\n",
      "\n"
     ]
    }
   ],
   "source": [
    "y_val_pred = lgbm.predict(X_val)\n",
    "print(classification_report(y_val, y_val_pred, target_names=['1', '2', '3', '4', '5']))"
   ]
  },
  {
   "cell_type": "markdown",
   "id": "fdabd28a",
   "metadata": {
    "papermill": {
     "duration": 0.011538,
     "end_time": "2023-04-15T10:05:04.138417",
     "exception": false,
     "start_time": "2023-04-15T10:05:04.126879",
     "status": "completed"
    },
    "tags": []
   },
   "source": [
    "### CatBoost"
   ]
  },
  {
   "cell_type": "code",
   "execution_count": 25,
   "id": "80626b99",
   "metadata": {
    "execution": {
     "iopub.execute_input": "2023-04-15T10:05:04.163338Z",
     "iopub.status.busy": "2023-04-15T10:05:04.162906Z",
     "iopub.status.idle": "2023-04-15T10:05:56.383490Z",
     "shell.execute_reply": "2023-04-15T10:05:56.382187Z"
    },
    "id": "BTP_rGu_hEHu",
    "papermill": {
     "duration": 52.247259,
     "end_time": "2023-04-15T10:05:56.397169",
     "exception": false,
     "start_time": "2023-04-15T10:05:04.149910",
     "status": "completed"
    },
    "tags": []
   },
   "outputs": [
    {
     "data": {
      "text/plain": [
       "<catboost.core.CatBoostClassifier at 0x748d8f2961d0>"
      ]
     },
     "execution_count": 25,
     "metadata": {},
     "output_type": "execute_result"
    }
   ],
   "source": [
    "catboost = CatBoostClassifier()\n",
    "catboost.fit(X_train, y_train, verbose=0, eval_set=(X_val, y_val))"
   ]
  },
  {
   "cell_type": "code",
   "execution_count": 26,
   "id": "9b921397",
   "metadata": {
    "execution": {
     "iopub.execute_input": "2023-04-15T10:05:56.422205Z",
     "iopub.status.busy": "2023-04-15T10:05:56.421812Z",
     "iopub.status.idle": "2023-04-15T10:05:57.125785Z",
     "shell.execute_reply": "2023-04-15T10:05:57.124574Z"
    },
    "id": "iFPop-woRuhu",
    "papermill": {
     "duration": 0.719601,
     "end_time": "2023-04-15T10:05:57.128245",
     "exception": false,
     "start_time": "2023-04-15T10:05:56.408644",
     "status": "completed"
    },
    "tags": []
   },
   "outputs": [
    {
     "name": "stdout",
     "output_type": "stream",
     "text": [
      "              precision    recall  f1-score   support\n",
      "\n",
      "           1       0.92      0.94      0.93      3800\n",
      "           2       0.73      0.44      0.55      1590\n",
      "           3       0.71      0.54      0.61      2739\n",
      "           4       0.74      0.64      0.68      5046\n",
      "           5       0.85      0.94      0.89     17237\n",
      "\n",
      "    accuracy                           0.83     30412\n",
      "   macro avg       0.79      0.70      0.73     30412\n",
      "weighted avg       0.82      0.83      0.82     30412\n",
      "\n"
     ]
    }
   ],
   "source": [
    "y_val_pred = catboost.predict(X_val)\n",
    "print(classification_report(y_val, y_val_pred, target_names=['1', '2', '3', '4', '5']))"
   ]
  },
  {
   "cell_type": "markdown",
   "id": "e9ebf737",
   "metadata": {
    "papermill": {
     "duration": 0.011934,
     "end_time": "2023-04-15T10:05:57.152016",
     "exception": false,
     "start_time": "2023-04-15T10:05:57.140082",
     "status": "completed"
    },
    "tags": []
   },
   "source": [
    "### XGBoost"
   ]
  },
  {
   "cell_type": "code",
   "execution_count": 27,
   "id": "334f29fb",
   "metadata": {
    "execution": {
     "iopub.execute_input": "2023-04-15T10:05:57.177437Z",
     "iopub.status.busy": "2023-04-15T10:05:57.176952Z",
     "iopub.status.idle": "2023-04-15T10:08:16.990711Z",
     "shell.execute_reply": "2023-04-15T10:08:16.989605Z"
    },
    "id": "ot3w4aJ9iBth",
    "papermill": {
     "duration": 139.841591,
     "end_time": "2023-04-15T10:08:17.005395",
     "exception": false,
     "start_time": "2023-04-15T10:05:57.163804",
     "status": "completed"
    },
    "tags": []
   },
   "outputs": [
    {
     "data": {
      "text/plain": [
       "XGBClassifier(base_score=0.5, booster='gbtree', callbacks=None,\n",
       "              colsample_bylevel=1, colsample_bynode=1, colsample_bytree=1,\n",
       "              early_stopping_rounds=None, enable_categorical=False,\n",
       "              eval_metric=None, gamma=0, gpu_id=-1, grow_policy='depthwise',\n",
       "              importance_type=None, interaction_constraints='',\n",
       "              learning_rate=0.300000012, max_bin=256, max_cat_to_onehot=4,\n",
       "              max_delta_step=0, max_depth=6, max_leaves=0, min_child_weight=1,\n",
       "              missing=nan, monotone_constraints='()', n_estimators=100,\n",
       "              n_jobs=0, num_parallel_tree=1, objective='multi:softprob',\n",
       "              predictor='auto', random_state=0, reg_alpha=0, ...)"
      ]
     },
     "execution_count": 27,
     "metadata": {},
     "output_type": "execute_result"
    }
   ],
   "source": [
    "xgboost = XGBClassifier()\n",
    "xgboost.fit(X_train, y_train)"
   ]
  },
  {
   "cell_type": "code",
   "execution_count": 28,
   "id": "d8c545fb",
   "metadata": {
    "execution": {
     "iopub.execute_input": "2023-04-15T10:08:17.030709Z",
     "iopub.status.busy": "2023-04-15T10:08:17.030321Z",
     "iopub.status.idle": "2023-04-15T10:08:17.482065Z",
     "shell.execute_reply": "2023-04-15T10:08:17.480752Z"
    },
    "id": "VxZfx-MkaWLR",
    "papermill": {
     "duration": 0.467869,
     "end_time": "2023-04-15T10:08:17.484930",
     "exception": false,
     "start_time": "2023-04-15T10:08:17.017061",
     "status": "completed"
    },
    "tags": []
   },
   "outputs": [
    {
     "name": "stdout",
     "output_type": "stream",
     "text": [
      "              precision    recall  f1-score   support\n",
      "\n",
      "           1       0.92      0.95      0.94      3800\n",
      "           2       0.76      0.45      0.57      1590\n",
      "           3       0.72      0.53      0.61      2739\n",
      "           4       0.74      0.63      0.68      5046\n",
      "           5       0.84      0.94      0.89     17237\n",
      "\n",
      "    accuracy                           0.83     30412\n",
      "   macro avg       0.80      0.70      0.74     30412\n",
      "weighted avg       0.82      0.83      0.82     30412\n",
      "\n"
     ]
    }
   ],
   "source": [
    "y_val_pred = xgboost.predict(X_val)\n",
    "print(classification_report(y_val, y_val_pred, target_names=['1', '2', '3', '4', '5']))"
   ]
  },
  {
   "cell_type": "markdown",
   "id": "e5fb3bc1",
   "metadata": {
    "id": "ijWBOSoF2rz8",
    "papermill": {
     "duration": 0.012266,
     "end_time": "2023-04-15T10:08:17.509568",
     "exception": false,
     "start_time": "2023-04-15T10:08:17.497302",
     "status": "completed"
    },
    "tags": []
   },
   "source": [
    "## CV"
   ]
  },
  {
   "cell_type": "code",
   "execution_count": 29,
   "id": "9e2593e6",
   "metadata": {
    "execution": {
     "iopub.execute_input": "2023-04-15T10:08:17.536248Z",
     "iopub.status.busy": "2023-04-15T10:08:17.535812Z",
     "iopub.status.idle": "2023-04-15T10:08:17.621149Z",
     "shell.execute_reply": "2023-04-15T10:08:17.620137Z"
    },
    "id": "DwZyDC0c3Hj3",
    "papermill": {
     "duration": 0.102284,
     "end_time": "2023-04-15T10:08:17.623877",
     "exception": false,
     "start_time": "2023-04-15T10:08:17.521593",
     "status": "completed"
    },
    "tags": []
   },
   "outputs": [],
   "source": [
    "X_cv, _, y_cv, _ = train_test_split(X, y, train_size=0.8, random_state=42, stratify=y)"
   ]
  },
  {
   "cell_type": "markdown",
   "id": "f9936a60",
   "metadata": {
    "papermill": {
     "duration": 0.011499,
     "end_time": "2023-04-15T10:08:17.647282",
     "exception": false,
     "start_time": "2023-04-15T10:08:17.635783",
     "status": "completed"
    },
    "tags": []
   },
   "source": [
    "### LightGBM"
   ]
  },
  {
   "cell_type": "code",
   "execution_count": 30,
   "id": "11f9d1e7",
   "metadata": {
    "execution": {
     "iopub.execute_input": "2023-04-15T10:08:17.672650Z",
     "iopub.status.busy": "2023-04-15T10:08:17.672247Z",
     "iopub.status.idle": "2023-04-15T10:08:51.281648Z",
     "shell.execute_reply": "2023-04-15T10:08:51.280572Z"
    },
    "papermill": {
     "duration": 33.625275,
     "end_time": "2023-04-15T10:08:51.284165",
     "exception": false,
     "start_time": "2023-04-15T10:08:17.658890",
     "status": "completed"
    },
    "tags": []
   },
   "outputs": [
    {
     "name": "stderr",
     "output_type": "stream",
     "text": [
      "/opt/conda/lib/python3.7/site-packages/lightgbm/sklearn.py:736: UserWarning: 'verbose' argument is deprecated and will be removed in a future release of LightGBM. Pass 'log_evaluation()' callback via 'callbacks' argument instead.\n",
      "  _log_warning(\"'verbose' argument is deprecated and will be removed in a future release of LightGBM. \"\n",
      "/opt/conda/lib/python3.7/site-packages/lightgbm/sklearn.py:736: UserWarning: 'verbose' argument is deprecated and will be removed in a future release of LightGBM. Pass 'log_evaluation()' callback via 'callbacks' argument instead.\n",
      "  _log_warning(\"'verbose' argument is deprecated and will be removed in a future release of LightGBM. \"\n",
      "/opt/conda/lib/python3.7/site-packages/lightgbm/sklearn.py:736: UserWarning: 'verbose' argument is deprecated and will be removed in a future release of LightGBM. Pass 'log_evaluation()' callback via 'callbacks' argument instead.\n",
      "  _log_warning(\"'verbose' argument is deprecated and will be removed in a future release of LightGBM. \"\n",
      "/opt/conda/lib/python3.7/site-packages/lightgbm/sklearn.py:736: UserWarning: 'verbose' argument is deprecated and will be removed in a future release of LightGBM. Pass 'log_evaluation()' callback via 'callbacks' argument instead.\n",
      "  _log_warning(\"'verbose' argument is deprecated and will be removed in a future release of LightGBM. \"\n",
      "/opt/conda/lib/python3.7/site-packages/lightgbm/sklearn.py:736: UserWarning: 'verbose' argument is deprecated and will be removed in a future release of LightGBM. Pass 'log_evaluation()' callback via 'callbacks' argument instead.\n",
      "  _log_warning(\"'verbose' argument is deprecated and will be removed in a future release of LightGBM. \"\n"
     ]
    }
   ],
   "source": [
    "f1_avg, f1_std = cross_val_multiclass(lgbm, X_cv, y_cv)"
   ]
  },
  {
   "cell_type": "code",
   "execution_count": 31,
   "id": "7aeb30c9",
   "metadata": {
    "execution": {
     "iopub.execute_input": "2023-04-15T10:08:51.311194Z",
     "iopub.status.busy": "2023-04-15T10:08:51.310556Z",
     "iopub.status.idle": "2023-04-15T10:08:51.316024Z",
     "shell.execute_reply": "2023-04-15T10:08:51.314504Z"
    },
    "papermill": {
     "duration": 0.021481,
     "end_time": "2023-04-15T10:08:51.318309",
     "exception": false,
     "start_time": "2023-04-15T10:08:51.296828",
     "status": "completed"
    },
    "tags": []
   },
   "outputs": [
    {
     "name": "stdout",
     "output_type": "stream",
     "text": [
      "Avg: 0.7197526172233966, Std: 0.004027371172380708\n"
     ]
    }
   ],
   "source": [
    "print(f'Avg: {f1_avg}, Std: {f1_std}')"
   ]
  },
  {
   "cell_type": "markdown",
   "id": "4eff0f54",
   "metadata": {
    "papermill": {
     "duration": 0.0122,
     "end_time": "2023-04-15T10:08:51.343249",
     "exception": false,
     "start_time": "2023-04-15T10:08:51.331049",
     "status": "completed"
    },
    "tags": []
   },
   "source": [
    "### CatBoost"
   ]
  },
  {
   "cell_type": "code",
   "execution_count": 32,
   "id": "e2e5c001",
   "metadata": {
    "execution": {
     "iopub.execute_input": "2023-04-15T10:08:51.369971Z",
     "iopub.status.busy": "2023-04-15T10:08:51.369254Z",
     "iopub.status.idle": "2023-04-15T10:13:17.154828Z",
     "shell.execute_reply": "2023-04-15T10:13:17.153601Z"
    },
    "papermill": {
     "duration": 265.802371,
     "end_time": "2023-04-15T10:13:17.157766",
     "exception": false,
     "start_time": "2023-04-15T10:08:51.355395",
     "status": "completed"
    },
    "tags": []
   },
   "outputs": [],
   "source": [
    "f1_avg, f1_std = cross_val_multiclass(catboost, X_cv, y_cv)"
   ]
  },
  {
   "cell_type": "code",
   "execution_count": 33,
   "id": "7667dd9e",
   "metadata": {
    "execution": {
     "iopub.execute_input": "2023-04-15T10:13:17.184268Z",
     "iopub.status.busy": "2023-04-15T10:13:17.183849Z",
     "iopub.status.idle": "2023-04-15T10:13:17.189343Z",
     "shell.execute_reply": "2023-04-15T10:13:17.188216Z"
    },
    "id": "BejHDqPz8H8O",
    "papermill": {
     "duration": 0.021617,
     "end_time": "2023-04-15T10:13:17.191799",
     "exception": false,
     "start_time": "2023-04-15T10:13:17.170182",
     "status": "completed"
    },
    "tags": []
   },
   "outputs": [
    {
     "name": "stdout",
     "output_type": "stream",
     "text": [
      "Avg: 0.7296141598416661, Std: 0.002828993223292088\n"
     ]
    }
   ],
   "source": [
    "print(f'Avg: {f1_avg}, Std: {f1_std}')"
   ]
  },
  {
   "cell_type": "markdown",
   "id": "2c36eae9",
   "metadata": {
    "papermill": {
     "duration": 0.011965,
     "end_time": "2023-04-15T10:13:17.215950",
     "exception": false,
     "start_time": "2023-04-15T10:13:17.203985",
     "status": "completed"
    },
    "tags": []
   },
   "source": [
    "### XGBoost"
   ]
  },
  {
   "cell_type": "code",
   "execution_count": 34,
   "id": "1f544a64",
   "metadata": {
    "execution": {
     "iopub.execute_input": "2023-04-15T10:13:17.243721Z",
     "iopub.status.busy": "2023-04-15T10:13:17.243347Z",
     "iopub.status.idle": "2023-04-15T10:25:53.382455Z",
     "shell.execute_reply": "2023-04-15T10:25:53.381445Z"
    },
    "papermill": {
     "duration": 756.156264,
     "end_time": "2023-04-15T10:25:53.385150",
     "exception": false,
     "start_time": "2023-04-15T10:13:17.228886",
     "status": "completed"
    },
    "tags": []
   },
   "outputs": [],
   "source": [
    "f1_avg, f1_std = cross_val_multiclass(xgboost, X_cv, y_cv)"
   ]
  },
  {
   "cell_type": "code",
   "execution_count": 35,
   "id": "c3533c6e",
   "metadata": {
    "execution": {
     "iopub.execute_input": "2023-04-15T10:25:53.412698Z",
     "iopub.status.busy": "2023-04-15T10:25:53.412320Z",
     "iopub.status.idle": "2023-04-15T10:25:53.417744Z",
     "shell.execute_reply": "2023-04-15T10:25:53.416618Z"
    },
    "papermill": {
     "duration": 0.022144,
     "end_time": "2023-04-15T10:25:53.420565",
     "exception": false,
     "start_time": "2023-04-15T10:25:53.398421",
     "status": "completed"
    },
    "tags": []
   },
   "outputs": [
    {
     "name": "stdout",
     "output_type": "stream",
     "text": [
      "Avg: 0.7343601420022494, Std: 0.0024467234035241547\n"
     ]
    }
   ],
   "source": [
    "print(f'Avg: {f1_avg}, Std: {f1_std}')"
   ]
  },
  {
   "cell_type": "markdown",
   "id": "eb359f06",
   "metadata": {
    "papermill": {
     "duration": 0.012079,
     "end_time": "2023-04-15T10:25:53.445274",
     "exception": false,
     "start_time": "2023-04-15T10:25:53.433195",
     "status": "completed"
    },
    "tags": []
   },
   "source": [
    "## Test"
   ]
  },
  {
   "cell_type": "code",
   "execution_count": 36,
   "id": "7a17fa00",
   "metadata": {
    "execution": {
     "iopub.execute_input": "2023-04-15T10:25:53.472356Z",
     "iopub.status.busy": "2023-04-15T10:25:53.471948Z",
     "iopub.status.idle": "2023-04-15T10:25:53.943959Z",
     "shell.execute_reply": "2023-04-15T10:25:53.941563Z"
    },
    "papermill": {
     "duration": 0.489394,
     "end_time": "2023-04-15T10:25:53.947312",
     "exception": false,
     "start_time": "2023-04-15T10:25:53.457918",
     "status": "completed"
    },
    "tags": []
   },
   "outputs": [
    {
     "name": "stdout",
     "output_type": "stream",
     "text": [
      "              precision    recall  f1-score   support\n",
      "\n",
      "           1       0.94      0.96      0.95      3801\n",
      "           2       0.84      0.50      0.62      1589\n",
      "           3       0.78      0.55      0.65      2740\n",
      "           4       0.76      0.64      0.70      5046\n",
      "           5       0.84      0.95      0.89     17237\n",
      "\n",
      "    accuracy                           0.84     30413\n",
      "   macro avg       0.83      0.72      0.76     30413\n",
      "weighted avg       0.84      0.84      0.83     30413\n",
      "\n"
     ]
    }
   ],
   "source": [
    "y_test_pred = xgboost.predict(X_test)\n",
    "print(classification_report(y_test, y_test_pred, target_names=['1', '2', '3', '4', '5']))"
   ]
  }
 ],
 "metadata": {
  "kernelspec": {
   "display_name": "Python 3",
   "language": "python",
   "name": "python3"
  },
  "language_info": {
   "codemirror_mode": {
    "name": "ipython",
    "version": 3
   },
   "file_extension": ".py",
   "mimetype": "text/x-python",
   "name": "python",
   "nbconvert_exporter": "python",
   "pygments_lexer": "ipython3",
   "version": "3.7.12"
  },
  "papermill": {
   "default_parameters": {},
   "duration": 1606.613574,
   "end_time": "2023-04-15T10:25:56.621993",
   "environment_variables": {},
   "exception": null,
   "input_path": "__notebook__.ipynb",
   "output_path": "__notebook__.ipynb",
   "parameters": {},
   "start_time": "2023-04-15T09:59:10.008419",
   "version": "2.4.0"
  }
 },
 "nbformat": 4,
 "nbformat_minor": 5
}
