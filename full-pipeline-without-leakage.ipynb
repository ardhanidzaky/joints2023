{
 "cells": [
  {
   "cell_type": "code",
   "execution_count": 1,
   "id": "83ff53d5",
   "metadata": {
    "execution": {
     "iopub.execute_input": "2023-04-15T08:51:00.302814Z",
     "iopub.status.busy": "2023-04-15T08:51:00.302258Z",
     "iopub.status.idle": "2023-04-15T08:51:25.447320Z",
     "shell.execute_reply": "2023-04-15T08:51:25.445869Z"
    },
    "id": "ZHzLtKjvf1qd",
    "outputId": "a5224770-6014-467d-cd0e-914dd65592a4",
    "papermill": {
     "duration": 25.163076,
     "end_time": "2023-04-15T08:51:25.450835",
     "exception": false,
     "start_time": "2023-04-15T08:51:00.287759",
     "status": "completed"
    },
    "tags": []
   },
   "outputs": [
    {
     "name": "stdout",
     "output_type": "stream",
     "text": [
      "\u001b[33mWARNING: Running pip as the 'root' user can result in broken permissions and conflicting behaviour with the system package manager. It is recommended to use a virtual environment instead: https://pip.pypa.io/warnings/venv\u001b[0m\u001b[33m\r\n",
      "\u001b[0m\u001b[33mWARNING: Running pip as the 'root' user can result in broken permissions and conflicting behaviour with the system package manager. It is recommended to use a virtual environment instead: https://pip.pypa.io/warnings/venv\u001b[0m\u001b[33m\r\n",
      "\u001b[0m"
     ]
    }
   ],
   "source": [
    "!pip install --q catboost\n",
    "!pip install --q cleanlab"
   ]
  },
  {
   "cell_type": "code",
   "execution_count": 2,
   "id": "6d779073",
   "metadata": {
    "execution": {
     "iopub.execute_input": "2023-04-15T08:51:25.476898Z",
     "iopub.status.busy": "2023-04-15T08:51:25.475386Z",
     "iopub.status.idle": "2023-04-15T08:51:29.291109Z",
     "shell.execute_reply": "2023-04-15T08:51:29.289643Z"
    },
    "id": "13I1WOMxdtnp",
    "papermill": {
     "duration": 3.832085,
     "end_time": "2023-04-15T08:51:29.294271",
     "exception": false,
     "start_time": "2023-04-15T08:51:25.462186",
     "status": "completed"
    },
    "tags": []
   },
   "outputs": [
    {
     "data": {
      "text/html": [
       "<style type='text/css'>\n",
       ".datatable table.frame { margin-bottom: 0; }\n",
       ".datatable table.frame thead { border-bottom: none; }\n",
       ".datatable table.frame tr.coltypes td {  color: #FFFFFF;  line-height: 6px;  padding: 0 0.5em;}\n",
       ".datatable .bool    { background: #DDDD99; }\n",
       ".datatable .object  { background: #565656; }\n",
       ".datatable .int     { background: #5D9E5D; }\n",
       ".datatable .float   { background: #4040CC; }\n",
       ".datatable .str     { background: #CC4040; }\n",
       ".datatable .time    { background: #40CC40; }\n",
       ".datatable .row_index {  background: var(--jp-border-color3);  border-right: 1px solid var(--jp-border-color0);  color: var(--jp-ui-font-color3);  font-size: 9px;}\n",
       ".datatable .frame tbody td { text-align: left; }\n",
       ".datatable .frame tr.coltypes .row_index {  background: var(--jp-border-color0);}\n",
       ".datatable th:nth-child(2) { padding-left: 12px; }\n",
       ".datatable .hellipsis {  color: var(--jp-cell-editor-border-color);}\n",
       ".datatable .vellipsis {  background: var(--jp-layout-color0);  color: var(--jp-cell-editor-border-color);}\n",
       ".datatable .na {  color: var(--jp-cell-editor-border-color);  font-size: 80%;}\n",
       ".datatable .sp {  opacity: 0.25;}\n",
       ".datatable .footer { font-size: 9px; }\n",
       ".datatable .frame_dimensions {  background: var(--jp-border-color3);  border-top: 1px solid var(--jp-border-color0);  color: var(--jp-ui-font-color3);  display: inline-block;  opacity: 0.6;  padding: 1px 10px 1px 5px;}\n",
       "</style>\n"
      ],
      "text/plain": [
       "<IPython.core.display.HTML object>"
      ]
     },
     "metadata": {},
     "output_type": "display_data"
    }
   ],
   "source": [
    "import pandas as pd\n",
    "import seaborn as sns\n",
    "import matplotlib.pyplot as plt\n",
    "import numpy as np\n",
    "import cleanlab\n",
    "import re\n",
    "\n",
    "from catboost import CatBoostClassifier\n",
    "from xgboost import XGBClassifier\n",
    "from lightgbm import LGBMClassifier\n",
    "\n",
    "from sklearn.linear_model import LogisticRegression\n",
    "from sklearn.model_selection import train_test_split, StratifiedKFold, cross_val_predict, KFold\n",
    "from sklearn.preprocessing import StandardScaler, OneHotEncoder, LabelEncoder\n",
    "from sklearn.compose import ColumnTransformer\n",
    "from sklearn.metrics import accuracy_score, recall_score, precision_score, f1_score, classification_report"
   ]
  },
  {
   "cell_type": "code",
   "execution_count": 3,
   "id": "6589c4ce",
   "metadata": {
    "execution": {
     "iopub.execute_input": "2023-04-15T08:51:29.320308Z",
     "iopub.status.busy": "2023-04-15T08:51:29.319285Z",
     "iopub.status.idle": "2023-04-15T08:51:29.326090Z",
     "shell.execute_reply": "2023-04-15T08:51:29.324945Z"
    },
    "papermill": {
     "duration": 0.022695,
     "end_time": "2023-04-15T08:51:29.328733",
     "exception": false,
     "start_time": "2023-04-15T08:51:29.306038",
     "status": "completed"
    },
    "tags": []
   },
   "outputs": [],
   "source": [
    "pd.options.mode.chained_assignment = None"
   ]
  },
  {
   "cell_type": "markdown",
   "id": "80688098",
   "metadata": {
    "id": "RiwTOwsKeqMu",
    "papermill": {
     "duration": 0.012767,
     "end_time": "2023-04-15T08:51:29.352843",
     "exception": false,
     "start_time": "2023-04-15T08:51:29.340076",
     "status": "completed"
    },
    "tags": []
   },
   "source": [
    "# Constants"
   ]
  },
  {
   "cell_type": "code",
   "execution_count": 4,
   "id": "b2634dc3",
   "metadata": {
    "execution": {
     "iopub.execute_input": "2023-04-15T08:51:29.378731Z",
     "iopub.status.busy": "2023-04-15T08:51:29.377693Z",
     "iopub.status.idle": "2023-04-15T08:51:29.384734Z",
     "shell.execute_reply": "2023-04-15T08:51:29.383423Z"
    },
    "id": "dg8O0ApberfB",
    "papermill": {
     "duration": 0.023458,
     "end_time": "2023-04-15T08:51:29.387669",
     "exception": false,
     "start_time": "2023-04-15T08:51:29.364211",
     "status": "completed"
    },
    "tags": []
   },
   "outputs": [],
   "source": [
    "wb_mapping = {\n",
    "    0: 'Unknown/not stated',\n",
    "    1: 'Clay',\n",
    "    2: 'Mortar + Cement',\n",
    "    3: 'Mortar + Cement, Clay',\n",
    "    5: 'Mud + Mortar, Clay',\n",
    "    7: 'Mud + Mortar, Clay, Cement + Mortar'\n",
    "}\n",
    "\n",
    "wm_mapping = {\n",
    "    0: 'Unknown/not stated',\n",
    "    1: 'Red Bricks',\n",
    "    2: 'Stone Bricks',\n",
    "    3: 'Red Bricks, Stone Bricks'\n",
    "}"
   ]
  },
  {
   "cell_type": "markdown",
   "id": "6a073cf1",
   "metadata": {
    "id": "oAZIPuR4dcwN",
    "papermill": {
     "duration": 0.011097,
     "end_time": "2023-04-15T08:51:29.410114",
     "exception": false,
     "start_time": "2023-04-15T08:51:29.399017",
     "status": "completed"
    },
    "tags": []
   },
   "source": [
    "# Pre-defined Function (Basic pre-processing)"
   ]
  },
  {
   "cell_type": "code",
   "execution_count": 5,
   "id": "37776d5b",
   "metadata": {
    "cellView": "form",
    "execution": {
     "iopub.execute_input": "2023-04-15T08:51:29.435732Z",
     "iopub.status.busy": "2023-04-15T08:51:29.434787Z",
     "iopub.status.idle": "2023-04-15T08:51:29.444502Z",
     "shell.execute_reply": "2023-04-15T08:51:29.443000Z"
    },
    "id": "DVsfP0ZmdZPG",
    "papermill": {
     "duration": 0.026202,
     "end_time": "2023-04-15T08:51:29.447853",
     "exception": false,
     "start_time": "2023-04-15T08:51:29.421651",
     "status": "completed"
    },
    "tags": []
   },
   "outputs": [],
   "source": [
    "#@title extract_num_floors\n",
    "def extract_num_floors(floor):\n",
    "    \"\"\"\n",
    "    This function extracts the number of floors from the 'floors_before_eq' column\n",
    "    and converts it to an integer. If the value is missing or cannot be converted\n",
    "    to an integer, it returns None.\n",
    "\n",
    "    Arguments:\n",
    "    - floor: The value in the 'floors_before_eq' column for a particular building\n",
    "\n",
    "    Returns:\n",
    "    - An integer representing the number of floors for the given building, or None\n",
    "      if the value is missing or cannot be converted to an integer.\n",
    "    \"\"\"\n",
    "    import re\n",
    "\n",
    "    if floor is None:\n",
    "        return None\n",
    "    else:\n",
    "        floor = str(floor)\n",
    "        floor = floor.lower()\n",
    "        if 'one' in floor or 'first' in floor or 'ground' in floor:\n",
    "            return 1\n",
    "        elif 'two' in floor or 'second' in floor:\n",
    "            return 2\n",
    "        elif 'three' in floor or 'third' in floor:\n",
    "            return 3\n",
    "        elif 'four' in floor or 'fourth' in floor:\n",
    "            return 4\n",
    "        elif 'five' in floor or 'fifth' in floor:\n",
    "            return 5\n",
    "        else:\n",
    "            floor = re.findall(r'\\d+', floor)\n",
    "            if len(floor) > 0:\n",
    "                return int(floor[0])\n",
    "            else:\n",
    "                return None"
   ]
  },
  {
   "cell_type": "code",
   "execution_count": 6,
   "id": "884acf77",
   "metadata": {
    "cellView": "form",
    "execution": {
     "iopub.execute_input": "2023-04-15T08:51:29.473379Z",
     "iopub.status.busy": "2023-04-15T08:51:29.472869Z",
     "iopub.status.idle": "2023-04-15T08:51:29.488605Z",
     "shell.execute_reply": "2023-04-15T08:51:29.487032Z"
    },
    "id": "ZXQSL2wbXpRl",
    "papermill": {
     "duration": 0.032136,
     "end_time": "2023-04-15T08:51:29.491486",
     "exception": false,
     "start_time": "2023-04-15T08:51:29.459350",
     "status": "completed"
    },
    "tags": []
   },
   "outputs": [],
   "source": [
    "#@title standardize_value\n",
    "def standardize_value(data):\n",
    "    \"\"\"\n",
    "    This function takes a pandas dataframe as input and returns a new pandas dataframe\n",
    "    where all the categorical values are standardized. For example, if 'RCC' and 'RC' \n",
    "    are used interchangeably in the 'foundation_type' column, this function will standardize \n",
    "    all the 'RCC' values to 'RC' to avoid any inconsistencies.\n",
    "    \"\"\"\n",
    "\n",
    "    # type_of_foundation\n",
    "    data['type_of_foundation'] = data['type_of_foundation'].replace('RC', 'Reinforced Concrete')\n",
    "    data['type_of_foundation'] = data['type_of_foundation'].replace(['Bamboo/TImber', 'Bamboo or Timber', 'Bamboo/Timber'], 'Bamboo/Timber')\n",
    "    data['type_of_foundation'] = data['type_of_foundation'].replace(['Other', 'Others'], 'Other')\n",
    "    data['type_of_foundation'] = data['type_of_foundation'].replace(['Cement-Stone/Brick', 'Cement-Stone or Cement-Brick'], 'Cement-Stone/Brick')\n",
    "    \n",
    "    # type_of_roof\n",
    "    data['type_of_roof'] = data['type_of_roof'].replace(['Bamboo/Timber Light roof', 'Bamboo/TImber-Light Roof', 'Bamboo or Timber Light roof'], 'Bamboo/Timber Light roof')\n",
    "    data['type_of_roof'] = data['type_of_roof'].replace(['Bamboo/Timber Heavy roof ', 'Bamboo/TImber-Heavy Roof', 'Bamboo or Timber Heavy roof'], 'Bamboo/Timber Heavy roof')\n",
    "    data['type_of_roof'] = data['type_of_roof'].replace(['reinforced cement concrete/rb/rbc', 'rcc/rb/rbc', 'Reinforced Brick Slab/rcc/rbc', 'Reinforced brick concrete/rcc/rbc'], 'rcc/rb/rbc')\n",
    "    \n",
    "    # type_of_ground_floor\n",
    "    data['type_of_ground_floor'] = data['type_of_ground_floor'].replace(['mud', 'Mud'], 'Mud')\n",
    "    data['type_of_ground_floor'] = data['type_of_ground_floor'].replace(['reinforced concrete', 'Reinforced Concrete', 'RC'], 'Reinforced Concrete ')\n",
    "    data['type_of_ground_floor'] = data['type_of_ground_floor'].replace(['Brick/Stone', 'brick/stone', 'Brick or Stone'], 'Brick/Stone')\n",
    "    data['type_of_ground_floor'] = data['type_of_ground_floor'].replace(['TImber', 'Timber', 'Wood', 'Lumber'], 'Wood')\n",
    "\n",
    "    # type_of_other_floor\n",
    "    data['type_of_other_floor'] = data['type_of_other_floor'].replace(['TImber/Bamboo-Mud', 'Timber Mud or Bamboo-Mud', 'Wood or Bamboo Mud'], 'Wood or Bamboo Mud')\n",
    "    data['type_of_other_floor'] = data['type_of_other_floor'].replace(['Timber-Planck', 'Lumber-plank', 'Wood-Plank'], 'Wood-Plank')\n",
    "    data['type_of_other_floor'] = data['type_of_other_floor'].replace(['rcc/rb/rbc', 'reinforced cement concrete/rb/rbc', 'Reinforced brick concrete/rcc/rbc'], 'rcc/rb/rbc')\n",
    "    data['type_of_other_floor'] = data['type_of_other_floor'].replace(['Wood or Bamboo Mud', 'Wood-Mud or Bamboo Mud'], 'Wood-Mud or Bamboo Mud ')\n",
    "\n",
    "    # legal_ownership_status\n",
    "    data['legal_ownership_status'] = data['legal_ownership_status'].replace(['Private', 'Private Use', 'Prvt', 'Privste'], 'Private')\n",
    "    data['legal_ownership_status'] = data['legal_ownership_status'].replace(['Public', 'Public Use', 'Public Space'], 'Public')\n",
    "    data['legal_ownership_status'] = data['legal_ownership_status'].replace(['Institutional', 'Institutional Use', 'Institutionals'], 'Institutional')\n",
    "    data['legal_ownership_status'] = data['legal_ownership_status'].replace(['Other', 'Unknown', 'Unspecified'], 'Other')\n",
    "\n",
    "    return data"
   ]
  },
  {
   "cell_type": "code",
   "execution_count": 7,
   "id": "a2bda93d",
   "metadata": {
    "cellView": "form",
    "execution": {
     "iopub.execute_input": "2023-04-15T08:51:29.517763Z",
     "iopub.status.busy": "2023-04-15T08:51:29.516615Z",
     "iopub.status.idle": "2023-04-15T08:51:29.528840Z",
     "shell.execute_reply": "2023-04-15T08:51:29.527064Z"
    },
    "id": "ZHaRyzPnvA85",
    "papermill": {
     "duration": 0.029255,
     "end_time": "2023-04-15T08:51:29.532206",
     "exception": false,
     "start_time": "2023-04-15T08:51:29.502951",
     "status": "completed"
    },
    "tags": []
   },
   "outputs": [],
   "source": [
    "#@title find_label_issue_train\n",
    "def find_label_issue_train(data):\n",
    "    \"\"\"\n",
    "    Find label errors in the training data using the Confident Learning framework.\n",
    "\n",
    "    Arguments:\n",
    "    - data: A pandas DataFrame containing the training data.\n",
    "\n",
    "    Returns:\n",
    "    - A list of indices of examples in the training data that are likely to have label errors.\n",
    "\n",
    "    References: \n",
    "    \"\"\"\n",
    "    # Step 1: Apply a machine learning model to the training data to obtain predicted labels.\n",
    "    # This model should be trained using standard techniques and should not take into account the issue of label errors.\n",
    "    # Here, we assume that the model is already trained and is available for use.\n",
    "\n",
    "    # Step 2: Compute the empirical distribution of the predicted labels.\n",
    "    # This distribution will be used later to estimate the noise distribution.\n",
    "\n",
    "    # Step 3: Compute the joint distribution of the predicted labels and the true labels.\n",
    "    # This distribution can be estimated using the empirical distribution of the predicted labels and an estimate of the noise distribution.\n",
    "\n",
    "    # Step 4: Rank the examples in the training data by their likelihood of being mislabeled.\n",
    "    # This can be done by computing the conditional probability of the true label given the predicted label.\n",
    "\n",
    "    # Step 5: Identify examples that are likely to be mislabeled.\n",
    "    # This can be done by selecting examples with low confidence and high probability of being mislabeled.\n",
    "\n",
    "    # Step 6: Return the indices of the examples that are likely to be mislabeled.\n",
    "    # These examples can be further examined to determine if they are indeed mislabeled, and corrected if necessary.\n",
    "    # Alternatively, they can be removed from the training data to improve the performance of the machine learning model.\n",
    "\n",
    "    X = data[data.columns.difference(['damage_grade'])]\n",
    "    y = data['damage_grade']\n",
    "\n",
    "    numerical_cols = X.select_dtypes(include=['int64', 'float64']).columns.tolist()\n",
    "    categorical_cols = X.select_dtypes(include=['object']).columns.tolist()\n",
    "\n",
    "    numerical_transformer = StandardScaler()\n",
    "    categorical_transformer = OneHotEncoder(sparse=False)\n",
    "\n",
    "    preprocessor = ColumnTransformer(\n",
    "        transformers=[\n",
    "            ('num', numerical_transformer, numerical_cols),\n",
    "            ('cat', categorical_transformer, categorical_cols)\n",
    "        ])\n",
    "\n",
    "    X = preprocessor.fit_transform(X)\n",
    "\n",
    "    label_encoder = LabelEncoder()\n",
    "    y = label_encoder.fit_transform(y)\n",
    "\n",
    "    model = XGBClassifier(tree_method=\"hist\", enable_categorical=True)\n",
    "    pred_probs = cross_val_predict(model, X, y, method='predict_proba')\n",
    "\n",
    "    cl_issue_idx = cleanlab.filter.find_label_issues(y, pred_probs, return_indices_ranked_by='self_confidence')\n",
    "    \n",
    "    selected_rows = data.iloc[cl_issue_idx]\n",
    "    inverted_selection = data[~data.index.isin(cl_issue_idx)]\n",
    "\n",
    "    return inverted_selection"
   ]
  },
  {
   "cell_type": "code",
   "execution_count": 8,
   "id": "383ca85f",
   "metadata": {
    "cellView": "form",
    "execution": {
     "iopub.execute_input": "2023-04-15T08:51:29.558604Z",
     "iopub.status.busy": "2023-04-15T08:51:29.557906Z",
     "iopub.status.idle": "2023-04-15T08:51:29.570203Z",
     "shell.execute_reply": "2023-04-15T08:51:29.568764Z"
    },
    "id": "zG4AwLU0eMhw",
    "papermill": {
     "duration": 0.029163,
     "end_time": "2023-04-15T08:51:29.573151",
     "exception": false,
     "start_time": "2023-04-15T08:51:29.543988",
     "status": "completed"
    },
    "tags": []
   },
   "outputs": [],
   "source": [
    "#@title complete_pipeline\n",
    "def complete_pipeline(data):\n",
    "    \"\"\"\n",
    "    This function takes a pandas dataframe as input, processes it through\n",
    "    various steps including missing value imputation, feature engineering,\n",
    "    and standardization, and returns the processed dataframe ready for\n",
    "    machine learning modeling. The function is designed to handle both\n",
    "    training and testing data by distinguishing between them based on the\n",
    "    presence of the 'damage_grade' column.\n",
    "    \"\"\"\n",
    "\n",
    "    # floors_before_eq (total)\n",
    "    data['floors_before_eq (total)'] = data['floors_before_eq (total)'].apply(lambda x: extract_num_floors(x))\n",
    "\n",
    "    # missing value\n",
    "    data = data[data['floors_before_eq (total)'].notna()]\n",
    "    data = data[data['plinth_area (ft^2)'].notna()]\n",
    "    data['technical_solution_proposed'] = data['technical_solution_proposed'].fillna('Unspecified')\n",
    "\n",
    "    # replace and lambda\n",
    "    data['plinth_area (ft^2)'] = data['plinth_area (ft^2)'].str.extract('(\\d+)').astype(float)\n",
    "    \n",
    "    data['no_family_residing'] = data['no_family_residing'].replace('None', 0).astype(float)\n",
    "    data['wall_binding'] = data['wall_binding'].replace(wb_mapping)\n",
    "    data['wall_material'] = data['wall_material'].replace(wm_mapping)\n",
    "\n",
    "    # data['type_of_reinforcement_concrete'] = data['type_of_reinforcement_concrete'].apply(lambda x: f'Type: {str(x)}')\n",
    "    \n",
    "    # value standardization\n",
    "    data = standardize_value(data)\n",
    "\n",
    "    # same group of features, different label\n",
    "    data = data.groupby(list(data.columns.difference(['damage_grade']))).filter(lambda x: len(set(x['damage_grade'])) == 1)\n",
    "\n",
    "    # label issue in train data\n",
    "    data = data.reset_index()\n",
    "    data.drop(['index'], axis=1, inplace=True)\n",
    "    data = find_label_issue_train(data)\n",
    "    \n",
    "    return data"
   ]
  },
  {
   "cell_type": "code",
   "execution_count": 9,
   "id": "af3f66a9",
   "metadata": {
    "cellView": "form",
    "execution": {
     "iopub.execute_input": "2023-04-15T08:51:29.598688Z",
     "iopub.status.busy": "2023-04-15T08:51:29.597875Z",
     "iopub.status.idle": "2023-04-15T08:51:29.607449Z",
     "shell.execute_reply": "2023-04-15T08:51:29.606146Z"
    },
    "id": "jLW6Gqys6mzF",
    "papermill": {
     "duration": 0.026587,
     "end_time": "2023-04-15T08:51:29.611026",
     "exception": false,
     "start_time": "2023-04-15T08:51:29.584439",
     "status": "completed"
    },
    "tags": []
   },
   "outputs": [],
   "source": [
    "#@title complete_pipeline_test\n",
    "def complete_pipeline_test(data):\n",
    "    \"\"\"\n",
    "    This function takes a pandas dataframe as input, processes it through\n",
    "    various steps including missing value imputation, feature engineering,\n",
    "    and standardization, and returns the processed dataframe ready for\n",
    "    machine learning modeling. The function is designed to handle both\n",
    "    training and testing data by distinguishing between them based on the\n",
    "    presence of the 'damage_grade' column.\n",
    "    \"\"\"\n",
    "    \n",
    "    data['floors_before_eq (total)'] = data['floors_before_eq (total)'].apply(lambda x: extract_num_floors(x))\n",
    "\n",
    "    # others\n",
    "    data['plinth_area (ft^2)'] = data['plinth_area (ft^2)'].str.extract('(\\d+)').astype(float)\n",
    "    \n",
    "    data['no_family_residing'] = data['no_family_residing'].replace('None', 0).astype(float)\n",
    "    data['wall_binding'] = data['wall_binding'].replace(wb_mapping)\n",
    "    data['wall_material'] = data['wall_material'].replace(wm_mapping)\n",
    "    \n",
    "    data['type_of_reinforcement_concrete'] = data['type_of_reinforcement_concrete'].apply(lambda x: f'Type: {str(float(x))}')\n",
    "\n",
    "    # value standardization\n",
    "    data = standardize_value(data)\n",
    "    \n",
    "    return data"
   ]
  },
  {
   "cell_type": "code",
   "execution_count": 10,
   "id": "59283931",
   "metadata": {
    "cellView": "form",
    "execution": {
     "iopub.execute_input": "2023-04-15T08:51:29.639001Z",
     "iopub.status.busy": "2023-04-15T08:51:29.638510Z",
     "iopub.status.idle": "2023-04-15T08:51:29.647769Z",
     "shell.execute_reply": "2023-04-15T08:51:29.646368Z"
    },
    "id": "M-iZTblLJ2X9",
    "papermill": {
     "duration": 0.02526,
     "end_time": "2023-04-15T08:51:29.650188",
     "exception": false,
     "start_time": "2023-04-15T08:51:29.624928",
     "status": "completed"
    },
    "tags": []
   },
   "outputs": [],
   "source": [
    "#@title cross_val_multiclass\n",
    "def cross_val_multiclass(model, X, y, num_folds=5):\n",
    "    from sklearn.model_selection import KFold, cross_val_score\n",
    "    from sklearn.metrics import f1_score\n",
    "    import numpy as np\n",
    "\n",
    "    kf = KFold(n_splits=num_folds, shuffle=True, random_state=42)\n",
    "    f1_scores = []\n",
    "    for train_idx, test_idx in kf.split(X):\n",
    "        X_train, X_test = X[train_idx], X[test_idx]\n",
    "        y_train, y_test = y[train_idx], y[test_idx]\n",
    "        model.fit(X_train, y_train, verbose=0)\n",
    "        y_pred = model.predict(X_test)\n",
    "        f1_scores.append(f1_score(y_test, y_pred, average='macro'))\n",
    "    return np.mean(f1_scores), np.std(f1_scores)"
   ]
  },
  {
   "cell_type": "code",
   "execution_count": 11,
   "id": "6f64b2de",
   "metadata": {
    "cellView": "form",
    "execution": {
     "iopub.execute_input": "2023-04-15T08:51:29.675801Z",
     "iopub.status.busy": "2023-04-15T08:51:29.674425Z",
     "iopub.status.idle": "2023-04-15T08:51:29.684110Z",
     "shell.execute_reply": "2023-04-15T08:51:29.682744Z"
    },
    "id": "wkje0UzBJ8TJ",
    "papermill": {
     "duration": 0.025305,
     "end_time": "2023-04-15T08:51:29.686764",
     "exception": false,
     "start_time": "2023-04-15T08:51:29.661459",
     "status": "completed"
    },
    "tags": []
   },
   "outputs": [],
   "source": [
    "#@title categorical_correlation\n",
    "def categorical_correlation(var1, var2):\n",
    "    import scipy.stats as stats\n",
    "\n",
    "    contingency_table = pd.crosstab(var1, var2)\n",
    "  \n",
    "    chi2, p, dof, expected = stats.chi2_contingency(contingency_table)\n",
    "    \n",
    "    n = contingency_table.sum().sum()\n",
    "    phi2 = chi2/n\n",
    "    r, k = contingency_table.shape\n",
    "    phi2corr = max(0, phi2 - ((k-1)*(r-1))/(n-1))\n",
    "    rcorr = r - ((r-1)**2)/(n-1)\n",
    "    kcorr = k - ((k-1)**2)/(n-1)\n",
    "    V = np.sqrt(phi2corr / min((kcorr-1), (rcorr-1)))\n",
    "    \n",
    "    return {\"Chi-squared test\": {\"test statistic\": chi2, \"p-value\": p}, \"Cramer's V\": V}"
   ]
  },
  {
   "cell_type": "markdown",
   "id": "60dd3bee",
   "metadata": {
    "id": "ldT1thHxg2Oh",
    "papermill": {
     "duration": 0.010906,
     "end_time": "2023-04-15T08:51:29.708918",
     "exception": false,
     "start_time": "2023-04-15T08:51:29.698012",
     "status": "completed"
    },
    "tags": []
   },
   "source": [
    "# Training Flow"
   ]
  },
  {
   "cell_type": "code",
   "execution_count": 12,
   "id": "5a3c82ec",
   "metadata": {
    "execution": {
     "iopub.execute_input": "2023-04-15T08:51:29.733358Z",
     "iopub.status.busy": "2023-04-15T08:51:29.732798Z",
     "iopub.status.idle": "2023-04-15T08:55:14.849476Z",
     "shell.execute_reply": "2023-04-15T08:55:14.847208Z"
    },
    "id": "IA7Mmlo-g5my",
    "outputId": "b61943de-cce7-4e2d-df8e-db6be9b04b97",
    "papermill": {
     "duration": 225.133577,
     "end_time": "2023-04-15T08:55:14.853566",
     "exception": false,
     "start_time": "2023-04-15T08:51:29.719989",
     "status": "completed"
    },
    "tags": []
   },
   "outputs": [
    {
     "name": "stderr",
     "output_type": "stream",
     "text": [
      "/opt/conda/lib/python3.7/site-packages/IPython/core/interactiveshell.py:3553: DtypeWarning: Columns (1,3,5,6,7,8,9,10,11,12,13,16,17,19,20) have mixed types.Specify dtype option on import or set low_memory=False.\n",
      "  exec(code_obj, self.user_global_ns, self.user_ns)\n"
     ]
    }
   ],
   "source": [
    "train = pd.read_csv('/kaggle/input/jointsugm/train.csv')\n",
    "train.drop(['Unnamed: 0'], axis=1, inplace=True)\n",
    "\n",
    "train = complete_pipeline(train)\n",
    "train = train.reset_index()\n",
    "train.drop(['index', 'technical_solution_proposed'], axis=1, inplace=True)"
   ]
  },
  {
   "cell_type": "code",
   "execution_count": 13,
   "id": "f360f55b",
   "metadata": {
    "execution": {
     "iopub.execute_input": "2023-04-15T08:55:14.881978Z",
     "iopub.status.busy": "2023-04-15T08:55:14.880133Z",
     "iopub.status.idle": "2023-04-15T08:55:15.051186Z",
     "shell.execute_reply": "2023-04-15T08:55:15.049704Z"
    },
    "papermill": {
     "duration": 0.189169,
     "end_time": "2023-04-15T08:55:15.054713",
     "exception": false,
     "start_time": "2023-04-15T08:55:14.865544",
     "status": "completed"
    },
    "tags": []
   },
   "outputs": [
    {
     "name": "stdout",
     "output_type": "stream",
     "text": [
      "<class 'pandas.core.frame.DataFrame'>\n",
      "RangeIndex: 193502 entries, 0 to 193501\n",
      "Data columns (total 23 columns):\n",
      " #   Column                          Non-Null Count   Dtype  \n",
      "---  ------                          --------------   -----  \n",
      " 0   floors_before_eq (total)        193502 non-null  float64\n",
      " 1   old_building                    193502 non-null  float64\n",
      " 2   plinth_area (ft^2)              193502 non-null  float64\n",
      " 3   height_before_eq (ft)           193502 non-null  float64\n",
      " 4   land_surface_condition          193502 non-null  object \n",
      " 5   type_of_foundation              193502 non-null  object \n",
      " 6   type_of_roof                    193502 non-null  object \n",
      " 7   type_of_ground_floor            193502 non-null  object \n",
      " 8   type_of_other_floor             193502 non-null  object \n",
      " 9   position                        193502 non-null  object \n",
      " 10  building_plan_configuration     193502 non-null  object \n",
      " 11  legal_ownership_status          193502 non-null  object \n",
      " 12  has_secondary_use               193502 non-null  float64\n",
      " 13  type_of_reinforcement_concrete  193502 non-null  float64\n",
      " 14  residential_type                193502 non-null  object \n",
      " 15  no_family_residing              193502 non-null  float64\n",
      " 16  public_place_type               193502 non-null  object \n",
      " 17  industrial_use_type             193502 non-null  object \n",
      " 18  govermental_use_type            193502 non-null  object \n",
      " 19  flexible_superstructure         193502 non-null  object \n",
      " 20  wall_binding                    193502 non-null  object \n",
      " 21  wall_material                   193502 non-null  object \n",
      " 22  damage_grade                    193502 non-null  float64\n",
      "dtypes: float64(8), object(15)\n",
      "memory usage: 34.0+ MB\n"
     ]
    }
   ],
   "source": [
    "train.info()"
   ]
  },
  {
   "cell_type": "code",
   "execution_count": 14,
   "id": "9a53f8ec",
   "metadata": {
    "execution": {
     "iopub.execute_input": "2023-04-15T08:55:15.081667Z",
     "iopub.status.busy": "2023-04-15T08:55:15.080110Z",
     "iopub.status.idle": "2023-04-15T08:55:15.120134Z",
     "shell.execute_reply": "2023-04-15T08:55:15.118427Z"
    },
    "papermill": {
     "duration": 0.056899,
     "end_time": "2023-04-15T08:55:15.123524",
     "exception": false,
     "start_time": "2023-04-15T08:55:15.066625",
     "status": "completed"
    },
    "tags": []
   },
   "outputs": [],
   "source": [
    "train.drop(['building_plan_configuration', 'legal_ownership_status', 'type_of_reinforcement_concrete',\n",
    "           'residential_type', 'public_place_type', 'industrial_use_type', 'govermental_use_type', 'flexible_superstructure'], axis=1, inplace=True)"
   ]
  },
  {
   "cell_type": "code",
   "execution_count": 15,
   "id": "9f9ce379",
   "metadata": {
    "execution": {
     "iopub.execute_input": "2023-04-15T08:55:15.149319Z",
     "iopub.status.busy": "2023-04-15T08:55:15.148765Z",
     "iopub.status.idle": "2023-04-15T08:55:15.163000Z",
     "shell.execute_reply": "2023-04-15T08:55:15.161375Z"
    },
    "id": "bQmhjQJvLJjw",
    "papermill": {
     "duration": 0.031188,
     "end_time": "2023-04-15T08:55:15.166292",
     "exception": false,
     "start_time": "2023-04-15T08:55:15.135104",
     "status": "completed"
    },
    "tags": []
   },
   "outputs": [],
   "source": [
    "train['total_building_area (ft^2)'] = train['plinth_area (ft^2)'] * train['height_before_eq (ft)']\n",
    "train['area_to_height_ratio'] = train['plinth_area (ft^2)'] / train['height_before_eq (ft)']\n",
    "train['height per floor (ft)'] = train['height_before_eq (ft)'] / train['floors_before_eq (total)']"
   ]
  },
  {
   "cell_type": "code",
   "execution_count": 16,
   "id": "0e903415",
   "metadata": {
    "execution": {
     "iopub.execute_input": "2023-04-15T08:55:15.192727Z",
     "iopub.status.busy": "2023-04-15T08:55:15.192194Z",
     "iopub.status.idle": "2023-04-15T08:55:15.202339Z",
     "shell.execute_reply": "2023-04-15T08:55:15.200911Z"
    },
    "papermill": {
     "duration": 0.027029,
     "end_time": "2023-04-15T08:55:15.205466",
     "exception": false,
     "start_time": "2023-04-15T08:55:15.178437",
     "status": "completed"
    },
    "tags": []
   },
   "outputs": [],
   "source": [
    "train['gross_floor_area'] = train['plinth_area (ft^2)'] * train['floors_before_eq (total)']\n",
    "train['floor_area_ratio'] = train['total_building_area (ft^2)'] / train['gross_floor_area']"
   ]
  },
  {
   "cell_type": "code",
   "execution_count": 17,
   "id": "03041f85",
   "metadata": {
    "execution": {
     "iopub.execute_input": "2023-04-15T08:55:15.231768Z",
     "iopub.status.busy": "2023-04-15T08:55:15.230401Z",
     "iopub.status.idle": "2023-04-15T08:55:15.323797Z",
     "shell.execute_reply": "2023-04-15T08:55:15.322321Z"
    },
    "papermill": {
     "duration": 0.110225,
     "end_time": "2023-04-15T08:55:15.327426",
     "exception": false,
     "start_time": "2023-04-15T08:55:15.217201",
     "status": "completed"
    },
    "tags": []
   },
   "outputs": [],
   "source": [
    "train = train[train['height per floor (ft)'] <= 15]\n",
    "train = train.reset_index()\n",
    "train.drop(['index'], axis=1, inplace=True)"
   ]
  },
  {
   "cell_type": "code",
   "execution_count": 18,
   "id": "6ed26e30",
   "metadata": {
    "execution": {
     "iopub.execute_input": "2023-04-15T08:55:15.355342Z",
     "iopub.status.busy": "2023-04-15T08:55:15.353982Z",
     "iopub.status.idle": "2023-04-15T08:55:47.100809Z",
     "shell.execute_reply": "2023-04-15T08:55:47.099393Z"
    },
    "papermill": {
     "duration": 31.775142,
     "end_time": "2023-04-15T08:55:47.115369",
     "exception": false,
     "start_time": "2023-04-15T08:55:15.340227",
     "status": "completed"
    },
    "tags": []
   },
   "outputs": [
    {
     "data": {
      "text/plain": [
       "(190900, 20)"
      ]
     },
     "execution_count": 18,
     "metadata": {},
     "output_type": "execute_result"
    }
   ],
   "source": [
    "train = train.groupby(list(train.columns.difference(['damage_grade']))).filter(lambda x: len(set(x['damage_grade'])) == 1)\n",
    "train.shape"
   ]
  },
  {
   "cell_type": "code",
   "execution_count": 19,
   "id": "1b26e6eb",
   "metadata": {
    "execution": {
     "iopub.execute_input": "2023-04-15T08:55:47.141465Z",
     "iopub.status.busy": "2023-04-15T08:55:47.140978Z",
     "iopub.status.idle": "2023-04-15T08:55:47.185829Z",
     "shell.execute_reply": "2023-04-15T08:55:47.184014Z"
    },
    "papermill": {
     "duration": 0.062152,
     "end_time": "2023-04-15T08:55:47.189275",
     "exception": false,
     "start_time": "2023-04-15T08:55:47.127123",
     "status": "completed"
    },
    "tags": []
   },
   "outputs": [],
   "source": [
    "train = train.reset_index()\n",
    "train.drop(['index'], axis=1, inplace=True)"
   ]
  },
  {
   "cell_type": "code",
   "execution_count": 20,
   "id": "c7f5759e",
   "metadata": {
    "execution": {
     "iopub.execute_input": "2023-04-15T08:55:47.215437Z",
     "iopub.status.busy": "2023-04-15T08:55:47.214971Z",
     "iopub.status.idle": "2023-04-15T08:56:58.143802Z",
     "shell.execute_reply": "2023-04-15T08:56:58.141818Z"
    },
    "papermill": {
     "duration": 70.956983,
     "end_time": "2023-04-15T08:56:58.158164",
     "exception": false,
     "start_time": "2023-04-15T08:55:47.201181",
     "status": "completed"
    },
    "tags": []
   },
   "outputs": [
    {
     "data": {
      "text/plain": [
       "(152061, 20)"
      ]
     },
     "execution_count": 20,
     "metadata": {},
     "output_type": "execute_result"
    }
   ],
   "source": [
    "train = find_label_issue_train(train)\n",
    "train = train.reset_index()\n",
    "train.drop(['index'], axis=1, inplace=True)\n",
    "train.shape"
   ]
  },
  {
   "cell_type": "markdown",
   "id": "0e1eca91",
   "metadata": {
    "id": "UtuwcJBXhWu1",
    "papermill": {
     "duration": 0.012226,
     "end_time": "2023-04-15T08:56:58.183325",
     "exception": false,
     "start_time": "2023-04-15T08:56:58.171099",
     "status": "completed"
    },
    "tags": []
   },
   "source": [
    "# Modeling"
   ]
  },
  {
   "cell_type": "code",
   "execution_count": 21,
   "id": "29c4a202",
   "metadata": {
    "execution": {
     "iopub.execute_input": "2023-04-15T08:56:58.211447Z",
     "iopub.status.busy": "2023-04-15T08:56:58.210863Z",
     "iopub.status.idle": "2023-04-15T08:56:58.837362Z",
     "shell.execute_reply": "2023-04-15T08:56:58.835953Z"
    },
    "id": "SJAYUY5qZlK_",
    "papermill": {
     "duration": 0.644393,
     "end_time": "2023-04-15T08:56:58.840751",
     "exception": false,
     "start_time": "2023-04-15T08:56:58.196358",
     "status": "completed"
    },
    "tags": []
   },
   "outputs": [],
   "source": [
    "X = train[train.columns.difference(['damage_grade'])]\n",
    "y = train['damage_grade']\n",
    "\n",
    "numerical_cols = X.select_dtypes(include=['int64', 'float64']).columns.tolist()\n",
    "categorical_cols = X.select_dtypes(include=['object']).columns.tolist()\n",
    "\n",
    "numerical_transformer = StandardScaler()\n",
    "categorical_transformer = OneHotEncoder(sparse=False)\n",
    "\n",
    "preprocessor = ColumnTransformer(\n",
    "    transformers=[\n",
    "        ('num', numerical_transformer, numerical_cols),\n",
    "        ('cat', categorical_transformer, categorical_cols)\n",
    "    ])\n",
    "\n",
    "X = preprocessor.fit_transform(X)\n",
    "\n",
    "label_encoder = LabelEncoder()\n",
    "y = label_encoder.fit_transform(y)"
   ]
  },
  {
   "cell_type": "code",
   "execution_count": 22,
   "id": "650db2cd",
   "metadata": {
    "execution": {
     "iopub.execute_input": "2023-04-15T08:56:58.867730Z",
     "iopub.status.busy": "2023-04-15T08:56:58.866638Z",
     "iopub.status.idle": "2023-04-15T08:56:59.012136Z",
     "shell.execute_reply": "2023-04-15T08:56:59.010641Z"
    },
    "id": "KvXY5_ZYh1g2",
    "papermill": {
     "duration": 0.162865,
     "end_time": "2023-04-15T08:56:59.015735",
     "exception": false,
     "start_time": "2023-04-15T08:56:58.852870",
     "status": "completed"
    },
    "tags": []
   },
   "outputs": [],
   "source": [
    "# Create train-validation-test split with stratification\n",
    "X_train, X_val, y_train, y_val = train_test_split(X, y, train_size=0.6, random_state=42, stratify=y)\n",
    "X_val, X_test, y_val, y_test = train_test_split(X_val, y_val, test_size=0.5, random_state=42, stratify=y_val)"
   ]
  },
  {
   "cell_type": "markdown",
   "id": "f82b989b",
   "metadata": {
    "id": "zK1N9xBWY3hY",
    "papermill": {
     "duration": 0.012152,
     "end_time": "2023-04-15T08:56:59.039808",
     "exception": false,
     "start_time": "2023-04-15T08:56:59.027656",
     "status": "completed"
    },
    "tags": []
   },
   "source": [
    "## Manual"
   ]
  },
  {
   "cell_type": "markdown",
   "id": "bf832b40",
   "metadata": {
    "papermill": {
     "duration": 0.011747,
     "end_time": "2023-04-15T08:56:59.063188",
     "exception": false,
     "start_time": "2023-04-15T08:56:59.051441",
     "status": "completed"
    },
    "tags": []
   },
   "source": [
    "### LightGBM"
   ]
  },
  {
   "cell_type": "code",
   "execution_count": 23,
   "id": "479b4bdb",
   "metadata": {
    "execution": {
     "iopub.execute_input": "2023-04-15T08:56:59.091398Z",
     "iopub.status.busy": "2023-04-15T08:56:59.090131Z",
     "iopub.status.idle": "2023-04-15T08:57:07.262116Z",
     "shell.execute_reply": "2023-04-15T08:57:07.260667Z"
    },
    "papermill": {
     "duration": 8.190037,
     "end_time": "2023-04-15T08:57:07.265617",
     "exception": false,
     "start_time": "2023-04-15T08:56:59.075580",
     "status": "completed"
    },
    "tags": []
   },
   "outputs": [
    {
     "name": "stderr",
     "output_type": "stream",
     "text": [
      "/opt/conda/lib/python3.7/site-packages/lightgbm/sklearn.py:736: UserWarning: 'verbose' argument is deprecated and will be removed in a future release of LightGBM. Pass 'log_evaluation()' callback via 'callbacks' argument instead.\n",
      "  _log_warning(\"'verbose' argument is deprecated and will be removed in a future release of LightGBM. \"\n"
     ]
    },
    {
     "data": {
      "text/plain": [
       "LGBMClassifier()"
      ]
     },
     "execution_count": 23,
     "metadata": {},
     "output_type": "execute_result"
    }
   ],
   "source": [
    "lgbm = LGBMClassifier()\n",
    "lgbm.fit(X_train, y_train, verbose=0, eval_set=(X_val, y_val))"
   ]
  },
  {
   "cell_type": "code",
   "execution_count": 24,
   "id": "18d28b44",
   "metadata": {
    "execution": {
     "iopub.execute_input": "2023-04-15T08:57:07.293809Z",
     "iopub.status.busy": "2023-04-15T08:57:07.292331Z",
     "iopub.status.idle": "2023-04-15T08:57:07.794011Z",
     "shell.execute_reply": "2023-04-15T08:57:07.792621Z"
    },
    "papermill": {
     "duration": 0.519067,
     "end_time": "2023-04-15T08:57:07.796969",
     "exception": false,
     "start_time": "2023-04-15T08:57:07.277902",
     "status": "completed"
    },
    "tags": []
   },
   "outputs": [
    {
     "name": "stdout",
     "output_type": "stream",
     "text": [
      "              precision    recall  f1-score   support\n",
      "\n",
      "           1       0.92      0.95      0.93      3800\n",
      "           2       0.77      0.43      0.55      1590\n",
      "           3       0.72      0.49      0.58      2739\n",
      "           4       0.73      0.62      0.67      5046\n",
      "           5       0.84      0.94      0.89     17237\n",
      "\n",
      "    accuracy                           0.82     30412\n",
      "   macro avg       0.80      0.69      0.72     30412\n",
      "weighted avg       0.81      0.82      0.81     30412\n",
      "\n"
     ]
    }
   ],
   "source": [
    "y_val_pred = lgbm.predict(X_val)\n",
    "print(classification_report(y_val, y_val_pred, target_names=['1', '2', '3', '4', '5']))"
   ]
  },
  {
   "cell_type": "markdown",
   "id": "ca181bee",
   "metadata": {
    "papermill": {
     "duration": 0.011597,
     "end_time": "2023-04-15T08:57:07.820715",
     "exception": false,
     "start_time": "2023-04-15T08:57:07.809118",
     "status": "completed"
    },
    "tags": []
   },
   "source": [
    "### CatBoost"
   ]
  },
  {
   "cell_type": "code",
   "execution_count": 25,
   "id": "3d856c52",
   "metadata": {
    "execution": {
     "iopub.execute_input": "2023-04-15T08:57:07.849479Z",
     "iopub.status.busy": "2023-04-15T08:57:07.847997Z",
     "iopub.status.idle": "2023-04-15T08:58:05.870029Z",
     "shell.execute_reply": "2023-04-15T08:58:05.868591Z"
    },
    "id": "BTP_rGu_hEHu",
    "papermill": {
     "duration": 58.050697,
     "end_time": "2023-04-15T08:58:05.884394",
     "exception": false,
     "start_time": "2023-04-15T08:57:07.833697",
     "status": "completed"
    },
    "tags": []
   },
   "outputs": [
    {
     "data": {
      "text/plain": [
       "<catboost.core.CatBoostClassifier at 0x7529814e0390>"
      ]
     },
     "execution_count": 25,
     "metadata": {},
     "output_type": "execute_result"
    }
   ],
   "source": [
    "catboost = CatBoostClassifier()\n",
    "catboost.fit(X_train, y_train, verbose=0, eval_set=(X_val, y_val))"
   ]
  },
  {
   "cell_type": "code",
   "execution_count": 26,
   "id": "16ff1497",
   "metadata": {
    "execution": {
     "iopub.execute_input": "2023-04-15T08:58:05.912305Z",
     "iopub.status.busy": "2023-04-15T08:58:05.911764Z",
     "iopub.status.idle": "2023-04-15T08:58:06.644569Z",
     "shell.execute_reply": "2023-04-15T08:58:06.643345Z"
    },
    "id": "iFPop-woRuhu",
    "papermill": {
     "duration": 0.750613,
     "end_time": "2023-04-15T08:58:06.647307",
     "exception": false,
     "start_time": "2023-04-15T08:58:05.896694",
     "status": "completed"
    },
    "tags": []
   },
   "outputs": [
    {
     "name": "stdout",
     "output_type": "stream",
     "text": [
      "              precision    recall  f1-score   support\n",
      "\n",
      "           1       0.92      0.94      0.93      3800\n",
      "           2       0.73      0.44      0.55      1590\n",
      "           3       0.71      0.54      0.61      2739\n",
      "           4       0.74      0.64      0.68      5046\n",
      "           5       0.85      0.94      0.89     17237\n",
      "\n",
      "    accuracy                           0.83     30412\n",
      "   macro avg       0.79      0.70      0.73     30412\n",
      "weighted avg       0.82      0.83      0.82     30412\n",
      "\n"
     ]
    }
   ],
   "source": [
    "y_val_pred = catboost.predict(X_val)\n",
    "print(classification_report(y_val, y_val_pred, target_names=['1', '2', '3', '4', '5']))"
   ]
  },
  {
   "cell_type": "markdown",
   "id": "04dac435",
   "metadata": {
    "papermill": {
     "duration": 0.01212,
     "end_time": "2023-04-15T08:58:06.672515",
     "exception": false,
     "start_time": "2023-04-15T08:58:06.660395",
     "status": "completed"
    },
    "tags": []
   },
   "source": [
    "### XGBoost"
   ]
  },
  {
   "cell_type": "code",
   "execution_count": 27,
   "id": "ed51bf7c",
   "metadata": {
    "execution": {
     "iopub.execute_input": "2023-04-15T08:58:06.701421Z",
     "iopub.status.busy": "2023-04-15T08:58:06.700465Z",
     "iopub.status.idle": "2023-04-15T09:00:32.212044Z",
     "shell.execute_reply": "2023-04-15T09:00:32.210802Z"
    },
    "id": "ot3w4aJ9iBth",
    "papermill": {
     "duration": 145.542109,
     "end_time": "2023-04-15T09:00:32.227769",
     "exception": false,
     "start_time": "2023-04-15T08:58:06.685660",
     "status": "completed"
    },
    "tags": []
   },
   "outputs": [
    {
     "data": {
      "text/plain": [
       "XGBClassifier(base_score=0.5, booster='gbtree', callbacks=None,\n",
       "              colsample_bylevel=1, colsample_bynode=1, colsample_bytree=1,\n",
       "              early_stopping_rounds=None, enable_categorical=False,\n",
       "              eval_metric=None, gamma=0, gpu_id=-1, grow_policy='depthwise',\n",
       "              importance_type=None, interaction_constraints='',\n",
       "              learning_rate=0.300000012, max_bin=256, max_cat_to_onehot=4,\n",
       "              max_delta_step=0, max_depth=6, max_leaves=0, min_child_weight=1,\n",
       "              missing=nan, monotone_constraints='()', n_estimators=100,\n",
       "              n_jobs=0, num_parallel_tree=1, objective='multi:softprob',\n",
       "              predictor='auto', random_state=0, reg_alpha=0, ...)"
      ]
     },
     "execution_count": 27,
     "metadata": {},
     "output_type": "execute_result"
    }
   ],
   "source": [
    "xgboost = XGBClassifier()\n",
    "xgboost.fit(X_train, y_train)"
   ]
  },
  {
   "cell_type": "code",
   "execution_count": 28,
   "id": "bb54af4c",
   "metadata": {
    "execution": {
     "iopub.execute_input": "2023-04-15T09:00:32.256173Z",
     "iopub.status.busy": "2023-04-15T09:00:32.255369Z",
     "iopub.status.idle": "2023-04-15T09:00:32.715127Z",
     "shell.execute_reply": "2023-04-15T09:00:32.713957Z"
    },
    "id": "VxZfx-MkaWLR",
    "papermill": {
     "duration": 0.477568,
     "end_time": "2023-04-15T09:00:32.717920",
     "exception": false,
     "start_time": "2023-04-15T09:00:32.240352",
     "status": "completed"
    },
    "tags": []
   },
   "outputs": [
    {
     "name": "stdout",
     "output_type": "stream",
     "text": [
      "              precision    recall  f1-score   support\n",
      "\n",
      "           1       0.92      0.95      0.94      3800\n",
      "           2       0.76      0.45      0.57      1590\n",
      "           3       0.72      0.53      0.61      2739\n",
      "           4       0.74      0.63      0.68      5046\n",
      "           5       0.84      0.94      0.89     17237\n",
      "\n",
      "    accuracy                           0.83     30412\n",
      "   macro avg       0.80      0.70      0.74     30412\n",
      "weighted avg       0.82      0.83      0.82     30412\n",
      "\n"
     ]
    }
   ],
   "source": [
    "y_val_pred = xgboost.predict(X_val)\n",
    "print(classification_report(y_val, y_val_pred, target_names=['1', '2', '3', '4', '5']))"
   ]
  },
  {
   "cell_type": "markdown",
   "id": "1e7b780f",
   "metadata": {
    "id": "ijWBOSoF2rz8",
    "papermill": {
     "duration": 0.012736,
     "end_time": "2023-04-15T09:00:32.744719",
     "exception": false,
     "start_time": "2023-04-15T09:00:32.731983",
     "status": "completed"
    },
    "tags": []
   },
   "source": [
    "## CV"
   ]
  },
  {
   "cell_type": "code",
   "execution_count": 29,
   "id": "d8584f71",
   "metadata": {
    "execution": {
     "iopub.execute_input": "2023-04-15T09:00:32.772901Z",
     "iopub.status.busy": "2023-04-15T09:00:32.772086Z",
     "iopub.status.idle": "2023-04-15T09:00:32.876584Z",
     "shell.execute_reply": "2023-04-15T09:00:32.875199Z"
    },
    "id": "DwZyDC0c3Hj3",
    "papermill": {
     "duration": 0.122426,
     "end_time": "2023-04-15T09:00:32.879812",
     "exception": false,
     "start_time": "2023-04-15T09:00:32.757386",
     "status": "completed"
    },
    "tags": []
   },
   "outputs": [],
   "source": [
    "X_cv, _, y_cv, _ = train_test_split(X, y, train_size=0.8, random_state=42, stratify=y)"
   ]
  },
  {
   "cell_type": "markdown",
   "id": "92599000",
   "metadata": {
    "papermill": {
     "duration": 0.012012,
     "end_time": "2023-04-15T09:00:32.904836",
     "exception": false,
     "start_time": "2023-04-15T09:00:32.892824",
     "status": "completed"
    },
    "tags": []
   },
   "source": [
    "### LightGBM"
   ]
  },
  {
   "cell_type": "code",
   "execution_count": 30,
   "id": "2d75d2f3",
   "metadata": {
    "execution": {
     "iopub.execute_input": "2023-04-15T09:00:32.934602Z",
     "iopub.status.busy": "2023-04-15T09:00:32.933778Z",
     "iopub.status.idle": "2023-04-15T09:01:10.515789Z",
     "shell.execute_reply": "2023-04-15T09:01:10.514585Z"
    },
    "papermill": {
     "duration": 37.601404,
     "end_time": "2023-04-15T09:01:10.518743",
     "exception": false,
     "start_time": "2023-04-15T09:00:32.917339",
     "status": "completed"
    },
    "tags": []
   },
   "outputs": [
    {
     "name": "stderr",
     "output_type": "stream",
     "text": [
      "/opt/conda/lib/python3.7/site-packages/lightgbm/sklearn.py:736: UserWarning: 'verbose' argument is deprecated and will be removed in a future release of LightGBM. Pass 'log_evaluation()' callback via 'callbacks' argument instead.\n",
      "  _log_warning(\"'verbose' argument is deprecated and will be removed in a future release of LightGBM. \"\n",
      "/opt/conda/lib/python3.7/site-packages/lightgbm/sklearn.py:736: UserWarning: 'verbose' argument is deprecated and will be removed in a future release of LightGBM. Pass 'log_evaluation()' callback via 'callbacks' argument instead.\n",
      "  _log_warning(\"'verbose' argument is deprecated and will be removed in a future release of LightGBM. \"\n",
      "/opt/conda/lib/python3.7/site-packages/lightgbm/sklearn.py:736: UserWarning: 'verbose' argument is deprecated and will be removed in a future release of LightGBM. Pass 'log_evaluation()' callback via 'callbacks' argument instead.\n",
      "  _log_warning(\"'verbose' argument is deprecated and will be removed in a future release of LightGBM. \"\n",
      "/opt/conda/lib/python3.7/site-packages/lightgbm/sklearn.py:736: UserWarning: 'verbose' argument is deprecated and will be removed in a future release of LightGBM. Pass 'log_evaluation()' callback via 'callbacks' argument instead.\n",
      "  _log_warning(\"'verbose' argument is deprecated and will be removed in a future release of LightGBM. \"\n",
      "/opt/conda/lib/python3.7/site-packages/lightgbm/sklearn.py:736: UserWarning: 'verbose' argument is deprecated and will be removed in a future release of LightGBM. Pass 'log_evaluation()' callback via 'callbacks' argument instead.\n",
      "  _log_warning(\"'verbose' argument is deprecated and will be removed in a future release of LightGBM. \"\n"
     ]
    }
   ],
   "source": [
    "f1_avg, f1_std = cross_val_multiclass(lgbm, X_cv, y_cv)"
   ]
  },
  {
   "cell_type": "code",
   "execution_count": 31,
   "id": "4e260d2c",
   "metadata": {
    "execution": {
     "iopub.execute_input": "2023-04-15T09:01:10.548101Z",
     "iopub.status.busy": "2023-04-15T09:01:10.547315Z",
     "iopub.status.idle": "2023-04-15T09:01:10.553056Z",
     "shell.execute_reply": "2023-04-15T09:01:10.551750Z"
    },
    "papermill": {
     "duration": 0.023252,
     "end_time": "2023-04-15T09:01:10.555706",
     "exception": false,
     "start_time": "2023-04-15T09:01:10.532454",
     "status": "completed"
    },
    "tags": []
   },
   "outputs": [
    {
     "name": "stdout",
     "output_type": "stream",
     "text": [
      "Avg: 0.7197526172233966, Std: 0.004027371172380708\n"
     ]
    }
   ],
   "source": [
    "print(f'Avg: {f1_avg}, Std: {f1_std}')"
   ]
  },
  {
   "cell_type": "markdown",
   "id": "26e8660c",
   "metadata": {
    "papermill": {
     "duration": 0.012296,
     "end_time": "2023-04-15T09:01:10.581893",
     "exception": false,
     "start_time": "2023-04-15T09:01:10.569597",
     "status": "completed"
    },
    "tags": []
   },
   "source": [
    "### CatBoost"
   ]
  },
  {
   "cell_type": "code",
   "execution_count": 32,
   "id": "2053ed10",
   "metadata": {
    "execution": {
     "iopub.execute_input": "2023-04-15T09:01:10.610674Z",
     "iopub.status.busy": "2023-04-15T09:01:10.609859Z",
     "iopub.status.idle": "2023-04-15T09:06:00.407689Z",
     "shell.execute_reply": "2023-04-15T09:06:00.406338Z"
    },
    "papermill": {
     "duration": 289.816046,
     "end_time": "2023-04-15T09:06:00.410763",
     "exception": false,
     "start_time": "2023-04-15T09:01:10.594717",
     "status": "completed"
    },
    "tags": []
   },
   "outputs": [],
   "source": [
    "f1_avg, f1_std = cross_val_multiclass(catboost, X_cv, y_cv)"
   ]
  },
  {
   "cell_type": "code",
   "execution_count": 33,
   "id": "e5f99111",
   "metadata": {
    "execution": {
     "iopub.execute_input": "2023-04-15T09:06:00.440011Z",
     "iopub.status.busy": "2023-04-15T09:06:00.439254Z",
     "iopub.status.idle": "2023-04-15T09:06:00.444686Z",
     "shell.execute_reply": "2023-04-15T09:06:00.443794Z"
    },
    "id": "BejHDqPz8H8O",
    "papermill": {
     "duration": 0.022452,
     "end_time": "2023-04-15T09:06:00.446858",
     "exception": false,
     "start_time": "2023-04-15T09:06:00.424406",
     "status": "completed"
    },
    "tags": []
   },
   "outputs": [
    {
     "name": "stdout",
     "output_type": "stream",
     "text": [
      "Avg: 0.7296141598416661, Std: 0.002828993223292088\n"
     ]
    }
   ],
   "source": [
    "print(f'Avg: {f1_avg}, Std: {f1_std}')"
   ]
  },
  {
   "cell_type": "markdown",
   "id": "3e936adf",
   "metadata": {
    "papermill": {
     "duration": 0.012303,
     "end_time": "2023-04-15T09:06:00.472044",
     "exception": false,
     "start_time": "2023-04-15T09:06:00.459741",
     "status": "completed"
    },
    "tags": []
   },
   "source": [
    "### XGBoost"
   ]
  },
  {
   "cell_type": "code",
   "execution_count": 34,
   "id": "b363eee5",
   "metadata": {
    "execution": {
     "iopub.execute_input": "2023-04-15T09:06:00.500386Z",
     "iopub.status.busy": "2023-04-15T09:06:00.499355Z",
     "iopub.status.idle": "2023-04-15T09:19:09.604079Z",
     "shell.execute_reply": "2023-04-15T09:19:09.602805Z"
    },
    "papermill": {
     "duration": 789.122398,
     "end_time": "2023-04-15T09:19:09.607110",
     "exception": false,
     "start_time": "2023-04-15T09:06:00.484712",
     "status": "completed"
    },
    "tags": []
   },
   "outputs": [],
   "source": [
    "f1_avg, f1_std = cross_val_multiclass(xgboost, X_cv, y_cv)"
   ]
  },
  {
   "cell_type": "code",
   "execution_count": 35,
   "id": "9e086486",
   "metadata": {
    "execution": {
     "iopub.execute_input": "2023-04-15T09:19:09.636184Z",
     "iopub.status.busy": "2023-04-15T09:19:09.635414Z",
     "iopub.status.idle": "2023-04-15T09:19:09.640862Z",
     "shell.execute_reply": "2023-04-15T09:19:09.639763Z"
    },
    "papermill": {
     "duration": 0.02295,
     "end_time": "2023-04-15T09:19:09.643331",
     "exception": false,
     "start_time": "2023-04-15T09:19:09.620381",
     "status": "completed"
    },
    "tags": []
   },
   "outputs": [
    {
     "name": "stdout",
     "output_type": "stream",
     "text": [
      "Avg: 0.7343601420022494, Std: 0.0024467234035241547\n"
     ]
    }
   ],
   "source": [
    "print(f'Avg: {f1_avg}, Std: {f1_std}')"
   ]
  }
 ],
 "metadata": {
  "kernelspec": {
   "display_name": "Python 3",
   "language": "python",
   "name": "python3"
  },
  "language_info": {
   "codemirror_mode": {
    "name": "ipython",
    "version": 3
   },
   "file_extension": ".py",
   "mimetype": "text/x-python",
   "name": "python",
   "nbconvert_exporter": "python",
   "pygments_lexer": "ipython3",
   "version": "3.7.12"
  },
  "papermill": {
   "default_parameters": {},
   "duration": 1703.190068,
   "end_time": "2023-04-15T09:19:12.402425",
   "environment_variables": {},
   "exception": null,
   "input_path": "__notebook__.ipynb",
   "output_path": "__notebook__.ipynb",
   "parameters": {},
   "start_time": "2023-04-15T08:50:49.212357",
   "version": "2.4.0"
  }
 },
 "nbformat": 4,
 "nbformat_minor": 5
}
